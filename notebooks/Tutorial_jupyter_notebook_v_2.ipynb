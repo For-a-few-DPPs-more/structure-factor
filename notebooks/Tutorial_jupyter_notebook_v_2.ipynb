{
 "cells": [
  {
   "cell_type": "code",
   "execution_count": null,
   "metadata": {},
   "outputs": [],
   "source": [
    "from IPython.core.display import display, HTML\n",
    "display(HTML(\"<style>.container { width:100% !important; }</style>\"))\n",
    "\n",
    "%load_ext autoreload\n",
    "%autoreload 2\n",
    "\n",
    "%config InlineBackend.figure_format='retina'\n",
    "import os\n",
    "import sys\n",
    "sys.path.insert(0, os.path.abspath('../src/'))"
   ]
  },
  {
   "cell_type": "markdown",
   "metadata": {},
   "source": [
    "This notebook is a tutorial jupyter notebook of the package ``structure_factor`` version 2.0.1 designed to study the structure factor of a point process and test its hyperuniformity. \n",
    "We use the Ginibre point process as a running example. It is convenient, since its pair correlation function, structure factor, and hyperuniformity class are analytically known."
   ]
  },
  {
   "cell_type": "markdown",
   "metadata": {},
   "source": [
    "# 1- Installation"
   ]
  },
  {
   "cell_type": "markdown",
   "metadata": {},
   "source": [
    "If the package is not already installed/updated on your local machine you can simply use the following first line/second for the installation/update."
   ]
  },
  {
   "cell_type": "code",
   "execution_count": null,
   "metadata": {},
   "outputs": [],
   "source": [
    "# !pip install structure-factor\n",
    "# !pip install structure-factor --upgrade"
   ]
  },
  {
   "cell_type": "markdown",
   "metadata": {},
   "source": [
    "# 2- Creat a PointPattern object "
   ]
  },
  {
   "cell_type": "markdown",
   "metadata": {},
   "source": [
    "To create an object of type ``PointPattern`` from a point process, we need a sample of points generated from the point process, the observation window which must be ``BallWindow`` or  ``BoxWindow``, and the intensity of the point process (optional). \n",
    "A ``PointPattern`` from the Poisson, Thomas, or Ginibre point process could be created using the module ``point_process`` of this package. \n",
    "For more details, we refer to the documentation of this project https://for-a-few-dpps-more.github.io/structure-factor/\n",
    "In what follows we will be loading a Ginibre PointPattern (instead of creating one) using ``load_data`` from the module ``data``."
   ]
  },
  {
   "cell_type": "code",
   "execution_count": null,
   "metadata": {},
   "outputs": [],
   "source": [
    "# Load Ginibre PointPattern \n",
    "from structure_factor.data import load_data\n",
    "ginibre_pp_ball = load_data.load_ginibre()\n",
    "# Plot\n",
    "ginibre_pp_ball.plot()"
   ]
  },
  {
   "cell_type": "markdown",
   "metadata": {},
   "source": [
    "# 3- Approximate the structure factor"
   ]
  },
  {
   "cell_type": "markdown",
   "metadata": {},
   "source": [
    "Actually, the package gathers 3 direct spectral estimators, and 3 isotropic estimators of the structure factor of a ``PointPattern``."
   ]
  },
  {
   "cell_type": "markdown",
   "metadata": {},
   "source": [
    "## 3.1- Using a direct spectral estimator"
   ]
  },
  {
   "cell_type": "markdown",
   "metadata": {},
   "source": [
    "The direct spectral estimators approximate the structure factor of a stationary point process observed in a ``BoxWindow``.\n",
    "As the ``ginibre_pp_ball`` is a ``PointPattern`` having ``BallWindow`` we will first restrict it to a new ``PointPattern`` with ``BoxWindow``."
   ]
  },
  {
   "cell_type": "code",
   "execution_count": null,
   "metadata": {},
   "outputs": [],
   "source": [
    "from structure_factor.spatial_windows import BoxWindow\n",
    "\n",
    "# Restrict ginibre_pp_ball to a BoxWindow\n",
    "l = 70 # length side of the BoxWindow\n",
    "box_window = BoxWindow(bounds=[[-l/2, l/2], [-l/2, l/2]]) # BoxWindow\n",
    "ginibre_pp_box = ginibre_pp_ball.restrict_to_window(box_window) # Restrict to box_window\n",
    "# Plot\n",
    "ginibre_pp_box.plot()\n"
   ]
  },
  {
   "cell_type": "markdown",
   "metadata": {},
   "source": [
    "As we have the adequate ``PointPattern`` we will initialize StructureFactor and then use the estimators progressively."
   ]
  },
  {
   "cell_type": "code",
   "execution_count": null,
   "metadata": {},
   "outputs": [],
   "source": [
    "from structure_factor.structure_factor import StructureFactor\n",
    "\n",
    "# initialize ``StructureFactor`` on ginibre_pp_box\n",
    "sf_ginibre_box = StructureFactor(ginibre_pp_box) "
   ]
  },
  {
   "cell_type": "markdown",
   "metadata": {},
   "source": [
    "### 3.1.1- Scattering intensity"
   ]
  },
  {
   "cell_type": "markdown",
   "metadata": {},
   "source": [
    "The scattering intensity $\\widehat{S}_{\\mathrm{SI}}$ is an estimator of the structure factor $S$.\n",
    "It could be evaluated on arbitrary wavevectors, or allowed wavevectors (reduce bias).\n",
    "It has also 2 debiased versions directly/undirectly."
   ]
  },
  {
   "cell_type": "code",
   "execution_count": null,
   "metadata": {},
   "outputs": [],
   "source": [
    "# Scattering intensity on arbitrary wavevectors\n",
    "\n",
    "# Construct a grid of wavevectors\n",
    "k_max=8 # Threshold on the maximum wavenumber\n",
    "x = np.linspace(0, k_max, 200)\n",
    "x = x[x != 0]\n",
    "X, Y = np.meshgrid(x, x)\n",
    "k = np.column_stack((X.ravel(), Y.ravel())) # Wavevectors\n",
    "# Scattering intensity on k \n",
    "k, s_si_k = sf_ginibre_box.scattering_intensity(k=k, # Wavevectors\n",
    "                                                debiased=False # # undebiased estimator\n",
    "                                               )\n",
    "\n",
    "# Plot\n",
    "import matplotlib.pyplot as plt\n",
    "\n",
    "fig, axis = plt.subplots(figsize=(7,6))\n",
    "sf_ginibre_box.plot_spectral_estimator(k, s_si_k, \n",
    "                                       axes=axis, # Plot axis\n",
    "                                       plot_type=\"radial\", # Plot type (radial, all or imshow)\n",
    "                                       exact_sf=utils.structure_factor_ginibre, # Exact Ginibre structure factor \n",
    "                                       error_bar=True, bins=60, # Regularization of the result\n",
    "                                       scale=\"log\", # Scale\n",
    "                                       rasterized=True, # Rasterized the approximation points\n",
    "                                       label=r\"$\\widehat{S}$\", # Label\n",
    "                                       # file_name=\"ginibre_s_si.pdf\" # Save the figure\n",
    "                                      )"
   ]
  },
  {
   "cell_type": "markdown",
   "metadata": {},
   "source": [
    "We can see the relevant bias at small wavenumbers. To deal with this bias we can use one of the following three debiased versions."
   ]
  },
  {
   "cell_type": "code",
   "execution_count": null,
   "metadata": {},
   "outputs": [],
   "source": [
    "# Scattering intensity directly debiased \n",
    "\n",
    "k_max=8 # Threshold on the maximum wavenumber\n",
    "# Scattering inetsnity on allowed_k \n",
    "allowed_k, s_si_allowed_k = sf_ginibre_box.scattering_intensity(k_max=k_max)\n",
    "\n",
    "# Plot\n",
    "sf_ginibre_box.plot_spectral_estimator(allowed_k, s_si_allowed_k, \n",
    "                                       plot_type=\"all\", # Plot type  \n",
    "                                       exact_sf=utils.structure_factor_ginibre, # Exact Ginibre structure factor \n",
    "                                       error_bar=True, bins=60, # Regularization of the result\n",
    "                                       label=r\"$\\widehat{S}$\",\n",
    "                                      # file_name=\"ginibre_s_si.pdf\" # Save the figure\n",
    "                                      )"
   ]
  },
  {
   "cell_type": "code",
   "execution_count": null,
   "metadata": {},
   "outputs": [],
   "source": [
    "# Scattering intensity directly debiased on arbitrary wavevectors\n",
    "\n",
    "# Construct grid of wavevectors\n",
    "k_max=8 # Threshold on the maximum wavenumber\n",
    "x = np.linspace(-k_max, k_max, 17**2)\n",
    "x = x[x != 0]\n",
    "X, Y = np.meshgrid(x, x)\n",
    "k = np.column_stack((X.ravel(), Y.ravel())) # Wavevectors\n",
    "# Scattering intensity on k \n",
    "k, s_si_k_dd = sf_ginibre_box.scattering_intensity(k=k, # Wavevectors\n",
    "                                                   debiased=True, # Debiased estimator\n",
    "                                                   direct=True # Directly debiased\n",
    "                                                  )\n",
    "\n",
    "# Plot\n",
    "import matplotlib.pyplot as plt\n",
    "\n",
    "sf_ginibre_box.plot_spectral_estimator(k, s_si_k_dd,  \n",
    "                                       plot_type=\"all\", # Plot type\n",
    "                                       exact_sf=utils.structure_factor_ginibre, # Exact Ginibre structure factor \n",
    "                                       error_bar=True, bins=80, # Regularization of the result\n",
    "                                       scale=\"log\", # Scale\n",
    "                                       rasterized=True, # Rasterized the approximation points\n",
    "                                       label=r\"$\\widehat{S}$\",\n",
    "                                      # file_name=\"ginibre_s_si.pdf\" # Save the figure\n",
    "                                      )"
   ]
  },
  {
   "cell_type": "code",
   "execution_count": null,
   "metadata": {},
   "outputs": [],
   "source": [
    "# Scattering intensity undirectly debiased on arbitrary wavevectors\n",
    "\n",
    "# Construct grid of wavevectors\n",
    "k_max=8 # Threshold on the maximum wavenumber\n",
    "x = np.linspace(0, k_max, 17**2)\n",
    "x = x[x != 0]\n",
    "X, Y = np.meshgrid(x, x)\n",
    "k = np.column_stack((X.ravel(), Y.ravel())) # Wavevectors\n",
    "# Scattering intensity on k \n",
    "k, s_si_k_ud = sf_ginibre_box.scattering_intensity(k=k, # Wavevectors\n",
    "                                                   debiased=True, # Debiased estimator\n",
    "                                                   direct=False # Undirectly debiased\n",
    "                                                  )\n",
    "\n",
    "# Plot\n",
    "import matplotlib.pyplot as plt\n",
    "\n",
    "sf_ginibre_box.plot_spectral_estimator(k, s_si_k_ud, \n",
    "                                       positive=True, # Plot only positive values\n",
    "                                       plot_type=\"radial\", # Plot type\n",
    "                                       exact_sf=utils.structure_factor_ginibre, # Exact Ginibre structure factor \n",
    "                                       error_bar=True, bins=80, # Regularization of the result\n",
    "                                       scale=\"log\", # Scale\n",
    "                                       rasterized=True, # Rasterized the approximation points\n",
    "                                       label=r\"$\\widehat{S}$\",\n",
    "                                      # file_name=\"ginibre_s_si.pdf\" # Save the figure\n",
    "                                      )"
   ]
  },
  {
   "cell_type": "markdown",
   "metadata": {},
   "source": [
    "### 3.1.2- Scaled tapered periodogram with sine taper"
   ]
  },
  {
   "cell_type": "markdown",
   "metadata": {},
   "source": [
    "The scaled tapered periodogram $\\widehat{S}_{\\mathrm{TP}}$ is an estimator of the structure factor $S$ depending on a taper function.\n",
    "It has 2 debiased versions $\\widehat{S}_{\\mathrm{DDTP}}$, and $\\widehat{S}_{\\mathrm{UDTP}}$ (directly/undirectly).\n",
    "In what follow we will be using the first taper of the family of sinusoidal tapers available in the module ``tapers``.\n",
    "To use a new taper see the example in the documentation."
   ]
  },
  {
   "cell_type": "code",
   "execution_count": null,
   "metadata": {},
   "outputs": [],
   "source": [
    "# Scaled tapered periodogram\n",
    "from structure_factor.tapers import SineTaper\n",
    " \n",
    "k_max = 8 # Threshold on the maximum wavenumber\n",
    "x = np.linspace(0, k_max, 250)\n",
    "x = x[x != 0]\n",
    "X, Y = np.meshgrid(x, x)\n",
    "k = np.column_stack((X.ravel(), Y.ravel()))\n",
    "# First taper of the family of sinusoidal tapers\n",
    "p = [1, 1]\n",
    "taper = SineTaper(p)\n",
    "# Scaled tapered periodogram\n",
    "s_tp = sf_ginibre_box.tapered_periodogram(k, # Wavevectors\n",
    "                                          taper, # Taper\n",
    "                                          debiased=False # Undebiased estimator\n",
    "                                         )\n",
    "\n",
    "# Plot\n",
    "sf_ginibre_box.plot_spectral_estimator(k, s_tp, \n",
    "                                       plot_type=\"radial\", # Plot type\n",
    "                                       exact_sf=utils.structure_factor_ginibre, # Exact Ginibre structure factor \n",
    "                                       error_bar=True, bins=80, # Regularization of the result\n",
    "                                       scale=\"log\", # Scale\n",
    "                                       rasterized=True, # Rasterized the approximation points\n",
    "                                       label=r\"$\\widehat{S}$\")"
   ]
  },
  {
   "cell_type": "markdown",
   "metadata": {},
   "source": [
    "We can see the relevant bias at small wavenumbers. To deal with this bias we can use one of the following twow debiased versions."
   ]
  },
  {
   "cell_type": "code",
   "execution_count": null,
   "metadata": {},
   "outputs": [],
   "source": [
    "# Directly debiased scaled tapered periodogram\n",
    "from structure_factor.tapers import SineTaper\n",
    " \n",
    "k_max = 8 # Threshold on the maximum wavenumber\n",
    "x = np.linspace(-k_max, k_max, 17**2)\n",
    "x = x[x != 0]\n",
    "X, Y = np.meshgrid(x, x)\n",
    "k = np.column_stack((X.ravel(), Y.ravel()))\n",
    "# First taper of the family of sinusoidal tapers\n",
    "p = [1, 1]\n",
    "taper = SineTaper(p)\n",
    "# Directly debiased scaled tapered periodogram\n",
    "s_ddtp = sf_ginibre_box.tapered_periodogram(k, # Wavevector\n",
    "                                            taper, # Taper\n",
    "                                            debiased=True, # Debiased estimator\n",
    "                                            direct=True # Directly debiased\n",
    "                                           )\n",
    "\n",
    "# Plot\n",
    "sf_ginibre_box.plot_spectral_estimator(k, s_ddtp, \n",
    "                                       plot_type=\"all\", # Plot type\n",
    "                                       exact_sf=utils.structure_factor_ginibre, # Exact Ginibre structure factor \n",
    "                                       error_bar=True, bins=80, # Regularization of the result\n",
    "                                       scale=\"log\", # Scale\n",
    "                                       rasterized=True, # Rasterized the approximation points\n",
    "                                       label=r\"$\\widehat{S}$\")"
   ]
  },
  {
   "cell_type": "code",
   "execution_count": null,
   "metadata": {},
   "outputs": [],
   "source": [
    "# Undirectly debiased scaled tapered periodogram\n",
    "from structure_factor.tapers import SineTaper\n",
    " \n",
    "k_max = 8 # Threshold on the maximum wavenumber\n",
    "x = np.linspace(-k_max, k_max, 17**2)\n",
    "x = x[x != 0]\n",
    "X, Y = np.meshgrid(x, x)\n",
    "k = np.column_stack((X.ravel(), Y.ravel()))\n",
    "# First taper of the family of sinusoidal tapers\n",
    "p = [1, 1]\n",
    "taper = SineTaper(p)\n",
    "# Undirectly debiased scaled tapered periodogram\n",
    "s_udtp = sf_ginibre_box.tapered_periodogram(k, # Wavevectors\n",
    "                                            taper, # Taper\n",
    "                                            debiased=True, # Debiased estimator\n",
    "                                            direct=False # Undirectly debiased\n",
    "                                           )\n",
    "\n",
    "# Plot\n",
    "sf_ginibre_box.plot_spectral_estimator(k, s_udtp, \n",
    "                                       plot_type=\"all\", # Plot type\n",
    "                                       exact_sf=utils.structure_factor_ginibre, # Exact Ginibre structure factor \n",
    "                                       error_bar=True, bins=80, # Regularization of the result\n",
    "                                       scale=\"log\", # Scale\n",
    "                                       rasterized=True, # Rasterized the approximation points\n",
    "                                       label=r\"$\\widehat{S}$\",\n",
    "                                      # file_name=\"ginibre_s_udtp.pdf\" # Save the figure\n",
    "                                      )"
   ]
  },
  {
   "cell_type": "markdown",
   "metadata": {},
   "source": [
    "### 3.1.3- Scaled multitapered periodogram"
   ]
  },
  {
   "cell_type": "markdown",
   "metadata": {},
   "source": [
    "The scaled multitapered periodogram $\\widehat{S}_{\\mathrm{MTP}}$ is an estimator of the structure factor $S$ depending on a family of tapers.\n",
    "It has 2 debiased versions $\\widehat{S}_{\\mathrm{DDMTP}}$, and $\\widehat{S}_{\\mathrm{UDMTP}}$ (directly/undirectly).\n",
    "In what follow we will be using the first 4 tapers of the family of sinusoidal tapers available in the module ``tapers``.\n",
    "To use a new family of tapers, follow the example present in the documentation."
   ]
  },
  {
   "cell_type": "code",
   "execution_count": null,
   "metadata": {},
   "outputs": [],
   "source": [
    "# Scaled multitapered periodogram\n",
    "from structure_factor.tapers import SineTaper\n",
    " \n",
    "k_max = 8 # Threshold on the maximum wavenumber\n",
    "x = np.linspace(0, k_max, 200)\n",
    "x = x[x != 0]\n",
    "X, Y = np.meshgrid(x, x)\n",
    "k = np.column_stack((X.ravel(), Y.ravel()))\n",
    "# First 4 tapers of the family of sinusoidal tapers\n",
    "p_list = [[1, 1], [1,2], [2,1], [2,2]] # List of p \n",
    "taper_list = [SineTaper(p) for p in p_list] # List of tapers\n",
    "# Scaled multitapered periodogram\n",
    "s_tp = sf_ginibre_box.multitapered_periodogram(k, # Wavevectors\n",
    "                                               tapers=taper_list, # List of tapers\n",
    "                                               debiased=False # Undebiased estimator\n",
    "                                              )\n",
    "\n",
    "# Plot\n",
    "sf_ginibre_box.plot_spectral_estimator(k, s_tp, \n",
    "                                       plot_type=\"radial\", # Plot type\n",
    "                                       exact_sf=utils.structure_factor_ginibre, # Exact Ginibre structure factor \n",
    "                                       error_bar=True, bins=80, # Regularization of the result\n",
    "                                       scale=\"log\", # Scale\n",
    "                                       rasterized=True, # Rasterized the approximation points\n",
    "                                       label=r\"$\\widehat{S}$\")"
   ]
  },
  {
   "cell_type": "markdown",
   "metadata": {},
   "source": [
    "We can see the relevant bias at small wavenumbers. To deal with this bias we can use one of the following twow debiased versions."
   ]
  },
  {
   "cell_type": "code",
   "execution_count": null,
   "metadata": {},
   "outputs": [],
   "source": [
    "# Directly debiased scaled multitapered periodogram\n",
    "from structure_factor.tapers import SineTaper\n",
    " \n",
    "k_max = 8 # Threshold on the maximum wavenumber\n",
    "x = np.linspace(-k_max, k_max, 17**2)\n",
    "x = x[x != 0]\n",
    "X, Y = np.meshgrid(x, x)\n",
    "k = np.column_stack((X.ravel(), Y.ravel()))\n",
    "\n",
    "# Directly debiased scaled multitapered periodogram\n",
    "# By default the method ``multitapered_periodogram`` use the first 4 tapers of the family of sinusoidal tapers.\n",
    "s_ddtp = sf_ginibre_box.multitapered_periodogram(k, # Wavevectors\n",
    "                                                 debiased=True, # Debiased estimator\n",
    "                                                 direct=True # Directly debiased\n",
    "                                                ) \n",
    "# Plot\n",
    "sf_ginibre_box.plot_spectral_estimator(k, s_ddtp, \n",
    "                                       plot_type=\"all\", # Plot type\n",
    "                                       exact_sf=utils.structure_factor_ginibre, # Exact Ginibre structure factor \n",
    "                                       error_bar=True, bins=80, # Regularization of the result\n",
    "                                       scale=\"log\", # Scale\n",
    "                                       rasterized=True, # Rasterized the approximation points\n",
    "                                       label=r\"$\\widehat{S}$\")"
   ]
  },
  {
   "cell_type": "code",
   "execution_count": null,
   "metadata": {
    "scrolled": true
   },
   "outputs": [],
   "source": [
    "# Undirectly debiased scaled multitapered periodogram\n",
    "from structure_factor.tapers import SineTaper\n",
    " \n",
    "k_max = 8 # Threshold on the maximum wavenumber\n",
    "x = np.linspace(-k_max, k_max, 17**2)\n",
    "x = x[x != 0]\n",
    "X, Y = np.meshgrid(x, x)\n",
    "k = np.column_stack((X.ravel(), Y.ravel()))\n",
    "\n",
    "# Undirectly debiased scaled multitapered periodogram\n",
    "# By default the method ``multitapered_periodogram`` use the first 4 tapers of the family of sinusoidal tapers.\n",
    "s_udtp = sf_ginibre_box.multitapered_periodogram(k, # Wavevectors\n",
    "                                                 debiased=True, # Debiased estimator\n",
    "                                                 direct=False # Undirectly debiased\n",
    "                                                ) \n",
    "# Plot\n",
    "sf_ginibre_box.plot_spectral_estimator(k, s_udtp, \n",
    "                                       plot_type=\"imshow\", # Plot type\n",
    "                                       exact_sf=utils.structure_factor_ginibre, # Exact Ginibre structure factor \n",
    "                                       error_bar=True, bins=80, # Regularization of the result\n",
    "                                       scale=\"log\", # Scale\n",
    "                                       rasterized=True, # Rasterized the approximation points\n",
    "                                       label=r\"$\\widehat{S}$\")"
   ]
  },
  {
   "cell_type": "markdown",
   "metadata": {},
   "source": [
    "## 3.2- Using an isotropic estimator"
   ]
  },
  {
   "cell_type": "markdown",
   "metadata": {},
   "source": [
    "The isotropic estimators approximate the structure factor of a stationary **isotropic** point process observed in a ``BallWindow``.\n",
    "As the ``ginibre_pp_ball`` is a ``PointPattern`` having ``BallWindow`` there is no need for any restriction and we can initialize StructureFactor on ``ginibre_pp_ball``."
   ]
  },
  {
   "cell_type": "code",
   "execution_count": null,
   "metadata": {},
   "outputs": [],
   "source": [
    "sf_ginibre_ball = StructureFactor(ginibre_pp_ball)"
   ]
  },
  {
   "cell_type": "markdown",
   "metadata": {},
   "source": [
    "### 3.2.1- Bartlett's isotropic estimator"
   ]
  },
  {
   "cell_type": "markdown",
   "metadata": {},
   "source": [
    "Bartlett's isotropic estimator $\\widehat{S}_{\\mathrm{BI}}$ is an estimator of the structure factor $S$.\n",
    "It can be evaluated on arbitrary of allowed wavenumbers (reduce biased).\n",
    "The complexity of this estimator is quadratic in the number of points of the ``PointPattern``.\n",
    "When dealing with a large number of points, it is recommended to start with a restricted version of the ``PointPattern``, before using the large sample and increasing the window radius respectively."
   ]
  },
  {
   "cell_type": "code",
   "execution_count": null,
   "metadata": {},
   "outputs": [],
   "source": [
    "# Bartlett's isotropic estimator on arbitrary wavenumbers\n",
    "# Running time = 156 s\n",
    "import time\n",
    "start_time = time.time()\n",
    "k_norm = np.linspace(0.01, 7, 100)\n",
    "k_norm, s_bi = sf_ginibre_ball.bartlett_isotropic_estimator(k_norm=k_norm)\n",
    "print(\"--- %s seconds ---\" % (time.time() - start_time))\n",
    "\n",
    "#Plot\n",
    "fig, axis = plt.subplots(figsize=(7,6))\n",
    "sf_ginibre_ball.plot_isotropic_estimator(k_norm, s_bi, \n",
    "                                         axis=axis,\n",
    "                                         exact_sf=utils.structure_factor_ginibre, \n",
    "                                         label=r\"$\\widehat{S}$\")"
   ]
  },
  {
   "cell_type": "markdown",
   "metadata": {},
   "source": [
    "We can see the relevant bias for small wavenumbers"
   ]
  },
  {
   "cell_type": "code",
   "execution_count": null,
   "metadata": {
    "scrolled": true
   },
   "outputs": [],
   "source": [
    "# Bartlett's isotropic estimator on allowed wavenumbers\n",
    "# Running time = 156 s\n",
    "import time\n",
    "start_time = time.time()\n",
    "k_norm_allowed, s_bi_k_norm_allowed = sf_ginibre_ball.bartlett_isotropic_estimator(\n",
    "    n_allowed_k_norm=100 # number of allowed wavenumbers\n",
    ")\n",
    "print(\"--- %s seconds ---\" % (time.time() - start_time))\n",
    "\n",
    "#Plot\n",
    "fig, axis = plt.subplots(figsize=(7,6))\n",
    "sf_ginibre_ball.plot_isotropic_estimator(k_norm_allowed, s_bi_k_norm_allowed, \n",
    "                                         axis=axis, # Plot axis\n",
    "                                         exact_sf=utils.structure_factor_ginibre, # Exact structure factor\n",
    "                                         label=r\"$\\widehat{S}$\" # Label\n",
    "                                        )"
   ]
  },
  {
   "cell_type": "markdown",
   "metadata": {},
   "source": [
    "This estimator seems to give the best results among all the estimators but, it's time-consuming."
   ]
  },
  {
   "cell_type": "markdown",
   "metadata": {},
   "source": [
    "### 3.2.2- Estimators using Hankel transform quadrature"
   ]
  },
  {
   "cell_type": "markdown",
   "metadata": {},
   "source": [
    "The last two isotropic estimators are based on, first estimating the pair correlation function $g$ of the ``PointPattern``,\n",
    "then interpolating/extrapolating the obtained results, and finally use Ogata/Baddour&Chouinard quadrature to estimate the Hankel transform of a function of g, corresponding to the structure factor."
   ]
  },
  {
   "cell_type": "markdown",
   "metadata": {},
   "source": [
    "Let's start by estimating the pair correlation function."
   ]
  },
  {
   "cell_type": "markdown",
   "metadata": {},
   "source": [
    "#### 3.2.2.1 - Pair correlation function"
   ]
  },
  {
   "cell_type": "markdown",
   "metadata": {},
   "source": [
    "**Warning: This section require the R program language https://www.rstudio.com/ to be available on your local machine.**"
   ]
  },
  {
   "cell_type": "markdown",
   "metadata": {},
   "source": [
    "The toolbox contains two estimators of the pair correlation function (pcf) of a ``PointPattern``.\n",
    "These two methods are ``pcf.ppp`` and ``pcf.fv`` inherited from the R package ``spatstat`` https://spatstat.org/ ."
   ]
  },
  {
   "cell_type": "markdown",
   "metadata": {},
   "source": [
    "Approximating the pair correlation function using pcf.ppp"
   ]
  },
  {
   "cell_type": "code",
   "execution_count": null,
   "metadata": {},
   "outputs": [],
   "source": [
    "# pcf.ppp\n",
    "from structure_factor.pair_correlation_function import PairCorrelationFunction as pcf\n",
    "\n",
    "r= np.linspace(0, 20, 200)\n",
    "ginibre_pcf_ppp = pcf.estimate(ginibre_pp_ball, # PointPattern\n",
    "                               method=\"ppp\", # Estimation method (could be \"ppp\" or \"fv\")\n",
    "                               r=r, # Estimation radii \n",
    "                               correction=\"all\" # Edge correction \n",
    "                              )\n",
    "\n",
    "# Plot\n",
    "pcf.plot(ginibre_pcf_ppp, \n",
    "         exact_pcf=utils.pair_correlation_function_ginibre, # Exact pcf\n",
    "         figsize=(7,6), # Specific figure size\n",
    "         color=['grey', 'b', 'darkcyan'], # Colors of the plot\n",
    "         style=[\".\", \"*\", \"^\"], # Marker style \n",
    "        )"
   ]
  },
  {
   "cell_type": "markdown",
   "metadata": {},
   "source": [
    "Approximating the pair correlation function using pcf.fv"
   ]
  },
  {
   "cell_type": "code",
   "execution_count": null,
   "metadata": {},
   "outputs": [],
   "source": [
    "# pcf.fv\n",
    "from structure_factor.pair_correlation_function import PairCorrelationFunction as pcf\n",
    "\n",
    "ginibre_pcf_fv = pcf.estimate(ginibre_pp_ball, # PointPattern \n",
    "                              method=\"fv\", # Estimation method (could be \"ppp\" or \"fv\")\n",
    "                              Kest=dict(rmax=20), # Maximal estimation radius \n",
    "                              fv=dict(method=\"b\", spar=0.2) # Correction method and sparsity\n",
    "                             )\n",
    "\n",
    "# Plot\n",
    "pcf.plot(ginibre_pcf_fv, \n",
    "         exact_pcf=utils.pair_correlation_function_ginibre, # Exact pcf\n",
    "         figsize=(7,6), # Figure size\n",
    "         color=['grey'], # Color\n",
    "         style=[\".\"] # Marker style\n",
    "        )"
   ]
  },
  {
   "cell_type": "markdown",
   "metadata": {},
   "source": [
    "After Approximating the pair correlation function the second step is to clean, interpolate, and extrapolate the result.\n",
    "We will be working with the approximation result of the method ``pcf.fv``."
   ]
  },
  {
   "cell_type": "code",
   "execution_count": null,
   "metadata": {},
   "outputs": [],
   "source": [
    "ginibre_pcf_fv"
   ]
  },
  {
   "cell_type": "markdown",
   "metadata": {},
   "source": [
    "Interpolation"
   ]
  },
  {
   "cell_type": "code",
   "execution_count": null,
   "metadata": {},
   "outputs": [],
   "source": [
    "r = ginibre_pcf_fv[\"r\"]\n",
    "pcf_r = ginibre_pcf_fv[\"pcf\"]\n",
    "# Interpolation\n",
    "ginibre_pcf_fct = pcf.interpolate(r=r, # Radii \n",
    "                                  pcf_r=pcf_r, # Approximated pcf\n",
    "                                  drop=True, # Drop outliers (nan, neginf, and posinf)\n",
    "                                  extrapolate_with_one=True # Extrapolate with 1 after max(r)\n",
    "                                 )\n",
    "\n",
    "\n",
    "# Plot\n",
    "x = np.linspace(0, 100, 200)\n",
    "plt.plot(x, ginibre_pcf_fct(x), 'b.', label=\"Approximated pcf\") \n",
    "plt.plot(x, utils.pair_correlation_function_ginibre(x), 'g', label=\"Exact pcf\")\n",
    "plt.legend()\n",
    "plt.show()"
   ]
  },
  {
   "cell_type": "markdown",
   "metadata": {},
   "source": [
    "#### 3.2.2.2- Estimate the structure factor using Ogata quadrature"
   ]
  },
  {
   "cell_type": "code",
   "execution_count": null,
   "metadata": {},
   "outputs": [],
   "source": [
    "# Ogata quadrature \n",
    "k_norm = np.linspace(0.5, 30, 1000) # Wavenumbers\n",
    "k_norm, s_ho = sf_ginibre_ball.hankel_quadrature(ginibre_pcf_fct, # Estimated pcf function\n",
    "                                                 k_norm=k_norm, # wavenumbers\n",
    "                                                 method=\"Ogata\", # Quadrature method (\"Ogata\", or \"BaddourChouinard\")\n",
    "                                                 step_size=0.01, # Step size\n",
    "                                                 nb_points=1000 # Number of points\n",
    "                                                )\n",
    "# Plot\n",
    "fig, axis = plt.subplots(figsize=(7,6))\n",
    "fig = sf_ginibre_ball.plot_isotropic_estimator(k_norm, s_ho, \n",
    "                                               axis=axis, # Plot axis\n",
    "                                               error_bar=True, bins=80, # Regularize the results\n",
    "                                               exact_sf=utils.structure_factor_ginibre, # Exact structure factor \n",
    "                                               label=r\"$\\widehat{S}$\",\n",
    "                                               #file_name=\"ginibre_s_ho.pdf\" # save the figure\n",
    "                                              )"
   ]
  },
  {
   "cell_type": "markdown",
   "metadata": {},
   "source": [
    "#### 3.2.2.2- Estimate the structure factor using Baddour & Chouinard quadrature"
   ]
  },
  {
   "cell_type": "code",
   "execution_count": null,
   "metadata": {},
   "outputs": [],
   "source": [
    "# Ogata quadrature \n",
    "k_norm = np.linspace(0.5, 30, 1000) # Wavenumbers\n",
    "r_max = np.max(r) # Maximum radius for which the pcf has been approximated\n",
    "k_norm, s_hbc = sf_ginibre_ball.hankel_quadrature(ginibre_pcf_fct, # Estimated pcf function\n",
    "                                                 k_norm=k_norm, # wavenumbers\n",
    "                                                 method=\"BaddourChouinard\", # Quadrature method (\"Ogata\", or \"BaddourChouinard\")\n",
    "                                                 r_max=r_max, # Step size\n",
    "                                                 nb_points=1000 # Number of points\n",
    "                                                )\n",
    "# Plot\n",
    "fig, axis = plt.subplots(figsize=(7,6))\n",
    "fig = sf_ginibre_ball.plot_isotropic_estimator(k_norm, s_hbc, \n",
    "                                               axis=axis, # Plot axis\n",
    "                                               #error_bar=True, bins=80, # Regularize the results\n",
    "                                               exact_sf=utils.structure_factor_ginibre, # Exact structure factor \n",
    "                                               label=r\"$\\widehat{S}$\",\n",
    "                                               #file_name=\"ginibre_s_hbc.pdf\" # save the figure\n",
    "                                              )"
   ]
  },
  {
   "cell_type": "markdown",
   "metadata": {},
   "source": [
    "# 3.4- Hyperuniformity"
   ]
  },
  {
   "cell_type": "markdown",
   "metadata": {},
   "source": [
    "Our strategy for studying the hyperuniformity of a point process is by, first studying the index $H$ of hyperuniformity of the ``PointPattern.\n",
    "If $H< 10^{-3}$ then the point process is effectively hyperuniform and so maybe hyperuniform. \n",
    "In this case, we study the power decay of the structure factor to zero $\\alpha$ which indicates the possible class of hyperuniformity.\n",
    "If the $H$ index rejects the hypothesis of hyperuniformity then we conclude that the point process is not hyperuniform."
   ]
  },
  {
   "cell_type": "markdown",
   "metadata": {},
   "source": [
    "In what follows, we will be using the results of Bartlett's isotropic estimator for studying the \n",
    "effective hyperuniformity and the hyperuniformity class of the Ginibre point pattern.\n",
    "We know that the Ginibre ensemble is a first-class hyperuniform point process with power decay $\\alpha_{Ginibre} = 2$.\n"
   ]
  },
  {
   "cell_type": "code",
   "execution_count": null,
   "metadata": {},
   "outputs": [],
   "source": [
    "# Initialize ``Hyperuniformity``\n",
    "from structure_factor.hyperuniformity import Hyperuniformity\n",
    "\n",
    "hyperuniformity_test = Hyperuniformity(k_norm_allowed, s_bi_k_norm_allowed)"
   ]
  },
  {
   "cell_type": "markdown",
   "metadata": {},
   "source": [
    "### 1.3.1- Effective hyperuniformity"
   ]
  },
  {
   "cell_type": "code",
   "execution_count": null,
   "metadata": {},
   "outputs": [],
   "source": [
    "# Effective hyperuniformity\n",
    "H_ginibre, _ = hyperuniformity_test.effective_hyperuniformity(k_norm_stop=0.2) # H index\n",
    "\n",
    "# Visualization of the results\n",
    "import matplotlib.pyplot as plt\n",
    "import structure_factor.utils as utils\n",
    "fitted_line = hyperuniformity_test.fitted_line # Fitted line to s_bi\n",
    "x = np.linspace(0, 2, 300)\n",
    "fig, axis =plt.subplots(figsize=(7,5))\n",
    "axis.plot(k_norm_allowed, s_bi_k_norm_allowed, 'b', marker=\".\", label=\"Approximated structure factor\")\n",
    "axis.plot(x, fitted_line(x), 'r--', label= \"Fitted line\")\n",
    "axis.plot(k_norm_allowed, utils.structure_factor_ginibre(k_norm_allowed), 'g', label=r\"$S(k)$\")\n",
    "axis.annotate('H={}'.format(H_ginibre), xy=(0, 0), xytext=(0.01,0.3),\n",
    "            arrowprops=dict(facecolor='black', shrink=0.01))\n",
    "axis.legend()\n",
    "axis.set_xlabel('wavelength (k)')\n",
    "axis.set_ylabel(r\"Structure factor ($\\mathsf{S}(k)$\")\n",
    "plt.show()"
   ]
  },
  {
   "cell_type": "markdown",
   "metadata": {},
   "source": [
    "As $H<10^{-3}$ then we conclude that the Ginibre ensemble is effectively hyperuniformity."
   ]
  },
  {
   "cell_type": "markdown",
   "metadata": {},
   "source": [
    "### 1.3.2- Hyperuniformity class"
   ]
  },
  {
   "cell_type": "code",
   "execution_count": null,
   "metadata": {},
   "outputs": [],
   "source": [
    "# Hyperuniformity class\n",
    "alpha_ginibre, _ = hyperuniformity_test.hyperuniformity_class(k_norm_stop=0.4)\n",
    "\n",
    "# Visualization of the results\n",
    "import matplotlib.pyplot as plt\n",
    "import structure_factor.utils as utils\n",
    "fitted_poly = hyperuniformity_test.fitted_poly # Fitted polynomial to s_bi\n",
    "fig, axis =plt.subplots(figsize=(7,5))\n",
    "axis.plot(k_norm_allowed, s_bi_k_norm_allowed, 'b', marker=\".\", label=\"Approximated structure factor\")\n",
    "axis.plot(k_norm_allowed, utils.structure_factor_ginibre(k_norm_allowed), 'g', label=r\"$S(k)$\")\n",
    "axis.plot(k_norm_allowed, fitted_poly(k_norm_allowed), 'r--', label= \"Fitted line\")\n",
    "axis.annotate(r\" $\\alpha$ ={}\".format(alpha_ginibre), xy=(0, 0), xytext=(0.01,0.4),\n",
    "            arrowprops=dict(facecolor='black', shrink=0.1))\n",
    "axis.legend()\n",
    "axis.set_xlabel('wavelength (k)')\n",
    "axis.set_ylabel(r\"Structure factor ($\\mathsf{S}(k)$\")\n",
    "plt.show()"
   ]
  },
  {
   "cell_type": "markdown",
   "metadata": {},
   "source": [
    "This power decay found by this test is $\\alpha \\approx 1.99$ which is a good approximation of the exact value $\\alpha_{Ginibre}=2$.\n",
    "Thus this test successfully predicts the hyperuniformity class of the Ginibre Ensemble."
   ]
  },
  {
   "cell_type": "code",
   "execution_count": null,
   "metadata": {},
   "outputs": [],
   "source": []
  }
 ],
 "metadata": {
  "interpreter": {
   "hash": "a55764ac299e0a1a65d7e972aa0c64866d632025f8b68908f610b98dba8a58df"
  },
  "kernelspec": {
   "display_name": "Python 3 (ipykernel)",
   "language": "python",
   "name": "python3"
  },
  "language_info": {
   "codemirror_mode": {
    "name": "ipython",
    "version": 3
   },
   "file_extension": ".py",
   "mimetype": "text/x-python",
   "name": "python",
   "nbconvert_exporter": "python",
   "pygments_lexer": "ipython3",
   "version": "3.9.2"
  }
 },
 "nbformat": 4,
 "nbformat_minor": 4
}
