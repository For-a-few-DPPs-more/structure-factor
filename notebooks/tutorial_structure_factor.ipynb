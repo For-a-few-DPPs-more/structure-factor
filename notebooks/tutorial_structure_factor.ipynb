{
 "cells": [
  {
   "cell_type": "markdown",
   "id": "c9d7296f",
   "metadata": {},
   "source": [
    "This Notebook demonstrates the package `structure_factor` on the Ginibre ensemble."
   ]
  },
  {
   "cell_type": "code",
   "execution_count": null,
   "id": "8c2dfb52",
   "metadata": {},
   "outputs": [],
   "source": [
    "from IPython.core.display import display, HTML\n",
    "display(HTML(\"<style>.container { width:100% !important; }</style>\"))\n",
    "\n",
    "import matplotlib as mpl\n",
    "import matplotlib.pyplot as plt\n",
    "%load_ext autoreload\n",
    "%autoreload 2\n",
    "\n",
    "%config InlineBackend.figure_format='retina'"
   ]
  },
  {
   "cell_type": "markdown",
   "id": "2fa45ff3",
   "metadata": {},
   "source": [
    "# 1. Installation of the package "
   ]
  },
  {
   "cell_type": "code",
   "execution_count": null,
   "id": "a4647674",
   "metadata": {},
   "source": [
    "pip install structure-factor"
   ]
  },
  {
   "cell_type": "markdown",
   "id": "b388943d",
   "metadata": {},
   "source": [
    "# 2. Working with `PointPattern`"
   ]
  },
  {
   "cell_type": "markdown",
   "id": "cb3f117b",
   "metadata": {},
   "source": [
    "The class `StructureFactor` takes as input an object of type `PointPattern`, i.e., an object containing\n",
    "* `points` : an $n\\times d$ `np.ndarray`containing the coordinates of the point process sample under scrutiny. $n$ is the cardinality of the sample, $d$ the dimension of its points. \n",
    "* `window`: an object describing the domain of $\\mathbb{R}^d$ where the sample is observed. We implement ball and rectangular windows, see `BallWindow` and `BoxWindow` in the module `spatial_windows`.\n",
    "* `intensity`: a real number giving the intensity of the underlying (stationary) point process. If not provided, it will be approximated."
   ]
  },
  {
   "cell_type": "markdown",
   "id": "d664e017",
   "metadata": {},
   "source": [
    "To illustrate the package, we provide a few point patterns that can be loaded using helpers in `load_data`. For instance, we use here a sample of $10^4$ points from the Ginibre ensemble (actually an approximate sample, since we used the matrix model of the Ginibre ensemble). We also provide evaluations of the pair correlation function and structure factor of the Ginibre ensemble in the module `utils` of `structure_factor`. \n"
   ]
  },
  {
   "cell_type": "code",
   "execution_count": null,
   "id": "769d5e62",
   "metadata": {},
   "outputs": [],
   "source": [
    "import numpy as np\n",
    "from structure_factor.data import load_data\n",
    "import structure_factor.utils as utils"
   ]
  },
  {
   "cell_type": "code",
   "execution_count": null,
   "id": "318c9793",
   "metadata": {},
   "outputs": [],
   "source": [
    "# import ginibre sample\n",
    "ginibre_pp = load_data.load_ginibre()"
   ]
  },
  {
   "cell_type": "code",
   "execution_count": null,
   "id": "3a5f05f9",
   "metadata": {},
   "outputs": [],
   "source": [
    "# we provide a method to plot the underlying sample\n",
    "ginibre_pp.plot() "
   ]
  },
  {
   "cell_type": "code",
   "execution_count": null,
   "id": "fbd954e5",
   "metadata": {},
   "outputs": [],
   "source": [
    "# plot the exact pair correlation function and the structure factor of the Ginibre ensmeble\n",
    "x = np.linspace(0,10, 100) # radius\n",
    "pcf_ginibre = utils.pair_correlation_function_ginibre(x) # pcf \n",
    "sf_ginibre = utils.structure_factor_ginibre(x) # sf\n",
    "\n",
    "# plot the pair correlation function and the structure factor of the Ginibre\n",
    "fig, axis = plt.subplots(1,2, figsize=(15,4))\n",
    "axis[0].plot(x, pcf_ginibre, 'g')\n",
    "axis[0].set_title(\"Pair correlation function of Ginibre\")\n",
    "axis[1].plot(x, sf_ginibre, 'g')\n",
    "axis[1].set_title(\"Structure factor of Ginibre\")\n",
    "plt.show()"
   ]
  },
  {
   "cell_type": "markdown",
   "id": "4ae804a2",
   "metadata": {},
   "source": [
    "Approximating the structure factor can be done within the `StructureFactor` class, which takes a `PointPattern` as input."
   ]
  },
  {
   "cell_type": "code",
   "execution_count": null,
   "id": "ac1df4e8",
   "metadata": {},
   "outputs": [],
   "source": [
    "from structure_factor.structure_factor import StructureFactor\n",
    "sf_ginibre = StructureFactor(ginibre_pp) "
   ]
  },
  {
   "cell_type": "markdown",
   "id": "e0729e8a",
   "metadata": {},
   "source": [
    "# 3. The scattering intensity estimator\n",
    "The scattering intensity $\\widehat{S}_{\\text{SI}}$ is widely used as an estimator of the structure factor for a stationary point process.\n",
    "It requires the realization window of the point process to be a **cubic window** and it should be evaluated on allowed wavevectors, a.k.a. dual lattice points. We start by using the method `restrict_to_window` to restrict our Ginibre sample to a cubic window."
   ]
  },
  {
   "cell_type": "code",
   "execution_count": null,
   "id": "9bec1f6e",
   "metadata": {},
   "outputs": [],
   "source": [
    "# restrict the Ginibre pattern to a cubic window\n",
    "from structure_factor.spatial_windows import BoxWindow\n",
    "L = ginibre_pp.window.radius/np.sqrt(2) # side length of the cubic window\n",
    "print(\"Restricting the window to a cube of length\", L)\n",
    "bounds = [[-L/2, L/2], [-L/2, L/2]] \n",
    "window = BoxWindow(bounds) # create a cubic window\n",
    "ginibre_pp_box = ginibre_pp.restrict_to_window(window) # create a Ginibre point pattern with box window\n",
    "ginibre_pp_box.plot()"
   ]
  },
  {
   "cell_type": "code",
   "execution_count": null,
   "id": "153e6547",
   "metadata": {},
   "outputs": [],
   "source": [
    "from structure_factor.spatial_windows import BoxWindow\n",
    "bounds = np.array([[-2, 2], [-2, 2], [-2,2]])\n",
    "window = BoxWindow(bounds)\n",
    "print(\"The volume of the window is equal to\", window.volume)"
   ]
  },
  {
   "cell_type": "code",
   "execution_count": null,
   "id": "8c310fc0",
   "metadata": {},
   "outputs": [],
   "source": [
    "sf_ginibre_box = StructureFactor(ginibre_pp_box) # initialize a new instance of StructureFactor"
   ]
  },
  {
   "cell_type": "markdown",
   "id": "c5387e77",
   "metadata": {},
   "source": [
    "We now compute the scattering intensity of the point pattern ginibre_pp_box, on an automatically generated mehsgrid of allowed wavevectors; see paper for details. Allowed wavevectors are automatically generated when calling the method `compute_sf_scattering_intensity`."
   ]
  },
  {
   "cell_type": "code",
   "execution_count": null,
   "id": "786e14c5",
   "metadata": {},
   "outputs": [],
   "source": [
    "k, si = sf_ginibre_box.scattering_intensity(k_max=6, \n",
    "                                            meshgrid_shape=(100, 100),\n",
    "                                            )"
   ]
  },
  {
   "cell_type": "markdown",
   "id": "151cab70",
   "metadata": {},
   "source": [
    "The method `plot_scattering_intensity` plots the result of `compute_sf_scattering_intensity`."
   ]
  },
  {
   "cell_type": "code",
   "execution_count": null,
   "id": "edea31a8",
   "metadata": {},
   "outputs": [],
   "source": [
    "fig = sf_ginibre_box.plot_scattering_intensity(k, si, plot_type=\"all\",\n",
    "                                              exact_sf=utils.structure_factor_ginibre,\n",
    "                                              bins=40, error_bar=True,\n",
    "                                              #file_name=\"si_ginibre.pdf\"\n",
    "                                              )"
   ]
  },
  {
   "cell_type": "markdown",
   "id": "b54976e7",
   "metadata": {},
   "source": [
    "By default, the scattering intensity is evaluated at allowed wavevectors (a.k.a. the dual lattice to the observation window). However, we also accommodate evaluations at arbitrary points. Here, we demonstrate this using an arbitrary meshgrid of non-allowed wave vectors. "
   ]
  },
  {
   "cell_type": "code",
   "execution_count": null,
   "id": "635b9e0b",
   "metadata": {},
   "outputs": [],
   "source": [
    "x = np.linspace(-4, 4, 100)\n",
    "x = x[x != 0]\n",
    "X, Y = np.meshgrid(x, x)\n",
    "k1 = np.column_stack((X.ravel(), Y.ravel()))\n",
    "k_norm1, si1 = sf_ginibre_box.scattering_intensity(k=k1)"
   ]
  },
  {
   "cell_type": "code",
   "execution_count": null,
   "id": "d8764a52",
   "metadata": {},
   "outputs": [],
   "source": [
    "# plot the scattering intensity and compare it to its exact value\n",
    "fig = sf_ginibre_box.plot_scattering_intensity(k_norm1, si1, plot_type=\"radial\",\n",
    "                                              exact_sf=utils.structure_factor_ginibre,\n",
    "                                              bins=40, error_bar=True,\n",
    "                                              #file_name=\"si_ginibre.pdf\"\n",
    "                                              )"
   ]
  },
  {
   "cell_type": "markdown",
   "id": "58c6058f",
   "metadata": {},
   "source": [
    "The bias at small (non-allowed) values of $\\Vert k\\Vert$ is important. Now, we show how using a non-rectangular window also introduces bias. More precisely, we try and compute the scattering intensity for the Ginibre sample stored in `ginibre_pp`, observed in a ball window."
   ]
  },
  {
   "cell_type": "code",
   "execution_count": null,
   "id": "5af5fdfb",
   "metadata": {},
   "outputs": [],
   "source": [
    "# allowed values\n",
    "k2, _ = utils.allowed_wave_vectors(d=2, \n",
    "                                   L=ginibre_pp.window.radius, \n",
    "                                   k_max=6, \n",
    "                                   meshgrid_shape=(100,100)) \n",
    "k_norm2, si2 = sf_ginibre.scattering_intensity(k=k2)"
   ]
  },
  {
   "cell_type": "code",
   "execution_count": null,
   "id": "5b4c5893",
   "metadata": {},
   "outputs": [],
   "source": [
    "sf_ginibre.plot_scattering_intensity(k_norm2, \n",
    "                                     si2,\n",
    "                                     exact_sf=utils.structure_factor_ginibre,\n",
    "                                     bins=50, error_bar=True,\n",
    "                                     #file_name=\"si_ginibre.pdf\"\n",
    "                                    )"
   ]
  },
  {
   "cell_type": "markdown",
   "id": "ec5c9749",
   "metadata": {},
   "source": [
    "Again, there is serious overestimation for $\\Vert \\mathbf k\\Vert \\leq 1$. "
   ]
  },
  {
   "cell_type": "markdown",
   "id": "ee807d9f",
   "metadata": {},
   "source": [
    "To conclude, and to insist on the role of *allowed* wavevectors for the scattering intensity at small $\\Vert \\mathbf k\\Vert$, we plot all three estimates on the same figure. "
   ]
  },
  {
   "cell_type": "code",
   "execution_count": null,
   "id": "fd3c57ff",
   "metadata": {},
   "outputs": [],
   "source": [
    "plt.figure(figsize=(10,6))\n",
    "plt.loglog(k_norm1.ravel(), si1.ravel(), color=\"grey\",linestyle=\"\", marker=\".\", label=\"all box window \")\n",
    "plt.loglog(k.ravel(), si.ravel(), 'b.', label=\"allowed values\")\n",
    "plt.loglog(k_norm2.ravel(), si2.ravel(), 'g.', label=\"all ball window \")\n",
    "plt.loglog(k_norm1.ravel(), utils.structure_factor_ginibre(k_norm1.ravel()), 'r', label=\"exact\")\n",
    "plt.legend()\n",
    "plt.title(\"SI ginibre\")\n",
    "plt.show()"
   ]
  },
  {
   "cell_type": "markdown",
   "id": "8d5ff2fd",
   "metadata": {},
   "source": [
    "# 4. Estimators relying on the Hankel transform"
   ]
  },
  {
   "cell_type": "markdown",
   "id": "f629d776",
   "metadata": {},
   "source": [
    "**Warning:** This section relies on an interface between Python and R. Make sure that the R Programming language is available on your machine. For installation, see https://www.r-project.org/ "
   ]
  },
  {
   "cell_type": "markdown",
   "id": "fa41c220",
   "metadata": {},
   "source": [
    "For stationary and isotropic point processes, the structure factor can be expressed as a Hankel transform, an example of Symmetric Fourier transform that involves the pair correlation function of the point process. Assuming for now that we have access to an estimate of the pair correlaction function, we consider two estimators that derive from the numerical approximation of the Hankel transform.\n",
    "\n",
    "- $\\widehat{S}_{HO}$: derived by estimating the Hankel transform using Ogata quadrature,\n",
    "- $\\widehat{S}_{HBC}$: derived by estimating the Hankel transform by the Discrete Hankel transform defined by Baddour and Chouinard;\n",
    "\n",
    "see our companion paper for references. Now, to esitmate the pair correlation function, we use the two methods `pcf.ppp` and `pcf.fv` of the `spatstat` R package.\n",
    "- `pcf.ppp` computes a kernel density estimator of the pair correlation function using the Epanechnikov kernel, and a bandwidth selected by Stoyan’s rule of thumb; this estimator is not recommended for small distances $r$, since its variance becomes infinite as $r$ goes to zero for many point processes.\n",
    "- `pcf.fv` estimates the derivative of Ripley's K function, and is recommended for large datasets, where direct estimation of $g(r)$ can be time-consuming. \n",
    "\n",
    "In any case, after estimating the pair correlation function at a finite set of values of $r$, we interpolate the result to get a function."
   ]
  },
  {
   "cell_type": "markdown",
   "id": "6763925c",
   "metadata": {},
   "source": [
    " ## 4.1. Estimating the pair correlation function"
   ]
  },
  {
   "cell_type": "markdown",
   "id": "d0331ff4",
   "metadata": {},
   "source": [
    "To use the methods of `spatstat`, a hidden interface is automatically built between `structure_factor` in Python and `spatstat` in R. This doesn't require any knowledge of  R."
   ]
  },
  {
   "cell_type": "code",
   "execution_count": null,
   "id": "9dff7c7d",
   "metadata": {},
   "outputs": [],
   "source": [
    "# estimate the pair correlation function using pcf.ppp\n",
    "r= np.linspace(0, 30, 500)\n",
    "pcf_ppp = sf_ginibre.compute_pcf(method=\"ppp\", r=r,\n",
    "                                        correction=\"all\")\n",
    "pcf_ppp"
   ]
  },
  {
   "cell_type": "markdown",
   "id": "53e73863",
   "metadata": {},
   "source": [
    "The different columns correspond to different border correction methods; see the `spatstat` documentation."
   ]
  },
  {
   "cell_type": "code",
   "execution_count": null,
   "id": "cb1cae5f",
   "metadata": {},
   "outputs": [],
   "source": [
    "fig = sf_ginibre.plot_pcf(pcf_ppp, \n",
    "                          exact_pcf=utils.pair_correlation_function_ginibre,\n",
    "                          figsize=(10,6),\n",
    "                          color=['b', 'grey', 'darkcyan'],\n",
    "                          style=[\".\", \"o\", \"^\"]\n",
    "                          )"
   ]
  },
  {
   "cell_type": "code",
   "execution_count": null,
   "id": "f8f1b22a",
   "metadata": {},
   "outputs": [],
   "source": [
    "# estimate the pair correlation function using pcf.fv\n",
    "pcf_fv = sf_ginibre.compute_pcf(method=\"fv\", Kest=dict(rmax=45),\n",
    "                                        fv=dict(method=\"b\", spar=0.1))\n",
    "pcf_fv"
   ]
  },
  {
   "cell_type": "code",
   "execution_count": null,
   "id": "af6134d4",
   "metadata": {},
   "outputs": [],
   "source": [
    "fig = sf_ginibre.plot_pcf(pcf_fv, \n",
    "                          exact_pcf=utils.pair_correlation_function_ginibre,\n",
    "                          figsize=(10,6),\n",
    "                          color=[ 'grey','b', 'darkcyan'],\n",
    "                          style=[\".\", \"o\", \"^\"]\n",
    "                          )"
   ]
  },
  {
   "cell_type": "markdown",
   "id": "c20b136a",
   "metadata": {},
   "source": [
    "## 4.2. Interpolating the estimated sample of the pair correlation function"
   ]
  },
  {
   "cell_type": "markdown",
   "id": "0a74beac",
   "metadata": {},
   "source": [
    "The interpolation can be done using `interpolate_pcf`, which automatically cleans the possible nan and inf in the data by setting the parameter `clean=True`."
   ]
  },
  {
   "cell_type": "code",
   "execution_count": null,
   "id": "d2096929",
   "metadata": {},
   "outputs": [],
   "source": [
    "# interpolation of the approximated pair correlation function\n",
    "domain, pcf_fv_func = sf_ginibre.interpolate_pcf(r=pcf_fv[\"r\"], \n",
    "                                                pcf_r=pcf_fv[\"pcf\"], \n",
    "                                                clean=True # removing nan and inf values\n",
    "                                                )"
   ]
  },
  {
   "cell_type": "markdown",
   "id": "696add6a",
   "metadata": {},
   "source": [
    "## 4.3. Estimator using Ogata quadrature $\\widehat{S}_{HO}$"
   ]
  },
  {
   "cell_type": "markdown",
   "id": "5c05151f",
   "metadata": {},
   "source": [
    "We also estimate a lower bound $k_\\text{min}$ on the wavenumbers below which the estimator is based on little to no data. This bound depends on the maximal radius of the estimations of the pair correlation function."
   ]
  },
  {
   "cell_type": "code",
   "execution_count": null,
   "id": "27c397b8",
   "metadata": {},
   "outputs": [],
   "source": [
    "r_max = domain[\"r_max\"] # upper bound of the radius on which the pcf has been approximated\n",
    "k_norm3 = np.linspace(1.5, 10, 1000) # vector of wavenumbers\n",
    "k_norm3, sf_Ogata = sf_ginibre.hankel_quadrature(pcf_fv_func,\n",
    "                                                 method=\"Ogata\",\n",
    "                                                 k_norm=k_norm3, \n",
    "                                                 step_size=0.1,\n",
    "                                                 nb_points=1000,\n",
    "                                                 r_max=r_max\n",
    "                                                )\n",
    "k_norm_min = sf_ginibre.k_norm_min\n",
    "print( k_norm_min)"
   ]
  },
  {
   "cell_type": "code",
   "execution_count": null,
   "id": "26ebd635",
   "metadata": {},
   "outputs": [],
   "source": [
    "fig = sf_ginibre.plot_sf_hankel_quadrature(k_norm3, \n",
    "                                           sf_Ogata, \n",
    "                                           error_bar=True,\n",
    "                                           k_norm_min=k_norm_min, bins=40,\n",
    "                                           exact_sf=utils.structure_factor_ginibre,\n",
    "                                           label=\"$\\widehat{S}_{HO}(k)$\",\n",
    "                                            #file_name=\"sf_ginibre_Ogata.pdf\"\n",
    "                                            )"
   ]
  },
  {
   "cell_type": "markdown",
   "id": "8de2c1ba",
   "metadata": {},
   "source": [
    "To assess the effect of the estimation of the pair correlation function on the estimator $\\widehat{S}_{HO}$, we re-estimate $\\widehat{S}_{HO}$, but we replace the approximate pair correlation function by evaluations of the exact pair correlation function of the Ginibre point process."
   ]
  },
  {
   "cell_type": "code",
   "execution_count": null,
   "id": "f5614e09",
   "metadata": {},
   "outputs": [],
   "source": [
    "k_norm3 = np.linspace(0.5,10, 1000)\n",
    "r = pcf_fv[\"r\"]\n",
    "\n",
    "domain, pcf_func = sf_ginibre.interpolate_pcf(r=r, pcf_r=utils.pair_correlation_function_ginibre(r), clean=True) #interpolation\n",
    "k_norm3, sf_Ogata = sf_ginibre.hankel_quadrature(pcf_func, \n",
    "                                                 method=\"Ogata\",\n",
    "                                                 k_norm=k_norm3,\n",
    "                                                 step_size=0.01,\n",
    "                                                 nb_points=1000\n",
    "                                                 ) \n",
    "\n",
    "fig = sf_ginibre.plot_sf_hankel_quadrature(k_norm3, \n",
    "                                           sf_Ogata, \n",
    "                                           exact_sf=utils.structure_factor_ginibre\n",
    "                                           )\n"
   ]
  },
  {
   "cell_type": "markdown",
   "id": "019daf2c",
   "metadata": {},
   "source": [
    "As predicted the regularity of the estimator $\\widehat{S}_{HO}$ is strongly dependent on the regularity of the estimated pair correlation sample."
   ]
  },
  {
   "cell_type": "markdown",
   "id": "de58979c",
   "metadata": {},
   "source": [
    "## 4.4. Estimator using Baddour-Chouinard quadrature $\\widehat{S}_{HBC}$"
   ]
  },
  {
   "cell_type": "code",
   "execution_count": null,
   "id": "81a1be0b",
   "metadata": {},
   "outputs": [],
   "source": [
    "rmax = domain[\"r_max\"]\n",
    "k_norm4 = np.linspace(0.3,30, 2000)\n",
    "k_norm4, sf_BadChou = sf_ginibre.hankel_quadrature(pcf_fv_func, \n",
    "                                                   k_norm=k_norm4, \n",
    "                                                   r_max=rmax, \n",
    "                                                   nb_points=1000\n",
    "                                                   )"
   ]
  },
  {
   "cell_type": "code",
   "execution_count": null,
   "id": "71635f88",
   "metadata": {},
   "outputs": [],
   "source": [
    "fig = sf_ginibre.plot_sf_hankel_quadrature(k_norm4, sf_BadChou, exact_sf=utils.structure_factor_ginibre, \n",
    "                                           label=\"$S_{HBC}(k)$\", error_bar=True, bins=100)"
   ]
  },
  {
   "cell_type": "markdown",
   "id": "3a889ca0",
   "metadata": {},
   "source": [
    "Again, we assess the effect of the estimation of the pair correlation function by comparing to the same estimator, but using exact evaluation of the pair correlation function."
   ]
  },
  {
   "cell_type": "code",
   "execution_count": null,
   "id": "50e89fe0",
   "metadata": {},
   "outputs": [],
   "source": [
    "k_norm4, sf_BaddChou = sf_ginibre.hankel_quadrature(pcf_func, \n",
    "                                                    method=\"BaddourChouinard\",\n",
    "                                                    r_max=rmax, \n",
    "                                                    nb_points=800\n",
    "                                                    ) \n",
    "\n",
    "fig = sf_ginibre.plot_sf_hankel_quadrature(k_norm4, \n",
    "                                           sf_BaddChou, \n",
    "                                           exact_sf=utils.structure_factor_ginibre)"
   ]
  },
  {
   "cell_type": "markdown",
   "id": "43f7c602",
   "metadata": {},
   "source": [
    "Again, the regularity of the estimator $\\widehat{S}_{HBC}$ is strongly dependent on the regularity of the estimated pair correlation sample."
   ]
  },
  {
   "cell_type": "markdown",
   "id": "86f198d9",
   "metadata": {},
   "source": [
    "# 5. Visualizing hyperuniformity"
   ]
  },
  {
   "cell_type": "markdown",
   "id": "f2d205bf",
   "metadata": {},
   "source": [
    "We provide two diagnostics of hyperuniformity,\n",
    "- one based on an index of *effective hyperuniformity*, following [TBC].\n",
    "- one based on regressing the power decay of the structure factor around zero, in order to predict the class of hyperuniformity."
   ]
  },
  {
   "cell_type": "markdown",
   "id": "bad7869a",
   "metadata": {},
   "source": [
    "## 5.1. Effective hyperuniformity "
   ]
  },
  {
   "cell_type": "code",
   "execution_count": null,
   "id": "9fe92f44",
   "metadata": {},
   "outputs": [],
   "source": [
    "from structure_factor.hyperuniformity import Hyperuniformity\n",
    "hyperuniformity_test = Hyperuniformity(k, si)\n",
    "bin_center, bin_mean, bin_std = hyperuniformity_test.bin_data(bins=60)"
   ]
  },
  {
   "cell_type": "code",
   "execution_count": null,
   "id": "452f23b0",
   "metadata": {},
   "outputs": [],
   "source": [
    "H_ginibre, std = hyperuniformity_test.effective_hyperuniformity(k_norm_stop=1)\n",
    "print(\"H_ginibre=\", H_ginibre)"
   ]
  },
  {
   "cell_type": "markdown",
   "id": "4f8d67e1",
   "metadata": {},
   "source": [
    "Following [TBC], a value $H <10^{-3}$ is an indicator of hyperuniformity, and we correctly conclude here that the Ginibre point process is hyperuniform."
   ]
  },
  {
   "cell_type": "markdown",
   "id": "d2e73b05",
   "metadata": {},
   "source": [
    "The plot below shows the fitted regression line used to find $H$."
   ]
  },
  {
   "cell_type": "code",
   "execution_count": null,
   "id": "b0001052",
   "metadata": {},
   "outputs": [],
   "source": [
    "import matplotlib.pyplot as plt\n",
    "mean_k_norm = hyperuniformity_test.k_norm\n",
    "mean_sf = hyperuniformity_test.sf\n",
    "fitted_sf_line = hyperuniformity_test.fitted_line # fitted line to sf\n",
    "index_peak = hyperuniformity_test.i_first_peak # index of first peak of sf\n",
    "x = np.linspace(0, 5, 300)\n",
    "y = np.linspace(0,15, 500)\n",
    "fig=plt.figure(figsize=(10,6))\n",
    "plt.plot(mean_k_norm, mean_sf, 'b.', label=\"approx_sf\")\n",
    "plt.plot(mean_k_norm, mean_sf, 'b', label=\"approx_sf\")\n",
    "plt.plot(x, fitted_sf_line(x), 'r--', label= \"fitted line\")\n",
    "plt.plot(y, utils.structure_factor_ginibre(y), 'g', label=\"exact sf\")\n",
    "plt.plot(mean_k_norm[index_peak], mean_sf[index_peak], 'k*', label=\"first peak\")\n",
    "plt.legend()\n",
    "plt.xlabel('wavelength ($||\\mathbf{k}||$)')\n",
    "plt.ylabel('Structure factor ($\\mathsf{S}(\\mathbf{k})$)')\n",
    "plt.show()\n",
    "#fig.savefig(\"fitted_si_ginibre.pdf\", bbox_inches=\"tight\")"
   ]
  },
  {
   "cell_type": "markdown",
   "id": "f3a15734",
   "metadata": {},
   "source": [
    "## 5.2. Class of hyperuniformity"
   ]
  },
  {
   "cell_type": "code",
   "execution_count": null,
   "id": "5469b84b",
   "metadata": {},
   "outputs": [],
   "source": [
    "hyperuniformity_test = Hyperuniformity(k, si)\n",
    "hyperuniformity_test.bin_data(bins=90)\n",
    "sf_power_decay, c = hyperuniformity_test.hyperuniformity_class(k_norm_stop=1)\n",
    "print(sf_power_decay)"
   ]
  },
  {
   "cell_type": "markdown",
   "id": "287bb55f",
   "metadata": {},
   "source": [
    "We know the power decay associated with the Ginibre ensemble is equal to 2, and the estimated value is indeed around 2."
   ]
  },
  {
   "cell_type": "markdown",
   "id": "af24c18e",
   "metadata": {},
   "source": [
    "Finally, we plot the fitted polynomial on the approximated structure factor around zero."
   ]
  },
  {
   "cell_type": "code",
   "execution_count": null,
   "id": "cdeb66e7",
   "metadata": {},
   "outputs": [],
   "source": [
    "import matplotlib.pyplot as plt\n",
    "mean_k_norm = hyperuniformity_test.k_norm\n",
    "mean_sf = hyperuniformity_test.sf\n",
    "fitted_poly = hyperuniformity_test.fitted_poly\n",
    "x = np.linspace(0, 2, 300)\n",
    "y = np.linspace(0,9, 500)\n",
    "fig=plt.figure(figsize=(10,6))\n",
    "plt.plot(mean_k_norm, mean_sf, 'b.', label=\"approx_sf\")\n",
    "plt.plot(mean_k_norm, mean_sf, 'b', label=\"approx_sf\")\n",
    "plt.plot(y, utils.structure_factor_ginibre(y), 'g', label=\"exact sf\")\n",
    "plt.plot(x, fitted_poly(x), 'r--', label= \"fitted line\")\n",
    "plt.legend()\n",
    "plt.xlabel('wavelength ($||\\mathbf{k}||$)')\n",
    "plt.ylabel('Structure factor ($\\mathsf{S}(\\mathbf{k})$)')\n",
    "plt.show()\n",
    "#fig.savefig(\"fitted_si_ginibre.pdf\", bbox_inches=\"tight\")"
   ]
  }
 ],
 "metadata": {
  "interpreter": {
   "hash": "55b4d108f296a679a2dff1927b0e4c2a151de922cfd09e10911d1814a00e3c5c"
  },
  "kernelspec": {
   "display_name": "Python 3 (ipykernel)",
   "language": "python",
   "name": "python3"
  },
  "language_info": {
   "codemirror_mode": {
    "name": "ipython",
    "version": 3
   },
   "file_extension": ".py",
   "mimetype": "text/x-python",
   "name": "python",
   "nbconvert_exporter": "python",
   "pygments_lexer": "ipython3",
   "version": "3.9.2"
  }
 },
 "nbformat": 4,
 "nbformat_minor": 5
}
