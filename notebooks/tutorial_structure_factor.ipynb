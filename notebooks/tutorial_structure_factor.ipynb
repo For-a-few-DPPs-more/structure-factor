{
 "cells": [
  {
   "cell_type": "markdown",
   "id": "d3c8f550",
   "metadata": {},
   "source": [
    "This Notebook demonstrates the package `structure_factor` on the Ginibre ensemble."
   ]
  },
  {
   "cell_type": "code",
   "execution_count": null,
   "id": "46c129ad",
   "metadata": {},
   "outputs": [],
   "source": [
    "from IPython.core.display import display, HTML\n",
    "display(HTML(\"<style>.container { width:100% !important; }</style>\"))\n",
    "\n",
    "import matplotlib as mpl\n",
    "import matplotlib.pyplot as plt\n",
    "%load_ext autoreload\n",
    "%autoreload 2\n",
    "\n",
    "%config InlineBackend.figure_format='retina'"
   ]
  },
  {
   "cell_type": "markdown",
   "id": "9be62826",
   "metadata": {},
   "source": [
    "# 1. Working with `PointPattern`"
   ]
  },
  {
   "cell_type": "markdown",
   "id": "99f1d343",
   "metadata": {},
   "source": [
    "The class `StructureFactor` takes as input an object of type `PointPattern`, i.e., an object containing\n",
    "* `points` : an $n\\times d$ `np.ndarray`containing the coordinates of the point process sample under scrutiny. $n$ is the cardinality of the sample, $d$ the dimension of its points. \n",
    "* `window`: an object describing the domain of $\\mathbb{R}^d$ where the sample is observed. We implement ball and rectangular windows, see `BallWindow` and `BoxWindow` in the module `spatial_windows`.\n",
    "* `intensity`: a real number giving the intensity of the underlying (stationary) point process. If not provided, it will be approximated."
   ]
  },
  {
   "cell_type": "markdown",
   "id": "58ee5c69",
   "metadata": {},
   "source": [
    "To illustrate the package, we provide a few point patterns that can be loaded using helpers in `load_data`. For instance, we use here a sample of $10^4$ points from the Ginibre ensemble (actually an approximate sample, since we used the matrix model of the Ginibre ensemble). We also provide evaluations of the pair correlation function and structure factor of the Ginibre ensemble in the module `utils` of `structure_factor`. \n"
   ]
  },
  {
   "cell_type": "code",
   "execution_count": null,
   "id": "e6633997",
   "metadata": {},
   "outputs": [],
   "source": [
    "import numpy as np\n",
    "from structure_factor.data import load_data\n",
    "import structure_factor.utils as utils"
   ]
  },
  {
   "cell_type": "code",
   "execution_count": null,
   "id": "458178b6",
   "metadata": {},
   "outputs": [],
   "source": [
    "# import ginibre sample\n",
    "ginibre_pp = load_data.load_ginibre()"
   ]
  },
  {
   "cell_type": "code",
   "execution_count": null,
   "id": "d2b91947",
   "metadata": {},
   "outputs": [],
   "source": [
    "# we provide a method to plot the underlying sample\n",
    "ginibre_pp.plot() "
   ]
  },
  {
   "cell_type": "code",
   "execution_count": null,
   "id": "21ced2d3",
   "metadata": {},
   "outputs": [],
   "source": [
    "# plot the exact pair correlation function and the structure factor of the Ginibre ensmeble\n",
    "x = np.linspace(0,10, 100) # radius\n",
    "pcf_ginibre = utils.pair_correlation_function_ginibre(x) # pcf \n",
    "sf_ginibre = utils.structure_factor_ginibre(x) # sf\n",
    "\n",
    "# plot the pair correlation function and the structure factor of the Ginibre\n",
    "fig, axis = plt.subplots(1,2, figsize=(15,4))\n",
    "axis[0].plot(x, pcf_ginibre, 'g')\n",
    "axis[0].set_title(\"Pair correlation function of the Ginibre\")\n",
    "axis[1].plot(x, sf_ginibre, 'g')\n",
    "axis[1].set_title(\"Structure factor of the Ginibre\")\n",
    "plt.show()"
   ]
  },
  {
   "cell_type": "markdown",
   "id": "90e72bd1",
   "metadata": {},
   "source": [
    "Approximating the structure factor can be done within the `StructureFactor` class, which takes a `PointPattern` as input."
   ]
  },
  {
   "cell_type": "code",
   "execution_count": null,
   "id": "88e4d0d9",
   "metadata": {},
   "outputs": [],
   "source": [
    "from structure_factor.structure_factor import StructureFactor\n",
    "sf_ginibre = StructureFactor(ginibre_pp) "
   ]
  },
  {
   "cell_type": "markdown",
   "id": "138812e5",
   "metadata": {},
   "source": [
    "# 2. The scattering intensity estimator $\\widehat{S}_{\\text{SI}}$\n",
    "The scattering intensity requires a **cubic window** and should be evaluated on allowed wavevectors, a.k.a. dual lattice points. We start by using the method `restrict_to_window` to restrict our Ginibre sample to a cubic window."
   ]
  },
  {
   "cell_type": "code",
   "execution_count": null,
   "id": "aa785b86",
   "metadata": {},
   "outputs": [],
   "source": [
    "# Restrict the Ginibre pattern to a cubic window\n",
    "from structure_factor.spatial_windows import BoxWindow\n",
    "L = ginibre_pp.window.radius/np.sqrt(2) # sidelength of the cubic window\n",
    "print(\"Restricting the window to a cube of length\", L)\n",
    "bounds = [[-L/2, L/2], [-L/2, L/2]] \n",
    "window = BoxWindow(bounds) # create a cubic window\n",
    "ginibre_pp_box = ginibre_pp.restrict_to_window(window) # create a Ginibre point pattern with box window\n",
    "ginibre_pp_box.plot()"
   ]
  },
  {
   "cell_type": "code",
   "execution_count": null,
   "id": "06a346a0",
   "metadata": {},
   "outputs": [],
   "source": [
    "from structure_factor.spatial_windows import BoxWindow\n",
    "bounds = np.array([[-2, 2], [-2, 2], [-2,2]])\n",
    "window = BoxWindow(bounds)\n",
    "print(\"The volume of the window is equal to\", window.volume)"
   ]
  },
  {
   "cell_type": "code",
   "execution_count": null,
   "id": "5ea5389e",
   "metadata": {},
   "outputs": [],
   "source": [
    "sf_ginibre_box = StructureFactor(ginibre_pp_box) # initialize a new instance of StructureFactor"
   ]
  },
  {
   "cell_type": "markdown",
   "id": "3e515237",
   "metadata": {},
   "source": [
    "We now compute the scattering intensity of the point pattern ginibre_pp_box, on an automatically generated mehsgrid of allowed wavevectors; see paper for details. Allowed wavevectors are automatically generated when calling the method `compute_sf_scattering_intensity`."
   ]
  },
  {
   "cell_type": "code",
   "execution_count": null,
   "id": "79ab93b5",
   "metadata": {},
   "outputs": [],
   "source": [
    "k, si = sf_ginibre_box.scattering_intensity(\n",
    "                                    k_max=6, \n",
    "                                    meshgrid_shape=(100, 100),\n",
    "                                    )"
   ]
  },
  {
   "cell_type": "markdown",
   "id": "3fe06375",
   "metadata": {},
   "source": [
    "The method `plot_scattering_intensity` plots the result of `compute_sf_scattering_intensity`."
   ]
  },
  {
   "cell_type": "code",
   "execution_count": null,
   "id": "ce0f49b0",
   "metadata": {},
   "outputs": [],
   "source": [
    "fig = sf_ginibre_box.plot_scattering_intensity(k, si, plot_type=\"all\",\n",
    "                                            exact_sf=utils.structure_factor_ginibre,\n",
    "                                            bins=40, error_bar=True,\n",
    "                                            #file_name=\"si_ginibre.pdf\"\n",
    "                                              )"
   ]
  },
  {
   "cell_type": "markdown",
   "id": "c1b01c6f",
   "metadata": {},
   "source": [
    "By default, the scattering intensity is evaluated at allowed wavevectors (a.k.a. the dual lattice to the observation window). However, we also accomodate evaluations at arbitrary points. Here, we demonstrate this using an arbitrary meshgrid of non-allowed wave vectors. "
   ]
  },
  {
   "cell_type": "code",
   "execution_count": null,
   "id": "84f248c9",
   "metadata": {},
   "outputs": [],
   "source": [
    "x = np.linspace(-4, 4, 100)\n",
    "x = x[x != 0]\n",
    "X, Y = np.meshgrid(x, x)\n",
    "k1 = np.column_stack((X.ravel(), Y.ravel()))\n",
    "k_norm1, si1 = sf_ginibre_box.scattering_intensity(\n",
    "                                    k=k1, \n",
    "                                    )"
   ]
  },
  {
   "cell_type": "code",
   "execution_count": null,
   "id": "34e47ae5",
   "metadata": {},
   "outputs": [],
   "source": [
    "# plot the scattering intensity and compare it to its exact value\n",
    "fig = sf_ginibre_box.plot_scattering_intensity(k_norm1, si1, plot_type=\"radial\",\n",
    "                                            exact_sf=utils.structure_factor_ginibre,\n",
    "                                            bins=40, error_bar=True,\n",
    "                                            #file_name=\"si_ginibre.pdf\"\n",
    "                                              )"
   ]
  },
  {
   "cell_type": "markdown",
   "id": "50b5881e",
   "metadata": {},
   "source": [
    "The bias at small (non-allowed) values of $\\Vert k\\Vert$ is important. Now, we show how using a non-rectangular window also introduces bias. More precisely, we try and compute the scattering intensity for the Ginibre sample stored in `ginibre_pp`, observed in a ball window."
   ]
  },
  {
   "cell_type": "code",
   "execution_count": null,
   "id": "0ca4b5a8",
   "metadata": {},
   "outputs": [],
   "source": [
    "k2, _ = utils.allowed_wave_vectors(d=2, L=ginibre_pp.window.radius, \n",
    "                                   k_max=6, meshgrid_shape=(100,100)) # create allowed values\n",
    "k_norm2, si2 = sf_ginibre.scattering_intensity(k=k2)"
   ]
  },
  {
   "cell_type": "code",
   "execution_count": null,
   "id": "5421e88c",
   "metadata": {},
   "outputs": [],
   "source": [
    "sf_ginibre.plot_scattering_intensity(k_norm2, si2,\n",
    "                                            exact_sf=utils.structure_factor_ginibre,\n",
    "                                            bins=50, error_bar=True,\n",
    "                                            #file_name=\"si_ginibre.pdf\"\n",
    "                                              )"
   ]
  },
  {
   "cell_type": "markdown",
   "id": "3789ea14",
   "metadata": {},
   "source": [
    "Again, there is serius overestimation for $\\Vert \\mathbf k\\Vert \\leq 1$. "
   ]
  },
  {
   "cell_type": "markdown",
   "id": "86bdfeda",
   "metadata": {},
   "source": [
    "To conclude, and to insist on the role of *allowed* wavevectors for the scattering intensity at small $\\Vert \\mathbf k\\Vert$, we plot all three estimates on the same figure. "
   ]
  },
  {
   "cell_type": "code",
   "execution_count": null,
   "id": "a907ede6",
   "metadata": {},
   "outputs": [],
   "source": [
    "plt.figure(figsize=(10,6))\n",
    "plt.loglog(k_norm1.ravel(), si1.ravel(), color=\"grey\",linestyle=\"\", marker=\".\", label=\"all box window \")\n",
    "plt.loglog(k.ravel(), si.ravel(), 'b.', label=\"allowed values\")\n",
    "plt.loglog(k_norm2.ravel(), si2.ravel(), 'g.', label=\"all ball window \")\n",
    "plt.loglog(k_norm1.ravel(), utils.structure_factor_ginibre(k_norm1.ravel()), 'r', label=\"exact\")\n",
    "plt.legend()\n",
    "plt.title(\"SI ginibre\")\n",
    "plt.show()"
   ]
  },
  {
   "cell_type": "markdown",
   "id": "0df09005",
   "metadata": {},
   "source": [
    "# 3. Estimators relying on the Hankel transform"
   ]
  },
  {
   "cell_type": "markdown",
   "id": "090628bb",
   "metadata": {},
   "source": [
    "**Warning:** This section relies on an interface between Python and R. Make sure that the R Programming language is available on your machine. For installation, see https://www.r-project.org/ "
   ]
  },
  {
   "cell_type": "markdown",
   "id": "08d1ac9f",
   "metadata": {},
   "source": [
    "For stationary and isotropic point processes, the structure factor can be expressed as a Hankel transform. As we mentioned another two estimated could be derived for an isotropic point process using the Hankel transform.\n",
    "- $\\widehat{S}_{HO}$: derived by estimating the Hankel transform using Ogata quadrature.\n",
    "- $\\widehat{S}_{HBC}$: derived by estimating the Hankel transform by the Discrete Hankel transform defined by Baddour and Chouinard.\n",
    "\n",
    "A prior step before estimating the Symmetric Fourier transform is to estimate the pair correlation function. For that we use the two method `pcf.ppp` and `pcf.fv` of the `spatstat` package from R.\n",
    "- `pcf.ppp` use an estimator of the pair correlation function with the Epanechnikov kernel, and a bandwidth selected by Stoyan’s rule of thumb; this estimator failed at small distances $r$, and its variance becomes infinite for many point processes.\n",
    "- `pcf.fv`is particularly useful in large datasets, where direct estimation of $g(r)$ can be time-consuming. Thus an estimator $\\widehat{g}$ is derived by estimating the derivative of the Ripley's function $K'$.\n",
    "- After estimating a discrete sample from the pair correlation function we inetrpolate the result to get a function."
   ]
  },
  {
   "cell_type": "markdown",
   "id": "27992a2f",
   "metadata": {},
   "source": [
    "## Estimating the pair correlation function"
   ]
  },
  {
   "cell_type": "markdown",
   "id": "87858a08",
   "metadata": {},
   "source": [
    "- To use the methods of `spatstat`, a hidden interface will be automatically built between `structure_factor` in Python and `spatstat` in R.\n",
    "- This doesn't require any knowledge of  R."
   ]
  },
  {
   "cell_type": "code",
   "execution_count": null,
   "id": "4f48590f",
   "metadata": {},
   "outputs": [],
   "source": [
    "# estimate the pair correlation function using pcf.ppp\n",
    "r= np.linspace(0, 30, 500)\n",
    "pcf_ppp = sf_ginibre.compute_pcf(method=\"ppp\", r=r,\n",
    "                                        correction=\"all\")\n",
    "pcf_ppp"
   ]
  },
  {
   "cell_type": "code",
   "execution_count": null,
   "id": "26fc26df",
   "metadata": {},
   "outputs": [],
   "source": [
    "fig = sf_ginibre.plot_pcf(pcf_ppp, exact_pcf=utils.pair_correlation_function_ginibre,\n",
    "                    figsize=(10,6),\n",
    "                    color=['b', 'grey', 'darkcyan'],\n",
    "                    style=[\".\", \"o\", \"^\"])"
   ]
  },
  {
   "cell_type": "code",
   "execution_count": null,
   "id": "a939e4d2",
   "metadata": {},
   "outputs": [],
   "source": [
    "#pcf_fv = sf_ginibre.compute_pcf(method=\"fv\")\n",
    "#pcf_fv"
   ]
  },
  {
   "cell_type": "code",
   "execution_count": null,
   "id": "f122b4a2",
   "metadata": {},
   "outputs": [],
   "source": [
    "# estimate the pair correlation function using pcf.fv\n",
    "pcf_fv = sf_ginibre.compute_pcf(method=\"fv\", Kest=dict(rmax=45),\n",
    "                                        fv=dict(method=\"b\", spar=0.1))\n",
    "pcf_fv"
   ]
  },
  {
   "cell_type": "code",
   "execution_count": null,
   "id": "e4f256b3",
   "metadata": {},
   "outputs": [],
   "source": [
    "fig = sf_ginibre.plot_pcf(pcf_fv, exact_pcf=utils.pair_correlation_function_ginibre,\n",
    "                    figsize=(10,6),\n",
    "                    color=[ 'grey','b', 'darkcyan'],\n",
    "                    style=[\".\", \"o\", \"^\"])"
   ]
  },
  {
   "cell_type": "markdown",
   "id": "2985a03a",
   "metadata": {},
   "source": [
    "## Interpolating the estimated sample of the pair correlation function"
   ]
  },
  {
   "cell_type": "markdown",
   "id": "76f607e6",
   "metadata": {},
   "source": [
    "The interpolation can be done using `interpolate_pcf` which automatically clean the possible nan and inf in the data by setting the parameter `clean=True`."
   ]
  },
  {
   "cell_type": "code",
   "execution_count": null,
   "id": "7a329699",
   "metadata": {},
   "outputs": [],
   "source": [
    "# interpolation of the approximated pair correlation function\n",
    "domain, pcf_fv_func = sf_ginibre.interpolate_pcf(\n",
    "        r=pcf_fv[\"r\"], pcf_r=pcf_fv[\"pcf\"], \n",
    "        clean=True # removing nan and inf \n",
    ")"
   ]
  },
  {
   "cell_type": "markdown",
   "id": "513f8e5f",
   "metadata": {},
   "source": [
    "## Estimator using Ogata Hankel transform $\\widehat{S}_{HO}$"
   ]
  },
  {
   "cell_type": "markdown",
   "id": "b039c367",
   "metadata": {},
   "source": [
    "We also estimate a minimal wavenumber bound depending on the maximal radius of the estimations of the pair correlation function."
   ]
  },
  {
   "cell_type": "code",
   "execution_count": null,
   "id": "0d23e03e",
   "metadata": {},
   "outputs": [],
   "source": [
    "r_max = domain[\"r_max\"] # upper bound of the raduis on which the pcf has been approximated\n",
    "k_norm3 = np.linspace(1.5, 10, 1000) # vector of wave length\n",
    "k_norm3, sf_Ogata = sf_ginibre.hankel_quadrature(pcf_fv_func,\n",
    "                                                 method=\"Ogata\",\n",
    "                                                 k_norm=k_norm3, \n",
    "                                                 step_size=0.1,\n",
    "                                                 nb_points=1000,\n",
    "                                                 r_max=r_max\n",
    "                                                )\n",
    "k_norm_min = sf_ginibre.k_norm_min\n",
    "print(\"The minimal wavenumber estimated bound is\", k_norm_min)"
   ]
  },
  {
   "cell_type": "code",
   "execution_count": null,
   "id": "e3a95e22",
   "metadata": {},
   "outputs": [],
   "source": [
    "fig = sf_ginibre.plot_sf_hankel_quadrature(k_norm3, sf_Ogata, error_bar=True,\n",
    "                             k_norm_min=k_norm_min, bins=40,\n",
    "                             exact_sf=utils.structure_factor_ginibre,\n",
    "                             label=\"$\\widehat{S}_{HO}(k)$\",\n",
    "                             #file_name=\"sf_ginibre_Ogata.pdf\"\n",
    "                                          )"
   ]
  },
  {
   "cell_type": "markdown",
   "id": "b5a4fc92",
   "metadata": {},
   "source": [
    "To test the effect of the estimation of the pair correlation function on the estimator $\\widehat{S}_{HO}$, we take the same sample of the pair correlation function from the **exact** pair correlation function, and we re-estimate $\\widehat{S}_{HO}$."
   ]
  },
  {
   "cell_type": "code",
   "execution_count": null,
   "id": "7da73053",
   "metadata": {},
   "outputs": [],
   "source": [
    "k_norm3 = np.linspace(0.5,10, 1000)\n",
    "r = pcf_fv[\"r\"]\n",
    "\n",
    "domain, pcf_func = sf_ginibre.interpolate_pcf(r=r, pcf_r=utils.pair_correlation_function_ginibre(r), clean=True) #interpolation\n",
    "k_norm3, sf_Ogata = sf_ginibre.hankel_quadrature(pcf_func, k_norm=k_norm3,\n",
    "                                                step_size=0.01,\n",
    "                                                nb_points=1000) \n",
    "\n",
    "fig = sf_ginibre.plot_sf_hankel_quadrature(k_norm3, sf_Ogata, exact_sf=utils.structure_factor_ginibre)\n"
   ]
  },
  {
   "cell_type": "markdown",
   "id": "9e36d9cc",
   "metadata": {},
   "source": [
    "As predicted the regularite of the estimator $\\widehat{S}_{HO}$ is strongly dependent on the regularity of the estimated pair correlation sample."
   ]
  },
  {
   "cell_type": "markdown",
   "id": "df1440a9",
   "metadata": {},
   "source": [
    "## Estimator using Baddour and Chouinard Hankel transform $\\widehat{S}_{HBC}$"
   ]
  },
  {
   "cell_type": "code",
   "execution_count": null,
   "id": "11616837",
   "metadata": {},
   "outputs": [],
   "source": [
    "rmax = domain[\"rmax\"]\n",
    "k_norm4 = np.linspace(0.3,30, 2000)\n",
    "k_norm4, sf_BadChou = sf_ginibre.hankel_quadrature(pcf_fv_func, method =\"BaddourChouinard\",\n",
    "                                                            k_norm=k_norm4, rmax=rmax, nb_points=1000)"
   ]
  },
  {
   "cell_type": "code",
   "execution_count": null,
   "id": "9b7d29bd",
   "metadata": {},
   "outputs": [],
   "source": [
    "fig = sf_ginibre.plot_sf_hankel_quadrature(k_norm4, sf_BadChou, exact_sf=utils.structure_factor_ginibre, \n",
    "                                           label=\"$S_{HBC}(k)$\", error_bar=True, bins=100)"
   ]
  },
  {
   "cell_type": "markdown",
   "id": "d5caf6fc",
   "metadata": {},
   "source": [
    "To test the effect of the estimation of the pair correlation function on the estimator $\\widehat{S}_{HBC}$, we take the same sample of the pair correlation function from the **exact** pair correlation function, and we re-estimate $\\widehat{S}_{BC}$."
   ]
  },
  {
   "cell_type": "code",
   "execution_count": null,
   "id": "0efb5633",
   "metadata": {},
   "outputs": [],
   "source": [
    "# Method of Baddour and Chouinard\n",
    "k_norm4, sf_BaddChou = sf_ginibre.hankel_quadrature(pcf_func, method=\"BaddourChouinard\",rmax=rmax, nb_points=800) \n",
    "\n",
    "fig = sf_ginibre.plot_sf_hankel_quadrature(k_norm4, sf_BaddChou, exact_sf=utils.structure_factor_ginibre)"
   ]
  },
  {
   "cell_type": "markdown",
   "id": "121042dd",
   "metadata": {},
   "source": [
    "As predicted the regularity of the estimator $\\widehat{S}_{HBC}$ is strongly dependent on the regularity of the estimated pair correlation sample."
   ]
  },
  {
   "cell_type": "markdown",
   "id": "7624f169",
   "metadata": {},
   "source": [
    "# Section 4"
   ]
  },
  {
   "cell_type": "markdown",
   "id": "d653a39a",
   "metadata": {},
   "source": [
    "# Testing the hyperuniformity"
   ]
  },
  {
   "cell_type": "markdown",
   "id": "e2e51d79",
   "metadata": {},
   "source": [
    "We provide two tests of hyperuniformity:\n",
    "- Test of effective hyperunifromity using the H index \n",
    "- Test of the power decay of the structure factor to predict the class of hyperuniofrmity"
   ]
  },
  {
   "cell_type": "markdown",
   "id": "c5046bba",
   "metadata": {},
   "source": [
    "## Test of effective Hyperuniformity "
   ]
  },
  {
   "cell_type": "code",
   "execution_count": null,
   "id": "c78dbd68",
   "metadata": {},
   "outputs": [],
   "source": [
    "from structure_factor.hyperuniformity import Hyperuniformity\n",
    "hyperuniformity_test = Hyperuniformity(k, si)\n",
    "hyperuniformity_test.bin_data(bins=60)\n"
   ]
  },
  {
   "cell_type": "code",
   "execution_count": null,
   "id": "a6c0de28",
   "metadata": {},
   "outputs": [],
   "source": [
    "H_ginibre, std = hyperuniformity_test.effective_hyperuniformity(k_norm_stop=1)\n",
    "print(\"H_ginibre=\", H_ginibre)"
   ]
  },
  {
   "cell_type": "markdown",
   "id": "92e978fc",
   "metadata": {},
   "source": [
    "As $H <10^{-3}$ so the test success to predict the hyperuniformity of the Ginibre ensemble."
   ]
  },
  {
   "cell_type": "markdown",
   "id": "239fd3c8",
   "metadata": {},
   "source": [
    "The bellow plot show the fitted regression line used to find the H index "
   ]
  },
  {
   "cell_type": "code",
   "execution_count": null,
   "id": "72e18c61",
   "metadata": {},
   "outputs": [],
   "source": [
    "import matplotlib.pyplot as plt\n",
    "mean_k_norm = hyperuniformity_test.k_norm\n",
    "mean_sf = hyperuniformity_test.sf\n",
    "fitted_sf_line = hyperuniformity_test.fitted_line # fitted ligne to sf\n",
    "index_peak = hyperuniformity_test.i_first_peak # index of first peak of sf\n",
    "x = np.linspace(0, 5, 300)\n",
    "y = np.linspace(0,15, 500)\n",
    "fig=plt.figure(figsize=(10,6))\n",
    "plt.plot(mean_k_norm, mean_sf, 'b.', label=\"approx_sf\")\n",
    "plt.plot(mean_k_norm, mean_sf, 'b', label=\"approx_sf\")\n",
    "plt.plot(x, fitted_sf_line(x), 'r--', label= \"fitted line\")\n",
    "plt.plot(y, utils.structure_factor_ginibre(y), 'g', label=\"exact sf\")\n",
    "plt.plot(mean_k_norm[index_peak], mean_sf[index_peak], 'k*', label=\"first peak\")\n",
    "plt.legend()\n",
    "plt.xlabel('wavelength ($||\\mathbf{k}||$)')\n",
    "plt.ylabel('Structure factor ($\\mathsf{S}(\\mathbf{k})$)')\n",
    "plt.show()\n",
    "#fig.savefig(\"fitted_si_ginibre.pdf\", bbox_inches=\"tight\")"
   ]
  },
  {
   "cell_type": "markdown",
   "id": "0cefe280",
   "metadata": {},
   "source": [
    "## Test the power decay of the structure factor"
   ]
  },
  {
   "cell_type": "code",
   "execution_count": null,
   "id": "206e6818",
   "metadata": {},
   "outputs": [],
   "source": [
    "hyperuniformity_test = Hyperuniformity(k, si)\n",
    "hyperuniformity_test.bin_data(bins=90)\n",
    "sf_power_decay, c = hyperuniformity_test.hyperuniformity_class(k_norm_stop=1)\n",
    "print(\"The estimated power of the decay to zero of the approximated structure factor is:\", sf_power_decay)"
   ]
  },
  {
   "cell_type": "markdown",
   "id": "acb13570",
   "metadata": {},
   "source": [
    "As we know the power decay associated with the Ginibre ensemble is equal to 2, and the estimated value is  around 1.9.\n",
    "Thus `structure_factor` gave a good prediction of this power decay."
   ]
  },
  {
   "cell_type": "code",
   "execution_count": null,
   "id": "25353d03",
   "metadata": {},
   "outputs": [],
   "source": [
    "import matplotlib.pyplot as plt\n",
    "mean_k_norm = hyperuniformity_test.k_norm\n",
    "mean_sf = hyperuniformity_test.sf\n",
    "fitted_poly = hyperuniformity_test.fitted_poly\n",
    "x = np.linspace(0, 2, 300)\n",
    "y = np.linspace(0,9, 500)\n",
    "fig=plt.figure(figsize=(10,6))\n",
    "plt.plot(mean_k_norm, mean_sf, 'b.', label=\"approx_sf\")\n",
    "plt.plot(mean_k_norm, mean_sf, 'b', label=\"approx_sf\")\n",
    "plt.plot(y, utils.structure_factor_ginibre(y), 'g', label=\"exact sf\")\n",
    "plt.plot(x, fitted_poly(x), 'r--', label= \"fitted line\")\n",
    "plt.legend()\n",
    "plt.xlabel('wavelength ($||\\mathbf{k}||$)')\n",
    "plt.ylabel('Structure factor ($\\mathsf{S}(\\mathbf{k})$)')\n",
    "plt.show()\n",
    "#fig.savefig(\"fitted_si_ginibre.pdf\", bbox_inches=\"tight\")"
   ]
  },
  {
   "cell_type": "code",
   "execution_count": null,
   "id": "d156b6cc",
   "metadata": {},
   "outputs": [],
   "source": []
  }
 ],
 "metadata": {
  "interpreter": {
   "hash": "55b4d108f296a679a2dff1927b0e4c2a151de922cfd09e10911d1814a00e3c5c"
  },
  "kernelspec": {
   "display_name": "Python 3",
   "language": "python",
   "name": "python3"
  },
  "language_info": {
   "codemirror_mode": {
    "name": "ipython",
    "version": 3
   },
   "file_extension": ".py",
   "mimetype": "text/x-python",
   "name": "python",
   "nbconvert_exporter": "python",
   "pygments_lexer": "ipython3",
   "version": "3.9.2"
  }
 },
 "nbformat": 4,
 "nbformat_minor": 5
}
