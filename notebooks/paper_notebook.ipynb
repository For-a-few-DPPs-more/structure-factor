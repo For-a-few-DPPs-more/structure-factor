{
 "cells": [
  {
   "cell_type": "code",
   "execution_count": null,
   "metadata": {},
   "outputs": [],
   "source": [
    "from IPython.core.display import display, HTML\n",
    "display(HTML(\"<style>.container { width:100% !important; }</style>\"))\n",
    "%load_ext autotime\n",
    "import os\n",
    "import sys\n",
    "sys.path.insert(0, os.path.abspath('../src/'))"
   ]
  },
  {
   "cell_type": "code",
   "execution_count": null,
   "metadata": {},
   "outputs": [],
   "source": [
    "import pickle\n",
    "path_data = \"../data\"\n",
    "with open(os.path.join(path_data, \"ginibre_pp.dat\"), \"rb\") as data:\n",
    "    ginibre_pp = pickle.load(data, encoding=\"bytes\")\n",
    "points = ginibre_pp[0].points"
   ]
  },
  {
   "cell_type": "code",
   "execution_count": null,
   "metadata": {},
   "outputs": [],
   "source": [
    "from hypton.point_pattern import PointPattern\n",
    "from hypton.spatial_windows import BallWindow\n",
    "import numpy as np\n",
    "R = 100  # radius of the disk containing \"points\"\n",
    "center = [0, 0]  # center of the disk containing \"points\"\n",
    "window = BallWindow(center, R)  # creating ball window\n",
    "intensity=1 / np.pi #intensity of Ginibre\n",
    "ginibre_pp = PointPattern(points, window, intensity)"
   ]
  },
  {
   "cell_type": "code",
   "execution_count": null,
   "metadata": {},
   "outputs": [],
   "source": [
    "ginibre_pp.dimension"
   ]
  },
  {
   "cell_type": "code",
   "execution_count": null,
   "metadata": {},
   "outputs": [],
   "source": [
    "from hypton.structure_factor import StructureFactor\n",
    "sf_ginibre = StructureFactor(ginibre_pp)"
   ]
  },
  {
   "cell_type": "code",
   "execution_count": null,
   "metadata": {},
   "outputs": [],
   "source": [
    "from hypton.spatial_windows import BoxWindow\n",
    "L = R/np.sqrt(2) #length side of the cube of restriction\n",
    "bounds = np.array([[-L/2, -L/2], [L/2, L/2]]) #bounds of the cube\n",
    "window = BoxWindow(bounds)\n",
    "ginibre_pp_box = ginibre_pp.restrict_to_window(window)\n",
    "sf_ginibre_box = StructureFactor(ginibre_pp_box)"
   ]
  },
  {
   "cell_type": "code",
   "execution_count": null,
   "metadata": {},
   "outputs": [],
   "source": [
    "norm_k, si = sf_ginibre_box.compute_sf_scattering_intensity(\n",
    "                                    max_k=10, meshgrid_size=300)\n",
    "\n"
   ]
  },
  {
   "cell_type": "code",
   "execution_count": null,
   "metadata": {},
   "outputs": [],
   "source": [
    "exact_sf_ginibre = lambda x : 1 - np.exp(-x**2/4) #exact sf\n",
    "fig = sf_ginibre_box.plot_scattering_intensity(norm_k, si, plot_type=\"all\",\n",
    "                                            exact_sf=exact_sf_ginibre,\n",
    "                                            bins=60, error_bar=True,\n",
    "                                            file_name=\"si_ginibre.pdf\")"
   ]
  },
  {
   "cell_type": "code",
   "execution_count": null,
   "metadata": {},
   "outputs": [],
   "source": [
    "r= np.linspace(0, 30, 500)\n",
    "pcf_ppp = sf_ginibre.compute_pcf(method=\"ppp\", r=r,\n",
    "                                        correction=\"all\")\n",
    "pcf_ppp"
   ]
  },
  {
   "cell_type": "code",
   "execution_count": null,
   "metadata": {},
   "outputs": [],
   "source": [
    "exact_pcf_ginibre = lambda x : 1 - np.exp(-x**2) #exact pcf\n",
    "fig = sf_ginibre.plot_pcf(pcf_ppp, exact_pcf=exact_pcf_ginibre,\n",
    "                    file_name=\"pcf_ppp_ginibre.pdf\",\n",
    "                    figsize=(10,6))"
   ]
  },
  {
   "cell_type": "code",
   "execution_count": null,
   "metadata": {},
   "outputs": [],
   "source": [
    "pcf_fv = sf_ginibre.compute_pcf(method=\"fv\", Kest=dict(rmax=30),\n",
    "                                        fv=dict(method=\"b\", spar=0.1))\n",
    "pcf_fv"
   ]
  },
  {
   "cell_type": "code",
   "execution_count": null,
   "metadata": {},
   "outputs": [],
   "source": [
    "fig = sf_ginibre.plot_pcf(pcf_fv, exact_pcf=exact_pcf_ginibre,\n",
    "                    file_name=\"pcf_fv_ginibre.pdf\",\n",
    "                    figsize=(10,6))"
   ]
  },
  {
   "cell_type": "code",
   "execution_count": null,
   "metadata": {},
   "outputs": [],
   "source": [
    "domain, pcf_fv_func = sf_ginibre.interpolate_pcf(\n",
    "        r=pcf_fv[\"r\"], pcf_r=pcf_fv[\"pcf\"], clean=True)"
   ]
  },
  {
   "cell_type": "code",
   "execution_count": null,
   "metadata": {},
   "outputs": [],
   "source": [
    "rmax = domain[\"rmax\"]\n",
    "norm_k = np.linspace(2,10, 1000)\n",
    "norm_k, sf_Ogata = sf_ginibre.compute_sf_hankel_quadrature(pcf_fv_func,\n",
    "                                                        norm_k=norm_k, \n",
    "                                                        step_size=0.1,\n",
    "                                                        nb_points=1000,\n",
    "                                                        rmax=rmax)\n",
    "norm_k_min = sf_ginibre.norm_k_min\n",
    "print(\"norm_k_min=\", norm_k_min)"
   ]
  },
  {
   "cell_type": "code",
   "execution_count": null,
   "metadata": {},
   "outputs": [],
   "source": [
    "fig = sf_ginibre.plot_sf_hankel_quadrature(norm_k, sf_Ogata, error_bar=True,\n",
    "                             norm_k_min=norm_k_min, bins=45,\n",
    "                             exact_sf=exact_sf_ginibre,\n",
    "                             file_name=\"sf_ginibre_Ogata.pdf\")"
   ]
  },
  {
   "cell_type": "code",
   "execution_count": null,
   "metadata": {},
   "outputs": [],
   "source": [
    "rmax = domain[\"rmax\"]\n",
    "norm_k, sf_BadChou = sf_ginibre.compute_sf_hankel_quadrature(pcf_fv_func, \n",
    "                                                            method =\"BaddourChouinard\",\n",
    "                                                            rmax=rmax, \n",
    "                                                            nb_points=1000)\n",
    "\n",
    "fig = sf_ginibre.plot_sf_hankel_quadrature(norm_k, sf_BadChou,\n",
    "                                    exact_sf=exact_sf_ginibre, file_name=\"sf_baddchou.pdf\")"
   ]
  },
  {
   "cell_type": "code",
   "execution_count": null,
   "metadata": {},
   "outputs": [],
   "source": [
    "from hypton.effective_hyperuniform import EffectiveHyperuniform\n",
    "hyperuniformity_test = EffectiveHyperuniform(norm_k, si)\n",
    "mean_norm_k, mean_sf, std_sf = hyperuniformity_test.bin_data(bins=60)\n",
    "H_ginibre = hyperuniformity_test.index_H(mean_norm_k, mean_sf, i_max=9)\n",
    "print(\"H_ginibre=\", H_ginibre)\n",
    "fitted_sf_line = hyperuniformity_test.fitted_line # fittend ligne"
   ]
  },
  {
   "cell_type": "code",
   "execution_count": null,
   "metadata": {},
   "outputs": [],
   "source": [
    "import matplotlib.pyplot as plt\n",
    "x = np.linspace(0, 5, 300)\n",
    "fig=plt.figure(figsize=(10,6))\n",
    "plt.plot(mean_norm_k, mean_sf, 'b.', label=\"approx_sf\")\n",
    "plt.plot(x, fitted_sf_line(x), 'r--', label= \"fitted line\")\n",
    "plt.plot(mean_norm_k, exact_sf_ginibre(mean_norm_k), 'g', label=\"exact sf\")\n",
    "plt.legend()\n",
    "plt.xlabel('wavelength')\n",
    "plt.ylabel('sf')\n",
    "plt.show()\n",
    "fig.savefig(\"fitted_si_poisson.pdf\", bbox_inches=\"tight\")"
   ]
  },
  {
   "cell_type": "code",
   "execution_count": null,
   "metadata": {},
   "outputs": [],
   "source": [
    "norm_k.shape\n"
   ]
  },
  {
   "cell_type": "code",
   "execution_count": null,
   "metadata": {},
   "outputs": [],
   "source": [
    "f = np.polyfit(mean_norm_k, mean_sf, deg=1)"
   ]
  },
  {
   "cell_type": "code",
   "execution_count": null,
   "metadata": {},
   "outputs": [],
   "source": [
    "f"
   ]
  },
  {
   "cell_type": "code",
   "execution_count": null,
   "metadata": {},
   "outputs": [],
   "source": []
  }
 ],
 "metadata": {
  "kernelspec": {
   "display_name": "Python 3",
   "language": "python",
   "name": "python3"
  },
  "language_info": {
   "codemirror_mode": {
    "name": "ipython",
    "version": 3
   },
   "file_extension": ".py",
   "mimetype": "text/x-python",
   "name": "python",
   "nbconvert_exporter": "python",
   "pygments_lexer": "ipython3",
   "version": "3.8.5"
  }
 },
 "nbformat": 4,
 "nbformat_minor": 4
}
