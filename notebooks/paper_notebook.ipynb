{
 "cells": [
  {
   "cell_type": "code",
   "execution_count": null,
   "metadata": {},
   "outputs": [],
   "source": [
    "from IPython.core.display import display, HTML\n",
    "display(HTML(\"<style>.container { width:100% !important; }</style>\"))\n",
    "%load_ext autotime\n",
    "import os\n",
    "import sys\n",
    "sys.path.insert(0, os.path.abspath('../src/'))"
   ]
  },
  {
   "cell_type": "code",
   "execution_count": null,
   "metadata": {},
   "outputs": [],
   "source": [
    "import pickle\n",
    "path_data = \"../data\"\n",
    "with open(os.path.join(path_data, \"ginibre_pp.dat\"), \"rb\") as data:\n",
    "    ginibre_pp = pickle.load(data, encoding=\"bytes\")\n",
    "points = ginibre_pp[0].points"
   ]
  },
  {
   "cell_type": "markdown",
   "metadata": {},
   "source": [
    "## section 5.2"
   ]
  },
  {
   "cell_type": "code",
   "execution_count": null,
   "metadata": {},
   "outputs": [],
   "source": [
    "from hypton.point_pattern import PointPattern\n",
    "from hypton.spatial_windows import BallWindow\n",
    "import numpy as np\n",
    "R = 100  # radius of the disk containing \"points\"\n",
    "center = [0, 0]  # center of the disk containing \"points\"\n",
    "window = BallWindow(center, R)  # creating ball window\n",
    "intensity=1 / np.pi #intensity of Ginibre\n",
    "ginibre_pp = PointPattern(points, window, intensity)"
   ]
  },
  {
   "cell_type": "code",
   "execution_count": null,
   "metadata": {},
   "outputs": [],
   "source": [
    "ginibre_pp.plot()"
   ]
  },
  {
   "cell_type": "code",
   "execution_count": null,
   "metadata": {},
   "outputs": [],
   "source": [
    "from hypton.structure_factor import StructureFactor\n",
    "sf_ginibre = StructureFactor(ginibre_pp)"
   ]
  },
  {
   "cell_type": "markdown",
   "metadata": {},
   "source": [
    "## section 5.3"
   ]
  },
  {
   "cell_type": "code",
   "execution_count": null,
   "metadata": {},
   "outputs": [],
   "source": [
    "from hypton.spatial_windows import BoxWindow\n",
    "L = R/np.sqrt(2) #length side of the cube of restriction\n",
    "bounds = np.array([[-L/2, -L/2], [L/2, L/2]]) #bounds of the cube\n",
    "window = BoxWindow(bounds)\n",
    "ginibre_pp_box = ginibre_pp.restrict_to_window(window)\n",
    "sf_ginibre_box = StructureFactor(ginibre_pp_box)"
   ]
  },
  {
   "cell_type": "code",
   "execution_count": null,
   "metadata": {},
   "outputs": [],
   "source": [
    "norm_k, si = sf_ginibre_box.compute_sf_scattering_intensity(\n",
    "                                    max_k=10, meshgrid_size=300)\n",
    "\n"
   ]
  },
  {
   "cell_type": "code",
   "execution_count": null,
   "metadata": {},
   "outputs": [],
   "source": [
    "exact_sf_ginibre = lambda x : 1 - np.exp(-x**2/4) #exact sf\n",
    "fig = sf_ginibre_box.plot_scattering_intensity(norm_k, si, plot_type=\"all\",\n",
    "                                            exact_sf=exact_sf_ginibre,\n",
    "                                            bins=50, error_bar=True,\n",
    "                                            #file_name=\"si_ginibre.pdf\"\n",
    "                                              )"
   ]
  },
  {
   "cell_type": "code",
   "execution_count": null,
   "metadata": {},
   "outputs": [],
   "source": [
    "exact_sf_ginibre = lambda x : 1 - np.exp(-x**2/4) #exact sf\n",
    "fig = sf_ginibre_box.plot_scattering_intensity(norm_k, si, plot_type=\"plot\",\n",
    "                                            exact_sf=exact_sf_ginibre,\n",
    "                                            bins=100, error_bar=True,\n",
    "                                            #file_name=\"si_ginibre.pdf\"\n",
    "                                              )"
   ]
  },
  {
   "cell_type": "markdown",
   "metadata": {},
   "source": [
    "## section 5.6"
   ]
  },
  {
   "cell_type": "code",
   "execution_count": null,
   "metadata": {},
   "outputs": [],
   "source": [
    "from hypton.effective_hyperuniform import EffectiveHyperuniform\n",
    "hyperuniformity_test = EffectiveHyperuniform(norm_k, si)\n",
    "mean_norm_k, mean_sf, std_sf = hyperuniformity_test.bin_data(bins=100)\n",
    "H_ginibre = hyperuniformity_test.index_H(mean_norm_k, mean_sf, norm_k_stop=4)\n",
    "print(\"H_ginibre=\", H_ginibre)\n",
    "fitted_sf_line = hyperuniformity_test.fitted_line # fittend ligne\n",
    "index_peak = hyperuniformity_test.i_first_peak"
   ]
  },
  {
   "cell_type": "code",
   "execution_count": null,
   "metadata": {},
   "outputs": [],
   "source": [
    "import matplotlib.pyplot as plt\n",
    "x = np.linspace(0, 5, 300)\n",
    "y = np.linspace(0,15, 500)\n",
    "fig=plt.figure(figsize=(10,6))\n",
    "plt.plot(mean_norm_k, mean_sf, 'b.', label=\"approx_sf\")\n",
    "plt.plot(mean_norm_k, mean_sf, 'b', label=\"approx_sf\")\n",
    "plt.plot(x, fitted_sf_line(x), 'r--', label= \"fitted line\")\n",
    "plt.plot(y, exact_sf_ginibre(y), 'g', label=\"exact sf\")\n",
    "plt.plot(mean_norm_k[index_peak], mean_sf[index_peak], 'k*', label=\"first peak\")\n",
    "plt.legend()\n",
    "plt.xlabel('wavelength')\n",
    "plt.ylabel('sf')\n",
    "plt.show()\n",
    "fig.savefig(\"fitted_si_poisson.pdf\", bbox_inches=\"tight\")"
   ]
  },
  {
   "cell_type": "markdown",
   "metadata": {},
   "source": [
    "## section 5.4"
   ]
  },
  {
   "cell_type": "code",
   "execution_count": null,
   "metadata": {},
   "outputs": [],
   "source": [
    "r= np.linspace(0, 30, 500)\n",
    "pcf_ppp = sf_ginibre.compute_pcf(method=\"ppp\", r=r,\n",
    "                                        correction=\"all\")\n",
    "pcf_ppp"
   ]
  },
  {
   "cell_type": "code",
   "execution_count": null,
   "metadata": {},
   "outputs": [],
   "source": [
    "exact_pcf_ginibre = lambda x : 1 - np.exp(-x**2) #exact pcf\n",
    "fig = sf_ginibre.plot_pcf(pcf_ppp, exact_pcf=exact_pcf_ginibre,\n",
    "                    #file_name=\"pcf_ppp_ginibre.pdf\",\n",
    "                    figsize=(10,6))"
   ]
  },
  {
   "cell_type": "code",
   "execution_count": null,
   "metadata": {},
   "outputs": [],
   "source": [
    "pcf_fv = sf_ginibre.compute_pcf(method=\"fv\", Kest=dict(rmax=30),\n",
    "                                        fv=dict(method=\"b\", spar=0.1))\n",
    "pcf_fv"
   ]
  },
  {
   "cell_type": "code",
   "execution_count": null,
   "metadata": {},
   "outputs": [],
   "source": [
    "fig = sf_ginibre.plot_pcf(pcf_fv, exact_pcf=exact_pcf_ginibre,\n",
    "                    #file_name=\"pcf_fv_ginibre.pdf\",\n",
    "                    figsize=(10,6))"
   ]
  },
  {
   "cell_type": "markdown",
   "metadata": {},
   "source": [
    "## section 5.5"
   ]
  },
  {
   "cell_type": "code",
   "execution_count": null,
   "metadata": {},
   "outputs": [],
   "source": [
    "domain, pcf_fv_func = sf_ginibre.interpolate_pcf(\n",
    "        r=pcf_fv[\"r\"], pcf_r=pcf_fv[\"pcf\"], clean=True)"
   ]
  },
  {
   "cell_type": "code",
   "execution_count": null,
   "metadata": {},
   "outputs": [],
   "source": [
    "rmax = domain[\"rmax\"]\n",
    "norm_k = np.linspace(2,10, 1000)\n",
    "norm_k, sf_Ogata = sf_ginibre.compute_sf_hankel_quadrature(pcf_fv_func,\n",
    "                                                        norm_k=norm_k, \n",
    "                                                        step_size=0.1,\n",
    "                                                        nb_points=1000,\n",
    "                                                        rmax=rmax)\n",
    "norm_k_min = sf_ginibre.norm_k_min\n",
    "print(\"norm_k_min=\", norm_k_min)"
   ]
  },
  {
   "cell_type": "code",
   "execution_count": null,
   "metadata": {
    "scrolled": false
   },
   "outputs": [],
   "source": [
    "fig = sf_ginibre.plot_sf_hankel_quadrature(norm_k, sf_Ogata, error_bar=True,\n",
    "                             norm_k_min=norm_k_min, bins=45,\n",
    "                             exact_sf=exact_sf_ginibre,\n",
    "                             #file_name=\"sf_ginibre_Ogata.pdf\"\n",
    "                                          )"
   ]
  },
  {
   "cell_type": "code",
   "execution_count": null,
   "metadata": {},
   "outputs": [],
   "source": [
    "rmax = domain[\"rmax\"]\n",
    "norm_k = np.linspace(0.3,10, 1000)\n",
    "norm_k, sf_BadChou = sf_ginibre.compute_sf_hankel_quadrature(pcf_fv_func, \n",
    "                                                            method =\"BaddourChouinard\",\n",
    "                                                            norm_k=norm_k,\n",
    "                                                            rmax=rmax, \n",
    "                                                            nb_points=1000)\n",
    "\n",
    "fig = sf_ginibre.plot_sf_hankel_quadrature(norm_k, sf_BadChou,\n",
    "                                    exact_sf=exact_sf_ginibre, \n",
    "                                           #file_name=\"sf_baddchou.pdf\",\n",
    "                                          error_bar=True,\n",
    "                                          bins=50)"
   ]
  },
  {
   "cell_type": "code",
   "execution_count": null,
   "metadata": {},
   "outputs": [],
   "source": [
    "norm_k_, sf_BadChou_ = sf_ginibre.compute_sf_hankel_quadrature(pcf_fv_func, \n",
    "                                                            method =\"BaddourChouinard\",\n",
    "                                                            rmax=rmax, \n",
    "                                                            nb_points=1000)\n",
    "\n",
    "fig = sf_ginibre.plot_sf_hankel_quadrature(norm_k_, sf_BadChou_,\n",
    "                                            exact_sf=exact_sf_ginibre, \n",
    "                                           #file_name=\"sf_baddchou.pdf\",\n",
    "                                          error_bar=True,\n",
    "                                          bins=50)"
   ]
  },
  {
   "cell_type": "code",
   "execution_count": null,
   "metadata": {},
   "outputs": [],
   "source": [
    "np.min(norm_k_)"
   ]
  },
  {
   "cell_type": "markdown",
   "metadata": {},
   "source": [
    "## section 6.1"
   ]
  },
  {
   "cell_type": "code",
   "execution_count": null,
   "metadata": {},
   "outputs": [],
   "source": [
    "norm_k = np.linspace(0.5,10, 1000)\n",
    "r = pcf_fv[\"r\"]\n",
    "pcf_r = exact_pcf_ginibre(r)\n",
    "domain, pcf_func = sf_ginibre.interpolate_pcf(r=r, pcf_r=pcf_r, clean=True) #interpolation\n",
    "rmax = domain[\"rmax\"]\n",
    "norm_k, sf_Ogata = sf_ginibre.compute_sf_hankel_quadrature(pcf_func, norm_k=norm_k,\n",
    "                                                rmax=rmax,\n",
    "                                                step_size=0.01,\n",
    "                                                nb_points=1000) \n",
    "\n",
    "fig = sf_ginibre.plot_sf_hankel_quadrature(norm_k, sf_Ogata, \n",
    "                             exact_sf=exact_sf_ginibre, \n",
    "                             file_name=\"sf_ogata_from_exact.pdf\")\n"
   ]
  },
  {
   "cell_type": "code",
   "execution_count": null,
   "metadata": {},
   "outputs": [],
   "source": [
    "norm_k, sf_BaddChou = sf_ginibre.compute_sf_hankel_quadrature(pcf_func, \n",
    "                                            method=\"BaddourChouinard\",\n",
    "                                            rmax=rmax, \n",
    "                                            nb_points=800) \n",
    "\n",
    "fig = sf_ginibre.plot_sf_hankel_quadrature(norm_k, sf_BaddChou, exact_sf=exact_sf_ginibre, file_name=\"sf_baddchou_from_exact.pdf\")"
   ]
  },
  {
   "cell_type": "markdown",
   "metadata": {},
   "source": [
    "## section 6.3"
   ]
  },
  {
   "cell_type": "markdown",
   "metadata": {},
   "source": [
    "### poisson point process"
   ]
  },
  {
   "cell_type": "code",
   "execution_count": null,
   "metadata": {},
   "outputs": [],
   "source": [
    "with open(os.path.join(path_data, \"poisson_pp.dat\"), \"rb\") as data:\n",
    "    poisson_pp = pickle.load(data, encoding=\"bytes\")\n",
    "poisson_pp = poisson_pp[0]\n",
    "sf_poisson = StructureFactor(poisson_pp)"
   ]
  },
  {
   "cell_type": "code",
   "execution_count": null,
   "metadata": {},
   "outputs": [],
   "source": [
    "norm_k, si = sf_poisson.compute_sf_scattering_intensity(max_k=10, meshgrid_size=90)"
   ]
  },
  {
   "cell_type": "code",
   "execution_count": null,
   "metadata": {
    "scrolled": true
   },
   "outputs": [],
   "source": [
    "L=160\n",
    "bounds = np.array([[-L/2, -L/2], [L/2, L/2]]) #bounds of the cube\n",
    "window_res = BoxWindow(bounds)\n",
    "fig = sf_poisson.plot_scattering_intensity(norm_k, si, plot_type=\"all\",\n",
    "                                            bins=60, error_bar=True,\n",
    "                                            file_name=\"si_poisson.pdf\", window_res=window_res)"
   ]
  },
  {
   "cell_type": "markdown",
   "metadata": {},
   "source": []
  },
  {
   "cell_type": "code",
   "execution_count": null,
   "metadata": {},
   "outputs": [],
   "source": [
    "from hypton.effective_hyperuniform import EffectiveHyperuniform\n",
    "hyperuniformity_test = EffectiveHyperuniform(norm_k, si)\n",
    "mean_norm_k, mean_sf, std_sf = hyperuniformity_test.bin_data(bins=60)\n",
    "H_poisson = hyperuniformity_test.index_H(mean_norm_k, mean_sf, norm_k_stop=16)\n",
    "print(\"H_poisson=\", H_poisson)\n",
    "fitted_sf_line = hyperuniformity_test.fitted_line # fittend ligne"
   ]
  },
  {
   "cell_type": "code",
   "execution_count": null,
   "metadata": {
    "scrolled": true
   },
   "outputs": [],
   "source": [
    "import matplotlib.pyplot as plt\n",
    "x = np.linspace(0, 15, 300)\n",
    "fig=plt.figure(figsize=(10,6))\n",
    "plt.plot(mean_norm_k, mean_sf, 'b.', label=\"approx_sf\")\n",
    "plt.plot(x, fitted_sf_line(x), 'r--', label= \"fitted line\")\n",
    "plt.legend()\n",
    "plt.xlabel('wavelength')\n",
    "plt.ylabel('sf')\n",
    "plt.show()\n",
    "fig.savefig(\"fitted_si_poisson.pdf\", bbox_inches=\"tight\")"
   ]
  },
  {
   "cell_type": "code",
   "execution_count": null,
   "metadata": {},
   "outputs": [],
   "source": [
    "pcf_fv = sf_poisson.compute_pcf(method=\"fv\", Kest=dict(rmax=100),\n",
    "                                        fv=dict(method=\"b\", spar=0.1))\n",
    "pcf_fv"
   ]
  },
  {
   "cell_type": "code",
   "execution_count": null,
   "metadata": {},
   "outputs": [],
   "source": [
    "domain, pcf_fv_func = sf_poisson.interpolate_pcf(r=pcf_fv[\"r\"], pcf_r=pcf_fv[\"pcf\"], clean=True)\n",
    "rmax = domain[\"rmax\"]\n",
    "norm_k = np.linspace(2,30, 1000)\n",
    "norm_k, sf_Ogata = sf_poisson.compute_sf_hankel_quadrature(pcf_fv_func,\n",
    "                                                        norm_k=norm_k, \n",
    "                                                        step_size=0.01,\n",
    "                                                        nb_points=1000,\n",
    "                                                        rmax=rmax)\n",
    "norm_k_min = sf_poisson.norm_k_min\n",
    "print(\"norm_k_min=\", norm_k_min)\n",
    "fig = sf_poisson.plot_sf_hankel_quadrature(norm_k, sf_Ogata, error_bar=True,\n",
    "                             norm_k_min=norm_k_min, bins=80,\n",
    "                             file_name=\"sf_poisson_Ogata.pdf\")"
   ]
  },
  {
   "cell_type": "code",
   "execution_count": null,
   "metadata": {},
   "outputs": [],
   "source": [
    "from hypton.effective_hyperuniform import EffectiveHyperuniform\n",
    "hyperuniformity_test = EffectiveHyperuniform(norm_k, sf_Ogata)\n",
    "mean_norm_k, mean_sf, std_sf = hyperuniformity_test.bin_data(bins=60)\n",
    "H_poisson = hyperuniformity_test.index_H(mean_norm_k, mean_sf, norm_k_stop=25)\n",
    "print(\"H_poisson=\", H_poisson)\n",
    "fitted_sf_line = hyperuniformity_test.fitted_line # fittend ligne\n",
    "fig=plt.figure(figsize=(10,6))\n",
    "x = np.linspace(0, 30, 300)\n",
    "plt.plot(mean_norm_k, mean_sf, 'b.', label=\"approx_sf\")\n",
    "plt.plot(x, fitted_sf_line(x), 'r--', label= \"fitted line\")\n",
    "plt.legend()\n",
    "plt.xlabel('wavelength')\n",
    "plt.ylabel('sf')\n",
    "plt.show()\n",
    "fig.savefig(\"fitted_sf_ogata_poisson.pdf\", bbox_inches=\"tight\")"
   ]
  },
  {
   "cell_type": "code",
   "execution_count": null,
   "metadata": {},
   "outputs": [],
   "source": [
    "domain, pcf_fv_func = sf_poisson.interpolate_pcf(r=pcf_fv[\"r\"], pcf_r=pcf_fv[\"pcf\"], clean=True)\n",
    "rmax = domain[\"rmax\"]\n",
    "norm_k = np.linspace(2,30, 1000)\n",
    "norm_k, sf_BadChoui = sf_poisson.compute_sf_hankel_quadrature(pcf_fv_func, method=\"BaddourChouinard\", norm_k=norm_k,\n",
    "                                                        nb_points=1000,\n",
    "                                                        rmax=rmax)\n",
    "\n",
    "fig = sf_poisson.plot_sf_hankel_quadrature(norm_k, sf_BadChoui , error_bar=True, bins=20,\n",
    "                             file_name=\"sf_poisson_badchou.pdf\")"
   ]
  },
  {
   "cell_type": "code",
   "execution_count": null,
   "metadata": {},
   "outputs": [],
   "source": [
    "import matplotlib.pyplot as plt\n",
    "from hypton.effective_hyperuniform import EffectiveHyperuniform\n",
    "hyperuniformity_test = EffectiveHyperuniform(norm_k, sf_BadChoui)\n",
    "mean_norm_k, mean_sf, std_sf = hyperuniformity_test.bin_data(bins=60)\n",
    "H_poisson = hyperuniformity_test.index_H(mean_norm_k, mean_sf, norm_k_stop=25)\n",
    "print(\"H_poisson=\", H_poisson)\n",
    "fitted_sf_line = hyperuniformity_test.fitted_line # fittend ligne\n",
    "fig=plt.figure(figsize=(10,6))\n",
    "x = np.linspace(0, 30, 300)\n",
    "plt.plot(mean_norm_k, mean_sf, 'b.', label=\"approx_sf\")\n",
    "plt.plot(x, fitted_sf_line(x), 'r--', label= \"fitted line\")\n",
    "plt.legend()\n",
    "plt.xlabel('wavelength')\n",
    "plt.ylabel('sf')\n",
    "plt.show()\n",
    "fig.savefig(\"fitted_sf_baddour_poisson.pdf\", bbox_inches=\"tight\")"
   ]
  },
  {
   "cell_type": "markdown",
   "metadata": {},
   "source": [
    "### kly point process"
   ]
  },
  {
   "cell_type": "code",
   "execution_count": null,
   "metadata": {},
   "outputs": [],
   "source": [
    "with open(os.path.join(path_data, \"kly_pp.dat\"), \"rb\") as data:\n",
    "    kly_pp = pickle.load(data, encoding=\"bytes\")\n",
    "kly_pp = kly_pp[0]\n",
    "sf_kly = StructureFactor(kly_pp)\n",
    "norm_k, si = sf_kly.compute_sf_scattering_intensity(max_k=20, meshgrid_size=90)"
   ]
  },
  {
   "cell_type": "code",
   "execution_count": null,
   "metadata": {},
   "outputs": [],
   "source": [
    "L=120\n",
    "bounds = np.array([[0, 0], [L, L]]) #bounds of the cube\n",
    "window_res = BoxWindow(bounds)\n",
    "fig = sf_kly.plot_scattering_intensity(norm_k, si, plot_type=\"all\",\n",
    "                                      bins=60, error_bar=True,\n",
    "                                      file_name=\"si_kly.pdf\",\n",
    "                                      window_res=window_res)"
   ]
  },
  {
   "cell_type": "code",
   "execution_count": null,
   "metadata": {},
   "outputs": [],
   "source": [
    "hyperuniformity_test = EffectiveHyperuniform(norm_k, si)\n",
    "mean_norm_k, mean_sf, std_sf = hyperuniformity_test.bin_data(bins=40)\n",
    "H_kly = hyperuniformity_test.index_H(mean_norm_k, mean_sf, norm_k_stop=2)\n",
    "print(\"H_kly=\", H_kly)\n",
    "fitted_sf_line = hyperuniformity_test.fitted_line # fittend ligne\n",
    "x = np.linspace(0, 15, 300)\n",
    "fig=plt.figure(figsize=(10,6))\n",
    "plt.plot(mean_norm_k, mean_sf, 'b.', label=\"approx_sf\")\n",
    "plt.plot(x, fitted_sf_line(x), 'r--', label= \"fitted line\")\n",
    "plt.legend()\n",
    "plt.xlabel('wavelength')\n",
    "plt.ylabel('sf')\n",
    "plt.show()\n",
    "fig.savefig(\"fitted_si_kly.pdf\", bbox_inches=\"tight\")"
   ]
  },
  {
   "cell_type": "code",
   "execution_count": null,
   "metadata": {},
   "outputs": [],
   "source": [
    "pcf_fv = sf_kly.compute_pcf(method=\"fv\", Kest=dict(rmax=100),\n",
    "                                        fv=dict(method=\"b\", spar=0.1))\n",
    "pcf_fv"
   ]
  },
  {
   "cell_type": "code",
   "execution_count": null,
   "metadata": {},
   "outputs": [],
   "source": [
    "domain, pcf_fv_func = sf_kly.interpolate_pcf(r=pcf_fv[\"r\"], pcf_r=pcf_fv[\"pcf\"], clean=True)\n",
    "rmax = domain[\"rmax\"]\n",
    "norm_k = np.linspace(2,30, 1000)\n",
    "norm_k, sf_Ogata = sf_kly.compute_sf_hankel_quadrature(pcf_fv_func,\n",
    "                                                        norm_k=norm_k, \n",
    "                                                        step_size=0.05,\n",
    "                                                        nb_points=1000,\n",
    "                                                        rmax=rmax)\n",
    "norm_k_min = sf_kly.norm_k_min\n",
    "print(\"norm_k_min=\", norm_k_min)\n",
    "fig = sf_kly.plot_sf_hankel_quadrature(norm_k, sf_Ogata, error_bar=True,\n",
    "                             norm_k_min=norm_k_min, bins=80,\n",
    "                             file_name=\"sf_poisson_Ogata.pdf\")"
   ]
  },
  {
   "cell_type": "code",
   "execution_count": null,
   "metadata": {},
   "outputs": [],
   "source": [
    "hyperuniformity_test = EffectiveHyperuniform(norm_k, sf_Ogata)\n",
    "mean_norm_k, mean_sf, std_sf = hyperuniformity_test.bin_data(bins=60)\n",
    "H_poisson = hyperuniformity_test.index_H(mean_norm_k, mean_sf, norm_k_stop=5)\n",
    "print(\"H_poisson=\", H_poisson)\n",
    "fitted_sf_line = hyperuniformity_test.fitted_line # fittend ligne\n",
    "fig=plt.figure(figsize=(10,6))\n",
    "x = np.linspace(0, 30, 300)\n",
    "plt.plot(mean_norm_k, mean_sf, 'b.', label=\"approx_sf\")\n",
    "plt.plot(x, fitted_sf_line(x), 'r--', label= \"fitted line\")\n",
    "plt.legend()\n",
    "plt.xlabel('wavelength')\n",
    "plt.ylabel('sf')\n",
    "plt.show()\n",
    "fig.savefig(\"fitted_sf_ogata_poisson.pdf\", bbox_inches=\"tight\")"
   ]
  },
  {
   "cell_type": "code",
   "execution_count": null,
   "metadata": {},
   "outputs": [],
   "source": [
    "domain, pcf_fv_func = sf_poisson.interpolate_pcf(r=pcf_fv[\"r\"], pcf_r=pcf_fv[\"pcf\"], clean=True)\n",
    "rmax = domain[\"rmax\"]\n",
    "norm_k = np.linspace(2,30, 1000)\n",
    "norm_k, sf_BadChoui = sf_kly.compute_sf_hankel_quadrature(pcf_fv_func, method=\"BaddourChouinard\", norm_k=norm_k,\n",
    "                                                        nb_points=1000,\n",
    "                                                        rmax=rmax)\n",
    "\n",
    "fig = sf_kly.plot_sf_hankel_quadrature(norm_k, sf_BadChoui,\n",
    "                             file_name=\"sf_kly_badchou.pdf\")"
   ]
  },
  {
   "cell_type": "code",
   "execution_count": null,
   "metadata": {},
   "outputs": [],
   "source": [
    "hyperuniformity_test = EffectiveHyperuniform(norm_k, sf_BadChoui)\n",
    "mean_norm_k, mean_sf, std_sf = hyperuniformity_test.bin_data(bins=100)\n",
    "H_kly = hyperuniformity_test.index_H(mean_norm_k, mean_sf, norm_k_stop=4)\n",
    "print(\"H_kly=\", H_kly)\n",
    "fitted_sf_line = hyperuniformity_test.fitted_line # fittend ligne\n",
    "fig=plt.figure(figsize=(10,6))\n",
    "x = np.linspace(0, 30, 300)\n",
    "plt.plot(mean_norm_k, mean_sf, 'b.', label=\"approx_sf\")\n",
    "plt.plot(x, fitted_sf_line(x), 'r--', label= \"fitted line\")\n",
    "plt.legend()\n",
    "plt.xlabel('wavelength')\n",
    "plt.ylabel('sf')\n",
    "plt.show()\n",
    "fig.savefig(\"fitted_sf_ogata_poisson.pdf\", bbox_inches=\"tight\")"
   ]
  },
  {
   "cell_type": "code",
   "execution_count": null,
   "metadata": {},
   "outputs": [],
   "source": []
  }
 ],
 "metadata": {
  "kernelspec": {
   "display_name": "Python 3",
   "language": "python",
   "name": "python3"
  },
  "language_info": {
   "codemirror_mode": {
    "name": "ipython",
    "version": 3
   },
   "file_extension": ".py",
   "mimetype": "text/x-python",
   "name": "python",
   "nbconvert_exporter": "python",
   "pygments_lexer": "ipython3",
   "version": "3.8.5"
  }
 },
 "nbformat": 4,
 "nbformat_minor": 4
}
