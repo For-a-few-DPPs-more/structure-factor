{
 "cells": [
  {
   "cell_type": "code",
   "execution_count": null,
   "metadata": {},
   "outputs": [],
   "source": [
    "from IPython.core.display import display, HTML\n",
    "display(HTML(\"<style>.container { width:100% !important; }</style>\"))\n",
    "%load_ext autotime\n",
    "%load_ext autoreload\n",
    "%autoreload 2\n",
    "import os\n",
    "import sys\n",
    "sys.path.insert(0, os.path.abspath('../src/'))"
   ]
  },
  {
   "cell_type": "code",
   "execution_count": null,
   "metadata": {},
   "outputs": [],
   "source": [
    "#loading data\n",
    "import pickle\n",
    "path_data = \"../data\"\n",
    "with open(os.path.join(path_data, \"ginibre_pp.dat\"), \"rb\") as data:\n",
    "    ginibre_pp = pickle.load(data, encoding=\"bytes\")\n",
    "points = ginibre_pp[0].points #ginibre point configuration"
   ]
  },
  {
   "cell_type": "markdown",
   "metadata": {},
   "source": [
    "# Section 5.2"
   ]
  },
  {
   "cell_type": "markdown",
   "metadata": {},
   "source": [
    "## The Class StructureFactor of hypton take as iunput an object of type PointPattern\n",
    "In the follwing we transform to Ginibre point configuration points to an object of type PointPattern containing the points, the support window and the intensity if known \n",
    "(otherwise it will be approximated by the number average)"
   ]
  },
  {
   "cell_type": "code",
   "execution_count": null,
   "metadata": {},
   "outputs": [],
   "source": [
    "from hypton.point_pattern import PointPattern\n",
    "from hypton.spatial_windows import BallWindow\n",
    "import numpy as np\n",
    "R = 100  # radius of the disk containing \"points\"\n",
    "center = [0, 0]  # center of the disk containing \"points\"\n",
    "window = BallWindow(center, R)  # creating ball window\n",
    "intensity=1 / np.pi #intensity of Ginibre\n",
    "ginibre_pp = PointPattern(points, window, intensity) #ginibre point pattern "
   ]
  },
  {
   "cell_type": "code",
   "execution_count": null,
   "metadata": {},
   "outputs": [],
   "source": [
    "ginibre_pp.plot() #plot of the ginibre point pattern "
   ]
  },
  {
   "cell_type": "markdown",
   "metadata": {},
   "source": [
    "Initialize the StructureFactor class"
   ]
  },
  {
   "cell_type": "code",
   "execution_count": null,
   "metadata": {},
   "outputs": [],
   "source": [
    "from hypton.structure_factor import StructureFactor\n",
    "sf_ginibre = StructureFactor(ginibre_pp) "
   ]
  },
  {
   "cell_type": "markdown",
   "metadata": {},
   "source": [
    "# Section 5.3\n"
   ]
  },
  {
   "cell_type": "markdown",
   "metadata": {},
   "source": [
    "Goal: find the scattering intensity of the Ginibre configuration.\n",
    "The structure factor is evaluated for a point configuratuion in a **cubic window**.\n",
    "Thus first we will project the Ginibre on a cubic window.\n"
   ]
  },
  {
   "cell_type": "code",
   "execution_count": null,
   "metadata": {
    "scrolled": true
   },
   "outputs": [],
   "source": [
    "from hypton.spatial_windows import BoxWindow\n",
    "L = R/np.sqrt(2) #length side of the cube of restriction\n",
    "print(L)\n",
    "bounds = np.array([[-L/2, -L/2], [L/2, L/2]]) #bounds of the cube\n",
    "window = BoxWindow(bounds) #cubic window\n",
    "ginibre_pp_box = ginibre_pp.restrict_to_window(window) #Ginibre point pattern with box window\n",
    "sf_ginibre_box = StructureFactor(ginibre_pp_box) #initializing StructureFactor for the ginibre in the cubic window\n",
    "ginibre_pp_box.plot()"
   ]
  },
  {
   "cell_type": "markdown",
   "metadata": {},
   "source": [
    "Find the scattering intensity of the point pattern ginibre_pp_box, on a mehsgrid of allowed wave values with maximun wavelength equal to 6, and meshgrid size equal 100"
   ]
  },
  {
   "cell_type": "code",
   "execution_count": null,
   "metadata": {},
   "outputs": [],
   "source": [
    "norm_k, si = sf_ginibre_box.compute_sf_scattering_intensity(\n",
    "                                    max_k=6, \n",
    "                                    meshgrid_size=100,\n",
    "                                    )\n"
   ]
  },
  {
   "cell_type": "code",
   "execution_count": null,
   "metadata": {},
   "outputs": [],
   "source": [
    "exact_sf_ginibre = lambda x : 1 - np.exp(-x**2/4) #exact structure factor of the Ginibre ensemble\n",
    "#plot the result of the previous cell\n",
    "fig = sf_ginibre_box.plot_scattering_intensity(norm_k, si, plot_type=\"all\",\n",
    "                                            exact_sf=exact_sf_ginibre,\n",
    "                                            bins=60, #bin number\n",
    "                                            error_bar=True, #visualizing the error bars\n",
    "                                            #file_name=\"si_ginibre.pdf\"\n",
    "                                              )"
   ]
  },
  {
   "cell_type": "code",
   "execution_count": null,
   "metadata": {},
   "outputs": [],
   "source": [
    "exact_sf_ginibre = lambda x : 1 - np.exp(-x**2/4) #exact sf\n",
    "fig = sf_ginibre_box.plot_scattering_intensity(norm_k, si, plot_type=\"plot\",\n",
    "                                            exact_sf=exact_sf_ginibre,\n",
    "                                            bins=80, error_bar=True,\n",
    "                                            #file_name=\"si_ginibre.pdf\"\n",
    "                                              )"
   ]
  },
  {
   "cell_type": "markdown",
   "metadata": {},
   "source": [
    "We remark that the blue line with is the means of the scattering intensity over bins, is a good approximation of the structure factor (green dots)."
   ]
  },
  {
   "cell_type": "markdown",
   "metadata": {},
   "source": [
    "The next example is the resulat of the scattering intensity for the Ginibre point configuration in a cubic evaluated on **non allowed wave vector**."
   ]
  },
  {
   "cell_type": "code",
   "execution_count": null,
   "metadata": {},
   "outputs": [],
   "source": [
    "# result with the choice of the wavevector\n",
    "x = np.linspace(-6, 6, 200)\n",
    "x = x[x != 0]\n",
    "X, Y = np.meshgrid(x, x)\n",
    "k_vector1 = [X,Y]\n",
    "norm_k1, si1 = sf_ginibre_box.compute_sf_scattering_intensity(\n",
    "                                    k_vector=k_vector1, \n",
    "                                    )"
   ]
  },
  {
   "cell_type": "code",
   "execution_count": null,
   "metadata": {},
   "outputs": [],
   "source": [
    "# plot the result of the previous cell\n",
    "fig = sf_ginibre_box.plot_scattering_intensity(norm_k1, si1, plot_type=\"all\",\n",
    "                                            exact_sf=exact_sf_ginibre,\n",
    "                                            bins=40, error_bar=True,\n",
    "                                            #file_name=\"si_ginibre.pdf\"\n",
    "                                              )"
   ]
  },
  {
   "cell_type": "markdown",
   "metadata": {},
   "source": [
    "In the above figure we can see the deviation of the scattering intensity from the struction factor for wavelength less then 1. \n",
    "This is due to the evalaution of the scattering intensity on non allowed values. for more details see ..."
   ]
  },
  {
   "cell_type": "markdown",
   "metadata": {},
   "source": [
    "Now we will visualize the resulat of the scattering intensity for the Ginibre point configuration in a ball window (**non cubic**)"
   ]
  },
  {
   "cell_type": "code",
   "execution_count": null,
   "metadata": {},
   "outputs": [],
   "source": [
    "# study with the ginibre in a ball\n",
    "from hypton import utils\n",
    "k_vector2 = utils.allowed_values(L=R, max_k=6, meshgrid_size=200)\n",
    "k_vector2 = [k_vector2[:,0], k_vector2[:,1]] #transforming k_vector to list\n",
    "norm_k2, si2 = sf_ginibre.compute_sf_scattering_intensity(\n",
    "                                    k_vector=k_vector2\n",
    "                                    )\n"
   ]
  },
  {
   "cell_type": "code",
   "execution_count": null,
   "metadata": {
    "scrolled": true
   },
   "outputs": [],
   "source": [
    "fig_3 = sf_ginibre.plot_scattering_intensity(norm_k2, si2, plot_type=\"plot\",\n",
    "                                            exact_sf=exact_sf_ginibre,\n",
    "                                            bins=50, error_bar=True,\n",
    "                                            #file_name=\"si_ginibre.pdf\"\n",
    "                                              )"
   ]
  },
  {
   "cell_type": "markdown",
   "metadata": {},
   "source": [
    "In the above figure we can see the deviation of the scattering intensity from the struction factor for wavelength less then 1. \n",
    "This is due to the evalaution of the scattering intensity on point lying in a non cubic window. for more details see ..."
   ]
  },
  {
   "cell_type": "markdown",
   "metadata": {},
   "source": [
    "Visualisiong all the results on the same figure"
   ]
  },
  {
   "cell_type": "code",
   "execution_count": null,
   "metadata": {},
   "outputs": [],
   "source": [
    "import matplotlib.pyplot as plt\n",
    "plt.figure(figsize=(10,6))\n",
    "plt.loglog(norm_k1.ravel(), si1.ravel(), color=\"grey\",linestyle=\"\", marker=\".\", label=\"all box window \")\n",
    "plt.loglog(norm_k.ravel(), si.ravel(), 'b.', label=\"allowed values\")\n",
    "plt.loglog(norm_k2.ravel(), si2.ravel(), 'g.', label=\"all ball window \")\n",
    "plt.loglog(norm_k.ravel(), exact_sf_ginibre(norm_k.ravel()), 'r', label=\"exact\")\n",
    "plt.legend()\n",
    "plt.title(\"SI ginibre\")\n",
    "plt.show()"
   ]
  },
  {
   "cell_type": "code",
   "execution_count": null,
   "metadata": {},
   "outputs": [],
   "source": [
    "import matplotlib.pyplot as plt\n",
    "plt.figure(figsize=(10,6))\n",
    "plt.plot(norm_k1.ravel(), si1.ravel(), color=\"grey\",linestyle=\"\", marker=\".\", label=\"all box window \")\n",
    "plt.plot(norm_k2.ravel(), si2.ravel(), 'g.', label=\"all ball window \")\n",
    "plt.plot(norm_k.ravel(), si.ravel(), 'b.', label=\"allowed values\")\n",
    "plt.plot(norm_k.ravel(), exact_sf_ginibre(norm_k.ravel()), 'r', label=\"exact\")\n",
    "plt.legend()\n",
    "plt.title(\"SI ginibre\")\n",
    "plt.show"
   ]
  },
  {
   "cell_type": "markdown",
   "metadata": {},
   "source": [
    "# section 5.6"
   ]
  },
  {
   "cell_type": "markdown",
   "metadata": {},
   "source": [
    "## Test of effective hyperuniformity"
   ]
  },
  {
   "cell_type": "code",
   "execution_count": null,
   "metadata": {},
   "outputs": [],
   "source": [
    "from hypton.effective_hyperuniform import EffectiveHyperuniform\n",
    "hyperuniformity_test = EffectiveHyperuniform(norm_k, si)\n",
    "mean_norm_k, mean_sf, std_sf = hyperuniformity_test.bin_data(bins=100)\n",
    "H_ginibre, std = hyperuniformity_test.index_H(mean_norm_k, mean_sf, std=std_sf, norm_k_stop=4)\n",
    "print(\"H_ginibre=\", H_ginibre)\n",
    "fitted_sf_line = hyperuniformity_test.fitted_line # fittend ligne\n",
    "index_peak = hyperuniformity_test.i_first_peak"
   ]
  },
  {
   "cell_type": "markdown",
   "metadata": {},
   "source": [
    "As $H <10^{-3}$ so the test success to predict the hyperuniformity of the Ginibre ensemble."
   ]
  },
  {
   "cell_type": "markdown",
   "metadata": {},
   "source": [
    "The bellow plot show the fitted regression line used to find the H index "
   ]
  },
  {
   "cell_type": "code",
   "execution_count": null,
   "metadata": {},
   "outputs": [],
   "source": [
    "import matplotlib.pyplot as plt\n",
    "x = np.linspace(0, 5, 300)\n",
    "y = np.linspace(0,15, 500)\n",
    "fig=plt.figure(figsize=(10,6))\n",
    "plt.plot(mean_norm_k, mean_sf, 'b.', label=\"approx_sf\")\n",
    "plt.plot(mean_norm_k, mean_sf, 'b', label=\"approx_sf\")\n",
    "plt.plot(x, fitted_sf_line(x), 'r--', label= \"fitted line\")\n",
    "plt.plot(y, exact_sf_ginibre(y), 'g', label=\"exact sf\")\n",
    "plt.plot(mean_norm_k[index_peak], mean_sf[index_peak], 'k*', label=\"first peak\")\n",
    "plt.legend()\n",
    "plt.xlabel('wavelength')\n",
    "plt.ylabel('sf')\n",
    "plt.show()\n",
    "fig.savefig(\"fitted_si_poisson.pdf\", bbox_inches=\"tight\")"
   ]
  },
  {
   "cell_type": "markdown",
   "metadata": {},
   "source": [
    "# Section 5.4"
   ]
  },
  {
   "cell_type": "markdown",
   "metadata": {},
   "source": [
    "In this section we will approximate the pair correlation function of the Ginibre ensemble using two methods: pcf.ppp and pcf.fv"
   ]
  },
  {
   "cell_type": "code",
   "execution_count": null,
   "metadata": {},
   "outputs": [],
   "source": [
    "r= np.linspace(0, 30, 500)\n",
    "pcf_ppp = sf_ginibre.compute_pcf(method=\"ppp\", r=r,\n",
    "                                        correction=\"all\")\n",
    "pcf_ppp"
   ]
  },
  {
   "cell_type": "code",
   "execution_count": null,
   "metadata": {},
   "outputs": [],
   "source": [
    "exact_pcf_ginibre = lambda x : 1 - np.exp(-x**2) # exact pcf of the Ginibre ensemble\n",
    "fig = sf_ginibre.plot_pcf(pcf_ppp, exact_pcf=exact_pcf_ginibre,\n",
    "                    #file_name=\"pcf_ppp_ginibre.pdf\",\n",
    "                    figsize=(10,6))"
   ]
  },
  {
   "cell_type": "code",
   "execution_count": null,
   "metadata": {},
   "outputs": [],
   "source": [
    "pcf_fv = sf_ginibre.compute_pcf(method=\"fv\", Kest=dict(rmax=45),\n",
    "                                        fv=dict(method=\"b\", spar=0.1))\n",
    "pcf_fv"
   ]
  },
  {
   "cell_type": "code",
   "execution_count": null,
   "metadata": {},
   "outputs": [],
   "source": [
    "fig = sf_ginibre.plot_pcf(pcf_fv, exact_pcf=exact_pcf_ginibre,\n",
    "                    #file_name=\"pcf_fv_ginibre.pdf\",\n",
    "                    figsize=(10,6))"
   ]
  },
  {
   "cell_type": "markdown",
   "metadata": {},
   "source": [
    "## section 5.5"
   ]
  },
  {
   "cell_type": "markdown",
   "metadata": {},
   "source": [
    "In this section we approximate the structure factor of the Ginibre ensemble using the Hankel transform approximated by Ogata quadrature\n",
    "and the Discret Hankel trabsform derived by Baddour and Chouinard.\n",
    "Before going through the approximation method, we interpolate the discrete sample of the approximated pcf."
   ]
  },
  {
   "cell_type": "code",
   "execution_count": null,
   "metadata": {},
   "outputs": [],
   "source": [
    "# interpolation of the approximated pair correlation function\n",
    "domain, pcf_fv_func = sf_ginibre.interpolate_pcf(\n",
    "        r=pcf_fv[\"r\"], pcf_r=pcf_fv[\"pcf\"], \n",
    "        clean=True # removing nan and inf \n",
    "        )"
   ]
  },
  {
   "cell_type": "code",
   "execution_count": null,
   "metadata": {},
   "outputs": [],
   "source": [
    "rmax = domain[\"rmax\"] # upper bound of the raduis on which the pcf has been approximated\n",
    "norm_k = np.linspace(1,10, 1000) # vector of wave length\n",
    "norm_k, sf_Ogata = sf_ginibre.compute_sf_hankel_quadrature(pcf_fv_func,\n",
    "                                                        norm_k=norm_k, \n",
    "                                                        step_size=0.1,\n",
    "                                                        nb_points=1000,\n",
    "                                                        rmax=rmax)\n",
    "norm_k_min = sf_ginibre.norm_k_min\n",
    "print(\"norm_k_min=\", norm_k_min)"
   ]
  },
  {
   "cell_type": "code",
   "execution_count": null,
   "metadata": {
    "scrolled": false
   },
   "outputs": [],
   "source": [
    "fig = sf_ginibre.plot_sf_hankel_quadrature(norm_k, sf_Ogata, error_bar=True,\n",
    "                             norm_k_min=norm_k_min, bins=50,\n",
    "                             exact_sf=exact_sf_ginibre,\n",
    "                             #file_name=\"sf_ginibre_Ogata.pdf\"\n",
    "                                          )"
   ]
  },
  {
   "cell_type": "code",
   "execution_count": null,
   "metadata": {},
   "outputs": [],
   "source": [
    "rmax = domain[\"rmax\"]\n",
    "norm_k = np.linspace(0.3,30, 2000)\n",
    "norm_k, sf_BadChou = sf_ginibre.compute_sf_hankel_quadrature(pcf_fv_func, \n",
    "                                                            method =\"BaddourChouinard\",\n",
    "                                                            norm_k=norm_k,\n",
    "                                                            rmax=rmax, \n",
    "                                                            nb_points=1000)\n",
    "\n",
    "fig = sf_ginibre.plot_sf_hankel_quadrature(norm_k, sf_BadChou,\n",
    "                                    exact_sf=exact_sf_ginibre, \n",
    "                                           #file_name=\"sf_baddchou.pdf\",\n",
    "                                          error_bar=True,\n",
    "                                          bins=100)"
   ]
  },
  {
   "cell_type": "code",
   "execution_count": null,
   "metadata": {},
   "outputs": [],
   "source": [
    "norm_k_, sf_BadChou_ = sf_ginibre.compute_sf_hankel_quadrature(pcf_fv_func, \n",
    "                                                            method =\"BaddourChouinard\",\n",
    "                                                            rmax=rmax, \n",
    "                                                            nb_points=1000)\n",
    "\n",
    "fig = sf_ginibre.plot_sf_hankel_quadrature(norm_k_, sf_BadChou_,\n",
    "                                            exact_sf=exact_sf_ginibre, \n",
    "                                           #file_name=\"sf_baddchou.pdf\",\n",
    "                                          error_bar=True,\n",
    "                                          bins=50)"
   ]
  },
  {
   "cell_type": "code",
   "execution_count": null,
   "metadata": {},
   "outputs": [],
   "source": [
    "np.min(norm_k_)"
   ]
  },
  {
   "cell_type": "markdown",
   "metadata": {},
   "source": [
    "## section 6.1"
   ]
  },
  {
   "cell_type": "markdown",
   "metadata": {},
   "source": [
    "In this section we repet the experiance of the previous section but with a sample from the exact pair correlation function instead of the approximated one.\n",
    "The goal is to see the influence of the error of approximating the pair correlation function on the result."
   ]
  },
  {
   "cell_type": "code",
   "execution_count": null,
   "metadata": {},
   "outputs": [],
   "source": [
    "# Method of Ogata:\n",
    "norm_k = np.linspace(0.5,10, 1000)\n",
    "r = pcf_fv[\"r\"]\n",
    "pcf_r = exact_pcf_ginibre(r)\n",
    "domain, pcf_func = sf_ginibre.interpolate_pcf(r=r, pcf_r=pcf_r, clean=True) #interpolation\n",
    "rmax = domain[\"rmax\"]\n",
    "norm_k, sf_Ogata = sf_ginibre.compute_sf_hankel_quadrature(pcf_func, norm_k=norm_k,\n",
    "                                                rmax=rmax,\n",
    "                                                step_size=0.01,\n",
    "                                                nb_points=1000) \n",
    "\n",
    "fig = sf_ginibre.plot_sf_hankel_quadrature(norm_k, sf_Ogata, \n",
    "                             exact_sf=exact_sf_ginibre, \n",
    "                             #file_name=\"sf_ogata_from_exact.pdf\"\n",
    "                                          )\n"
   ]
  },
  {
   "cell_type": "code",
   "execution_count": null,
   "metadata": {},
   "outputs": [],
   "source": [
    "# Method of Baddour and Chouinard\n",
    "norm_k, sf_BaddChou = sf_ginibre.compute_sf_hankel_quadrature(pcf_func, \n",
    "                                            method=\"BaddourChouinard\",\n",
    "                                            rmax=rmax, \n",
    "                                            nb_points=800) \n",
    "\n",
    "fig = sf_ginibre.plot_sf_hankel_quadrature(norm_k, sf_BaddChou, exact_sf=exact_sf_ginibre, \n",
    "                                           #file_name=\"sf_baddchou_from_exact.pdf\"\n",
    "                                          )"
   ]
  },
  {
   "cell_type": "markdown",
   "metadata": {},
   "source": [
    "We could deduce from the above figure that by minimizing the error of approximation of the pair correlation function we are able to approach the exact structure factor of the Ginibre ensemble.\n",
    "Moreover using the Discret Hankel transform we reach the exact values of the structure factor."
   ]
  },
  {
   "cell_type": "markdown",
   "metadata": {},
   "source": [
    "# Section 6.3"
   ]
  },
  {
   "cell_type": "markdown",
   "metadata": {},
   "source": [
    "In this section we repeat the previous experience on a point configuration from a standard homogeneous Poisson Point Process and KLY matching in a cubic window"
   ]
  },
  {
   "cell_type": "markdown",
   "metadata": {},
   "source": [
    "## Poisson point process"
   ]
  },
  {
   "cell_type": "markdown",
   "metadata": {},
   "source": [
    "In this section we repeat the previous experience on a point configuration from a standard homogeneous Poisson Point Process in a cubic window"
   ]
  },
  {
   "cell_type": "code",
   "execution_count": null,
   "metadata": {},
   "outputs": [],
   "source": [
    "# loading the point configuration as an object of type point pattern\n",
    "with open(os.path.join(path_data, \"poisson_pp.dat\"), \"rb\") as data:\n",
    "    poisson_pp = pickle.load(data, encoding=\"bytes\")\n",
    "poisson_pp = poisson_pp[0]\n",
    "sf_poisson = StructureFactor(poisson_pp) # initializing the StructureFactor class"
   ]
  },
  {
   "cell_type": "code",
   "execution_count": null,
   "metadata": {},
   "outputs": [],
   "source": [
    "poisson_pp.points.shape"
   ]
  },
  {
   "cell_type": "code",
   "execution_count": null,
   "metadata": {},
   "outputs": [],
   "source": [
    "# compute the scattering intensity on a meshgrid of allowed values\n",
    "norm_k, si = sf_poisson.compute_sf_scattering_intensity(max_k=10, meshgrid_size=90)"
   ]
  },
  {
   "cell_type": "markdown",
   "metadata": {},
   "source": [
    "As the point congfiguration contains more than $10^5$ points we restrict the plot of the configuration to a small window."
   ]
  },
  {
   "cell_type": "code",
   "execution_count": null,
   "metadata": {
    "scrolled": false
   },
   "outputs": [],
   "source": [
    "# visualizing the result\n",
    "L=160\n",
    "bounds = np.array([[-L/2, -L/2], [L/2, L/2]]) # bounds of the window \n",
    "window_res = BoxWindow(bounds) # window of visualization of the point config\n",
    "fig = sf_poisson.plot_scattering_intensity(norm_k, si, plot_type=\"all\",\n",
    "                                            bins=60, error_bar=True,\n",
    "                                            #file_name=\"si_poisson.pdf\", \n",
    "                                           window_res=window_res # restrict the plot of the point config to the window `window_res`\n",
    "                                          )"
   ]
  },
  {
   "cell_type": "markdown",
   "metadata": {},
   "source": [
    "We can deduce that also in this case the scattering intansity give a good approximation of the structure factor."
   ]
  },
  {
   "cell_type": "code",
   "execution_count": null,
   "metadata": {},
   "outputs": [],
   "source": [
    "# test of effective hyperuniformity\n",
    "from hypton.effective_hyperuniform import EffectiveHyperuniform\n",
    "hyperuniformity_test = EffectiveHyperuniform(norm_k, si)\n",
    "mean_norm_k, mean_sf, std_sf = hyperuniformity_test.bin_data(bins=60)\n",
    "H_poisson, std_H_poisson = hyperuniformity_test.index_H(mean_norm_k, mean_sf, norm_k_stop=16)\n",
    "print(\"H=\", H_poisson, \"std\", std_H_poisson)\n",
    "fitted_sf_line = hyperuniformity_test.fitted_line # fittend ligne"
   ]
  },
  {
   "cell_type": "markdown",
   "metadata": {},
   "source": [
    "Or $|H +/- std| > 10^{-3}$\n",
    "Thus H index succesflly predict that the Poisson Point process in not hyperuniform"
   ]
  },
  {
   "cell_type": "code",
   "execution_count": null,
   "metadata": {
    "scrolled": true
   },
   "outputs": [],
   "source": [
    "# plot fitted regression line used to find the H index\n",
    "import matplotlib.pyplot as plt\n",
    "x = np.linspace(0, 15, 300)\n",
    "fig=plt.figure(figsize=(8,5))\n",
    "plt.plot(mean_norm_k, mean_sf, 'b.', label=\"approx_sf\")\n",
    "plt.plot(x, fitted_sf_line(x), 'r--', label= \"fitted line\")\n",
    "plt.legend()\n",
    "plt.xlabel('wavelength')\n",
    "plt.ylabel('sf')\n",
    "plt.show()\n",
    "fig.savefig(\"fitted_si_poisson.pdf\", bbox_inches=\"tight\")"
   ]
  },
  {
   "cell_type": "code",
   "execution_count": null,
   "metadata": {},
   "outputs": [],
   "source": [
    "# approximating the pair correlation function\n",
    "pcf_fv = sf_poisson.compute_pcf(method=\"fv\", Kest=dict(rmax=100),\n",
    "                                        fv=dict(method=\"b\", spar=0.1))\n",
    "pcf_fv"
   ]
  },
  {
   "cell_type": "code",
   "execution_count": null,
   "metadata": {},
   "outputs": [],
   "source": [
    "# approximating the stracture factr using Ogata quadrature \n",
    "domain, pcf_fv_func = sf_poisson.interpolate_pcf(r=pcf_fv[\"r\"], pcf_r=pcf_fv[\"pcf\"], clean=True) # interpolation of pcf_fv\n",
    "rmax = domain[\"rmax\"]\n",
    "norm_k = np.linspace(2,30, 1000)\n",
    "norm_k, sf_Ogata = sf_poisson.compute_sf_hankel_quadrature(pcf_fv_func,\n",
    "                                                        norm_k=norm_k, \n",
    "                                                        step_size=0.01,\n",
    "                                                        nb_points=1000,\n",
    "                                                        rmax=rmax)\n",
    "norm_k_min = sf_poisson.norm_k_min\n",
    "print(\"norm_k_min=\", norm_k_min)\n",
    "fig = sf_poisson.plot_sf_hankel_quadrature(norm_k, sf_Ogata, error_bar=True,\n",
    "                             norm_k_min=norm_k_min, bins=80,\n",
    "                             #file_name=\"sf_poisson_Ogata.pdf\"\n",
    "                                          )"
   ]
  },
  {
   "cell_type": "code",
   "execution_count": null,
   "metadata": {},
   "outputs": [],
   "source": [
    "#test of effctive hyperuniformity\n",
    "from hypton.effective_hyperuniform import EffectiveHyperuniform\n",
    "hyperuniformity_test = EffectiveHyperuniform(norm_k, sf_Ogata)\n",
    "mean_norm_k, mean_sf, std_sf = hyperuniformity_test.bin_data(bins=60)\n",
    "H_poisson, std_H_poisson = hyperuniformity_test.index_H(mean_norm_k, mean_sf, norm_k_stop=25)\n",
    "print(\"H=\", H_poisson, \"std=\", std_H_poisson)\n",
    "fitted_sf_line = hyperuniformity_test.fitted_line # fittend ligne\n",
    "fig=plt.figure(figsize=(8,5))\n",
    "x = np.linspace(0, 30, 300)\n",
    "plt.plot(mean_norm_k, mean_sf, 'b.', label=\"approx_sf\")\n",
    "plt.plot(x, fitted_sf_line(x), 'r--', label= \"fitted line\")\n",
    "plt.legend()\n",
    "plt.xlabel('wavelength')\n",
    "plt.ylabel('sf')\n",
    "plt.show()\n",
    "#fig.savefig(\"fitted_sf_ogata_poisson.pdf\", bbox_inches=\"tight\")"
   ]
  },
  {
   "cell_type": "markdown",
   "metadata": {},
   "source": [
    "Or $|H +/- std| > 10^{-3}$\n",
    "Thus H index succesflly predict that the Poisson Point process in not hyperuniform"
   ]
  },
  {
   "cell_type": "code",
   "execution_count": null,
   "metadata": {},
   "outputs": [],
   "source": [
    "# approximating the structure factor using the Discret Hankel transform\n",
    "domain, pcf_fv_func = sf_poisson.interpolate_pcf(r=pcf_fv[\"r\"], pcf_r=pcf_fv[\"pcf\"], clean=True)\n",
    "rmax = domain[\"rmax\"]\n",
    "norm_k = np.linspace(2,30, 1000)\n",
    "norm_k, sf_BadChoui = sf_poisson.compute_sf_hankel_quadrature(pcf_fv_func, method=\"BaddourChouinard\", norm_k=norm_k,\n",
    "                                                        nb_points=1000,\n",
    "                                                        rmax=rmax)\n",
    "\n",
    "fig = sf_poisson.plot_sf_hankel_quadrature(norm_k, sf_BadChoui , error_bar=True, bins=20,\n",
    "                             file_name=\"sf_poisson_badchou.pdf\")"
   ]
  },
  {
   "cell_type": "code",
   "execution_count": null,
   "metadata": {},
   "outputs": [],
   "source": [
    "# test of effective hyperuniformity\n",
    "import matplotlib.pyplot as plt\n",
    "from hypton.effective_hyperuniform import EffectiveHyperuniform\n",
    "hyperuniformity_test = EffectiveHyperuniform(norm_k, sf_BadChoui)\n",
    "mean_norm_k, mean_sf, std_sf = hyperuniformity_test.bin_data(bins=60)\n",
    "H_poisson, std_H_poisson = hyperuniformity_test.index_H(mean_norm_k, mean_sf, norm_k_stop=25)\n",
    "print(\"H=\", H_poisson, \"std=\", std_H_poisson)\n",
    "fitted_sf_line = hyperuniformity_test.fitted_line # fittend ligne\n",
    "fig=plt.figure(figsize=(8,5))\n",
    "x = np.linspace(0, 30, 300)\n",
    "plt.plot(mean_norm_k, mean_sf, 'b.', label=\"approx_sf\")\n",
    "plt.plot(x, fitted_sf_line(x), 'r--', label= \"fitted line\")\n",
    "plt.legend()\n",
    "plt.xlabel('wavelength')\n",
    "plt.ylabel('sf')\n",
    "plt.show()\n",
    "#fig.savefig(\"fitted_sf_baddour_poisson.pdf\", bbox_inches=\"tight\")"
   ]
  },
  {
   "cell_type": "markdown",
   "metadata": {},
   "source": [
    "Or $|H +/- std| > 10^{-3}$\n",
    "Thus H index succesflly predict that the Poisson Point process in not hyperuniform"
   ]
  },
  {
   "cell_type": "markdown",
   "metadata": {},
   "source": [
    "## KLY matching"
   ]
  },
  {
   "cell_type": "code",
   "execution_count": null,
   "metadata": {},
   "outputs": [],
   "source": [
    "# loadind point config. as an object of type PointPattern\n",
    "with open(os.path.join(path_data, \"kly_pp.dat\"), \"rb\") as data:\n",
    "    kly_pp = pickle.load(data, encoding=\"bytes\")\n",
    "kly_pp = kly_pp[0]\n",
    "sf_kly = StructureFactor(kly_pp)\n"
   ]
  },
  {
   "cell_type": "code",
   "execution_count": null,
   "metadata": {},
   "outputs": [],
   "source": [
    "norm_k, si = sf_kly.compute_sf_scattering_intensity(max_k=20, meshgrid_size=90)"
   ]
  },
  {
   "cell_type": "markdown",
   "metadata": {},
   "source": [
    "As the point congfiguration contains more than $10^5$ points we restrict the plot of the configuration to a small window."
   ]
  },
  {
   "cell_type": "code",
   "execution_count": null,
   "metadata": {},
   "outputs": [],
   "source": [
    "L=120\n",
    "bounds = np.array([[0, 0], [L, L]]) # bounds of the window \n",
    "window_res = BoxWindow(bounds) # window of restriction of the point config\n",
    "fig = sf_kly.plot_scattering_intensity(norm_k, si, plot_type=\"all\",\n",
    "                                      bins=60, error_bar=True,\n",
    "                                      #file_name=\"si_kly.pdf\",\n",
    "                                      window_res=window_res # projection of the point config on the window `window_res``\n",
    "                                      )"
   ]
  },
  {
   "cell_type": "code",
   "execution_count": null,
   "metadata": {},
   "outputs": [],
   "source": [
    "# test of effective hyperuniformity\n",
    "hyperuniformity_test = EffectiveHyperuniform(norm_k, si)\n",
    "mean_norm_k, mean_sf, std_sf = hyperuniformity_test.bin_data(bins=60)\n",
    "H_kly, std = hyperuniformity_test.index_H(mean_norm_k, mean_sf, norm_k_stop=2)\n",
    "print(\"H=\", H_kly, \"std=\", std)\n",
    "fitted_sf_line = hyperuniformity_test.fitted_line # fittend ligne\n",
    "x = np.linspace(0, 15, 300)\n",
    "fig=plt.figure(figsize=(8,5))\n",
    "plt.plot(mean_norm_k, mean_sf, 'b.', label=\"approx_sf\")\n",
    "plt.plot(x, fitted_sf_line(x), 'r--', label= \"fitted line\")\n",
    "plt.legend()\n",
    "plt.xlabel('wavelength')\n",
    "plt.ylabel('sf')\n",
    "plt.show()\n",
    "#fig.savefig(\"fitted_si_kly.pdf\", bbox_inches=\"tight\")"
   ]
  },
  {
   "cell_type": "markdown",
   "metadata": {},
   "source": [
    "Or $H +/- std <10^{-3}$\n",
    "Thus H index succesflly predict that the KLY matching is hyperuniform"
   ]
  },
  {
   "cell_type": "code",
   "execution_count": null,
   "metadata": {},
   "outputs": [],
   "source": [
    "# approximating the pair correlation function\n",
    "pcf_fv = sf_kly.compute_pcf(method=\"fv\", Kest=dict(rmax=80),\n",
    "                                        fv=dict(method=\"b\", spar=0.1))\n",
    "pcf_fv"
   ]
  },
  {
   "cell_type": "code",
   "execution_count": null,
   "metadata": {},
   "outputs": [],
   "source": [
    "fig = sf_kly.plot_pcf(pcf_fv,\n",
    "                    #file_name=\"pcf_fv_ginibre.pdf\",\n",
    "                    figsize=(10,6))"
   ]
  },
  {
   "cell_type": "code",
   "execution_count": null,
   "metadata": {},
   "outputs": [],
   "source": [
    "# approximating the structure factor using Ogata quadrature\n",
    "domain, pcf_fv_func = sf_kly.interpolate_pcf(r=pcf_fv[\"r\"], pcf_r=pcf_fv[\"pcf\"], clean=True)\n",
    "rmax = domain[\"rmax\"]\n",
    "norm_k = np.linspace(1,30, 1000)\n",
    "\n",
    "norm_k, sf_Ogata = sf_kly.compute_sf_hankel_quadrature(pcf_fv_func,\n",
    "                                                        norm_k=norm_k, \n",
    "                                                        step_size=0.05,\n",
    "                                                        nb_points=1000,\n",
    "                                                        rmax=rmax)\n",
    "norm_k_min = sf_kly.norm_k_min\n",
    "print(\"norm_k_min=\", norm_k_min)\n",
    "fig = sf_kly.plot_sf_hankel_quadrature(norm_k, sf_Ogata, \n",
    "                                       error_bar=True,\n",
    "                             norm_k_min=norm_k_min,\n",
    "                                       bins=60,\n",
    "                            # file_name=\"sf_poisson_Ogata.pdf\"\n",
    "                                      )"
   ]
  },
  {
   "cell_type": "code",
   "execution_count": null,
   "metadata": {},
   "outputs": [],
   "source": [
    "hyperuniformity_test = EffectiveHyperuniform(norm_k, sf_Ogata)\n",
    "mean_norm_k, mean_sf, std_sf = hyperuniformity_test.bin_data(bins=60)\n",
    "H_poisson = hyperuniformity_test.index_H(mean_norm_k, mean_sf, norm_k_stop=5)\n",
    "print(\"H_poisson=\", H_poisson)\n",
    "fitted_sf_line = hyperuniformity_test.fitted_line # fittend ligne\n",
    "fig=plt.figure(figsize=(10,6))\n",
    "x = np.linspace(0, 30, 300)\n",
    "plt.plot(mean_norm_k, mean_sf, 'b.', label=\"approx_sf\")\n",
    "plt.plot(x, fitted_sf_line(x), 'r--', label= \"fitted line\")\n",
    "plt.legend()\n",
    "plt.xlabel('wavelength')\n",
    "plt.ylabel('sf')\n",
    "plt.show()\n",
    "fig.savefig(\"fitted_sf_ogata_poisson.pdf\", bbox_inches=\"tight\")"
   ]
  },
  {
   "cell_type": "code",
   "execution_count": null,
   "metadata": {},
   "outputs": [],
   "source": [
    "# approximating the structure factor using the Discrete Hankel transform\n",
    "domain, pcf_fv_func = sf_kly.interpolate_pcf(r=pcf_fv[\"r\"], pcf_r=pcf_fv[\"pcf\"], clean=True) # interpolation of pcf_fv\n",
    "rmax = domain[\"rmax\"]\n",
    "norm_k = np.linspace(0.3,30, 2000)\n",
    "norm_k, sf_BadChoui = sf_kly.compute_sf_hankel_quadrature(pcf_fv_func, method=\"BaddourChouinard\", norm_k=norm_k,\n",
    "                                                        nb_points=1000,\n",
    "                                                        rmax=rmax)\n",
    "\n",
    "fig = sf_kly.plot_sf_hankel_quadrature(norm_k, sf_BadChoui,\n",
    "                                       error_bar=True,\n",
    "                                        bins=30,\n",
    "                                     #file_name=\"sf_kly_badchou.pdf\"\n",
    "                                      )"
   ]
  },
  {
   "cell_type": "code",
   "execution_count": null,
   "metadata": {},
   "outputs": [],
   "source": [
    "import matplotlib.pyplot as plt\n",
    "plt.plot(norm_k, sf_BadChoui, 'b.')"
   ]
  },
  {
   "cell_type": "code",
   "execution_count": null,
   "metadata": {},
   "outputs": [],
   "source": [
    "hyperuniformity_test = EffectiveHyperuniform(norm_k, sf_BadChoui)\n",
    "mean_norm_k, mean_sf, std_sf = hyperuniformity_test.bin_data(bins=100)\n",
    "H_kly = hyperuniformity_test.index_H(mean_norm_k, mean_sf, norm_k_stop=4)\n",
    "print(\"H_kly=\", H_kly)\n",
    "fitted_sf_line = hyperuniformity_test.fitted_line # fittend ligne\n",
    "fig=plt.figure(figsize=(10,6))\n",
    "x = np.linspace(0, 30, 300)\n",
    "plt.plot(mean_norm_k, mean_sf, 'b.', label=\"approx_sf\")\n",
    "plt.plot(x, fitted_sf_line(x), 'r--', label= \"fitted line\")\n",
    "plt.legend()\n",
    "plt.xlabel('wavelength')\n",
    "plt.ylabel('sf')\n",
    "plt.show()\n",
    "fig.savefig(\"fitted_sf_ogata_poisson.pdf\", bbox_inches=\"tight\")"
   ]
  },
  {
   "cell_type": "markdown",
   "metadata": {},
   "source": [
    "## the lattice $\\mathbb{Z}^2$"
   ]
  },
  {
   "cell_type": "code",
   "execution_count": null,
   "metadata": {},
   "outputs": [],
   "source": [
    "from hypton.point_pattern import PointPattern\n",
    "L=300\n",
    "x = np.linspace(0, L, 301)\n",
    "X, Y = np.meshgrid(x,x)\n",
    "points =np.column_stack((X.ravel(), Y.ravel()))\n",
    "bounds = np.array([[0, 0], [L, L]]) #bounds of the cube\n",
    "window = BoxWindow(bounds) \n",
    "intesity =1\n",
    "z_2_pp = PointPattern(points= points, window=window, intensity=intensity )\n",
    "sf_z_2 = StructureFactor(z_2_pp)\n",
    "norm_k, si = sf_z_2.compute_sf_scattering_intensity(max_k=50, meshgrid_size=90)"
   ]
  },
  {
   "cell_type": "code",
   "execution_count": null,
   "metadata": {},
   "outputs": [],
   "source": [
    "L=120\n",
    "bounds = np.array([[0, 0], [L, L]]) #bounds of the cube\n",
    "window_res = BoxWindow(bounds)\n",
    "fig = sf_z_2.plot_scattering_intensity(norm_k, si, plot_type=\"all\",\n",
    "                                      bins=60, \n",
    "                                      error_bar=True,\n",
    "                                      #file_name=\"si_kly.pdf\",\n",
    "                                      window_res=window_res)"
   ]
  },
  {
   "cell_type": "code",
   "execution_count": null,
   "metadata": {},
   "outputs": [],
   "source": [
    "import matplotlib.pylab as plt\n",
    "plt.plot(norm_k, si, 'b.')\n",
    "plt.show()"
   ]
  },
  {
   "cell_type": "code",
   "execution_count": null,
   "metadata": {},
   "outputs": [],
   "source": [
    "x = np.linspace(-10, 10, 80)\n",
    "#x = x[x != 0]\n",
    "X, Y = np.meshgrid(x, x)\n",
    "k_vector = [X,Y]\n",
    "norm_k, si = sf_z_2.compute_sf_scattering_intensity(k_vector=k_vector)"
   ]
  },
  {
   "cell_type": "code",
   "execution_count": null,
   "metadata": {},
   "outputs": [],
   "source": [
    "L=120\n",
    "bounds = np.array([[0, 0], [L, L]]) #bounds of the cube\n",
    "window_res = BoxWindow(bounds)\n",
    "fig = sf_z_2.plot_scattering_intensity(norm_k, si, plot_type=\"all\",\n",
    "                                      bins=60, \n",
    "                                      error_bar=True,\n",
    "                                      #file_name=\"si_kly.pdf\",\n",
    "                                      window_res=window_res)"
   ]
  },
  {
   "cell_type": "code",
   "execution_count": null,
   "metadata": {},
   "outputs": [],
   "source": [
    "pcf_fv = sf_z_2.compute_pcf(method=\"fv\", Kest=dict(rmax=150),\n",
    "                                        fv=dict(method=\"b\", spar=0.1))\n",
    "pcf_fv"
   ]
  },
  {
   "cell_type": "code",
   "execution_count": null,
   "metadata": {},
   "outputs": [],
   "source": [
    "fig = sf_z_2.plot_pcf(pcf_fv,\n",
    "                    #file_name=\"pcf_fv_ginibre.pdf\",\n",
    "                    figsize=(10,6))"
   ]
  },
  {
   "cell_type": "code",
   "execution_count": null,
   "metadata": {},
   "outputs": [],
   "source": [
    "domain, pcf_fv_func = sf_z_2.interpolate_pcf(r=pcf_fv[\"r\"], pcf_r=pcf_fv[\"pcf\"], clean=True)\n",
    "rmax = domain[\"rmax\"]"
   ]
  },
  {
   "cell_type": "code",
   "execution_count": null,
   "metadata": {},
   "outputs": [],
   "source": [
    "domain, pcf_fv_func = sf_z_2.interpolate_pcf(r=pcf_fv[\"r\"], pcf_r=pcf_fv[\"pcf\"], clean=True)\n",
    "rmax = domain[\"rmax\"]\n",
    "norm_k = np.linspace(0.3,30, 2000)\n",
    "norm_k, sf_BadChoui = sf_z_2.compute_sf_hankel_quadrature(pcf_fv_func, method=\"BaddourChouinard\", norm_k=norm_k,\n",
    "                                                        nb_points=1000,\n",
    "                                                        rmax=rmax)\n",
    "\n",
    "fig = sf_z_2.plot_sf_hankel_quadrature(norm_k, sf_BadChoui,\n",
    "                                       #error_bar=True,\n",
    "                                        #bins=100,\n",
    "                                     #file_name=\"sf_kly_badchou.pdf\"\n",
    "                                      )"
   ]
  },
  {
   "cell_type": "code",
   "execution_count": null,
   "metadata": {},
   "outputs": [],
   "source": []
  }
 ],
 "metadata": {
  "kernelspec": {
   "display_name": "Python 3",
   "language": "python",
   "name": "python3"
  },
  "language_info": {
   "codemirror_mode": {
    "name": "ipython",
    "version": 3
   },
   "file_extension": ".py",
   "mimetype": "text/x-python",
   "name": "python",
   "nbconvert_exporter": "python",
   "pygments_lexer": "ipython3",
   "version": "3.8.5"
  }
 },
 "nbformat": 4,
 "nbformat_minor": 4
}
