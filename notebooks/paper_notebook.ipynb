{
 "cells": [
  {
   "cell_type": "code",
   "execution_count": null,
   "metadata": {},
   "outputs": [],
   "source": [
    "from IPython.core.display import display, HTML\n",
    "display(HTML(\"<style>.container { width:100% !important; }</style>\"))\n",
    "\n",
    "%load_ext autoreload\n",
    "%autoreload 2\n",
    "\n",
    "%config InlineBackend.figure_format='retina'"
   ]
  },
  {
   "cell_type": "markdown",
   "metadata": {},
   "source": [
    "This notebook is a companion to the paper TBC, and reproduces the plots from the paper. We use the Ginibre point process as a running example. It is convenient, since its two-point correlation function and structure factor are analytically known."
   ]
  },
  {
   "cell_type": "code",
   "execution_count": null,
   "metadata": {},
   "outputs": [],
   "source": [
    "import numpy as np\n",
    "from hypton.data import load_data\n",
    "from hypton.structure_factor import StructureFactor"
   ]
  },
  {
   "cell_type": "markdown",
   "metadata": {},
   "source": [
    "# Section 5.2"
   ]
  },
  {
   "cell_type": "markdown",
   "metadata": {},
   "source": [
    "We use a preloaded sample from the Ginibre point process to instantiate an object of type `PointPattern` containing the points, the observation window (here a disk), and the intensity, since the latter is known to the user. When it is not known, the intensity is approximated by the number of points in the sample divided by the volumme of the window."
   ]
  },
  {
   "cell_type": "code",
   "execution_count": null,
   "metadata": {},
   "outputs": [],
   "source": [
    "ginibre_pp = load_data.load_ginibre()"
   ]
  },
  {
   "cell_type": "code",
   "execution_count": null,
   "metadata": {},
   "outputs": [],
   "source": [
    "ginibre_pp.plot() # we provide a method to plot the underlying sample"
   ]
  },
  {
   "cell_type": "markdown",
   "metadata": {},
   "source": [
    "Approximating structure factors can be done within the `StructureFactor` class, which takes a `PointPattern` as input."
   ]
  },
  {
   "cell_type": "code",
   "execution_count": null,
   "metadata": {},
   "outputs": [],
   "source": [
    "from hypton.structure_factor import StructureFactor\n",
    "sf_ginibre = StructureFactor(ginibre_pp) "
   ]
  },
  {
   "cell_type": "markdown",
   "metadata": {},
   "source": [
    "# Section 5.3\n"
   ]
  },
  {
   "cell_type": "markdown",
   "metadata": {},
   "source": [
    "In this section, we compute and visualize the scattering intensity of the Ginibre configuration.\n",
    "Note that the scattering intensity requires a **cubic window**, so that we start by restricting our Ginibre sample to a cubic window."
   ]
  },
  {
   "cell_type": "code",
   "execution_count": null,
   "metadata": {
    "scrolled": true
   },
   "outputs": [],
   "source": [
    "from hypton.spatial_windows import BoxWindow\n",
    "L = ginibre_pp.window.radius/np.sqrt(2) # sidelength of the cubic window\n",
    "print(\"Restricting the window to a cube of length\", L)\n",
    "bounds = np.array([[-L/2, L/2], [-L/2, L/2]]) \n",
    "window = BoxWindow(bounds) # create a cubic window\n",
    "ginibre_pp_box = ginibre_pp.restrict_to_window(window) # create a Ginibre point pattern with box window\n",
    "sf_ginibre_box = StructureFactor(ginibre_pp_box) # initialize a new instance of StructureFactor\n",
    "ginibre_pp_box.plot()"
   ]
  },
  {
   "cell_type": "markdown",
   "metadata": {},
   "source": [
    "We now compute the scattering intensity of the point pattern ginibre_pp_box, on a mehsgrid of allowed wavevalues with maximun wavelength equal to 6, and meshgrid size equal to 100. See paper for an explanation of the concept of *allowed values*."
   ]
  },
  {
   "cell_type": "code",
   "execution_count": null,
   "metadata": {},
   "outputs": [],
   "source": [
    "norm_k, si = sf_ginibre_box.compute_sf_scattering_intensity(\n",
    "                                    max_k=6, \n",
    "                                    meshgrid_size=200,\n",
    "                                    )"
   ]
  },
  {
   "cell_type": "code",
   "execution_count": null,
   "metadata": {},
   "outputs": [],
   "source": [
    "# plot the scattering intensity and compare it to its exact value\n",
    "exact_sf_ginibre = lambda x : 1 - np.exp(-x**2/4)\n",
    "fig = sf_ginibre_box.plot_scattering_intensity(norm_k, si, plot_type=\"all\",\n",
    "                                            exact_sf=exact_sf_ginibre,\n",
    "                                            bins=60, # number of bins\n",
    "                                            error_bar=True, # visualizing the error bars\n",
    "                                            file_name=\"si_ginibre.pdf\"\n",
    "                                              )"
   ]
  },
  {
   "cell_type": "code",
   "execution_count": null,
   "metadata": {},
   "outputs": [],
   "source": [
    "# we can also extract the radial plot\n",
    "exact_sf_ginibre = lambda x : 1 - np.exp(-x**2/4) #exact sf\n",
    "fig = sf_ginibre_box.plot_scattering_intensity(norm_k, si,\n",
    "                                            exact_sf=exact_sf_ginibre,\n",
    "                                            bins=80, error_bar=True,\n",
    "                                            file_name=\"si_ginibre.pdf\"\n",
    "                                              )"
   ]
  },
  {
   "cell_type": "markdown",
   "metadata": {},
   "source": [
    "The blue line connect the within-bin averages of $\\hat S(\\mathbf k)$, while the red error bars correspond to plus or minus one standard deviation (before taking the log). The blue approximation is a good fit to the theoretical structure factor in green."
   ]
  },
  {
   "cell_type": "markdown",
   "metadata": {},
   "source": [
    "By default, the scattering intensity is evaluated at allowed wavevectors (aka the dual lattice to the observation window). However, we also accomodate evaluations at arbitrary points. Here, we demonstrate this using an arbitrary meshgrid of non-allowed wave vectors. "
   ]
  },
  {
   "cell_type": "code",
   "execution_count": null,
   "metadata": {},
   "outputs": [],
   "source": [
    "x = np.linspace(-3, 3, 200)\n",
    "x = x[x != 0]\n",
    "X, Y = np.meshgrid(x, x)\n",
    "k_vector1 = [X,Y]\n",
    "norm_k1, si1 = sf_ginibre_box.compute_sf_scattering_intensity(\n",
    "                                    k_vector=k_vector1, \n",
    "                                    )"
   ]
  },
  {
   "cell_type": "code",
   "execution_count": null,
   "metadata": {},
   "outputs": [],
   "source": [
    "# plot the scattering intensity and compare it to its exact value\n",
    "fig = sf_ginibre_box.plot_scattering_intensity(norm_k1, si1, plot_type=\"all\",\n",
    "                                            exact_sf=exact_sf_ginibre,\n",
    "                                            bins=40, error_bar=True,\n",
    "                                            #file_name=\"si_ginibre.pdf\"\n",
    "                                              )"
   ]
  },
  {
   "cell_type": "markdown",
   "metadata": {},
   "source": [
    "As expected from the derivation of the scattering intensity in the paper, using non-allowed values augments the number of evaluations and thus reduces the uncertainty for large values of $\\Vert \\mathbf k\\Vert$, but introduces a large bias for, say, $\\Vert \\mathbf k\\Vert\\leq 1$."
   ]
  },
  {
   "cell_type": "markdown",
   "metadata": {},
   "source": [
    "Calling the scattering intensity on a non-cubic window will also result in additional bias. We raise a `Warning`, but the computation will proceed. For instance, let us see what happens if we use the initial ball window for our Ginibre point process."
   ]
  },
  {
   "cell_type": "code",
   "execution_count": null,
   "metadata": {},
   "outputs": [],
   "source": [
    "from hypton import utils\n",
    "k_vector2 = utils.allowed_wave_values(L=ginibre_pp.window.radius, max_k=6, meshgrid_size=200)\n",
    "k_vector2 = [k_vector2[:,0], k_vector2[:,1]] #transforming k_vector to list\n",
    "norm_k2, si2 = sf_ginibre.compute_sf_scattering_intensity(\n",
    "                                    k_vector=k_vector2\n",
    "                                    )\n"
   ]
  },
  {
   "cell_type": "code",
   "execution_count": null,
   "metadata": {
    "scrolled": false
   },
   "outputs": [],
   "source": [
    "fig_3 = sf_ginibre.plot_scattering_intensity(norm_k2, si2, plot_type=\"plot\",\n",
    "                                            exact_sf=exact_sf_ginibre,\n",
    "                                            bins=50, error_bar=True,\n",
    "                                            #file_name=\"si_ginibre.pdf\"\n",
    "                                              )"
   ]
  },
  {
   "cell_type": "markdown",
   "metadata": {},
   "source": [
    "Again, there is serius overestimation for $\\Vert \\mathbf k\\Vert \\leq 1$. "
   ]
  },
  {
   "cell_type": "markdown",
   "metadata": {},
   "source": [
    "To conclude, and to insist on the role of *allowed* wavevectors for the scattering intensity at small $\\Vert \\mathbf k\\Vert$, we plot all three estimates on the same figure. "
   ]
  },
  {
   "cell_type": "code",
   "execution_count": null,
   "metadata": {},
   "outputs": [],
   "source": [
    "import matplotlib.pyplot as plt\n",
    "plt.figure(figsize=(10,6))\n",
    "plt.loglog(norm_k1.ravel(), si1.ravel(), color=\"grey\",linestyle=\"\", marker=\".\", label=\"all box window \")\n",
    "plt.loglog(norm_k.ravel(), si.ravel(), 'b.', label=\"allowed values\")\n",
    "plt.loglog(norm_k2.ravel(), si2.ravel(), 'g.', label=\"all ball window \")\n",
    "plt.loglog(norm_k.ravel(), exact_sf_ginibre(norm_k.ravel()), 'r', label=\"exact\")\n",
    "plt.legend()\n",
    "plt.title(\"SI ginibre\")\n",
    "plt.show()"
   ]
  },
  {
   "cell_type": "markdown",
   "metadata": {},
   "source": [
    "# section 5.6"
   ]
  },
  {
   "cell_type": "markdown",
   "metadata": {},
   "source": [
    "## Test of effective hyperuniformity"
   ]
  },
  {
   "cell_type": "code",
   "execution_count": null,
   "metadata": {
    "scrolled": true
   },
   "outputs": [],
   "source": [
    "from hypton.effective_hyperuniform import EffectiveHyperuniformity\n",
    "hyperuniformity_test = EffectiveHyperuniformity(norm_k, si)\n",
    "hyperuniformity_test.bin_data(bins=40)\n",
    "H_ginibre, std = hyperuniformity_test.index_H(norm_k_stop=4)\n",
    "print(\"H_ginibre=\", H_ginibre)\n",
    "fitted_sf_line = hyperuniformity_test.fitted_line # fittend ligne\n",
    "index_peak = hyperuniformity_test.i_first_peak"
   ]
  },
  {
   "cell_type": "markdown",
   "metadata": {},
   "source": [
    "As $H <10^{-3}$ so the test success to predict the hyperuniformity of the Ginibre ensemble."
   ]
  },
  {
   "cell_type": "markdown",
   "metadata": {},
   "source": [
    "The bellow plot show the fitted regression line used to find the H index "
   ]
  },
  {
   "cell_type": "code",
   "execution_count": null,
   "metadata": {},
   "outputs": [],
   "source": [
    "import matplotlib.pyplot as plt\n",
    "mean_norm_k = hyperuniformity_test.norm_k\n",
    "mean_sf = hyperuniformity_test.sf\n",
    "x = np.linspace(0, 5, 300)\n",
    "y = np.linspace(0,15, 500)\n",
    "fig=plt.figure(figsize=(10,6))\n",
    "plt.plot(mean_norm_k, mean_sf, 'b.', label=\"approx_sf\")\n",
    "plt.plot(mean_norm_k, mean_sf, 'b', label=\"approx_sf\")\n",
    "plt.plot(x, fitted_sf_line(x), 'r--', label= \"fitted line\")\n",
    "plt.plot(y, exact_sf_ginibre(y), 'g', label=\"exact sf\")\n",
    "plt.plot(mean_norm_k[index_peak], mean_sf[index_peak], 'k*', label=\"first peak\")\n",
    "plt.legend()\n",
    "plt.xlabel('wavelength ($||\\mathbf{k}||$)')\n",
    "plt.ylabel('Structure factor ($\\mathsf{S}(\\mathbf{k})$)')\n",
    "plt.show()\n",
    "fig.savefig(\"fitted_si_ginibre.pdf\", bbox_inches=\"tight\")"
   ]
  },
  {
   "cell_type": "code",
   "execution_count": null,
   "metadata": {},
   "outputs": [],
   "source": [
    "hyperuniformity_test = EffectiveHyperuniformity(norm_k, si)\n",
    "hyperuniformity_test.bin_data(bins=40)\n",
    "sf_power_decay= hyperuniformity_test.power_decay(norm_k_stop=1)\n",
    "print(sf_power_decay)"
   ]
  },
  {
   "cell_type": "code",
   "execution_count": null,
   "metadata": {},
   "outputs": [],
   "source": [
    "## import matplotlib.pyplot as plt\n",
    "mean_norm_k = hyperuniformity_test.norm_k\n",
    "mean_sf = hyperuniformity_test.sf\n",
    "x = np.linspace(0, 5, 300)\n",
    "y = np.linspace(0,15, 500)\n",
    "fig=plt.figure(figsize=(10,6))\n",
    "plt.plot(mean_norm_k, mean_sf, 'b.', label=\"approx_sf\")\n",
    "plt.plot(mean_norm_k, mean_sf, 'b', label=\"approx_sf\")\n",
    "plt.plot(y, exact_sf_ginibre(y), 'g', label=\"exact sf\")\n",
    "plt.legend()\n",
    "plt.xlabel('wavelength ($||\\mathbf{k}||$)')\n",
    "plt.ylabel('Structure factor ($\\mathsf{S}(\\mathbf{k})$)')\n",
    "plt.show()\n",
    "fig.savefig(\"fitted_si_ginibre.pdf\", bbox_inches=\"tight\")"
   ]
  },
  {
   "cell_type": "code",
   "execution_count": null,
   "metadata": {},
   "outputs": [],
   "source": [
    "from hypton.effective_hyperuniform import EffectiveHyperuniformity\n",
    "norm_k2 = np.linspace(0,10, 100)\n",
    "sf2 = exact_sf_ginibre(norm_k2)\n",
    "hp_test2 = EffectiveHyperuniformity(norm_k2, sf2)\n",
    "H_ginibre2, std2 = hp_test2.index_H(norm_k_stop=4)\n",
    "print(\"H_ginibre2=\", H_ginibre2)\n",
    "fitted_sf_line2 = hp_test2.fitted_line # fittend ligne\n",
    "index_peak2 = hp_test2.i_first_peak"
   ]
  },
  {
   "cell_type": "code",
   "execution_count": null,
   "metadata": {},
   "outputs": [],
   "source": [
    "mean_norm_k2 = hp_test2.norm_k\n",
    "mean_sf2 = hp_test2.sf\n",
    "x = np.linspace(0, 5, 300)\n",
    "y = np.linspace(0,15, 500)\n",
    "fig=plt.figure(figsize=(10,6))\n",
    "plt.plot(mean_norm_k2, mean_sf2, 'b.', label=\"approx_sf\")\n",
    "plt.plot(mean_norm_k2, mean_sf2, 'b', label=\"approx_sf\")\n",
    "plt.plot(x, fitted_sf_line2(x), 'r--', label= \"fitted line\")\n",
    "plt.plot(y, exact_sf_ginibre(y), 'g', label=\"exact sf\")\n",
    "#plt.plot(mean_norm_k2[index_peak2], mean_sf2[index_peak2], 'k*', label=\"first peak\")\n",
    "plt.legend()\n",
    "plt.xlabel('wavelength ($||\\mathbf{k}||$)')\n",
    "plt.ylabel('Structure factor ($\\mathsf{S}(\\mathbf{k})$)')\n",
    "plt.show()\n",
    "fig.savefig(\"fitted_si_ginibre.pdf\", bbox_inches=\"tight\")"
   ]
  },
  {
   "cell_type": "markdown",
   "metadata": {},
   "source": [
    "# Section 5.4"
   ]
  },
  {
   "cell_type": "markdown",
   "metadata": {},
   "source": [
    "In this section we will approximate the pair correlation function of the Ginibre ensemble using two methods: pcf.ppp and pcf.fv"
   ]
  },
  {
   "cell_type": "code",
   "execution_count": null,
   "metadata": {},
   "outputs": [],
   "source": [
    "r= np.linspace(0, 30, 500)\n",
    "pcf_ppp = sf_ginibre.compute_pcf(method=\"ppp\", r=r,\n",
    "                                        correction=\"all\")\n",
    "pcf_ppp"
   ]
  },
  {
   "cell_type": "code",
   "execution_count": null,
   "metadata": {},
   "outputs": [],
   "source": [
    "exact_pcf_ginibre = lambda x : 1 - np.exp(-x**2) # exact pcf of the Ginibre ensemble\n",
    "fig = sf_ginibre.plot_pcf(pcf_ppp, exact_pcf=exact_pcf_ginibre,\n",
    "                    file_name=\"pcf_ppp_ginibre.pdf\",\n",
    "                    figsize=(10,6),\n",
    "                    color=['b', 'grey', 'darkcyan'],\n",
    "                    style=[\".\", \"o\", \"^\"])"
   ]
  },
  {
   "cell_type": "code",
   "execution_count": null,
   "metadata": {},
   "outputs": [],
   "source": [
    "pcf_fv = sf_ginibre.compute_pcf(method=\"fv\", Kest=dict(rmax=45),\n",
    "                                        fv=dict(method=\"b\", spar=0.1))\n",
    "pcf_fv"
   ]
  },
  {
   "cell_type": "code",
   "execution_count": null,
   "metadata": {},
   "outputs": [],
   "source": [
    "fig = sf_ginibre.plot_pcf(pcf_fv, exact_pcf=exact_pcf_ginibre,\n",
    "                    file_name=\"pcf_fv_ginibre.pdf\",\n",
    "                    figsize=(10,6),\n",
    "                    color=[ 'grey','b', 'darkcyan'],\n",
    "                    style=[\".\", \"o\", \"^\"])"
   ]
  },
  {
   "cell_type": "markdown",
   "metadata": {},
   "source": [
    "## section 5.5"
   ]
  },
  {
   "cell_type": "markdown",
   "metadata": {},
   "source": [
    "In this section we approximate the structure factor of the Ginibre ensemble using the Hankel transform approximated by Ogata quadrature\n",
    "and the Discret Hankel trabsform derived by Baddour and Chouinard.\n",
    "Before going through the approximation method, we interpolate the discrete sample of the approximated pcf."
   ]
  },
  {
   "cell_type": "code",
   "execution_count": null,
   "metadata": {},
   "outputs": [],
   "source": [
    "# interpolation of the approximated pair correlation function\n",
    "domain, pcf_fv_func = sf_ginibre.interpolate_pcf(\n",
    "        r=pcf_fv[\"r\"], pcf_r=pcf_fv[\"pcf\"], \n",
    "        clean=True # removing nan and inf \n",
    "        )"
   ]
  },
  {
   "cell_type": "code",
   "execution_count": null,
   "metadata": {},
   "outputs": [],
   "source": [
    "rmax = domain[\"rmax\"] # upper bound of the raduis on which the pcf has been approximated\n",
    "norm_k = np.linspace(1.5,10, 1000) # vector of wave length\n",
    "norm_k, sf_Ogata = sf_ginibre.compute_sf_hankel_quadrature(pcf_fv_func,\n",
    "                                                        norm_k=norm_k, \n",
    "                                                        step_size=0.1,\n",
    "                                                        nb_points=1000,\n",
    "                                                        rmax=rmax)\n",
    "norm_k_min = sf_ginibre.norm_k_min\n",
    "print(\"norm_k_min=\", norm_k_min)"
   ]
  },
  {
   "cell_type": "code",
   "execution_count": null,
   "metadata": {},
   "outputs": [],
   "source": [
    "fig = sf_ginibre.plot_sf_hankel_quadrature(norm_k, sf_Ogata, error_bar=True,\n",
    "                             norm_k_min=norm_k_min, bins=40,\n",
    "                             exact_sf=exact_sf_ginibre,\n",
    "                             label=\"$\\widehat{S}_{HO}(k)$\",\n",
    "                             file_name=\"sf_ginibre_Ogata.pdf\"\n",
    "                                          )"
   ]
  },
  {
   "cell_type": "code",
   "execution_count": null,
   "metadata": {},
   "outputs": [],
   "source": [
    "rmax = domain[\"rmax\"]\n",
    "norm_k = np.linspace(0.3,30, 2000)\n",
    "norm_k, sf_BadChou = sf_ginibre.compute_sf_hankel_quadrature(pcf_fv_func, \n",
    "                                                            method =\"BaddourChouinard\",\n",
    "                                                            norm_k=norm_k,\n",
    "                                                            rmax=rmax, \n",
    "                                                            nb_points=1000)\n",
    "\n",
    "fig = sf_ginibre.plot_sf_hankel_quadrature(norm_k, sf_BadChou,\n",
    "                                    exact_sf=exact_sf_ginibre, \n",
    "                                           label=\"$S_{HBC}(k)$\",\n",
    "                                           file_name=\"sf_baddchou.pdf\",\n",
    "                                          error_bar=True,\n",
    "                                          bins=100)"
   ]
  },
  {
   "cell_type": "code",
   "execution_count": null,
   "metadata": {},
   "outputs": [],
   "source": [
    "hyperuniformity_test = EffectiveHyperuniformity(norm_k, sf_BadChou)\n",
    "hyperuniformity_test.bin_data(bins=100)\n",
    "sf_power_decay= hyperuniformity_test.power_decay(norm_k_stop=1)\n",
    "print(sf_power_decay)"
   ]
  },
  {
   "cell_type": "code",
   "execution_count": null,
   "metadata": {},
   "outputs": [],
   "source": [
    "norm_k_, sf_BadChou_ = sf_ginibre.compute_sf_hankel_quadrature(pcf_fv_func, \n",
    "                                                            method =\"BaddourChouinard\",\n",
    "                                                            rmax=rmax, \n",
    "                                                            nb_points=1000)\n",
    "\n",
    "fig = sf_ginibre.plot_sf_hankel_quadrature(norm_k_, sf_BadChou_,\n",
    "                                            exact_sf=exact_sf_ginibre, \n",
    "                                           #file_name=\"sf_baddchou.pdf\",\n",
    "                                          error_bar=True,\n",
    "                                          bins=50)"
   ]
  },
  {
   "cell_type": "code",
   "execution_count": null,
   "metadata": {},
   "outputs": [],
   "source": [
    "np.min(norm_k_)"
   ]
  },
  {
   "cell_type": "markdown",
   "metadata": {},
   "source": [
    "## section 6.1"
   ]
  },
  {
   "cell_type": "markdown",
   "metadata": {},
   "source": [
    "In this section we repet the experiance of the previous section but with a sample from the exact pair correlation function instead of the approximated one.\n",
    "The goal is to see the influence of the error of approximating the pair correlation function on the result."
   ]
  },
  {
   "cell_type": "code",
   "execution_count": null,
   "metadata": {},
   "outputs": [],
   "source": [
    "# Method of Ogata:\n",
    "norm_k = np.linspace(0.5,10, 1000)\n",
    "r = pcf_fv[\"r\"]\n",
    "pcf_r = exact_pcf_ginibre(r)\n",
    "domain, pcf_func = sf_ginibre.interpolate_pcf(r=r, pcf_r=pcf_r, clean=True) #interpolation\n",
    "rmax = domain[\"rmax\"]\n",
    "norm_k, sf_Ogata = sf_ginibre.compute_sf_hankel_quadrature(pcf_func, norm_k=norm_k,\n",
    "                                                rmax=rmax,\n",
    "                                                step_size=0.01,\n",
    "                                                nb_points=1000) \n",
    "\n",
    "fig = sf_ginibre.plot_sf_hankel_quadrature(norm_k, sf_Ogata, \n",
    "                             exact_sf=exact_sf_ginibre, \n",
    "                             file_name=\"sf_ogata_from_exact.pdf\"\n",
    "                                          )\n"
   ]
  },
  {
   "cell_type": "code",
   "execution_count": null,
   "metadata": {},
   "outputs": [],
   "source": [
    "# Method of Baddour and Chouinard\n",
    "norm_k, sf_BaddChou = sf_ginibre.compute_sf_hankel_quadrature(pcf_func, \n",
    "                                            method=\"BaddourChouinard\",\n",
    "                                            rmax=rmax, \n",
    "                                            nb_points=800) \n",
    "\n",
    "fig = sf_ginibre.plot_sf_hankel_quadrature(norm_k, sf_BaddChou, exact_sf=exact_sf_ginibre, \n",
    "                                           file_name=\"sf_baddchou_from_exact.pdf\"\n",
    "                                          )"
   ]
  },
  {
   "cell_type": "code",
   "execution_count": null,
   "metadata": {},
   "outputs": [],
   "source": [
    "exact_sf_ginibre"
   ]
  },
  {
   "cell_type": "code",
   "execution_count": null,
   "metadata": {},
   "outputs": [],
   "source": [
    "norm = np.linspace(0, 3, 50)\n",
    "sf = exact_sf_ginibre(norm)\n",
    "hyperuniformity_test = EffectiveHyperuniformity(norm, sf)\n",
    "#hyperuniformity_test.bin_data(bins=100)\n",
    "sf_power_decay= hyperuniformity_test.power_decay(norm_k_stop=1)\n",
    "print(sf_power_decay)"
   ]
  },
  {
   "cell_type": "code",
   "execution_count": null,
   "metadata": {},
   "outputs": [],
   "source": [
    "hyperuniformity_test = EffectiveHyperuniformity(norm_k, sf_BaddChou)\n",
    "hyperuniformity_test.bin_data(bins=100)\n",
    "sf_power_decay= hyperuniformity_test.power_decay(norm_k_stop=1)\n",
    "print(sf_power_decay)"
   ]
  },
  {
   "cell_type": "markdown",
   "metadata": {},
   "source": [
    "We could deduce from the above figure that by minimizing the error of approximation of the pair correlation function we are able to approach the exact structure factor of the Ginibre ensemble.\n",
    "Moreover using the Discret Hankel transform we reach the exact values of the structure factor."
   ]
  },
  {
   "cell_type": "markdown",
   "metadata": {},
   "source": [
    "# Section 6.3"
   ]
  },
  {
   "cell_type": "markdown",
   "metadata": {},
   "source": [
    "In this section we repeat the previous experience on a point configuration from a standard homogeneous Poisson Point Process and KLY matching in a cubic window"
   ]
  },
  {
   "cell_type": "markdown",
   "metadata": {},
   "source": [
    "## Poisson point process"
   ]
  },
  {
   "cell_type": "markdown",
   "metadata": {},
   "source": [
    "In this section we repeat the previous experience on a point configuration from a standard homogeneous Poisson Point Process in a cubic window"
   ]
  },
  {
   "cell_type": "code",
   "execution_count": null,
   "metadata": {},
   "outputs": [],
   "source": [
    "from hypton.data import load_data\n",
    "poisson_pp = load_data.load_poisson()\n",
    "sf_poisson = StructureFactor(poisson_pp) # initializing the StructureFactor class"
   ]
  },
  {
   "cell_type": "code",
   "execution_count": null,
   "metadata": {},
   "outputs": [],
   "source": [
    "poisson_pp.points.shape"
   ]
  },
  {
   "cell_type": "code",
   "execution_count": null,
   "metadata": {},
   "outputs": [],
   "source": [
    "# compute the scattering intensity on a meshgrid of allowed values\n",
    "norm_k, si = sf_poisson.compute_sf_scattering_intensity(max_k=10, meshgrid_size=90)"
   ]
  },
  {
   "cell_type": "markdown",
   "metadata": {},
   "source": [
    "As the point congfiguration contains more than $10^5$ points we restrict the plot of the configuration to a small window."
   ]
  },
  {
   "cell_type": "code",
   "execution_count": null,
   "metadata": {},
   "outputs": [],
   "source": [
    "# visualizing the result\n",
    "L=160\n",
    "bounds = np.array([[-L/2, L/2], [-L/2, L/2]]) # bounds of the window \n",
    "window_res = BoxWindow(bounds) # window of visualization of the point config\n",
    "fig = sf_poisson.plot_scattering_intensity(norm_k, si, plot_type=\"all\",\n",
    "                                            bins=60, error_bar=True,\n",
    "                                            file_name=\"si_poisson.pdf\", \n",
    "                                           window_res=window_res # restrict the plot of the point config to the window `window_res`\n",
    "                                          )"
   ]
  },
  {
   "cell_type": "markdown",
   "metadata": {},
   "source": [
    "We can deduce that also in this case the scattering intansity give a good approximation of the structure factor."
   ]
  },
  {
   "cell_type": "code",
   "execution_count": null,
   "metadata": {},
   "outputs": [],
   "source": [
    "# test of effective hyperuniformity\n",
    "from hypton.effective_hyperuniform import EffectiveHyperuniformity\n",
    "hyperuniformity_test = EffectiveHyperuniformity(norm_k, si)\n",
    "mean_norm_k, mean_sf, std_sf = hyperuniformity_test.bin_data(bins=60)\n",
    "H_poisson, std_H_poisson = hyperuniformity_test.index_H( norm_k_stop=16)\n",
    "print(\"H=\", H_poisson, \"std\", std_H_poisson)\n",
    "fitted_sf_line = hyperuniformity_test.fitted_line # fittend ligne"
   ]
  },
  {
   "cell_type": "markdown",
   "metadata": {},
   "source": [
    "Or $|H +/- std| > 10^{-3}$\n",
    "Thus H index succesflly predict that the Poisson Point process in not hyperuniform"
   ]
  },
  {
   "cell_type": "code",
   "execution_count": null,
   "metadata": {
    "scrolled": true
   },
   "outputs": [],
   "source": [
    "# plot fitted regression line used to find the H index\n",
    "import matplotlib.pyplot as plt\n",
    "x = np.linspace(0, 15, 300)\n",
    "fig=plt.figure(figsize=(8,5))\n",
    "plt.plot(mean_norm_k, mean_sf, 'b.', label=\"approx_sf\")\n",
    "plt.plot(x, fitted_sf_line(x), 'r--', label= \"fitted line\")\n",
    "plt.legend()\n",
    "plt.xlabel('wavelength')\n",
    "plt.ylabel('sf')\n",
    "plt.show()\n",
    "fig.savefig(\"fitted_si_poisson.pdf\", bbox_inches=\"tight\")"
   ]
  },
  {
   "cell_type": "code",
   "execution_count": null,
   "metadata": {},
   "outputs": [],
   "source": [
    "hyperuniformity_test = EffectiveHyperuniformity(norm_k, si)\n",
    "hyperuniformity_test.bin_data(bins=60)\n",
    "sf_power_decay, S_0 = hyperuniformity_test.power_decay(norm_k_stop=1)\n",
    "print(sf_power_decay, S_0)"
   ]
  },
  {
   "cell_type": "code",
   "execution_count": null,
   "metadata": {},
   "outputs": [],
   "source": [
    "# approximating the pair correlation function\n",
    "pcf_fv = sf_poisson.compute_pcf(method=\"fv\", Kest=dict(rmax=100),\n",
    "                                        fv=dict(method=\"b\", spar=0.1))\n",
    "pcf_fv"
   ]
  },
  {
   "cell_type": "code",
   "execution_count": null,
   "metadata": {},
   "outputs": [],
   "source": [
    "# approximating the stracture factr using Ogata quadrature \n",
    "domain, pcf_fv_func = sf_poisson.interpolate_pcf(r=pcf_fv[\"r\"], pcf_r=pcf_fv[\"pcf\"], clean=True) # interpolation of pcf_fv\n",
    "rmax = domain[\"rmax\"]\n",
    "norm_k = np.linspace(2,30, 1000)\n",
    "norm_k, sf_Ogata = sf_poisson.compute_sf_hankel_quadrature(pcf_fv_func,\n",
    "                                                        norm_k=norm_k, \n",
    "                                                        step_size=0.01,\n",
    "                                                        nb_points=1000,\n",
    "                                                        rmax=rmax)\n",
    "norm_k_min = sf_poisson.norm_k_min\n",
    "print(\"norm_k_min=\", norm_k_min)\n",
    "fig = sf_poisson.plot_sf_hankel_quadrature(norm_k, sf_Ogata, error_bar=True,\n",
    "                             norm_k_min=norm_k_min, bins=80,\n",
    "                             file_name=\"sf_poisson_Ogata.pdf\"\n",
    "                                          )"
   ]
  },
  {
   "cell_type": "code",
   "execution_count": null,
   "metadata": {},
   "outputs": [],
   "source": [
    "#test of effctive hyperuniformity\n",
    "from hypton.effective_hyperuniform import EffectiveHyperuniformity\n",
    "hyperuniformity_test = EffectiveHyperuniformity(norm_k, sf_Ogata)\n",
    "mean_norm_k, mean_sf, std_sf = hyperuniformity_test.bin_data(bins=60)\n",
    "H_poisson, std_H_poisson = hyperuniformity_test.index_H( norm_k_stop=25)\n",
    "print(\"H=\", H_poisson, \"std=\", std_H_poisson)\n",
    "fitted_sf_line = hyperuniformity_test.fitted_line # fittend ligne\n",
    "fig=plt.figure(figsize=(8,5))\n",
    "x = np.linspace(0, 30, 300)\n",
    "plt.plot(mean_norm_k, mean_sf, 'b.', label=\"approx_sf\")\n",
    "plt.plot(x, fitted_sf_line(x), 'r--', label= \"fitted line\")\n",
    "plt.legend()\n",
    "plt.xlabel('wavelength')\n",
    "plt.ylabel('sf')\n",
    "plt.show()\n",
    "#fig.savefig(\"fitted_sf_ogata_poisson.pdf\", bbox_inches=\"tight\")"
   ]
  },
  {
   "cell_type": "markdown",
   "metadata": {},
   "source": [
    "Or $|H +/- std| > 10^{-3}$\n",
    "Thus H index succesflly predict that the Poisson Point process in not hyperuniform"
   ]
  },
  {
   "cell_type": "code",
   "execution_count": null,
   "metadata": {},
   "outputs": [],
   "source": [
    "# approximating the structure factor using the Discret Hankel transform\n",
    "domain, pcf_fv_func = sf_poisson.interpolate_pcf(r=pcf_fv[\"r\"], pcf_r=pcf_fv[\"pcf\"], clean=True)\n",
    "rmax = domain[\"rmax\"]\n",
    "norm_k = np.linspace(2,30, 1000)\n",
    "norm_k, sf_BadChoui = sf_poisson.compute_sf_hankel_quadrature(pcf_fv_func, method=\"BaddourChouinard\", norm_k=norm_k,\n",
    "                                                        nb_points=1000,\n",
    "                                                        rmax=rmax)\n",
    "\n",
    "fig = sf_poisson.plot_sf_hankel_quadrature(norm_k, sf_BadChoui , error_bar=True, bins=20,\n",
    "                             file_name=\"sf_poisson_badchou.pdf\")"
   ]
  },
  {
   "cell_type": "code",
   "execution_count": null,
   "metadata": {},
   "outputs": [],
   "source": [
    "# test of effective hyperuniformity\n",
    "import matplotlib.pyplot as plt\n",
    "from hypton.effective_hyperuniform import EffectiveHyperuniformity\n",
    "hyperuniformity_test = EffectiveHyperuniformity(norm_k, sf_BadChoui)\n",
    "mean_norm_k, mean_sf, std_sf = hyperuniformity_test.bin_data(bins=60)\n",
    "H_poisson, std_H_poisson = hyperuniformity_test.index_H(norm_k_stop=25)\n",
    "print(\"H=\", H_poisson, \"std=\", std_H_poisson)\n",
    "fitted_sf_line = hyperuniformity_test.fitted_line # fittend ligne\n",
    "fig=plt.figure(figsize=(8,5))\n",
    "x = np.linspace(0, 30, 300)\n",
    "plt.plot(mean_norm_k, mean_sf, 'b.', label=\"approx_sf\")\n",
    "plt.plot(x, fitted_sf_line(x), 'r--', label= \"fitted line\")\n",
    "plt.legend()\n",
    "plt.xlabel('wavelength')\n",
    "plt.ylabel('sf')\n",
    "plt.show()\n",
    "#fig.savefig(\"fitted_sf_baddour_poisson.pdf\", bbox_inches=\"tight\")"
   ]
  },
  {
   "cell_type": "markdown",
   "metadata": {},
   "source": [
    "Or $|H +/- std| > 10^{-3}$\n",
    "Thus H index succesflly predict that the Poisson Point process in not hyperuniform"
   ]
  },
  {
   "cell_type": "markdown",
   "metadata": {},
   "source": [
    "## KLY matching"
   ]
  },
  {
   "cell_type": "code",
   "execution_count": null,
   "metadata": {},
   "outputs": [],
   "source": [
    "kly_pp = load_data.load_kly()\n",
    "sf_kly = StructureFactor(kly_pp)\n"
   ]
  },
  {
   "cell_type": "code",
   "execution_count": null,
   "metadata": {},
   "outputs": [],
   "source": [
    "norm_k, si = sf_kly.compute_sf_scattering_intensity(max_k=20, meshgrid_size=90)"
   ]
  },
  {
   "cell_type": "markdown",
   "metadata": {},
   "source": [
    "As the point congfiguration contains more than $10^5$ points we restrict the plot of the configuration to a small window."
   ]
  },
  {
   "cell_type": "code",
   "execution_count": null,
   "metadata": {},
   "outputs": [],
   "source": [
    "L=120\n",
    "bounds = np.array([[0, L], [0, L]]) # bounds of the window \n",
    "window_res = BoxWindow(bounds) # window of restriction of the point config\n",
    "fig = sf_kly.plot_scattering_intensity(norm_k, si, plot_type=\"all\",\n",
    "                                      bins=60, error_bar=True,\n",
    "                                      file_name=\"si_kly.pdf\",\n",
    "                                      window_res=window_res # projection of the point config on the window `window_res``\n",
    "                                      )"
   ]
  },
  {
   "cell_type": "code",
   "execution_count": null,
   "metadata": {},
   "outputs": [],
   "source": [
    "# test of effective hyperuniformity\n",
    "from hypton.effective_hyperuniform import EffectiveHyperuniformity\n",
    "hyperuniformity_test = EffectiveHyperuniformity(norm_k, si)\n",
    "mean_norm_k, mean_sf, std_sf = hyperuniformity_test.bin_data(bins=60)\n",
    "H_kly, std = hyperuniformity_test.index_H(norm_k_stop=2)\n",
    "print(\"H=\", H_kly, \"std=\", std)\n",
    "fitted_sf_line = hyperuniformity_test.fitted_line # fittend ligne\n",
    "x = np.linspace(0, 15, 300)\n",
    "fig=plt.figure(figsize=(8,5))\n",
    "plt.plot(mean_norm_k, mean_sf, 'b.', label=\"approx_sf\")\n",
    "plt.plot(x, fitted_sf_line(x), 'r--', label= \"fitted line\")\n",
    "plt.legend()\n",
    "plt.xlabel('wavelength')\n",
    "plt.ylabel('sf')\n",
    "plt.show()\n",
    "#fig.savefig(\"fitted_si_kly.pdf\", bbox_inches=\"tight\")"
   ]
  },
  {
   "cell_type": "markdown",
   "metadata": {},
   "source": [
    "Or $H +/- std <10^{-3}$\n",
    "Thus H index succesflly predict that the KLY matching is hyperuniform"
   ]
  },
  {
   "cell_type": "code",
   "execution_count": null,
   "metadata": {},
   "outputs": [],
   "source": [
    "# approximating the pair correlation function\n",
    "pcf_fv = sf_kly.compute_pcf(method=\"fv\", Kest=dict(rmax=80),\n",
    "                                        fv=dict(method=\"b\", spar=0.1))\n",
    "pcf_fv"
   ]
  },
  {
   "cell_type": "code",
   "execution_count": null,
   "metadata": {},
   "outputs": [],
   "source": [
    "fig = sf_kly.plot_pcf(pcf_fv,\n",
    "                    #file_name=\"pcf_fv_ginibre.pdf\",\n",
    "                    figsize=(10,6))"
   ]
  },
  {
   "cell_type": "code",
   "execution_count": null,
   "metadata": {},
   "outputs": [],
   "source": [
    "# approximating the structure factor using Ogata quadrature\n",
    "domain, pcf_fv_func = sf_kly.interpolate_pcf(r=pcf_fv[\"r\"], pcf_r=pcf_fv[\"pcf\"], clean=True)\n",
    "rmax = domain[\"rmax\"]\n",
    "norm_k = np.linspace(1,30, 1000)\n",
    "\n",
    "norm_k, sf_Ogata = sf_kly.compute_sf_hankel_quadrature(pcf_fv_func,\n",
    "                                                        norm_k=norm_k, \n",
    "                                                        step_size=0.05,\n",
    "                                                        nb_points=1000,\n",
    "                                                        rmax=rmax)\n",
    "norm_k_min = sf_kly.norm_k_min\n",
    "print(\"norm_k_min=\", norm_k_min)\n",
    "fig = sf_kly.plot_sf_hankel_quadrature(norm_k, sf_Ogata, \n",
    "                                       error_bar=True,\n",
    "                             norm_k_min=norm_k_min,\n",
    "                                       bins=60,\n",
    "                            # file_name=\"sf_poisson_Ogata.pdf\"\n",
    "                                      )"
   ]
  },
  {
   "cell_type": "code",
   "execution_count": null,
   "metadata": {},
   "outputs": [],
   "source": [
    "from hypton.effective_hyperuniform import EffectiveHyperuniformity\n",
    "hyperuniformity_test = EffectiveHyperuniformity(norm_k, sf_Ogata)\n",
    "mean_norm_k, mean_sf, std_sf = hyperuniformity_test.bin_data(bins=60)\n",
    "H_poisson = hyperuniformity_test.index_H(norm_k_stop=5)\n",
    "print(\"H_poisson=\", H_poisson)\n",
    "fitted_sf_line = hyperuniformity_test.fitted_line # fittend ligne\n",
    "fig=plt.figure(figsize=(10,6))\n",
    "x = np.linspace(0, 30, 300)\n",
    "plt.plot(mean_norm_k, mean_sf, 'b.', label=\"approx_sf\")\n",
    "plt.plot(x, fitted_sf_line(x), 'r--', label= \"fitted line\")\n",
    "plt.legend()\n",
    "plt.xlabel('wavelength')\n",
    "plt.ylabel('sf')\n",
    "plt.show()\n",
    "fig.savefig(\"fitted_sf_ogata_poisson.pdf\", bbox_inches=\"tight\")"
   ]
  },
  {
   "cell_type": "code",
   "execution_count": null,
   "metadata": {},
   "outputs": [],
   "source": [
    "# approximating the structure factor using the Discrete Hankel transform\n",
    "domain, pcf_fv_func = sf_kly.interpolate_pcf(r=pcf_fv[\"r\"], pcf_r=pcf_fv[\"pcf\"], clean=True) # interpolation of pcf_fv\n",
    "rmax = domain[\"rmax\"]\n",
    "norm_k = np.linspace(0.3,30, 2000)\n",
    "norm_k, sf_BadChoui = sf_kly.compute_sf_hankel_quadrature(pcf_fv_func, method=\"BaddourChouinard\", norm_k=norm_k,\n",
    "                                                        nb_points=1000,\n",
    "                                                        rmax=rmax)\n",
    "\n",
    "fig = sf_kly.plot_sf_hankel_quadrature(norm_k, sf_BadChoui,\n",
    "                                       error_bar=True,\n",
    "                                        bins=30,\n",
    "                                     #file_name=\"sf_kly_badchou.pdf\"\n",
    "                                      )"
   ]
  },
  {
   "cell_type": "code",
   "execution_count": null,
   "metadata": {},
   "outputs": [],
   "source": [
    "import matplotlib.pyplot as plt\n",
    "plt.plot(norm_k, sf_BadChoui, 'b.')"
   ]
  },
  {
   "cell_type": "code",
   "execution_count": null,
   "metadata": {},
   "outputs": [],
   "source": [
    "hyperuniformity_test = EffectiveHyperuniformity(norm_k, sf_BadChoui)\n",
    "mean_norm_k, mean_sf, std_sf = hyperuniformity_test.bin_data(bins=100)\n",
    "H_kly = hyperuniformity_test.index_H(norm_k_stop=4)\n",
    "print(\"H_kly=\", H_kly)\n",
    "fitted_sf_line = hyperuniformity_test.fitted_line # fittend ligne\n",
    "fig=plt.figure(figsize=(10,6))\n",
    "x = np.linspace(0, 30, 300)\n",
    "plt.plot(mean_norm_k, mean_sf, 'b.', label=\"approx_sf\")\n",
    "plt.plot(x, fitted_sf_line(x), 'r--', label= \"fitted line\")\n",
    "plt.legend()\n",
    "plt.xlabel('wavelength')\n",
    "plt.ylabel('sf')\n",
    "plt.show()\n",
    "fig.savefig(\"fitted_sf_ogata_poisson.pdf\", bbox_inches=\"tight\")"
   ]
  },
  {
   "cell_type": "markdown",
   "metadata": {},
   "source": [
    "## the lattice $\\mathbb{Z}^2$"
   ]
  },
  {
   "cell_type": "code",
   "execution_count": null,
   "metadata": {},
   "outputs": [],
   "source": [
    "z2_pp = load_data.load_z2()\n",
    "sf_z2 = StructureFactor(z2_pp)\n",
    "norm_k, si = sf_z2.compute_sf_scattering_intensity(max_k=50, meshgrid_size=90)"
   ]
  },
  {
   "cell_type": "code",
   "execution_count": null,
   "metadata": {},
   "outputs": [],
   "source": [
    "L=120\n",
    "bounds = np.array([[0, L], [0, L]]) #bounds of the cube\n",
    "window_res = BoxWindow(bounds)\n",
    "fig = sf_z2.plot_scattering_intensity(norm_k, si, plot_type=\"all\",\n",
    "                                      bins=60, \n",
    "                                      error_bar=True,\n",
    "                                      #file_name=\"z2.pdf\",\n",
    "                                      window_res=window_res)"
   ]
  },
  {
   "cell_type": "code",
   "execution_count": null,
   "metadata": {},
   "outputs": [],
   "source": [
    "import matplotlib.pylab as plt\n",
    "plt.plot(norm_k, si, 'b.')\n",
    "plt.show()"
   ]
  },
  {
   "cell_type": "code",
   "execution_count": null,
   "metadata": {},
   "outputs": [],
   "source": [
    "x = np.linspace(-10, 10, 80)\n",
    "#x = x[x != 0]\n",
    "X, Y = np.meshgrid(x, x)\n",
    "k_vector = [X,Y]\n",
    "norm_k, si = sf_z2.compute_sf_scattering_intensity(k_vector=k_vector)"
   ]
  },
  {
   "cell_type": "code",
   "execution_count": null,
   "metadata": {},
   "outputs": [],
   "source": [
    "L=120\n",
    "bounds = np.array([[0, L], [0, L]]) #bounds of the cube\n",
    "window_res = BoxWindow(bounds)\n",
    "fig = sf_z2.plot_scattering_intensity(norm_k, si, plot_type=\"all\",\n",
    "                                      bins=60, \n",
    "                                      error_bar=True,\n",
    "                                      #file_name=\"si_kly.pdf\",\n",
    "                                      window_res=window_res)"
   ]
  },
  {
   "cell_type": "code",
   "execution_count": null,
   "metadata": {},
   "outputs": [],
   "source": [
    "pcf_fv = sf_z2.compute_pcf(method=\"fv\", Kest=dict(rmax=150),\n",
    "                                        fv=dict(method=\"b\", spar=0.1))\n",
    "pcf_fv"
   ]
  },
  {
   "cell_type": "code",
   "execution_count": null,
   "metadata": {},
   "outputs": [],
   "source": [
    "fig = sf_z2.plot_pcf(pcf_fv,\n",
    "                    #file_name=\"pcf_fv_ginibre.pdf\",\n",
    "                    figsize=(10,6))"
   ]
  },
  {
   "cell_type": "code",
   "execution_count": null,
   "metadata": {},
   "outputs": [],
   "source": [
    "domain, pcf_fv_func = sf_z2.interpolate_pcf(r=pcf_fv[\"r\"], pcf_r=pcf_fv[\"pcf\"], clean=True)\n",
    "rmax = domain[\"rmax\"]"
   ]
  },
  {
   "cell_type": "code",
   "execution_count": null,
   "metadata": {},
   "outputs": [],
   "source": [
    "domain, pcf_fv_func = sf_z2.interpolate_pcf(r=pcf_fv[\"r\"], pcf_r=pcf_fv[\"pcf\"], clean=True)\n",
    "rmax = domain[\"rmax\"]\n",
    "norm_k = np.linspace(0.3,30, 2000)\n",
    "norm_k, sf_BadChoui = sf_z2.compute_sf_hankel_quadrature(pcf_fv_func, method=\"BaddourChouinard\", norm_k=norm_k,\n",
    "                                                        nb_points=1000,\n",
    "                                                        rmax=rmax)\n",
    "\n",
    "fig = sf_z2.plot_sf_hankel_quadrature(norm_k, sf_BadChoui,\n",
    "                                       #error_bar=True,\n",
    "                                        #bins=100,\n",
    "                                     #file_name=\"sf_kly_badchou.pdf\"\n",
    "                                      )"
   ]
  },
  {
   "cell_type": "markdown",
   "metadata": {},
   "source": [
    "# Section 2"
   ]
  },
  {
   "cell_type": "code",
   "execution_count": null,
   "metadata": {},
   "outputs": [],
   "source": [
    "\n",
    "# visualizing the result\n",
    "L=60\n",
    "bounds = np.array([[-L/2, L/2], [-L/2, L/2]]) # bounds of the window \n",
    "window_res = BoxWindow(bounds)\n",
    "exact_sf_ginibre = lambda x : 1 - np.exp(-x**2/4) #exact structure factor of the Ginibre ensemble\n",
    "x = np.linspace(0,5, 200)\n",
    "y = np.linspace(0,10, 200)\n",
    "pcf_sf_poisson = np.ones_like(x)\n",
    "import matplotlib.pyplot as plt\n",
    "fig, axis = plt.subplots(1, 3, figsize=(27,6))\n",
    "poisson_pp.plot(axis[0], window_res=window_res )\n",
    "axis[0].title.set_text(\"Poisson point process\")\n",
    "axis[1].plot(x , pcf_sf_poisson, 'g')\n",
    "axis[1].set_xlabel('Radius ($r$)')\n",
    "axis[1].set_ylabel('Pair correlation function ($g(r)$)')\n",
    "axis[2].plot(y, pcf_sf_poisson, 'g')\n",
    "axis[2].set_xlabel('Wavelength ($k$)')\n",
    "axis[2].set_ylabel('Strcture factor ($S(k)$)')\n",
    "fig.savefig(\"poisson_summery.pdf\", bbox_inches=\"tight\")\n",
    "plt.show()"
   ]
  },
  {
   "cell_type": "code",
   "execution_count": null,
   "metadata": {},
   "outputs": [],
   "source": [
    "L2=60\n",
    "bounds2 = np.array([[0, L], [0, L]]) #bounds of the cube\n",
    "window_res2 = BoxWindow(bounds2)"
   ]
  },
  {
   "cell_type": "code",
   "execution_count": null,
   "metadata": {},
   "outputs": [],
   "source": [
    "\n",
    "exact_pcf_ginibre = lambda x : 1 - np.exp(-x**2) # exact pcf of the Ginibre ensemble\n",
    "exact_sf_ginibre = lambda x : 1 - np.exp(-x**2/4) #exact structure factor of the Ginibre ensemble\n",
    "x = np.linspace(0,5, 200)\n",
    "y = np.linspace(0,10, 200)\n",
    "import matplotlib.pyplot as plt\n",
    "fig, axis = plt.subplots(1, 3, figsize=(27,6))\n",
    "ginibre_pp_box.plot(axis[0])\n",
    "axis[0].title.set_text(\"Ginibre Ensemble\")\n",
    "axis[1].plot(x , exact_pcf_ginibre(x), 'g')\n",
    "axis[1].set_xlabel('Radius ($r$)')\n",
    "axis[1].set_ylabel('Pair correlation function ($g(r)$)')\n",
    "axis[2].plot(y, exact_sf_ginibre(y), 'g')\n",
    "axis[2].set_xlabel('Wavelength ($k$)')\n",
    "axis[2].set_ylabel('Strcture factor ($S(k)$)')\n",
    "fig.savefig(\"gibinre_summery.pdf\", bbox_inches=\"tight\")\n",
    "plt.show()"
   ]
  },
  {
   "cell_type": "code",
   "execution_count": null,
   "metadata": {},
   "outputs": [],
   "source": [
    "max_k = 4; L= 2*np.pi\n",
    "x_k = np.arange(-max_k, max_k, 1)\n",
    "x_k = x_k[x_k != 0]\n",
    "X, Y = np.meshgrid(x_k, x_k)\n",
    "true_allowed_wave_values = 2 * np.pi * np.column_stack((X.ravel(), Y.ravel())) / L\n",
    "true_allowed_wave_values.shape\n"
   ]
  },
  {
   "cell_type": "code",
   "execution_count": null,
   "metadata": {},
   "outputs": [],
   "source": [
    "from hypton import utils\n",
    "res = utils.allowed_wave_values( L = 2 * np.pi, max_k=4, meshgrid_size = 9)\n",
    "res.shape"
   ]
  },
  {
   "cell_type": "code",
   "execution_count": null,
   "metadata": {},
   "outputs": [],
   "source": [
    "np.equal(true_allowed_wave_values,res).all()"
   ]
  },
  {
   "cell_type": "code",
   "execution_count": null,
   "metadata": {},
   "outputs": [],
   "source": [
    "n = np.linspace(1,5,5)\n",
    "X, Y = np.meshgrid(n, n)\n",
    "print(X.ravel(),Y.ravel())"
   ]
  },
  {
   "cell_type": "code",
   "execution_count": null,
   "metadata": {},
   "outputs": [],
   "source": [
    "L=60\n",
    "bounds = np.array([[-L/2, -L/2], [L/2, L/2]]) # bounds of the window \n",
    "window_res = BoxWindow(bounds)\n",
    "\n",
    "L2=60\n",
    "bounds2 = np.array([[0, 0], [L, L]]) #bounds of the cube\n",
    "window_res2 = BoxWindow(bounds2)\n",
    "\n",
    "\n",
    "import matplotlib.pyplot as plt\n",
    "fig, axis = plt.subplots(1, 3, figsize=(20,6))\n",
    "poisson_pp.plot(axis[0], window_res=window_res )\n",
    "axis[0].title.set_text(\"Poisson point process\")\n",
    "ginibre_pp_box.plot(axis[1])\n",
    "axis[1].title.set_text(\"Ginibre Ensemble\")\n",
    "kly_pp.plot(axis[2], window_res=window_res2 )\n",
    "axis[2].title.set_text(\"KLY process\")\n",
    "\n",
    "fig.savefig(\"summery_pp.pdf\", bbox_inches=\"tight\")\n",
    "plt.show()"
   ]
  },
  {
   "cell_type": "code",
   "execution_count": null,
   "metadata": {},
   "outputs": [],
   "source": [
    "mean_norm_k\n"
   ]
  },
  {
   "cell_type": "code",
   "execution_count": null,
   "metadata": {},
   "outputs": [],
   "source": [
    "x = np.linspace(0,10, 200)\n",
    "y = np.linspace(0,15, 200)\n",
    "\n",
    "exact_pcf_ginibre = lambda x : 1 - np.exp(-x**2) # exact pcf of the Ginibre ensemble\n",
    "exact_sf_ginibre = lambda x : 1 - np.exp(-x**2/4) #exact structure factor of the Ginibre ensemble\n",
    "pcf_poisson = np.ones_like(x) # exact pcf of the poisson point process\n",
    "sf_poisson = np.ones_like(y) # exact sf of the poisson point process\n",
    "_, pcf_kly = sf_kly.interpolate_pcf(r=pcf_fv[\"r\"], pcf_r=pcf_fv[\"pcf\"], clean=True) #approx pcf kly\n",
    "mean_norm_k, mean_sf, std_sf = hyperuniformity_test.bin_data(bins=50)\n",
    "\n",
    "\n",
    "\n",
    "\n",
    "fig, axis = plt.subplots(1, 2, figsize=(20,6))\n",
    "axis[0].plot(x, pcf_poisson, 'r', label=\"Poisson\" )\n",
    "axis[0].plot(x, exact_pcf_ginibre(x), 'g', label=\"Ginibre\")\n",
    "axis[0].plot(x, pcf_kly(x), 'grey', label=\"KLY (approximation)\")\n",
    "axis[0].title.set_text(\"Pair correlation function\")\n",
    "axis[0].set_xlabel('Radius ($r$)')\n",
    "axis[0].set_ylabel('Pair correlation function ($g(r)$)')\n",
    "axis[0].legend(loc = 'lower right')\n",
    "\n",
    "axis[1].plot(y, sf_poisson, 'r', label=\"Poisson\" )\n",
    "axis[1].plot(y, exact_pcf_ginibre(y), 'g', label=\"Ginibre\")\n",
    "axis[1].scatter(mean_norm_k[:26], mean_sf[:26], c='grey', s=3, label=\"KLY (scattering intensity)\")\n",
    "axis[1].title.set_text(\"Strcture factor\")\n",
    "axis[1].set_xlabel('Wavelength ($k$)')\n",
    "axis[1].set_ylabel('Strcture factor ($S(k)$)')\n",
    "axis[1].legend()\n",
    "fig.savefig(\"summery_pcf_sf.pdf\", bbox_inches=\"tight\")\n",
    "plt.show()"
   ]
  },
  {
   "cell_type": "code",
   "execution_count": null,
   "metadata": {},
   "outputs": [],
   "source": [
    "ax = ginibre_pp_box.plot()"
   ]
  },
  {
   "cell_type": "code",
   "execution_count": null,
   "metadata": {},
   "outputs": [],
   "source": []
  },
  {
   "cell_type": "code",
   "execution_count": null,
   "metadata": {},
   "outputs": [],
   "source": []
  }
 ],
 "metadata": {
  "interpreter": {
   "hash": "a55764ac299e0a1a65d7e972aa0c64866d632025f8b68908f610b98dba8a58df"
  },
  "kernelspec": {
   "display_name": "Python 3.8.5 64-bit ('.venv': poetry)",
   "name": "python3"
  },
  "language_info": {
   "codemirror_mode": {
    "name": "ipython",
    "version": 3
   },
   "file_extension": ".py",
   "mimetype": "text/x-python",
   "name": "python",
   "nbconvert_exporter": "python",
   "pygments_lexer": "ipython3",
   "version": "3.8.5"
  }
 },
 "nbformat": 4,
 "nbformat_minor": 4
}
