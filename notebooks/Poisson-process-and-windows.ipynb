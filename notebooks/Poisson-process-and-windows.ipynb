{
 "cells": [
  {
   "cell_type": "markdown",
   "metadata": {},
   "source": [
    "# Showcase homogeneous point process and spatial windows"
   ]
  },
  {
   "cell_type": "code",
   "execution_count": null,
   "metadata": {},
   "outputs": [],
   "source": [
    "%load_ext autoreload\n",
    "%autoreload 2"
   ]
  },
  {
   "cell_type": "code",
   "execution_count": null,
   "metadata": {},
   "outputs": [],
   "source": [
    "import matplotlib.pyplot as plt\n",
    "\n",
    "from hypton.homogeneous_poisson_process import HomogeneousPoissonPointProcess\n",
    "from hypton.spatial_windows import UnitBoxWindow, BoxWindow"
   ]
  },
  {
   "cell_type": "markdown",
   "metadata": {},
   "source": [
    "Create a box window and sample point uniformly at random inside it"
   ]
  },
  {
   "cell_type": "code",
   "execution_count": null,
   "metadata": {},
   "outputs": [],
   "source": [
    "window = UnitBoxWindow(2)\n",
    "points = window.rand(n=200, seed=0)  # random_state=None\n",
    "\n",
    "fig, ax = plt.subplots()\n",
    "ax.scatter(points[:, 0], points[:, 1])\n",
    "ax.set_xlim(window.bounds[0])\n",
    "ax.set_ylim(window.bounds[1])\n",
    "ax.set_aspect('equal', 'box')\n",
    "plt.show()"
   ]
  },
  {
   "cell_type": "markdown",
   "metadata": {},
   "source": [
    "Create a homogenous poisson point process and sample from it"
   ]
  },
  {
   "cell_type": "code",
   "execution_count": null,
   "metadata": {},
   "outputs": [],
   "source": [
    "intensity = 200.0\n",
    "pp = HomogeneousPoissonPointProcess(intensity)\n",
    "\n",
    "window = UnitBoxWindow(2)\n",
    "points = pp.generate_sample(window, random_state=0)  # random_state=None\n",
    "\n",
    "fig, ax = plt.subplots()\n",
    "ax.scatter(points[:, 0], points[:, 1])\n",
    "ax.set_xlim(window.bounds[0])\n",
    "ax.set_ylim(window.bounds[1])\n",
    "ax.set_aspect('equal', 'box')\n",
    "plt.show()"
   ]
  },
  {
   "cell_type": "code",
   "execution_count": null,
   "metadata": {},
   "outputs": [],
   "source": [
    "import numpy as np\n",
    "bounds= np.array([[-100, 100], [-100, 100]])\n",
    "box_window = BoxWindow(bounds)\n",
    "intensity = 1/ np.pi\n",
    "pp = HomogeneousPoissonPointProcess(intensity)\n",
    "points = pp.generate_sample(box_window, seed=0)\n",
    "fig, ax = plt.subplots()\n",
    "ax.scatter(points[:, 0], points[:, 1], s=0.1)\n",
    "ax.set_xlim(box_window.bounds[0])\n",
    "ax.set_ylim(box_window.bounds[1])\n",
    "ax.set_aspect('equal', 'box')\n",
    "plt.show()\n"
   ]
  },
  {
   "cell_type": "code",
   "execution_count": null,
   "metadata": {},
   "outputs": [],
   "source": []
  }
 ],
 "metadata": {
  "interpreter": {
   "hash": "a55764ac299e0a1a65d7e972aa0c64866d632025f8b68908f610b98dba8a58df"
  },
  "kernelspec": {
   "display_name": "Python 3.8.5 64-bit ('.venv': poetry)",
   "name": "python3"
  },
  "language_info": {
   "codemirror_mode": {
    "name": "ipython",
    "version": 3
   },
   "file_extension": ".py",
   "mimetype": "text/x-python",
   "name": "python",
   "nbconvert_exporter": "python",
   "pygments_lexer": "ipython3",
   "version": "3.8.5"
  },
  "orig_nbformat": 2
 },
 "nbformat": 4,
 "nbformat_minor": 2
}
