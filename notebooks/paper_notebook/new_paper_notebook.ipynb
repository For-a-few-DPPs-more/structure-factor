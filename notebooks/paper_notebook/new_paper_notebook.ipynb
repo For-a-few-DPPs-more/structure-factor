{
 "cells": [
  {
   "cell_type": "code",
   "execution_count": null,
   "metadata": {},
   "outputs": [],
   "source": [
    "from IPython.core.display import display, HTML\n",
    "display(HTML(\"<style>.container { width:100% !important; }</style>\"))\n",
    "\n",
    "%load_ext autoreload\n",
    "%autoreload 2\n",
    "\n",
    "%config InlineBackend.figure_format='retina'\n",
    "import os\n",
    "import sys\n",
    "sys.path.insert(0, os.path.abspath('../src/'))"
   ]
  },
  {
   "cell_type": "markdown",
   "metadata": {},
   "source": [
    "This notebook is a companion to the paper TBC, and reproduces the plots from the paper. We use the Ginibre point process as a running example. It is convenient, since its two-point correlation function and structure factor are analytically known."
   ]
  },
  {
   "cell_type": "code",
   "execution_count": null,
   "metadata": {},
   "outputs": [],
   "source": [
    "import numpy as np\n",
    "from structure_factor.data import load_data\n",
    "from structure_factor.structure_factor import StructureFactor\n",
    "import structure_factor.utils as utils"
   ]
  },
  {
   "cell_type": "code",
   "execution_count": null,
   "metadata": {},
   "outputs": [],
   "source": [
    "import matplotlib as mpl\n",
    "import matplotlib.pyplot as plt\n",
    "\n",
    "# make plots look nice\n",
    "plt.ticklabel_format(style='sci', axis='x', scilimits=(0,0))\n",
    "mpl.rcParams['xtick.labelsize'] = 25\n",
    "mpl.rcParams['ytick.labelsize'] = 25\n",
    "plt.rc('axes', labelsize=22)\n",
    "plt.rc('legend', fontsize=16)\n",
    "mpl.rcParams['ps.useafm'] = True\n",
    "mpl.rcParams['pdf.use14corefonts'] = True\n",
    "mpl.rcParams['text.usetex'] = True"
   ]
  },
  {
   "cell_type": "markdown",
   "metadata": {},
   "source": [
    "# 1- Ginibre Ensemble "
   ]
  },
  {
   "cell_type": "code",
   "execution_count": null,
   "metadata": {},
   "outputs": [],
   "source": [
    "ginibre_pp = load_data.load_ginibre()"
   ]
  },
  {
   "cell_type": "code",
   "execution_count": null,
   "metadata": {},
   "outputs": [],
   "source": [
    "from structure_factor.spatial_windows import BallWindow\n",
    "window_show = BallWindow(center=(0,0), radius=50)\n",
    "ginibre_pp.plot(window_res=window_show, \n",
    "                #file_name=\"ginibre_ball.png\"\n",
    "               )\n",
    "                # we provide a method to plot the underlying sample"
   ]
  },
  {
   "cell_type": "code",
   "execution_count": null,
   "metadata": {},
   "outputs": [],
   "source": [
    "from structure_factor.structure_factor import StructureFactor\n",
    "sf_ginibre = StructureFactor(ginibre_pp) "
   ]
  },
  {
   "cell_type": "code",
   "execution_count": null,
   "metadata": {
    "scrolled": false
   },
   "outputs": [],
   "source": [
    "from structure_factor.spatial_windows import BoxWindow\n",
    "L = ginibre_pp.window.radius/np.sqrt(2) # sidelength of the cubic window\n",
    "print(\"Restricting the window to a cube of length\", L)\n",
    "bounds = np.array([[-L/2, L/2], [-L/2, L/2]]) \n",
    "window = BoxWindow(bounds) # create a cubic window\n",
    "ginibre_pp_box = ginibre_pp.restrict_to_window(window) # create a Ginibre point pattern with box window\n",
    "sf_ginibre_box = StructureFactor(ginibre_pp_box) # initialize a new instance of StructureFactor\n",
    "#ginibre_pp_box.plot(file_name=\"ginibre_sample.png\")"
   ]
  },
  {
   "cell_type": "markdown",
   "metadata": {},
   "source": [
    "## 1.1- Direct spectral estimators (DSE)"
   ]
  },
  {
   "cell_type": "markdown",
   "metadata": {},
   "source": [
    "### 1.1.1- Scattering intensity"
   ]
  },
  {
   "cell_type": "code",
   "execution_count": null,
   "metadata": {},
   "outputs": [],
   "source": [
    "\n",
    "# on allowed values \n",
    "allowed_k, si = sf_ginibre_box.scattering_intensity(k_max=8)\n",
    "print(\"Scattering intensity\")\n",
    "fig, axis = plt.subplots(figsize=(7,6))\n",
    "fig = sf_ginibre.plot_tapered_periodogram(allowed_k, si, axes=axis, plot_type=\"radial\",exact_sf=utils.structure_factor_ginibre,\n",
    "                                            bins=80, error_bar=True, label=r\"$\\widehat{S}_{\\mathrm{SI}}(\\frac{2\\pi\\mathbf{n}}{L})$\",\n",
    "                                           #file_name=\"si_allowed_k.png\"\n",
    "                                          )"
   ]
  },
  {
   "cell_type": "markdown",
   "metadata": {},
   "source": [
    "Scattering intensity on non allowed values and debiased scattering intensity"
   ]
  },
  {
   "cell_type": "code",
   "execution_count": null,
   "metadata": {},
   "outputs": [],
   "source": [
    "x = np.linspace(-8, 8, 300)\n",
    "x = x[x != 0]\n",
    "X, Y = np.meshgrid(x, x)\n",
    "k = np.column_stack((X.ravel(), Y.ravel()))\n",
    "# on k \n",
    "k, si1 = sf_ginibre_box.scattering_intensity(k=k, debiased=False)\n",
    "# on k debiased directly\n",
    "k, si2 = sf_ginibre_box.scattering_intensity(k=k, debiased=True)\n",
    "# on k debiased undirectly\n",
    "k, si3 = sf_ginibre_box.scattering_intensity(k=k, debiased=True, direct=False)"
   ]
  },
  {
   "cell_type": "code",
   "execution_count": null,
   "metadata": {},
   "outputs": [],
   "source": [
    "fig, axis = plt.subplots(figsize=(7,6))\n",
    "fig = sf_ginibre.plot_tapered_periodogram(k, si1, axes=axis, positive=False, plot_type=\"radial\",exact_sf=utils.structure_factor_ginibre,\n",
    "                                            bins=60, error_bar=True, label=r\"$\\widehat{S}_{\\mathrm{SI}}(\\mathbf{k})$\",\n",
    "                                           file_name=\"si_k_ginibre.png\"\n",
    "                                          )"
   ]
  },
  {
   "cell_type": "markdown",
   "metadata": {},
   "source": [
    " all the above estimators in one picture"
   ]
  },
  {
   "cell_type": "code",
   "execution_count": null,
   "metadata": {},
   "outputs": [],
   "source": [
    "norm_k_allowed = utils.norm_k(allowed_k)\n",
    "norm_k = utils.norm_k(k)\n",
    "fig, axis = plt.subplots(figsize=(8, 6))\n",
    "utils.plot_summary(norm_k_allowed, si, axis=axis, label=r\"$\\widehat{S}_{\\mathrm{SI}}(2 \\pi \\mathbf{n}/ L)$\", fmt='b', bins=60)\n",
    "utils.plot_summary(norm_k, si1, axis=axis, label=r\"$\\widehat{S}_{\\mathrm{SI}}(\\mathbf{k})$\", fmt='grey', bins=60 )\n",
    "utils.plot_summary(norm_k, si2, axis=axis, label=r\"$\\widehat{S}_{\\mathrm{DTP}}(\\mathbf{k})$\", fmt='k', bins=150 )\n",
    "utils.plot_summary(norm_k, si3, axis=axis, label=r\"$\\widehat{S}_{\\mathrm{UDTP}}(\\mathbf{k})$\",fmt='c', bins=180 )\n",
    "axis.plot(norm_k, utils.structure_factor_ginibre(norm_k), 'g' )"
   ]
  },
  {
   "cell_type": "markdown",
   "metadata": {},
   "source": [
    "### 1.1.2- Tapered periodogram with sine taper"
   ]
  },
  {
   "cell_type": "code",
   "execution_count": null,
   "metadata": {},
   "outputs": [],
   "source": [
    "from structure_factor.tapers import SineTaper\n",
    "## tapered periodogram\n",
    "x = np.linspace(-8, 8, 300)\n",
    "x = x[x != 0]\n",
    "X, Y = np.meshgrid(x, x)\n",
    "k = np.column_stack((X.ravel(), Y.ravel()))\n",
    "p = [1, 1]\n",
    "taper = SineTaper(p)\n",
    "s_tp = sf_ginibre_box.tapered_periodogram(k, taper, debiased=False)\n",
    "s_dtp = sf_ginibre_box.tapered_periodogram(k, taper)\n",
    "s_udtp = sf_ginibre_box.tapered_periodogram(k, taper, debiased=True, direct=False)"
   ]
  },
  {
   "cell_type": "code",
   "execution_count": null,
   "metadata": {},
   "outputs": [],
   "source": [
    "fig, axis = plt.subplots(figsize=(7,6))\n",
    "fig = sf_ginibre.plot_tapered_periodogram(k, s_dtp, axes=axis, positive=False, plot_type=\"radial\",exact_sf=utils.structure_factor_ginibre,\n",
    "                                            bins=100, error_bar=True, label=r\"$\\widehat{S}_{\\mathrm{DTP}}(\\mathbf{k})$\",\n",
    "                                           file_name=\"s_dtp_sine_taper_ginibre.png\"\n",
    "                                          )"
   ]
  },
  {
   "cell_type": "code",
   "execution_count": null,
   "metadata": {},
   "outputs": [],
   "source": [
    "norm_k = utils.norm_k(k)\n",
    "fig, axis = plt.subplots(figsize=(8, 6))\n",
    "utils.plot_summary(norm_k, s_tp, axis=axis, label=r\"$\\widehat{S}_{\\mathrm{TP}}(\\mathbf{k})$\", fmt='b', bins=60 )\n",
    "utils.plot_summary(norm_k, s_dtp, axis=axis, label=r\"$\\widehat{S}_{\\mathrm{DTP}}(\\mathbf{k})$\", fmt='k', bins=150 )\n",
    "utils.plot_summary(norm_k, s_udtp, axis=axis, label=r\"$\\widehat{S}_{\\mathrm{UDTP}}(\\mathbf{k})$\",fmt='c', bins=180 )\n",
    "axis.plot(norm_k, utils.structure_factor_ginibre(norm_k), 'g' )"
   ]
  },
  {
   "cell_type": "markdown",
   "metadata": {},
   "source": [
    " Result with scattering intensity"
   ]
  },
  {
   "cell_type": "code",
   "execution_count": null,
   "metadata": {
    "scrolled": true
   },
   "outputs": [],
   "source": [
    "norm_k = utils.norm_k(k)\n",
    "fig, axis = plt.subplots(figsize=(8, 6))\n",
    "utils.plot_summary(norm_k, s_dtp, axis=axis, label=r\"$\\widehat{S}_{\\mathrm{DTP}}(\\mathbf{k})$\", fmt='c', bins=150 )\n",
    "utils.plot_summary(norm_k_allowed, si, axis=axis, label=r\"$\\widehat{S}_{\\mathrm{SI}}(2 \\pi \\mathbf{n}/ L)$\", fmt='b', bins=60)\n",
    "utils.plot_summary(norm_k, si2, axis=axis, label=r\"$\\widehat{S}_{\\mathrm{SIDTP}}(\\mathbf{k})$\", fmt='k', bins=150 )\n",
    "axis.plot(norm_k, utils.structure_factor_ginibre(norm_k), 'g' )"
   ]
  },
  {
   "cell_type": "markdown",
   "metadata": {},
   "source": [
    "sine taper looks better than scattering inetsnity"
   ]
  },
  {
   "cell_type": "markdown",
   "metadata": {},
   "source": [
    "### 1.1.3- Multitapering"
   ]
  },
  {
   "cell_type": "code",
   "execution_count": null,
   "metadata": {},
   "outputs": [],
   "source": [
    "from structure_factor.tapers import SineTaper\n",
    "## multitapered tapered periodogram\n",
    "x = np.linspace(-8, 8, 300)\n",
    "x = x[x != 0]\n",
    "X, Y = np.meshgrid(x, x)\n",
    "k = np.column_stack((X.ravel(), Y.ravel()))\n",
    "s_mtp = sf_ginibre_box.multitapered_periodogram(k, debiased=False)\n",
    "s_mdtp = sf_ginibre_box.multitapered_periodogram(k)\n",
    "s_mudtp = sf_ginibre_box.multitapered_periodogram(k, debiased=True, direct=False)"
   ]
  },
  {
   "cell_type": "code",
   "execution_count": null,
   "metadata": {
    "scrolled": true
   },
   "outputs": [],
   "source": [
    "fig, axis = plt.subplots(figsize=(7,6))\n",
    "fig = sf_ginibre.plot_tapered_periodogram(k, s_mudtp, axes=axis, positive=False, plot_type=\"radial\",exact_sf=utils.structure_factor_ginibre,\n",
    "                                            bins=80, error_bar=True, label=r\"$\\widehat{S}_{\\mathrm{MUDTP}}(\\mathbf{k})$\",\n",
    "                                           #file_name=\"s_mudtp_sine_taper_ginibre.png\"\n",
    "                                          )"
   ]
  },
  {
   "cell_type": "code",
   "execution_count": null,
   "metadata": {},
   "outputs": [],
   "source": [
    "norm_k = utils.norm_k(k)\n",
    "fig, axis = plt.subplots(figsize=(8, 6))\n",
    "utils.plot_summary(norm_k, s_mtp, axis=axis, label=r\"$\\widehat{S}_{\\mathrm{MTP}}(\\mathbf{k})$\", fmt='b', ecolor=\"b\", bins=60 )\n",
    "utils.plot_summary(norm_k, s_mdtp, axis=axis, label=r\"$\\widehat{S}_{\\mathrm{MDTP}}(\\mathbf{k})$\", fmt='k', ecolor=\"k\", bins=150 )\n",
    "utils.plot_summary(norm_k, s_mudtp, axis=axis, label=r\"$\\widehat{S}_{\\mathrm{MUDTP}}(\\mathbf{k})$\",fmt='c', ecolor=\"c\", bins=180 )\n",
    "axis.plot(norm_k, utils.structure_factor_ginibre(norm_k), 'g' )"
   ]
  },
  {
   "cell_type": "markdown",
   "metadata": {},
   "source": [
    "compaising with the best of the above"
   ]
  },
  {
   "cell_type": "code",
   "execution_count": null,
   "metadata": {},
   "outputs": [],
   "source": [
    "norm_k = utils.norm_k(k)\n",
    "norm_k_allowed = utils.norm_k(allowed_k)\n",
    "\n",
    "fig, axis = plt.subplots(figsize=(10, 8))\n",
    "utils.plot_summary(norm_k_allowed, si, axis=axis, label=r\"$\\widehat{S}_{\\mathrm{SI}}(2 \\pi \\mathbf{n}/ L)$\", fmt='b', ecolor='b', bins=50)\n",
    "#utils.plot_summary(norm_k, si2, axis=axis, label=r\"$\\widehat{S}_{\\mathrm{SIDTP}}(\\mathbf{k})$\", fmt='k', ecolor='k', bins=150 )\n",
    "utils.plot_summary(norm_k, s_dtp, axis=axis, label=r\"$\\widehat{S}_{\\mathrm{DTP}}(\\mathbf{k})$\", fmt='k', ecolor='k', bins=50 )\n",
    "utils.plot_summary(norm_k, s_mdtp, axis=axis, label=r\"$\\widehat{S}_{\\mathrm{MDTP}}(\\mathbf{k})$\", fmt='m', ecolor=\"m\", bins=50 )\n",
    "axis.plot(norm_k, utils.structure_factor_ginibre(norm_k), 'g' )"
   ]
  },
  {
   "cell_type": "markdown",
   "metadata": {},
   "source": [
    "## 1.2- Isotropic estimator (ISD)"
   ]
  },
  {
   "cell_type": "markdown",
   "metadata": {},
   "source": [
    "### 1.2.1- Bartlett isotropic estimator"
   ]
  },
  {
   "cell_type": "code",
   "execution_count": null,
   "metadata": {},
   "outputs": [],
   "source": [
    "k_norm, s_bi = sf_ginibre.bartlett_isotropic_estimator()"
   ]
  },
  {
   "cell_type": "code",
   "execution_count": null,
   "metadata": {},
   "outputs": [],
   "source": [
    "fig, axis = plt.subplots(figsize=(7,6))\n",
    "sf_ginibre.plot_isotropic_estimator(k_norm, s_bi, exact_sf=utils.structure_factor_ginibre, axis=axis,\n",
    "                                    label=r\"$\\widehat{S}_{\\mathrm{BI}}(k)$\", file_name=\"s_bi_ginibre.png\")"
   ]
  },
  {
   "cell_type": "code",
   "execution_count": null,
   "metadata": {
    "scrolled": true
   },
   "outputs": [],
   "source": [
    "k_non_allowed = np.linspace(min(k_norm) + 0.002, max(k_norm), 100)\n",
    "k_norm_non_allowed, s_bi_non_allowed = sf_ginibre.bartlett_isotropic_estimator(k_non_allowed)\n",
    "fig, axis = plt.subplots(figsize=(7,6))\n",
    "sf_ginibre.plot_isotropic_estimator(k_norm_non_allowed, s_bi_non_allowed, axis=axis, exact_sf=utils.structure_factor_ginibre,\n",
    "                                         label=r\"$\\widehat{S}_{\\mathrm{BI}}(k)$\", file_name=\"s_bi_ginibre_non_allowed.png\")"
   ]
  },
  {
   "cell_type": "markdown",
   "metadata": {},
   "source": [
    "### 1.2.2- Hankel transform estimation"
   ]
  },
  {
   "cell_type": "markdown",
   "metadata": {},
   "source": [
    "#### 1.2.2.1- Pair correlation function"
   ]
  },
  {
   "cell_type": "markdown",
   "metadata": {},
   "source": [
    "pcf.ppp"
   ]
  },
  {
   "cell_type": "code",
   "execution_count": null,
   "metadata": {},
   "outputs": [],
   "source": [
    "from structure_factor.pair_correlation_function import PairCorrelationFunction as pcf\n",
    "\n",
    "r= np.linspace(0, 10, 200)\n",
    "ginibre_pcf_ppp = pcf.estimate(ginibre_pp, method=\"ppp\", r=r, correction=\"all\")"
   ]
  },
  {
   "cell_type": "code",
   "execution_count": null,
   "metadata": {},
   "outputs": [],
   "source": [
    "pcf.plot(ginibre_pcf_ppp, exact_pcf=utils.pair_correlation_function_ginibre, figsize=(7,6),\n",
    "         color=['grey', 'b', 'darkcyan'], style=[\".\", \"*\", \"^\"],\n",
    "         file_name=\"pcf_ppp_ginibre.png\")"
   ]
  },
  {
   "cell_type": "code",
   "execution_count": null,
   "metadata": {},
   "outputs": [],
   "source": [
    "from structure_factor.pair_correlation_function import PairCorrelationFunction as pcf\n",
    "\n",
    "ginibre_pcf_fv = pcf.estimate(ginibre_pp, method=\"fv\", Kest=dict(rmax=30), fv=dict(method=\"b\", spar=0.4))"
   ]
  },
  {
   "cell_type": "code",
   "execution_count": null,
   "metadata": {},
   "outputs": [],
   "source": [
    "pcf.plot(ginibre_pcf_fv, exact_pcf=utils.pair_correlation_function_ginibre, figsize=(7,6),\n",
    "         color=['grey'], style=[\".\"],\n",
    "         file_name=\"pcf_fv_ginibre.png\")"
   ]
  },
  {
   "cell_type": "markdown",
   "metadata": {},
   "source": [
    "Interpolation"
   ]
  },
  {
   "cell_type": "code",
   "execution_count": null,
   "metadata": {},
   "outputs": [],
   "source": [
    "domain, ginibre_pcf_fct = pcf.interpolate(r=ginibre_pcf_fv[\"r\"][1:], pcf_r=ginibre_pcf_fv[\"pcf\"][1:])\n",
    "r_max = domain[\"r_max\"]\n",
    "r_ = np.linspace(0, r_max, 200 )\n",
    "plt.plot(r_, ginibre_pcf_fct(r_), 'b')\n",
    "plt.plot(r_, utils.pair_correlation_function_ginibre(r_), 'g')"
   ]
  },
  {
   "cell_type": "markdown",
   "metadata": {},
   "source": [
    "Ogata"
   ]
  },
  {
   "cell_type": "code",
   "execution_count": null,
   "metadata": {},
   "outputs": [],
   "source": [
    " # upper bound of the raduis on which the pcf has been approximated\n",
    "k_norm = np.linspace(3,10, 300) # vector of wave length\n",
    "k_norm, sf_Ogata = sf_ginibre.hankel_quadrature(ginibre_pcf_fct, method=\"Ogata\", k_norm=k_norm, step_size=0.1,\n",
    "                                                    nb_points=1000, r_max=r_max)"
   ]
  },
  {
   "cell_type": "code",
   "execution_count": null,
   "metadata": {},
   "outputs": [],
   "source": [
    "fig = sf_ginibre.plot_isotropic_estimator(k_norm, sf_Ogata, \n",
    "                                           exact_sf=utils.structure_factor_ginibre,\n",
    "                                          label=r\"$\\widehat{S}_{\\mathrm{HO}}(k)$\",\n",
    "                                            #bins=60,\n",
    "                                            #error_bar=True,\n",
    "                                            file_name=\"ginibre_s_ho.png\"\n",
    "                                           )\n"
   ]
  },
  {
   "cell_type": "markdown",
   "metadata": {},
   "source": [
    "Baddour-Chouinard"
   ]
  },
  {
   "cell_type": "code",
   "execution_count": null,
   "metadata": {},
   "outputs": [],
   "source": [
    "k = np.linspace(0.5, 10, 200)\n",
    "k_norm, s_hbc = sf_ginibre.hankel_quadrature(ginibre_pcf_fct,k_norm=k,  r_max=r_max,  nb_points=1000 )"
   ]
  },
  {
   "cell_type": "code",
   "execution_count": null,
   "metadata": {},
   "outputs": [],
   "source": [
    "fig, axis= plt.subplots(figsize=(7,6))\n",
    "sf_ginibre.plot_isotropic_estimator(k_norm, s_hbc, axis=axis, exact_sf=utils.structure_factor_ginibre,\n",
    "                                    label=r\"$\\widehat{S}_{\\mathrm{HBC}}(k)$\",file_name=\"ginibre_s_hbc.png\")"
   ]
  },
  {
   "cell_type": "markdown",
   "metadata": {},
   "source": [
    "# 2- Poisson point process"
   ]
  },
  {
   "cell_type": "markdown",
   "metadata": {},
   "source": [
    "In this section we repeat the previous experience on a point configuration from a standard homogeneous Poisson Point Process in a cubic window"
   ]
  },
  {
   "cell_type": "code",
   "execution_count": null,
   "metadata": {},
   "outputs": [],
   "source": [
    "from structure_factor.data import load_data\n",
    "poisson_pp = load_data.load_poisson()\n",
    "poisson_pp_res = poisson_pp.restrict_to_window(window)\n",
    "sf_poisson_res = StructureFactor(poisson_pp_res) # initializing the StructureFactor class"
   ]
  },
  {
   "cell_type": "code",
   "execution_count": null,
   "metadata": {},
   "outputs": [],
   "source": [
    "poisson_pp_res.plot()"
   ]
  },
  {
   "cell_type": "markdown",
   "metadata": {},
   "source": [
    "## 2.1- Direct sprectral estimator"
   ]
  },
  {
   "cell_type": "markdown",
   "metadata": {},
   "source": [
    "### 2.1.2- Scattering intensity"
   ]
  },
  {
   "cell_type": "code",
   "execution_count": null,
   "metadata": {},
   "outputs": [],
   "source": [
    "\n",
    "# on allowed values \n",
    "allowed_k, si = sf_poisson_res.scattering_intensity(k_max=5)\n",
    "print(\"Scattering intensity\")\n",
    "k_norm = np.linalg.norm(allowed_k, axis=1)\n",
    "fig, axis = plt.subplots(figsize=(7,6))\n",
    "fig = sf_poisson_res.plot_tapered_periodogram(allowed_k, si, axes=axis, plot_type=\"radial\",exact_sf=utils.structure_factor_poisson,\n",
    "                                               label=r\"$\\widehat{S}_{\\mathrm{SI}}(\\frac{2\\pi\\mathbf{n}}{L})$\",\n",
    "                                            bins=40, error_bar=True, file_name=\"si_allowed_k_pois.png\")"
   ]
  },
  {
   "cell_type": "code",
   "execution_count": null,
   "metadata": {},
   "outputs": [],
   "source": [
    "x = np.linspace(-8, 8, 300)\n",
    "x = x[x != 0]\n",
    "X, Y = np.meshgrid(x, x)\n",
    "k = np.column_stack((X.ravel(), Y.ravel()))\n",
    "# on k \n",
    "k, si1 = sf_poisson_res.scattering_intensity(k=k, debiased=False)\n",
    "# on k debiased directly\n",
    "k, si2 = sf_poisson_res.scattering_intensity(k=k, debiased=True)\n",
    "# on k debiased undirectly\n",
    "k, si3 = sf_poisson_res.scattering_intensity(k=k, debiased=True, direct=False)"
   ]
  },
  {
   "cell_type": "code",
   "execution_count": null,
   "metadata": {},
   "outputs": [],
   "source": [
    "fig, axis = plt.subplots(figsize=(7,6))\n",
    "fig = sf_poisson_res.plot_scattering_intensity(k, si3, axes=axis, positive=False, plot_type=\"radial\",exact_sf=utils.structure_factor_poisson,\n",
    "                                               label=r\"$\\widehat{S}_{\\mathrm{UDTP}}(\\mathbf{k})$\",\n",
    "                                            bins=65, error_bar=True, file_name=\"si_unddebiased_pois.png\")"
   ]
  },
  {
   "cell_type": "markdown",
   "metadata": {},
   "source": [
    "### 2.1.2- Tapered periodogram with SineTaper"
   ]
  },
  {
   "cell_type": "code",
   "execution_count": null,
   "metadata": {},
   "outputs": [],
   "source": [
    "from structure_factor.tapers import SineTaper\n",
    "## tapered periodogram\n",
    "x = np.linspace(-8, 8, 300)\n",
    "x = x[x != 0]\n",
    "X, Y = np.meshgrid(x, x)\n",
    "k = np.column_stack((X.ravel(), Y.ravel()))\n",
    "p = [1, 1]\n",
    "taper = SineTaper(p)\n",
    "s_tp = sf_poisson_res.tapered_periodogram(k, taper, debiased=False)\n",
    "s_dtp = sf_poisson_res.tapered_periodogram(k, taper)\n",
    "s_udtp = sf_poisson_res.tapered_periodogram(k, taper, debiased=True, direct=False)"
   ]
  },
  {
   "cell_type": "code",
   "execution_count": null,
   "metadata": {},
   "outputs": [],
   "source": [
    "fig, axis = plt.subplots(figsize=(7,6))\n",
    "fig = sf_poisson_res.plot_scattering_intensity(k, s_udtp, axes=axis, positive=False, plot_type=\"radial\",\n",
    "                                            bins=100, error_bar=True, label=r\"$\\widehat{S}_{\\mathrm{UDTP}}(\\mathbf{k})$\",\n",
    "                                           file_name=\"s_udtp_sine_taper_poisson.png\"\n",
    "                                          )"
   ]
  },
  {
   "cell_type": "markdown",
   "metadata": {},
   "source": [
    "### 2.1.3- Multitapering"
   ]
  },
  {
   "cell_type": "code",
   "execution_count": null,
   "metadata": {},
   "outputs": [],
   "source": [
    "from structure_factor.tapers import SineTaper\n",
    "## multitapered tapered periodogram\n",
    "x = np.linspace(-8, 8, 300)\n",
    "x = x[x != 0]\n",
    "X, Y = np.meshgrid(x, x)\n",
    "k = np.column_stack((X.ravel(), Y.ravel()))\n",
    "s_mtp = sf_poisson_res.multitapered_periodogram(k, debiased=False)\n",
    "s_mdtp = sf_poisson_res.multitapered_periodogram(k, P=2)\n",
    "s_mudtp = sf_poisson_res.multitapered_periodogram(k, debiased=True, direct=False, P=2)"
   ]
  },
  {
   "cell_type": "code",
   "execution_count": null,
   "metadata": {},
   "outputs": [],
   "source": [
    "fig, axis = plt.subplots(figsize=(7,6))\n",
    "fig = sf_poisson_res.plot_tapered_periodogram(k, s_mudtp, axes=axis, positive=False, plot_type=\"radial\",\n",
    "                                            bins=60, error_bar=True, label=r\"$\\widehat{S}_{\\mathrm{MUDTP}}(\\mathbf{k})$\",\n",
    "                                           file_name=\"s_mudtp_sine_taper_poisson.png\"\n",
    "                                          )"
   ]
  },
  {
   "cell_type": "markdown",
   "metadata": {},
   "source": [
    "## 2.2- Isotropic estimators"
   ]
  },
  {
   "cell_type": "code",
   "execution_count": null,
   "metadata": {},
   "outputs": [],
   "source": [
    "from structure_factor.spatial_windows import BallWindow\n",
    "from structure_factor.point_pattern import PointPattern\n",
    "from structure_factor.homogeneous_poisson_process import HomogeneousPoissonPointProcess\n",
    "poisson_ = HomogeneousPoissonPointProcess(intensity=1)\n",
    "window_show = BallWindow(center=(0,0), radius=100)\n",
    "poisson_points_ball = poisson_.generate_sample(window=window_show)\n",
    "poisson_pp_ball = PointPattern(poisson_points_ball, window=window_show, intensity=1)\n",
    "poisson_pp_ball.plot( file_name=\"poisson_ball.png\")"
   ]
  },
  {
   "cell_type": "code",
   "execution_count": null,
   "metadata": {},
   "outputs": [],
   "source": [
    "sf_poisson_ball = StructureFactor(poisson_pp_ball)"
   ]
  },
  {
   "cell_type": "markdown",
   "metadata": {},
   "source": [
    "### 2.2.1- Bartlett isotropic estimators"
   ]
  },
  {
   "cell_type": "code",
   "execution_count": null,
   "metadata": {},
   "outputs": [],
   "source": [
    "k_norm, s_bi = sf_poisson_ball.bartlett_isotropic_estimator()\n",
    "fig, axis = plt.subplots(figsize=(7,6))\n",
    "sf_poisson_ball.plot_isotropic_estimator(k_norm, s_bi, axis=axis,\n",
    "                                         label=r\"$\\widehat{S}_{\\mathrm{BI}}(k)$\", file_name=\"s_bi_poisson.png\")"
   ]
  },
  {
   "cell_type": "code",
   "execution_count": null,
   "metadata": {},
   "outputs": [],
   "source": [
    "sf_poisson_ball.plot_isotropic_estimator(k_norm, s_bi, axis=axis,\n",
    "                                         label=r\"$\\widehat{S}_{\\mathrm{BI}}(k)$\", file_name=\"s_bi_poisson.png\")"
   ]
  },
  {
   "cell_type": "code",
   "execution_count": null,
   "metadata": {},
   "outputs": [],
   "source": [
    "k_non_allowed = np.linspace(min(k_norm)+0.002, max(k_norm) + 0.002, 100)\n",
    "k_norm_non_allowed, s_bi_non_allowed = sf_poisson_ball.bartlett_isotropic_estimator(k_non_allowed)\n",
    "fig, axis = plt.subplots(figsize=(7,6))\n",
    "sf_poisson_ball.plot_isotropic_estimator(k_norm_non_allowed, s_bi_non_allowed, axis=axis,\n",
    "                                         label=r\"$\\widehat{S}_{\\mathrm{BI}}(k)$\", file_name=\"s_bi_poisson_non_allowed.png\")"
   ]
  },
  {
   "cell_type": "code",
   "execution_count": null,
   "metadata": {},
   "outputs": [],
   "source": [
    "sf_poisson_ball.plot_isotropic_estimator(k_norm_non_allowed, s_bi_non_allowed, axis=axis,\n",
    "                                         label=r\"$\\widehat{S}_{\\mathrm{BI}}(k)$\", file_name=\"s_bi_poisson_non_allowed.png\")\n",
    "plt.show()"
   ]
  },
  {
   "cell_type": "markdown",
   "metadata": {},
   "source": [
    "### 2.2.2- Pair correlation function"
   ]
  },
  {
   "cell_type": "markdown",
   "metadata": {},
   "source": [
    "pcf.ppp"
   ]
  },
  {
   "cell_type": "code",
   "execution_count": null,
   "metadata": {},
   "outputs": [],
   "source": [
    "from structure_factor.pair_correlation_function import PairCorrelationFunction as pcf\n",
    "\n",
    "r= np.linspace(0, 10, 200)\n",
    "poisson_pcf_ppp = pcf.estimate(poisson_pp_ball, method=\"ppp\", r=r, correction=\"all\")\n",
    "pcf.plot(poisson_pcf_ppp, figsize=(7,6),\n",
    "         color=['grey', 'b', 'darkcyan'], style=[\".\", \"*\", \"^\"],\n",
    "         file_name=\"pcf_ppp_poisson.png\")"
   ]
  },
  {
   "cell_type": "markdown",
   "metadata": {},
   "source": [
    "pcf.fv"
   ]
  },
  {
   "cell_type": "code",
   "execution_count": null,
   "metadata": {},
   "outputs": [],
   "source": [
    "from structure_factor.pair_correlation_function import PairCorrelationFunction as pcf\n",
    "\n",
    "poisson_pcf_fv = pcf.estimate(poisson_pp_ball, method=\"fv\", Kest=dict(rmax=30), fv=dict(method=\"b\", spar=1))\n",
    "pcf.plot(poisson_pcf_fv, figsize=(7,6),\n",
    "         color=['grey'], style=[\".\"],\n",
    "         file_name=\"pcf_fv_poisson.png\")"
   ]
  },
  {
   "cell_type": "markdown",
   "metadata": {},
   "source": [
    "Interpolation"
   ]
  },
  {
   "cell_type": "code",
   "execution_count": null,
   "metadata": {},
   "outputs": [],
   "source": [
    "domain, poisson_pcf_fct = pcf.interpolate(r=poisson_pcf_fv[\"r\"][1:], pcf_r=poisson_pcf_fv[\"pcf\"][1:])\n",
    "\n",
    "r_max = domain[\"r_max\"] # upper bound of the raduis on which the pcf has been approximated"
   ]
  },
  {
   "cell_type": "markdown",
   "metadata": {},
   "source": [
    "Ogata"
   ]
  },
  {
   "cell_type": "code",
   "execution_count": null,
   "metadata": {},
   "outputs": [],
   "source": [
    "\n",
    "k_norm = np.linspace(0.4,10, 3000) # vector of wave length\n",
    "k_norm, sf_Ogata = sf_thomas_ball.hankel_quadrature(thomas_pcf_fct, method=\"Ogata\", k_norm=k_norm, step_size=0.1,\n",
    "                                                    nb_points=1000, r_max=r_max)\n",
    "\n",
    "fig = sf_thomas_ball.plot_isotropic_estimator(k_norm, sf_Ogata, \n",
    "                                           exact_sf=sf_th_exact,\n",
    "                                            #bins=60,\n",
    "                                            #error_bar=True,\n",
    "                                            file_name=\"thomas_s_ho.png\"\n",
    "                                           )"
   ]
  },
  {
   "cell_type": "markdown",
   "metadata": {},
   "source": [
    "Baddour-Chouinard"
   ]
  },
  {
   "cell_type": "code",
   "execution_count": null,
   "metadata": {},
   "outputs": [],
   "source": [
    "k = np.linspace(0.5, 10, 200)\n",
    "k_norm, s_hbc = sf_poisson_ball.hankel_quadrature(poisson_pcf_fct,\n",
    "                                                  k_norm=k,\n",
    "                                                   r_max=r_max, \n",
    "                                                   nb_points=1000\n",
    "                                                   )\n",
    "fig, axis= plt.subplots(figsize=(7,6))\n",
    "sf_poisson_ball.plot_isotropic_estimator(k_norm, s_hbc, axis=axis, label=r\"$\\widehat{S}_{\\mathrm{HBC}}$\", file_name=\"poisson_s_hbc.png\"\n",
    "                                           )"
   ]
  },
  {
   "cell_type": "code",
   "execution_count": null,
   "metadata": {},
   "outputs": [],
   "source": []
  },
  {
   "cell_type": "code",
   "execution_count": null,
   "metadata": {},
   "outputs": [],
   "source": []
  },
  {
   "cell_type": "code",
   "execution_count": null,
   "metadata": {},
   "outputs": [],
   "source": []
  },
  {
   "cell_type": "markdown",
   "metadata": {},
   "source": [
    "# 3- KLY process"
   ]
  },
  {
   "cell_type": "code",
   "execution_count": null,
   "metadata": {},
   "outputs": [],
   "source": [
    "kly_pp = load_data.load_kly()\n",
    "L1 = kly_pp.window.bounds[1][1]\n",
    "kly_pp.points = kly_pp.points - L1/2\n",
    "kly_pp.window = BoxWindow([[-L1/2, L1/2], [-L1/2, L1/2]])\n",
    "kly_pp_res = kly_pp.restrict_to_window(window)\n",
    "kly_pp_res.plot()"
   ]
  },
  {
   "cell_type": "markdown",
   "metadata": {},
   "source": [
    "## 3.1- Direct spectral estimator"
   ]
  },
  {
   "cell_type": "markdown",
   "metadata": {},
   "source": [
    "### 3.1.1- Scattering intensity"
   ]
  },
  {
   "cell_type": "code",
   "execution_count": null,
   "metadata": {},
   "outputs": [],
   "source": [
    "sf_kly_res = StructureFactor(kly_pp_res)"
   ]
  },
  {
   "cell_type": "code",
   "execution_count": null,
   "metadata": {},
   "outputs": [],
   "source": [
    "\n",
    "# on allowed values \n",
    "params={\"k_max\",2}\n",
    "allowed_k, si = sf_kly_res.scattering_intensity(k_max=15)\n",
    "print(\"Scattering intensity\")\n",
    "\n"
   ]
  },
  {
   "cell_type": "code",
   "execution_count": null,
   "metadata": {},
   "outputs": [],
   "source": [
    "fig, axis = plt.subplots(figsize=(7,6))\n",
    "fig = sf_kly_res.plot_tapered_periodogram(allowed_k, si, axes=axis, plot_type=\"radial\",\n",
    "                                           label=r\"$\\widehat{S}_{\\mathrm{SI}}(\\frac{2\\pi\\mathbf{n}}{L})$\",\n",
    "                                            bins=80, error_bar=True, \n",
    "                                           #file_name=\"si_allowed_k_kly.png\"\n",
    "                                          )"
   ]
  },
  {
   "cell_type": "code",
   "execution_count": null,
   "metadata": {},
   "outputs": [],
   "source": [
    "x = np.linspace(-15, 15, 340)\n",
    "x = x[x != 0]\n",
    "X, Y = np.meshgrid(x, x)\n",
    "k = np.column_stack((X.ravel(), Y.ravel()))\n",
    "# on k \n",
    "k, si1 = sf_kly_res.scattering_intensity(k=k, debiased=False)\n",
    "# on k debiased directly\n",
    "k, si2 = sf_kly_res.scattering_intensity(k=k, debiased=True)\n",
    "# on k debiased undirectly\n",
    "k, si3 = sf_kly_res.scattering_intensity(k=k, debiased=True, direct=False)"
   ]
  },
  {
   "cell_type": "code",
   "execution_count": null,
   "metadata": {},
   "outputs": [],
   "source": [
    "fig, axis = plt.subplots(figsize=(7,6))\n",
    "fig = sf_kly_res.plot_tapered_periodogram(k, si1, axes=axis, positive=False, plot_type=\"radial\",\n",
    "                                           label=r\"$\\widehat{S}_{\\mathrm{SI}}(\\mathbf{k})$\",\n",
    "                                            bins=60, error_bar=True, file_name=\"si_k_kly.png\")"
   ]
  },
  {
   "cell_type": "markdown",
   "metadata": {},
   "source": [
    "### 3.1.2- Tapered periodogram with SineTaper"
   ]
  },
  {
   "cell_type": "code",
   "execution_count": null,
   "metadata": {},
   "outputs": [],
   "source": [
    "from structure_factor.tapers import SineTaper\n",
    "## tapered periodogram\n",
    "x = np.linspace(-8, 8, 300)\n",
    "x = x[x != 0]\n",
    "X, Y = np.meshgrid(x, x)\n",
    "k = np.column_stack((X.ravel(), Y.ravel()))\n",
    "p = [1, 1]\n",
    "taper = SineTaper(p)\n",
    "s_tp = sf_kly_res.tapered_periodogram(k, taper, debiased=False)\n",
    "s_dtp = sf_kly_res.tapered_periodogram(k, taper)\n",
    "s_udtp = sf_kly_res.tapered_periodogram(k, taper, debiased=True, direct=False)"
   ]
  },
  {
   "cell_type": "code",
   "execution_count": null,
   "metadata": {},
   "outputs": [],
   "source": [
    "fig, axis = plt.subplots(figsize=(7,6))\n",
    "fig = sf_kly_res.tapered_periodogram(k, s_udtp, axes=axis, positive=False, plot_type=\"radial\",\n",
    "                                            bins=100, error_bar=True, label=r\"$\\widehat{S}_{\\mathrm{UDTP}}(\\mathbf{k})$\",\n",
    "                                           file_name=\"s_udtp_sine_taper_kly.png\"\n",
    "                                          )"
   ]
  },
  {
   "cell_type": "markdown",
   "metadata": {},
   "source": [
    "### 3.1.3- Multitapering"
   ]
  },
  {
   "cell_type": "code",
   "execution_count": null,
   "metadata": {},
   "outputs": [],
   "source": [
    "from structure_factor.tapers import SineTaper\n",
    "## multitapered tapered periodogram\n",
    "x = np.linspace(-8, 8, 300)\n",
    "x = x[x != 0]\n",
    "X, Y = np.meshgrid(x, x)\n",
    "k = np.column_stack((X.ravel(), Y.ravel()))\n",
    "s_mtp = sf_kly_res.multitapered_periodogram(k, debiased=False)\n",
    "s_mdtp = sf_kly_res.multitapered_periodogram(k)\n",
    "s_mudtp = sf_kly_res.multitapered_periodogram(k, debiased=True, direct=False)"
   ]
  },
  {
   "cell_type": "code",
   "execution_count": null,
   "metadata": {},
   "outputs": [],
   "source": [
    "fig, axis = plt.subplots(figsize=(7,6))\n",
    "fig = sf_kly_res.plot_tapered_periodogram(k, s_mtp, axes=axis, positive=False, plot_type=\"radial\",\n",
    "                                            bins=80, error_bar=True, label=r\"$\\widehat{S}_{\\mathrm{MTP}}(\\mathbf{k})$\",\n",
    "                                            file_name=\"s_mtp_sine_taper_kly.png\"\n",
    "                                          )"
   ]
  },
  {
   "cell_type": "markdown",
   "metadata": {},
   "source": [
    "## 3.2- Isotropic estimators"
   ]
  },
  {
   "cell_type": "code",
   "execution_count": null,
   "metadata": {},
   "outputs": [],
   "source": [
    "kly_pp_ball = kly_pp.restrict_to_window(BallWindow(center=(0,0), radius=100))\n",
    "window_show = BallWindow(center=(0,0), radius=50)\n",
    "#kly_pp_ball.plot(window_res=window_show, file_name=\"kly_ball.png\")"
   ]
  },
  {
   "cell_type": "code",
   "execution_count": null,
   "metadata": {},
   "outputs": [],
   "source": [
    "sf_kly_ball = StructureFactor(kly_pp_ball)"
   ]
  },
  {
   "cell_type": "markdown",
   "metadata": {},
   "source": [
    "### 3.2.1- Bartlett isotropic estimators"
   ]
  },
  {
   "cell_type": "code",
   "execution_count": null,
   "metadata": {},
   "outputs": [],
   "source": [
    "\n",
    "k_norm, s_bi = sf_kly_ball.bartlett_isotropic_estimator(n_allowed_k_norm=200)\n",
    "fig, axis = plt.subplots(figsize=(7,6))\n",
    "sf_kly_ball.plot_isotropic_estimator(k_norm, s_bi, axis=axis,\n",
    "                                         label=r\"$\\widehat{S}_{\\mathrm{BI}}(k)$\", file_name=\"s_bi_kly.png\")"
   ]
  },
  {
   "cell_type": "code",
   "execution_count": null,
   "metadata": {
    "scrolled": true
   },
   "outputs": [],
   "source": [
    "k_non_allowed = np.linspace(min(k_norm)+ 0.003, max(k_norm), 200)\n",
    "k_norm_non_allowed, s_bi_non_allowed = sf_kly_ball.bartlett_isotropic_estimator(k_non_allowed)\n",
    "fig, axis = plt.subplots(figsize=(7,6))\n",
    "sf_kly_ball.plot_isotropic_estimator(k_norm_non_allowed, s_bi_non_allowed, axis=axis,\n",
    "                                         label=r\"$\\widehat{S}_{\\mathrm{BI}}(k)$\", file_name=\"s_bi_kly_non_allowed.png\")"
   ]
  },
  {
   "cell_type": "markdown",
   "metadata": {},
   "source": [
    "### 3.2.2- Pair correlation function"
   ]
  },
  {
   "cell_type": "markdown",
   "metadata": {},
   "source": [
    "pcf.ppp"
   ]
  },
  {
   "cell_type": "code",
   "execution_count": null,
   "metadata": {},
   "outputs": [],
   "source": [
    "from structure_factor.pair_correlation_function import PairCorrelationFunction as pcf\n",
    "\n",
    "r= np.linspace(0, 10, 200)\n",
    "kly_pcf_ppp = pcf.estimate(kly_pp_ball, method=\"ppp\", r=r, correction=\"all\")\n",
    "pcf.plot(kly_pcf_ppp, figsize=(7,6),\n",
    "         color=['grey', 'b', 'darkcyan'], style=[\".\", \"*\", \"^\"],\n",
    "         file_name=\"pcf_ppp_kly.png\")"
   ]
  },
  {
   "cell_type": "code",
   "execution_count": null,
   "metadata": {
    "scrolled": true
   },
   "outputs": [],
   "source": [
    "from structure_factor.pair_correlation_function import PairCorrelationFunction as pcf\n",
    "\n",
    "kly_pcf_fv = pcf.estimate(kly_pp_ball, method=\"fv\", Kest=dict(rmax=30), fv=dict(method=\"b\", spar=0.4))\n",
    "pcf.plot(kly_pcf_fv, figsize=(7,6),\n",
    "         color=['grey'], style=[\".\"],\n",
    "         file_name=\"pcf_fv_kly.png\")"
   ]
  },
  {
   "cell_type": "markdown",
   "metadata": {},
   "source": [
    "Interpolation"
   ]
  },
  {
   "cell_type": "code",
   "execution_count": null,
   "metadata": {},
   "outputs": [],
   "source": [
    "domain, kly_pcf_fct = pcf.interpolate(r=kly_pcf_fv[\"r\"][1:], pcf_r=kly_pcf_fv[\"pcf\"][1:])\n",
    "r_max = domain[\"r_max\"] # upper bound of the raduis on which the pcf has been approximated\n"
   ]
  },
  {
   "cell_type": "markdown",
   "metadata": {},
   "source": [
    "### 3.2.3- Hankel transform"
   ]
  },
  {
   "cell_type": "markdown",
   "metadata": {},
   "source": [
    "Ogata"
   ]
  },
  {
   "cell_type": "code",
   "execution_count": null,
   "metadata": {},
   "outputs": [],
   "source": [
    "k_norm = np.linspace(0.4,10, 3000) # vector of wave length\n",
    "k_norm, sf_Ogata = sf_thomas_ball.hankel_quadrature(thomas_pcf_fct, method=\"Ogata\", k_norm=k_norm, step_size=0.1,\n",
    "                                                    nb_points=1000, r_max=r_max)\n"
   ]
  },
  {
   "cell_type": "code",
   "execution_count": null,
   "metadata": {},
   "outputs": [],
   "source": [
    "\n",
    "fig = sf_thomas_ball.plot_isotropic_estimator(k_norm, sf_Ogata, \n",
    "                                           exact_sf=sf_th_exact,\n",
    "                                            #bins=60,\n",
    "                                            #error_bar=True,\n",
    "                                            file_name=\"thomas_s_ho.png\"\n",
    "                                           )"
   ]
  },
  {
   "cell_type": "markdown",
   "metadata": {},
   "source": [
    "Baddour-Chouinard"
   ]
  },
  {
   "cell_type": "code",
   "execution_count": null,
   "metadata": {},
   "outputs": [],
   "source": [
    "k = np.linspace(0.5, 10, 200)\n",
    "k_norm, s_hbc = sf_kly_ball.hankel_quadrature(kly_pcf_fct, k_norm=k, r_max=r_max, nb_points=1000)"
   ]
  },
  {
   "cell_type": "code",
   "execution_count": null,
   "metadata": {},
   "outputs": [],
   "source": [
    "fig, axis= plt.subplots(figsize=(7,6))\n",
    "sf_kly_ball.plot_isotropic_estimator(k_norm, s_hbc, axis=axis, label=r\"$\\widehat{S}_{\\mathrm{HBC}}(k)$\" , file_name=\"kly_s_hbc.png\")"
   ]
  },
  {
   "cell_type": "markdown",
   "metadata": {},
   "source": [
    "# 4- Thomas process"
   ]
  },
  {
   "cell_type": "code",
   "execution_count": null,
   "metadata": {},
   "outputs": [],
   "source": [
    "\n",
    "L= 200\n",
    "# Simulation window parameters\n",
    "xMin = -L/2;\n",
    "xMax = L/2;\n",
    "yMin = -L/2;\n",
    "yMax = L/2;\n",
    "\n",
    "# Parameters for the parent and daughter point processes\n",
    "lambdaParent = 1/(10*np.pi);  # density of parent Poisson point process\n",
    "lambdaDaughter = 10*np.pi;  # mean number of points in each cluster\n",
    "sigma = 2;  # sigma for normal variables (ie random locations) of daughters\n",
    "\n",
    "# Extended simulation windows parameters\n",
    "rExt=6*sigma; # extension parameter \n",
    "# for rExt, use factor of deviation sigma eg 5 or 6\n",
    "xMinExt = xMin - rExt;\n",
    "xMaxExt = xMax + rExt;\n",
    "yMinExt = yMin - rExt;\n",
    "yMaxExt = yMax + rExt;\n",
    "# rectangle dimensions\n",
    "xDeltaExt = xMaxExt - xMinExt;\n",
    "yDeltaExt = yMaxExt - yMinExt;\n",
    "areaTotalExt = xDeltaExt * yDeltaExt;  # area of extended rectangle\n",
    "\n",
    "# Simulate Poisson point process for the parents\n",
    "numbPointsParent = np.random.poisson(areaTotalExt * lambdaParent);# Poisson number of points\n",
    "# x and y coordinates of Poisson points for the parent\n",
    "xxParent = xMinExt + xDeltaExt * np.random.uniform(0, 1, numbPointsParent);\n",
    "yyParent = yMinExt + yDeltaExt * np.random.uniform(0, 1, numbPointsParent);\n",
    "\n",
    "# Simulate Poisson point process for the daughters (ie final poiint process)\n",
    "numbPointsDaughter = np.random.poisson(lambdaDaughter, numbPointsParent);\n",
    "numbPoints = sum(numbPointsDaughter);  # total number of points\n",
    "\n",
    "# Generate the (relative) locations in Cartesian coordinates by\n",
    "# simulating independent normal variables\n",
    "xx0 = np.random.normal(0, sigma, numbPoints);  # (relative) x coordinaets\n",
    "yy0 = np.random.normal(0, sigma, numbPoints);  # (relative) y coordinates\n",
    "\n",
    "# replicate parent points (ie centres of disks/clusters)\n",
    "xx = np.repeat(xxParent, numbPointsDaughter);\n",
    "yy = np.repeat(yyParent, numbPointsDaughter);\n",
    "\n",
    "# translate points (ie parents points are the centres of cluster disks)\n",
    "xx = xx + xx0;\n",
    "yy = yy + yy0;\n",
    "\n",
    "# thin points if outside the simulation window\n",
    "booleInside = ((xx >= xMin) & (xx <= xMax) & (yy >= yMin) & (yy <= yMax));\n",
    "# retain points inside simulation window\n",
    "xx = xx[booleInside];  \n",
    "yy = yy[booleInside];\n",
    "\n",
    "# Plotting\n",
    "plt.scatter(xx, yy, edgecolor='b', facecolor='none', alpha=0.5, s=2);\n",
    "plt.xlabel(\"x\");\n",
    "plt.ylabel(\"y\");\n",
    "plt.axis('equal');"
   ]
  },
  {
   "cell_type": "code",
   "execution_count": null,
   "metadata": {},
   "outputs": [],
   "source": [
    "from structure_factor.point_pattern import PointPattern\n",
    "from structure_factor.spatial_windows import BoxWindow, BallWindow\n",
    "\n",
    "thomas_points = np.column_stack((xx , yy))\n",
    "bounds = [[xMin, xMax], [yMin, yMax]]\n",
    "thomas_window = BoxWindow(bounds)\n",
    "thomas_intensity = lambdaParent*lambdaDaughter\n",
    "intensity_parent = lambdaParent\n",
    "sigma = sigma\n",
    "thomas_pp = PointPattern(thomas_points, thomas_window )\n",
    "#thomas_pp.plot(file_name=\"thomas_pp.png\")"
   ]
  },
  {
   "cell_type": "code",
   "execution_count": null,
   "metadata": {},
   "outputs": [],
   "source": [
    "sf_thomas_res = StructureFactor(thomas_pp)\n",
    "sf_th_exact = lambda k: utils.structure_factor_thomas(k, lambdaDaughter, sigma )"
   ]
  },
  {
   "cell_type": "markdown",
   "metadata": {},
   "source": [
    "## 4.1- Direct spectral estimator"
   ]
  },
  {
   "cell_type": "markdown",
   "metadata": {},
   "source": [
    "### 4.1.1- Scattering intensity"
   ]
  },
  {
   "cell_type": "code",
   "execution_count": null,
   "metadata": {
    "scrolled": true
   },
   "outputs": [],
   "source": [
    "\n",
    "# on allowed values \n",
    "allowed_k, si = sf_thomas_res.scattering_intensity(k_max=6)\n",
    "print(\"Scattering intensity\")\n",
    "\n"
   ]
  },
  {
   "cell_type": "code",
   "execution_count": null,
   "metadata": {},
   "outputs": [],
   "source": [
    "fig, axis = plt.subplots(figsize=(7,6))\n",
    "fig = sf_thomas_res.plot_scattering_intensity(allowed_k, si, axes=axis, plot_type=\"radial\",exact_sf=sf_th_exact,\n",
    "                                            bins=80, error_bar=True, \n",
    "                                            label=r\"$\\widehat{S}_{\\mathrm{SI}}(\\frac{2\\pi\\mathbf{n}}{L})$\",\n",
    "                                            file_name=\"si_allowed_k_thomas.png\"\n",
    "                                             )"
   ]
  },
  {
   "cell_type": "code",
   "execution_count": null,
   "metadata": {},
   "outputs": [],
   "source": [
    "x = np.linspace(-8, 8, 300)\n",
    "x = x[x != 0]\n",
    "X, Y = np.meshgrid(x, x)\n",
    "k = np.column_stack((X.ravel(), Y.ravel()))\n",
    "# on k \n",
    "k, si1 = sf_thomas_res.scattering_intensity(k=k, debiased=False)\n",
    "# on k debiased directly\n",
    "k, si2 = sf_thomas_res.scattering_intensity(k=k, debiased=True)\n",
    "# on k debiased undirectly\n",
    "k, si3 = sf_thomas_res.scattering_intensity(k=k, debiased=True, direct=False)"
   ]
  },
  {
   "cell_type": "code",
   "execution_count": null,
   "metadata": {},
   "outputs": [],
   "source": [
    "fig, axis = plt.subplots(figsize=(7,6))\n",
    "fig = sf_thomas_res.plot_scattering_intensity(k, si1, axes=axis, plot_type=\"radial\",exact_sf=sf_th_exact,\n",
    "                                            bins=60, error_bar=True, \n",
    "                                            label=r\"$\\widehat{S}_{\\mathrm{SI}}(\\mathbf{k})$\",\n",
    "                                            file_name=\"si_k_thomas.png\"\n",
    "                                             )"
   ]
  },
  {
   "cell_type": "markdown",
   "metadata": {},
   "source": [
    "### 4.1.2- Tapered periodogram SineTaper"
   ]
  },
  {
   "cell_type": "code",
   "execution_count": null,
   "metadata": {},
   "outputs": [],
   "source": [
    "from structure_factor.tapers import SineTaper\n",
    "## tapered periodogram\n",
    "x = np.linspace(-8, 8, 300)\n",
    "x = x[x != 0]\n",
    "X, Y = np.meshgrid(x, x)\n",
    "k = np.column_stack((X.ravel(), Y.ravel()))\n",
    "p = [1, 1]\n",
    "taper = SineTaper(p)\n",
    "s_tp = sf_thomas_res.tapered_periodogram(k, taper, debiased=False)\n",
    "s_dtp = sf_thomas_res.tapered_periodogram(k, taper)\n",
    "s_udtp = sf_thomas_res.tapered_periodogram(k, taper, debiased=True, direct=False)"
   ]
  },
  {
   "cell_type": "code",
   "execution_count": null,
   "metadata": {},
   "outputs": [],
   "source": [
    "fig, axis = plt.subplots(figsize=(7,6))\n",
    "fig = sf_thomas_res.plot_tapered_periodogram(k, s_dtp, axes=axis, positive=False, plot_type=\"radial\", exact_sf=sf_th_exact,\n",
    "                                            bins=80, error_bar=True, label=r\"$\\widehat{S}_{\\mathrm{DTP}}(\\mathbf{k})$\",\n",
    "                                           #file_name=\"s_tp_sine_taper_thomas.png\"\n",
    "                                          )"
   ]
  },
  {
   "cell_type": "markdown",
   "metadata": {},
   "source": [
    "### 4.1.3- Multitapering"
   ]
  },
  {
   "cell_type": "code",
   "execution_count": null,
   "metadata": {},
   "outputs": [],
   "source": [
    "from structure_factor.tapers import SineTaper\n",
    "## multitapered tapered periodogram\n",
    "x = np.linspace(-8, 8, 300)\n",
    "x = x[x != 0]\n",
    "X, Y = np.meshgrid(x, x)\n",
    "k = np.column_stack((X.ravel(), Y.ravel()))\n",
    "s_mtp = sf_thomas_res.multitapered_periodogram(k, debiased=False)\n",
    "s_mdtp = sf_thomas_res.multitapered_periodogram(k, debiased=True, direct=True) #or simply sf_thomas_res.multitapered_periodogram(k)\n",
    "s_mudtp = sf_thomas_res.multitapered_periodogram(k, debiased=True, direct=False)"
   ]
  },
  {
   "cell_type": "code",
   "execution_count": null,
   "metadata": {},
   "outputs": [],
   "source": [
    "fig, axis = plt.subplots(figsize=(7,6))\n",
    "fig = sf_thomas_res.plot_tapered_periodogram(k, s_mtp, axes=axis, positive=False, plot_type=\"radial\",exact_sf=sf_th_exact,\n",
    "                                            bins=80, error_bar=True, label=r\"$\\widehat{S}_{\\mathrm{MTP}}(\\mathbf{k})$\",\n",
    "                                            #file_name=\"s_mtp_sine_taper_thomas.png\"\n",
    "                                          )"
   ]
  },
  {
   "cell_type": "markdown",
   "metadata": {},
   "source": [
    "## 4.2- Isotropic estimators"
   ]
  },
  {
   "cell_type": "markdown",
   "metadata": {},
   "source": []
  },
  {
   "cell_type": "code",
   "execution_count": null,
   "metadata": {},
   "outputs": [],
   "source": [
    "from structure_factor.point_pattern import PointPattern\n",
    "\n",
    "thomas_points = np.column_stack((xx , yy))\n",
    "bounds = [[-200, 200], [-200, 200]]\n",
    "thomas_window = BoxWindow(bounds)\n",
    "thomas_intensity = lambdaParent*lambdaDaughter\n",
    "intensity_parent = lambdaParent\n",
    "sigma = sigma\n",
    "thomas_pp = PointPattern(thomas_points, thomas_window )"
   ]
  },
  {
   "cell_type": "code",
   "execution_count": null,
   "metadata": {
    "scrolled": true
   },
   "outputs": [],
   "source": [
    "thomas_pp_ball = thomas_pp.restrict_to_window(BallWindow(center=(0,0), radius=100))\n",
    "window_show = BallWindow(center=(0,0), radius=50)\n",
    "thomas_pp_ball.plot( file_name=\"thomas_ball.png\")"
   ]
  },
  {
   "cell_type": "code",
   "execution_count": null,
   "metadata": {},
   "outputs": [],
   "source": [
    "sf_thomas_ball = StructureFactor(thomas_pp_ball)"
   ]
  },
  {
   "cell_type": "markdown",
   "metadata": {},
   "source": [
    "### 4.2.1- Bartlett isotropic estimator"
   ]
  },
  {
   "cell_type": "code",
   "execution_count": null,
   "metadata": {},
   "outputs": [],
   "source": [
    "\n",
    "k_norm, s_bi = sf_thomas_ball.bartlett_isotropic_estimator(n_allowed_k_norm=150)\n"
   ]
  },
  {
   "cell_type": "code",
   "execution_count": null,
   "metadata": {},
   "outputs": [],
   "source": [
    "fig, axis = plt.subplots(figsize=(7,6))\n",
    "sf_th_exact = lambda k: utils.structure_factor_thomas(k, lambdaDaughter, sigma )\n",
    "sf_thomas_ball.plot_isotropic_estimator(k_norm, s_bi, axis=axis, exact_sf=sf_th_exact,\n",
    "                                         label=r\"$\\widehat{S}_{\\mathrm{BI}}(k)$\", file_name=\"s_bi_thomas.png\")"
   ]
  },
  {
   "cell_type": "code",
   "execution_count": null,
   "metadata": {},
   "outputs": [],
   "source": [
    "k = np.linspace(min(k_norm) + 0.002, max(k_norm), 150)\n",
    "k_norm_non_allowed, s_bi_nonallowed = sf_thomas_ball.bartlett_isotropic_estimator(k_norm=k)"
   ]
  },
  {
   "cell_type": "code",
   "execution_count": null,
   "metadata": {
    "scrolled": true
   },
   "outputs": [],
   "source": [
    "fig, axis = plt.subplots(figsize=(7,6))\n",
    "sf_th_exact = lambda k: utils.structure_factor_thomas(k, lambdaDaughter, sigma )\n",
    "sf_thomas_ball.plot_isotropic_estimator(k_norm_non_allowed, s_bi_nonallowed, axis=axis, exact_sf=sf_th_exact,\n",
    "                                         label=r\"$\\widehat{S}_{\\mathrm{BI}}(k)$\", file_name=\"s_bi_thomas_non_allowed_k.png\")"
   ]
  },
  {
   "cell_type": "markdown",
   "metadata": {},
   "source": [
    "### 4.2.2- Pair correlation function"
   ]
  },
  {
   "cell_type": "markdown",
   "metadata": {},
   "source": [
    "pcf.ppp"
   ]
  },
  {
   "cell_type": "code",
   "execution_count": null,
   "metadata": {},
   "outputs": [],
   "source": [
    "ext_pcf_thomas = lambda r: utils.pair_correlation_function_thomas(r, d=2, rho_parent=lambdaParent, sigma=sigma)"
   ]
  },
  {
   "cell_type": "code",
   "execution_count": null,
   "metadata": {},
   "outputs": [],
   "source": [
    "from structure_factor.pair_correlation_function import PairCorrelationFunction as pcf\n",
    "\n",
    "r= np.linspace(0, 10, 200)\n",
    "thomas_pcf_ppp = pcf.estimate(thomas_pp_ball, method=\"ppp\", r=r, correction=\"all\")\n",
    "pcf.plot(thomas_pcf_ppp, figsize=(7,6),\n",
    "         exact_pcf=ext_pcf_thomas,\n",
    "         color=['grey', 'b', 'darkcyan'], style=[\".\", \"*\", \"^\"],\n",
    "         file_name=\"pcf_ppp_thomas.png\")"
   ]
  },
  {
   "cell_type": "code",
   "execution_count": null,
   "metadata": {},
   "outputs": [],
   "source": [
    "from structure_factor.pair_correlation_function import PairCorrelationFunction as pcf\n",
    "\n",
    "thomas_pcf_fv = pcf.estimate(thomas_pp_ball, method=\"fv\", Kest=dict(rmax=30), fv=dict(method=\"b\", spar=0.3))\n"
   ]
  },
  {
   "cell_type": "code",
   "execution_count": null,
   "metadata": {},
   "outputs": [],
   "source": [
    "thomas_pcf_fv"
   ]
  },
  {
   "cell_type": "code",
   "execution_count": null,
   "metadata": {
    "scrolled": true
   },
   "outputs": [],
   "source": [
    "pcf.plot(thomas_pcf_fv, figsize=(7,6),\n",
    "         exact_pcf=ext_pcf_thomas,\n",
    "         color=['grey'], style=[\".\"],\n",
    "         #file_name=\"pcf_fv_thomas.png\"\n",
    "        )"
   ]
  },
  {
   "cell_type": "markdown",
   "metadata": {},
   "source": [
    "Interpolation"
   ]
  },
  {
   "cell_type": "code",
   "execution_count": null,
   "metadata": {},
   "outputs": [],
   "source": [
    "domain, thomas_pcf_fct = pcf.interpolate(r=thomas_pcf_fv[\"r\"][1:], pcf_r=thomas_pcf_fv[\"pcf\"][1:])\n",
    "r_max = domain[\"r_max\"]"
   ]
  },
  {
   "cell_type": "code",
   "execution_count": null,
   "metadata": {},
   "outputs": [],
   "source": [
    "r_ = np.linspace(0, 20, 200 )\n",
    "plt.plot(r, thomas_pcf_fct(r), 'b')\n",
    "plt.plot(r, ext_pcf_thomas(r), 'g')"
   ]
  },
  {
   "cell_type": "markdown",
   "metadata": {},
   "source": [
    "#### 4.2.3- Hankel transform "
   ]
  },
  {
   "cell_type": "markdown",
   "metadata": {},
   "source": [
    "Ogata"
   ]
  },
  {
   "cell_type": "code",
   "execution_count": null,
   "metadata": {},
   "outputs": [],
   "source": [
    "r_max = domain[\"r_max\"] # upper bound of the raduis on which the pcf has been approximated\n",
    "k_norm = np.linspace(0.4,10, 3000) # vector of wave length\n",
    "k_norm, sf_Ogata = sf_thomas_ball.hankel_quadrature(thomas_pcf_fct, method=\"Ogata\", k_norm=k_norm, step_size=0.1,\n",
    "                                                    nb_points=1000, r_max=r_max)\n"
   ]
  },
  {
   "cell_type": "code",
   "execution_count": null,
   "metadata": {},
   "outputs": [],
   "source": [
    "fig = sf_thomas_ball.plot_isotropic_estimator(k_norm, sf_Ogata, \n",
    "                                           exact_sf=sf_th_exact,\n",
    "                                            #bins=60,\n",
    "                                            #error_bar=True,\n",
    "                                            file_name=\"thomas_s_ho.png\"\n",
    "                                           )"
   ]
  },
  {
   "cell_type": "markdown",
   "metadata": {},
   "source": [
    "Baddour chouinard"
   ]
  },
  {
   "cell_type": "code",
   "execution_count": null,
   "metadata": {},
   "outputs": [],
   "source": [
    "k = np.linspace(0.1, 10, 200)\n",
    "k_norm, s_hbc = sf_thomas_ball.hankel_quadrature(thomas_pcf_fct, k_norm=k,  r_max=r_max, nb_points=1000)"
   ]
  },
  {
   "cell_type": "code",
   "execution_count": null,
   "metadata": {},
   "outputs": [],
   "source": [
    "fig, axis= plt.subplots(figsize=(7,6))\n",
    "sf_thomas_ball.plot_isotropic_estimator(k_norm, s_hbc,axis=axis, exact_sf=sf_th_exact,label= r\"$\\widehat{S}_{\\mathrm{HBC}}(k)$\",file_name=\"thomas_s_hbc.png\" )"
   ]
  },
  {
   "cell_type": "markdown",
   "metadata": {},
   "source": [
    "## Sine taper"
   ]
  },
  {
   "cell_type": "code",
   "execution_count": null,
   "metadata": {},
   "outputs": [],
   "source": [
    "from structure_factor.tapers import SineTaper"
   ]
  },
  {
   "cell_type": "code",
   "execution_count": null,
   "metadata": {},
   "outputs": [],
   "source": [
    "widths = np.diff(window_.bounds.T, axis=0)\n",
    "widths.shape"
   ]
  },
  {
   "cell_type": "code",
   "execution_count": null,
   "metadata": {},
   "outputs": [],
   "source": [
    "x = np.linspace(-10, 10, 100)\n",
    "x = np.array([x]).T\n",
    "p = 6\n",
    "sin_t = SineTaper(p)\n",
    "window_ = BoxWindow([-5, 5])\n",
    "tp_x = sin_t.taper(x, window_)"
   ]
  },
  {
   "cell_type": "code",
   "execution_count": null,
   "metadata": {},
   "outputs": [],
   "source": [
    "plt.plot(x, tp_x, 'b.')"
   ]
  },
  {
   "cell_type": "code",
   "execution_count": null,
   "metadata": {},
   "outputs": [],
   "source": [
    "x.shape"
   ]
  },
  {
   "cell_type": "code",
   "execution_count": null,
   "metadata": {},
   "outputs": [],
   "source": []
  },
  {
   "cell_type": "code",
   "execution_count": null,
   "metadata": {},
   "outputs": [],
   "source": []
  },
  {
   "cell_type": "code",
   "execution_count": null,
   "metadata": {},
   "outputs": [],
   "source": []
  },
  {
   "cell_type": "markdown",
   "metadata": {},
   "source": [
    "# Section 2"
   ]
  },
  {
   "cell_type": "code",
   "execution_count": null,
   "metadata": {},
   "outputs": [],
   "source": [
    "ax = ginibre_pp_box.plot()"
   ]
  },
  {
   "cell_type": "code",
   "execution_count": null,
   "metadata": {},
   "outputs": [],
   "source": [
    "th_pp = Poi"
   ]
  }
 ],
 "metadata": {
  "interpreter": {
   "hash": "a55764ac299e0a1a65d7e972aa0c64866d632025f8b68908f610b98dba8a58df"
  },
  "kernelspec": {
   "display_name": "Python 3 (ipykernel)",
   "language": "python",
   "name": "python3"
  },
  "language_info": {
   "codemirror_mode": {
    "name": "ipython",
    "version": 3
   },
   "file_extension": ".py",
   "mimetype": "text/x-python",
   "name": "python",
   "nbconvert_exporter": "python",
   "pygments_lexer": "ipython3",
   "version": "3.9.2"
  }
 },
 "nbformat": 4,
 "nbformat_minor": 4
}
