{
 "cells": [
  {
   "cell_type": "code",
   "execution_count": null,
   "metadata": {},
   "outputs": [],
   "source": [
    "from IPython.core.display import display, HTML\n",
    "display(HTML(\"<style>.container { width:100% !important; }</style>\"))\n",
    "\n",
    "%load_ext autoreload\n",
    "%autoreload 2\n",
    "\n",
    "%config InlineBackend.figure_format='retina'\n",
    "import os\n",
    "import sys\n",
    "sys.path.insert(0, os.path.abspath('../src/'))"
   ]
  },
  {
   "cell_type": "markdown",
   "metadata": {},
   "source": [
    "This notebook is a companion to the paper TBC, and reproduces the plots from the paper. We use the Ginibre point process as a running example. It is convenient, since its two-point correlation function and structure factor are analytically known."
   ]
  },
  {
   "cell_type": "code",
   "execution_count": null,
   "metadata": {},
   "outputs": [],
   "source": [
    "import numpy as np\n",
    "from structure_factor.data import load_data\n",
    "from structure_factor.structure_factor import StructureFactor\n",
    "import structure_factor.utils as utils"
   ]
  },
  {
   "cell_type": "code",
   "execution_count": null,
   "metadata": {},
   "outputs": [],
   "source": [
    "import matplotlib as mpl\n",
    "import matplotlib.pyplot as plt\n",
    "\n",
    "# make plots look nice\n",
    "plt.ticklabel_format(style='sci', axis='x', scilimits=(0,0))\n",
    "mpl.rcParams['xtick.labelsize'] = 18\n",
    "mpl.rcParams['ytick.labelsize'] = 18\n",
    "plt.rc('axes', labelsize=22)\n",
    "plt.rc('legend', fontsize=14)\n",
    "mpl.rcParams['ps.useafm'] = True\n",
    "mpl.rcParams['pdf.use14corefonts'] = True\n",
    "mpl.rcParams['text.usetex'] = True"
   ]
  },
  {
   "cell_type": "markdown",
   "metadata": {},
   "source": [
    "# 1- Ginibre Ensemble "
   ]
  },
  {
   "cell_type": "code",
   "execution_count": null,
   "metadata": {},
   "outputs": [],
   "source": [
    "# load points\n",
    "import pickle\n",
    "path = \"/Users/dhawat/github/structure_factor_paper/test_data/list_samples_ginibre_pp.pkl\"\n",
    "with open(path, \"rb\") as input_file:\n",
    "    list_sample_ginibre_pp = pickle.load(input_file)"
   ]
  },
  {
   "cell_type": "code",
   "execution_count": null,
   "metadata": {},
   "outputs": [],
   "source": [
    "from structure_factor.spatial_windows import BallWindow, BoxWindow\n",
    "list_ginibre_pp_ball = list_sample_ginibre_pp[\"ginibre_pp_ball\"]\n",
    "ginibre_pp_ball = list_ginibre_pp_ball[2]\n",
    "ginibre_pp_ball.plot(window_res=BallWindow(radius=50, center=(0,0)), file_name=\"ginibre_pp_ball.pdf\" )\n",
    "\n",
    "list_ginibre_pp_box = list_sample_ginibre_pp[\"ginibre_pp_box\"]\n",
    "ginibre_pp_box = list_ginibre_pp_box[2]\n",
    "ginibre_pp_box.plot(file_name=\"ginibre_pp_box.pdf\")"
   ]
  },
  {
   "cell_type": "markdown",
   "metadata": {},
   "source": [
    "## 1.1- Direct spectral estimators (DSE)"
   ]
  },
  {
   "cell_type": "code",
   "execution_count": null,
   "metadata": {},
   "outputs": [],
   "source": [
    "from structure_factor.spatial_windows import BoxWindow\n",
    "\n",
    "sf_ginibre_box = StructureFactor(ginibre_pp_box) # initialize a new instance of StructureFactor\n",
    "#ginibre_pp_box.plot(file_name=\"ginibre_sample.png\")"
   ]
  },
  {
   "cell_type": "markdown",
   "metadata": {},
   "source": [
    "### 1.1.1- Scattering intensity"
   ]
  },
  {
   "cell_type": "code",
   "execution_count": null,
   "metadata": {},
   "outputs": [],
   "source": [
    "\n",
    "# on allowed values \n",
    "k_max=6\n",
    "allowed_k, si = sf_ginibre_box.scattering_intensity(k_max=k_max)\n",
    "print(\"Scattering intensity\")\n"
   ]
  },
  {
   "cell_type": "code",
   "execution_count": null,
   "metadata": {},
   "outputs": [],
   "source": [
    "fig, axis = plt.subplots(figsize=(7,6))\n",
    "sf_ginibre_box.plot_spectral_estimator(allowed_k, si, axes=axis, plot_type=\"radial\",exact_sf=utils.structure_factor_ginibre,\n",
    "                                            bins=60, error_bar=True,  label=r\"$\\widehat{S}$\",\n",
    "                                           file_name=\"si_allowed_k.pdf\"\n",
    "                                          )\n",
    "plt.show()"
   ]
  },
  {
   "cell_type": "markdown",
   "metadata": {},
   "source": [
    "Scattering intensity on non allowed values and debiased scattering intensity"
   ]
  },
  {
   "cell_type": "code",
   "execution_count": null,
   "metadata": {},
   "outputs": [],
   "source": [
    "x = np.linspace(0, k_max, 150)\n",
    "x = x[x != 0]\n",
    "X, Y = np.meshgrid(x, x)\n",
    "k = np.column_stack((X.ravel(), Y.ravel()))\n",
    "# on k \n",
    "k, si1 = sf_ginibre_box.scattering_intensity(k=k, debiased=False)\n",
    "# on k debiased directly\n",
    "k, si2 = sf_ginibre_box.scattering_intensity(k=k, debiased=True)\n",
    "# on k debiased undirectly\n",
    "k, si3 = sf_ginibre_box.scattering_intensity(k=k, debiased=True, direct=False)"
   ]
  },
  {
   "cell_type": "code",
   "execution_count": null,
   "metadata": {},
   "outputs": [],
   "source": [
    "import matplotlib.pyplot as plt\n",
    "fig, axis = plt.subplots(figsize=(7,6))\n",
    "sf_ginibre_box.plot_spectral_estimator(k, si3, axes=axis, positive=False, plot_type=\"radial\", exact_sf=utils.structure_factor_ginibre,\n",
    "                                            bins=100, error_bar=True, label=r\"$\\widehat{S}$\", rasterized=True,\n",
    "                                           file_name=\"si_k_uddebiased_ginibre.pdf\"\n",
    "                                          )\n",
    "plt.show()"
   ]
  },
  {
   "cell_type": "markdown",
   "metadata": {},
   "source": [
    " all the above estimators in one picture"
   ]
  },
  {
   "cell_type": "code",
   "execution_count": null,
   "metadata": {},
   "outputs": [],
   "source": [
    "# save results \n",
    "import pickle\n",
    "my_dict2 = {\"ginibre_s_si_allowed_k\": [allowed_k, si], \"ginibre_s_si_k\": [k, si1], \"ginibre_s_si_directly_debiased\": [k, si2],\n",
    "            \"ginibre_s_si_undirectly_debiased\": [k, si3]}\n",
    "with open('ginibre_s_si.pkl', 'wb') as f:\n",
    "       pickle.dump(my_dict2, f)"
   ]
  },
  {
   "cell_type": "code",
   "execution_count": null,
   "metadata": {},
   "outputs": [],
   "source": [
    "norm_k_allowed = utils.norm_k(allowed_k)\n",
    "norm_k = utils.norm_k(k)\n",
    "fig, axis = plt.subplots(figsize=(8, 6))\n",
    "utils.plot_summary(norm_k_allowed, si, axis=axis, label=r\"$\\widehat{S}_{\\mathrm{SI}}(2 \\pi \\mathbf{n}/ L)$\", fmt='b', bins=60)\n",
    "utils.plot_summary(norm_k, si1, axis=axis, label=r\"$\\widehat{S}_{\\mathrm{SI}}(\\mathbf{k})$\", fmt='grey', bins=60 )\n",
    "utils.plot_summary(norm_k, si2, axis=axis, label=r\"$\\widehat{S}_{\\mathrm{DTP}}(\\mathbf{k})$\", fmt='k', bins=150 )\n",
    "utils.plot_summary(norm_k, si3, axis=axis, label=r\"$\\widehat{S}_{\\mathrm{UDTP}}(\\mathbf{k})$\",fmt='c', bins=180 )\n",
    "axis.plot(norm_k, utils.structure_factor_ginibre(norm_k), 'g.' )"
   ]
  },
  {
   "cell_type": "markdown",
   "metadata": {},
   "source": [
    "### 1.1.2- Tapered periodogram with sine taper"
   ]
  },
  {
   "cell_type": "code",
   "execution_count": null,
   "metadata": {},
   "outputs": [],
   "source": [
    "from structure_factor.tapers import SineTaper\n",
    "## tapered periodogram\n",
    "x = np.linspace(0, k_max, 150)\n",
    "x = x[x != 0]\n",
    "X, Y = np.meshgrid(x, x)\n",
    "k = np.column_stack((X.ravel(), Y.ravel()))\n",
    "p = [1, 1]\n",
    "taper = SineTaper(p)\n",
    "k, s_tp = sf_ginibre_box.tapered_periodogram(k, taper, debiased=False)\n",
    "k, s_dtp = sf_ginibre_box.tapered_periodogram(k, taper)\n",
    "k, s_udtp = sf_ginibre_box.tapered_periodogram(k, taper, debiased=True, direct=False)"
   ]
  },
  {
   "cell_type": "code",
   "execution_count": null,
   "metadata": {},
   "outputs": [],
   "source": [
    "fig, axis = plt.subplots(figsize=(7,6))\n",
    "fig = sf_ginibre_box.plot_spectral_estimator(k, s_tp, axes=axis, positive=False, plot_type=\"radial\",exact_sf=utils.structure_factor_ginibre,\n",
    "                                            bins=100, error_bar=True, label=r\"$\\widehat{S}$\",\n",
    "                                           file_name=\"s_tp_sine_taper_ginibre.pdf\"\n",
    "                                          )"
   ]
  },
  {
   "cell_type": "code",
   "execution_count": null,
   "metadata": {},
   "outputs": [],
   "source": [
    "# save results \n",
    "import pickle\n",
    "my_dict2 = {\"ginibre_s_tp_sine_taper\": [k, s_tp], \"ginibre_s_ddtp_sine_taper\": [k, s_dtp], \"ginibre_s_udtp_sine_taper\": [k, s_udtp]}\n",
    "with open('ginibre_s_tp_sine_taper.pkl', 'wb') as f:\n",
    "       pickle.dump(my_dict2, f)"
   ]
  },
  {
   "cell_type": "code",
   "execution_count": null,
   "metadata": {},
   "outputs": [],
   "source": [
    "norm_k = utils.norm_k(k)\n",
    "fig, axis = plt.subplots(figsize=(8, 6))\n",
    "utils.plot_summary(norm_k, s_tp, axis=axis, label=r\"$\\widehat{S}_{\\mathrm{TP}}(\\mathbf{k})$\", fmt='b', bins=60 )\n",
    "utils.plot_summary(norm_k, s_dtp, axis=axis, label=r\"$\\widehat{S}_{\\mathrm{DTP}}(\\mathbf{k})$\", fmt='k', bins=150 )\n",
    "utils.plot_summary(norm_k, s_udtp, axis=axis, label=r\"$\\widehat{S}_{\\mathrm{UDTP}}(\\mathbf{k})$\",fmt='c', bins=180 )\n",
    "axis.plot(norm_k, utils.structure_factor_ginibre(norm_k), 'g' )"
   ]
  },
  {
   "cell_type": "markdown",
   "metadata": {},
   "source": [
    " Result with scattering intensity"
   ]
  },
  {
   "cell_type": "code",
   "execution_count": null,
   "metadata": {
    "scrolled": true
   },
   "outputs": [],
   "source": [
    "norm_k = utils.norm_k(k)\n",
    "fig, axis = plt.subplots(figsize=(8, 6))\n",
    "utils.plot_summary(norm_k, s_dtp, axis=axis, label=r\"$\\widehat{S}_{\\mathrm{DTP}}(\\mathbf{k})$\", fmt='c', bins=150 )\n",
    "utils.plot_summary(norm_k_allowed, si, axis=axis, label=r\"$\\widehat{S}_{\\mathrm{SI}}(2 \\pi \\mathbf{n}/ L)$\", fmt='b', bins=60)\n",
    "utils.plot_summary(norm_k, si2, axis=axis, label=r\"$\\widehat{S}_{\\mathrm{SIDTP}}(\\mathbf{k})$\", fmt='k', bins=150 )\n",
    "axis.plot(norm_k, utils.structure_factor_ginibre(norm_k), 'g' )"
   ]
  },
  {
   "cell_type": "markdown",
   "metadata": {},
   "source": [
    "sine taper looks better than scattering inetsnity"
   ]
  },
  {
   "cell_type": "markdown",
   "metadata": {},
   "source": [
    "### 1.1.3- Multitapering"
   ]
  },
  {
   "cell_type": "code",
   "execution_count": null,
   "metadata": {},
   "outputs": [],
   "source": [
    "from structure_factor.tapers import SineTaper\n",
    "## multitapered tapered periodogram\n",
    "x = np.linspace(0, k_max, 150)\n",
    "x = x[x != 0]\n",
    "X, Y = np.meshgrid(x, x)\n",
    "k = np.column_stack((X.ravel(), Y.ravel()))\n",
    "k, s_mtp = sf_ginibre_box.multitapered_periodogram(k, debiased=False)\n",
    "k, s_mdtp = sf_ginibre_box.multitapered_periodogram(k)\n",
    "k, s_mudtp = sf_ginibre_box.multitapered_periodogram(k, debiased=True, direct=False)"
   ]
  },
  {
   "cell_type": "code",
   "execution_count": null,
   "metadata": {
    "scrolled": true
   },
   "outputs": [],
   "source": [
    "fig, axis = plt.subplots(figsize=(7,6))\n",
    "fig = sf_ginibre_box.plot_spectral_estimator(k, s_mtp, axes=axis, positive=False, plot_type=\"radial\",exact_sf=utils.structure_factor_ginibre,\n",
    "                                            bins=100, error_bar=True, label=r\"$\\widehat{S}$\",\n",
    "                                           file_name=\"s_mtp_sine_taper_ginibre.pdf\"\n",
    "                                          )"
   ]
  },
  {
   "cell_type": "code",
   "execution_count": null,
   "metadata": {},
   "outputs": [],
   "source": [
    "# save results \n",
    "import pickle\n",
    "my_dict2 = {\"ginibre_s_mtp_sine_taper\": [k, s_mtp], \"ginibre_s_ddmtp_sine_taper\": [k,s_mdtp], \"ginibre_s_udmtp_sine_taper\": [k, s_mudtp]}\n",
    "with open('ginibre_s_mtp_sine_taper.pkl', 'wb') as f:\n",
    "       pickle.dump(my_dict2, f)"
   ]
  },
  {
   "cell_type": "code",
   "execution_count": null,
   "metadata": {},
   "outputs": [],
   "source": [
    "norm_k = utils.norm_k(k)\n",
    "fig, axis = plt.subplots(figsize=(8, 6))\n",
    "utils.plot_summary(norm_k, s_mtp, axis=axis, label=r\"$\\widehat{S}_{\\mathrm{MTP}}(\\mathbf{k})$\", fmt='b', ecolor=\"b\", bins=60 )\n",
    "utils.plot_summary(norm_k, s_mdtp, axis=axis, label=r\"$\\widehat{S}_{\\mathrm{MDTP}}(\\mathbf{k})$\", fmt='k', ecolor=\"k\", bins=150 )\n",
    "utils.plot_summary(norm_k, s_mudtp, axis=axis, label=r\"$\\widehat{S}_{\\mathrm{MUDTP}}(\\mathbf{k})$\",fmt='c', ecolor=\"c\", bins=180 )\n",
    "axis.plot(norm_k, utils.structure_factor_ginibre(norm_k), 'g' )"
   ]
  },
  {
   "cell_type": "markdown",
   "metadata": {},
   "source": [
    "compaising with the best of the above"
   ]
  },
  {
   "cell_type": "code",
   "execution_count": null,
   "metadata": {},
   "outputs": [],
   "source": [
    "norm_k = utils.norm_k(k)\n",
    "norm_k_allowed = utils.norm_k(allowed_k)\n",
    "\n",
    "fig, axis = plt.subplots(figsize=(10, 8))\n",
    "utils.plot_summary(norm_k_allowed, si, axis=axis, label=r\"$\\widehat{S}_{\\mathrm{SI}}(2 \\pi \\mathbf{n}/ L)$\", fmt='b', ecolor='b', bins=50)\n",
    "#utils.plot_summary(norm_k, si2, axis=axis, label=r\"$\\widehat{S}_{\\mathrm{SIDTP}}(\\mathbf{k})$\", fmt='k', ecolor='k', bins=150 )\n",
    "utils.plot_summary(norm_k, s_dtp, axis=axis, label=r\"$\\widehat{S}_{\\mathrm{DTP}}(\\mathbf{k})$\", fmt='k', ecolor='k', bins=50 )\n",
    "utils.plot_summary(norm_k, s_mdtp, axis=axis, label=r\"$\\widehat{S}_{\\mathrm{MDTP}}(\\mathbf{k})$\", fmt='m', ecolor=\"m\", bins=50 )\n",
    "axis.plot(norm_k, utils.structure_factor_ginibre(norm_k), 'g' )"
   ]
  },
  {
   "cell_type": "markdown",
   "metadata": {},
   "source": [
    "## 1.2- Isotropic estimator (ISD)"
   ]
  },
  {
   "cell_type": "code",
   "execution_count": null,
   "metadata": {},
   "outputs": [],
   "source": [
    "sf_ginibre_ball = StructureFactor(ginibre_pp_ball)"
   ]
  },
  {
   "cell_type": "markdown",
   "metadata": {},
   "source": [
    "### 1.2.1- Bartlett isotropic estimator"
   ]
  },
  {
   "cell_type": "code",
   "execution_count": null,
   "metadata": {
    "scrolled": true
   },
   "outputs": [],
   "source": [
    "import time\n",
    "start_time = time.time()\n",
    "k_norm1, s_bi = sf_ginibre_ball.bartlett_isotropic_estimator(n_allowed_k_norm=100)\n",
    "print(\"--- %s seconds ---\" % (time.time() - start_time))"
   ]
  },
  {
   "cell_type": "code",
   "execution_count": null,
   "metadata": {},
   "outputs": [],
   "source": [
    "from structure_factor.statistics import get_k_norm\n",
    "k_norm1= get_k_norm(ginibre_pp_ball, n_allowed_k_norm=100)"
   ]
  },
  {
   "cell_type": "code",
   "execution_count": null,
   "metadata": {},
   "outputs": [],
   "source": [
    "fig, axis = plt.subplots(figsize=(7,6))\n",
    "sf_ginibre_ball.plot_isotropic_estimator(k_norm, s_bi, exact_sf=utils.structure_factor_ginibre, axis=axis,\n",
    "                                    label=r\"$\\widehat{S}$\", \n",
    "                                    file_name=\"s_bi_ginibre.pdf\"\n",
    "                                   )"
   ]
  },
  {
   "cell_type": "code",
   "execution_count": null,
   "metadata": {
    "scrolled": true
   },
   "outputs": [],
   "source": [
    "k_non_allowed = np.linspace(min(k_norm) + 0.002, max(k_norm), 100)\n",
    "k_norm_non_allowed, s_bi_non_allowed = sf_ginibre_ball.bartlett_isotropic_estimator(k_non_allowed)\n"
   ]
  },
  {
   "cell_type": "code",
   "execution_count": null,
   "metadata": {},
   "outputs": [],
   "source": [
    "fig, axis = plt.subplots(figsize=(7,6))\n",
    "sf_ginibre_ball.plot_isotropic_estimator(k_norm_non_allowed, s_bi_non_allowed, axis=axis, exact_sf=utils.structure_factor_ginibre,\n",
    "                                         label=r\"$\\widehat{S}_{\\mathrm{BI}}(k)$\", file_name=\"s_bi_ginibre_non_allowed.pdf\")"
   ]
  },
  {
   "cell_type": "markdown",
   "metadata": {},
   "source": [
    "### 1.2.2- Hankel transform estimation"
   ]
  },
  {
   "cell_type": "markdown",
   "metadata": {},
   "source": [
    "#### 1.2.2.1- Pair correlation function"
   ]
  },
  {
   "cell_type": "code",
   "execution_count": null,
   "metadata": {},
   "outputs": [],
   "source": [
    "from structure_factor.pair_correlation_function import PairCorrelationFunction as pcf"
   ]
  },
  {
   "cell_type": "markdown",
   "metadata": {},
   "source": [
    "pcf.ppp"
   ]
  },
  {
   "cell_type": "code",
   "execution_count": null,
   "metadata": {},
   "outputs": [],
   "source": [
    "r= np.linspace(0, 20, 200)\n",
    "ginibre_pcf_ppp = pcf.estimate(ginibre_pp_ball, method=\"ppp\", r=r, correction=\"all\")"
   ]
  },
  {
   "cell_type": "code",
   "execution_count": null,
   "metadata": {},
   "outputs": [],
   "source": [
    "pcf.plot(ginibre_pcf_ppp, exact_pcf=utils.pair_correlation_function_ginibre, figsize=(7,6),\n",
    "         color=['grey', 'b', 'darkcyan'], style=[\".\", \"*\", \"^\"],\n",
    "         file_name=\"pcf_ppp_ginibre.pdf\")"
   ]
  },
  {
   "cell_type": "markdown",
   "metadata": {},
   "source": [
    "pcf.fv"
   ]
  },
  {
   "cell_type": "code",
   "execution_count": null,
   "metadata": {},
   "outputs": [],
   "source": [
    "ginibre_pcf_fv = pcf.estimate(ginibre_pp_ball, method=\"fv\", Kest=dict(rmax=20), fv=dict(method=\"b\", spar=0.2))\n",
    "ginibre_pcf_fv"
   ]
  },
  {
   "cell_type": "code",
   "execution_count": null,
   "metadata": {},
   "outputs": [],
   "source": [
    "pcf.plot(ginibre_pcf_fv, exact_pcf=utils.pair_correlation_function_ginibre, figsize=(7,6), color=['grey'], style=[\".\"],\n",
    "         file_name=\"pcf_fv_ginibre.pdf\"\n",
    "        )"
   ]
  },
  {
   "cell_type": "markdown",
   "metadata": {},
   "source": [
    "Interpolation"
   ]
  },
  {
   "cell_type": "code",
   "execution_count": null,
   "metadata": {},
   "outputs": [],
   "source": [
    "r = ginibre_pcf_fv[\"r\"]\n",
    "r_max = np.max(r)\n",
    "pcf_r = ginibre_pcf_fv[\"pcf\"]\n",
    "# interpolation\n",
    "ginibre_pcf_fct = pcf.interpolate(r=r, pcf_r=pcf_r, drop=True)\n",
    "\n",
    "\n",
    "x = np.linspace(0, 100, 200)\n",
    "plt.plot(x, ginibre_pcf_fct(x), 'b.')\n",
    "\n",
    "plt.plot(x, utils.pair_correlation_function_ginibre(x), 'g')"
   ]
  },
  {
   "cell_type": "markdown",
   "metadata": {},
   "source": [
    "Ogata"
   ]
  },
  {
   "cell_type": "code",
   "execution_count": null,
   "metadata": {},
   "outputs": [],
   "source": [
    "k_norm2 = np.linspace(0.3, 30, 1000) # vector of wave length\n",
    "k_norm2, s_ho = sf_ginibre_ball.hankel_quadrature(ginibre_pcf_fct, method=\"Ogata\", k_norm=k_norm2, step_size=0.01,\n",
    "                                                    nb_points=1000)\n",
    "fig, axis = plt.subplots(figsize=(7,6))\n",
    "fig = sf_ginibre_ball.plot_isotropic_estimator(k_norm2, s_ho, axis=axis,error_bar=True, bins=40, exact_sf=utils.structure_factor_ginibre, \n",
    "                                               label=r\"$\\widehat{S}$\",\n",
    "                                               #file_name=\"ginibre_s_ho.pdf\"\n",
    "                                              )"
   ]
  },
  {
   "cell_type": "code",
   "execution_count": null,
   "metadata": {},
   "outputs": [],
   "source": [
    "# from exact pcf\n",
    "k_norm = np.linspace(0.001, 30, 1000) # vector of wave length\n",
    "k_norm, s_ho = sf_ginibre.hankel_quadrature(utils.pair_correlation_function_ginibre, method=\"Ogata\", k_norm=k_norm, step_size=0.00001,\n",
    "                                                    nb_points=500)\n",
    "fig, axis = plt.subplots(figsize=(7,6))\n",
    "fig = sf_ginibre.plot_isotropic_estimator(k_norm, s_ho, axis=axis,error_bar=False, bins=30, exact_sf=utils.structure_factor_ginibre, label=r\"$\\widehat{S}_{\\mathrm{HO}}(k)$\",\n",
    "                                          file_name=\"ginibre_s_ho_exact.png\"\n",
    "                                           )\n"
   ]
  },
  {
   "cell_type": "markdown",
   "metadata": {},
   "source": [
    "Baddour-Chouinard"
   ]
  },
  {
   "cell_type": "code",
   "execution_count": null,
   "metadata": {},
   "outputs": [],
   "source": [
    "r_max"
   ]
  },
  {
   "cell_type": "code",
   "execution_count": null,
   "metadata": {},
   "outputs": [],
   "source": [
    "k = np.linspace(0.3, 30, 1000)\n",
    "k_norm3, s_hbc = sf_ginibre_ball.hankel_quadrature(ginibre_pcf_fct,k_norm=k,  r_max=r_max,  nb_points=3000 )"
   ]
  },
  {
   "cell_type": "code",
   "execution_count": null,
   "metadata": {},
   "outputs": [],
   "source": [
    "fig, axis= plt.subplots(figsize=(7,6))\n",
    "sf_ginibre_ball.plot_isotropic_estimator(k_norm3, s_hbc, axis=axis, exact_sf=utils.structure_factor_ginibre, \n",
    "                                    error_bar=True, bins=100,\n",
    "                                    label=r\"$\\widehat{S}$\",\n",
    "                                    file_name=\"ginibre_s_hbc.pdf\"\n",
    "                                   )"
   ]
  },
  {
   "cell_type": "code",
   "execution_count": null,
   "metadata": {},
   "outputs": [],
   "source": [
    "# save results \n",
    "import pickle\n",
    "my_dict2 = {\"ginibre_s_bi\": [k_norm1, s_bi], \"ginibre_s_ho\": [k_norm2, s_ho], \"ginibre_s_hbc\":[k_norm3, s_hbc] }\n",
    "with open('ginibre_s_ise.pkl', 'wb') as f:\n",
    "       pickle.dump(my_dict2, f)"
   ]
  },
  {
   "cell_type": "code",
   "execution_count": null,
   "metadata": {},
   "outputs": [],
   "source": [
    "k = np.linspace(0, 10, 400)\n",
    "k_norm, s_hbc = sf_ginibre.hankel_quadrature(utils.pair_correlation_function_ginibre,k_norm=k,  r_max=r_max,  nb_points=1000 )"
   ]
  },
  {
   "cell_type": "code",
   "execution_count": null,
   "metadata": {},
   "outputs": [],
   "source": [
    "fig, axis= plt.subplots(figsize=(7,6))\n",
    "sf_ginibre.plot_isotropic_estimator(k_norm, s_hbc, axis=axis, exact_sf=utils.structure_factor_ginibre, error_bar=False, bins=40,\n",
    "                                    label=r\"$\\widehat{S}_{\\mathrm{HBC}}(k)$\",file_name=\"ginibre_s_hbc_exact.png\")"
   ]
  },
  {
   "cell_type": "markdown",
   "metadata": {},
   "source": [
    "## 1.3- Hyperuniformity"
   ]
  },
  {
   "cell_type": "code",
   "execution_count": null,
   "metadata": {},
   "outputs": [],
   "source": [
    "from structure_factor.hyperuniformity import Hyperuniformity\n",
    "hyperuniformity_test = Hyperuniformity(k_norm, s_bi)\n",
    "#bin_center, bin_mean, bin_std = hyperuniformity_test.bin_data(bins=80)"
   ]
  },
  {
   "cell_type": "markdown",
   "metadata": {},
   "source": [
    "### 1.3.1- Effective hyperuniformity"
   ]
  },
  {
   "cell_type": "code",
   "execution_count": null,
   "metadata": {},
   "outputs": [],
   "source": [
    "H_ginibre, std = hyperuniformity_test.effective_hyperuniformity(k_norm_stop=1)\n",
    "print(\"H_ginibre=\", H_ginibre)"
   ]
  },
  {
   "cell_type": "code",
   "execution_count": null,
   "metadata": {},
   "outputs": [],
   "source": [
    "import matplotlib.pyplot as plt\n",
    "#k_norm = hyperuniformity_test.k_norm\n",
    "#sf = hyperuniformity_test.sf\n",
    "sf = s_bi\n",
    "fitted_sf_line = hyperuniformity_test.fitted_line # fitted line to sf\n",
    "index_peak = hyperuniformity_test.i_first_peak # index of first peak of sf\n",
    "x = np.linspace(0, 5, 300)\n",
    "y = np.linspace(0,np.max(k_norm), 500)\n",
    "fig=plt.figure(figsize=(10,6))\n",
    "plt.plot(k_norm, sf, 'b.', label=\"approx_sf\")\n",
    "plt.plot(k_norm, sf, 'b', label=\"approx_sf\")\n",
    "plt.plot(x, fitted_sf_line(x), 'r--', label= \"fitted line\")\n",
    "plt.plot(y, utils.structure_factor_ginibre(y), 'g', label=\"exact sf\")\n",
    "#plt.plot(mean_k_norm[index_peak], mean_sf[index_peak], 'k*', label=\"first peak\")\n",
    "plt.legend()\n",
    "plt.xlabel('wavelength ($||\\mathbf{k}||$)')\n",
    "plt.ylabel('Structure factor ($\\mathsf{S}(\\mathbf{k})$)')\n",
    "plt.show()\n",
    "#fig.savefig(\"fitted_si_ginibre.pdf\", bbox_inches=\"tight\")"
   ]
  },
  {
   "cell_type": "markdown",
   "metadata": {},
   "source": [
    "### 1.3.2- Hyperuniformity class"
   ]
  },
  {
   "cell_type": "code",
   "execution_count": null,
   "metadata": {},
   "outputs": [],
   "source": [
    "sf_power_decay, c = hyperuniformity_test.hyperuniformity_class(k_norm_stop=0.4)\n",
    "print(sf_power_decay)"
   ]
  },
  {
   "cell_type": "code",
   "execution_count": null,
   "metadata": {},
   "outputs": [],
   "source": [
    "import matplotlib.pyplot as plt\n",
    "#k_norm = hyperuniformity_test.k_norm\n",
    "#sf = hyperuniformity_test.sf\n",
    "sf = s_bi\n",
    "fitted_poly = hyperuniformity_test.fitted_poly\n",
    "x = np.linspace(0, 2, 300)\n",
    "y = np.linspace(0,np.max(k_norm), 500)\n",
    "fig=plt.figure(figsize=(10,6))\n",
    "plt.plot(k_norm, sf, 'b.', label=\"approx_sf\")\n",
    "plt.plot(k_norm, sf, 'b.', label=\"approx_sf\")\n",
    "\n",
    "plt.plot(k_norm, sf, 'b', label=\"approx_sf\")\n",
    "plt.plot(y, utils.structure_factor_ginibre(y), 'g', label=\"exact sf\")\n",
    "plt.plot(x, fitted_poly(x), 'r--', label= \"fitted line\")\n",
    "plt.legend()\n",
    "plt.xlabel('wavelength ($||\\mathbf{k}||$)')\n",
    "plt.ylabel('Structure factor ($\\mathsf{S}(\\mathbf{k})$)')\n",
    "plt.show()\n",
    "#fig.savefig(\"fitted_si_ginibre.pdf\", bbox_inches=\"tight\")"
   ]
  },
  {
   "cell_type": "markdown",
   "metadata": {},
   "source": [
    "## 1.4- Statistics"
   ]
  },
  {
   "cell_type": "markdown",
   "metadata": {},
   "source": [
    "Load samples of points"
   ]
  },
  {
   "cell_type": "code",
   "execution_count": null,
   "metadata": {},
   "outputs": [],
   "source": [
    "# load points\n",
    "import pickle\n",
    "path = \"/Users/dhawat/github/structure_factor_paper/test_data/list_samples_ginibre_pp.pkl\"\n",
    "with open(path, \"rb\") as input_file:\n",
    "    list_sample_ginibre_pp = pickle.load(input_file)\n",
    "    \n",
    "from structure_factor.spatial_windows import BallWindow, BoxWindow\n",
    "ginibre_ball_pp_list = list_sample_ginibre_pp[\"ginibre_pp_ball\"]\n",
    "ginibre_ball_pp_list[0].plot(window_res=BallWindow(radius=50, center=(0,0)) )\n",
    "\n",
    "ginibre_box_pp_list = list_sample_ginibre_pp[\"ginibre_pp_box\"]\n",
    "ginibre_box_pp_list[0].plot()"
   ]
  },
  {
   "cell_type": "markdown",
   "metadata": {},
   "source": [
    "Initialize statistics"
   ]
  },
  {
   "cell_type": "code",
   "execution_count": null,
   "metadata": {},
   "outputs": [],
   "source": [
    "# statistics\n",
    "from structure_factor.statistics import SummaryStatistics, get_k, get_k_norm\n",
    "\n",
    "ginibre_ball_statistics = SummaryStatistics(ginibre_ball_pp_list)\n",
    "ginibre_box_statistics = SummaryStatistics(ginibre_box_pp_list)"
   ]
  },
  {
   "cell_type": "markdown",
   "metadata": {},
   "source": [
    "### 1.4.1- For Direct spectral estimators "
   ]
  },
  {
   "cell_type": "code",
   "execution_count": null,
   "metadata": {},
   "outputs": [],
   "source": [
    "from structure_factor.statistics import apply_estimator\n",
    "from multiprocessing import Pool\n",
    "from functools import partial\n",
    "from structure_factor.tapers import SineTaper\n",
    "import time\n",
    "\n",
    "start_time = time.time()\n",
    "core_num=8\n",
    "\n",
    "k_allowed = get_k(ginibre_box_pp_list[0], k_max=2)\n",
    "#x_neg = np.linspace(-np.max(np.abs(k_allowed)), -np.min(np.abs(k_allowed)), int(46/2))\n",
    "x = np.linspace(np.min(np.abs(k_allowed)), np.max(np.abs(k_allowed)), 30)\n",
    "#x = np.row_stack((x_neg, x_pos)).ravel()\n",
    "#x = x[x != 0]\n",
    "X, Y = np.meshgrid(x, x)\n",
    "k = np.column_stack((X.ravel(), Y.ravel()))\n",
    "p = [1, 1]\n",
    "taper = SineTaper(p)\n",
    "\n",
    "norm_k_allowed1 = utils.norm_k(k_allowed)\n",
    "norm_k = utils.norm_k(k)"
   ]
  },
  {
   "cell_type": "code",
   "execution_count": null,
   "metadata": {},
   "outputs": [],
   "source": [
    "print(np.max(norm_k_allowed1), np.max(norm_k), np.min(norm_k_allowed1), np.min(norm_k))"
   ]
  },
  {
   "cell_type": "code",
   "execution_count": null,
   "metadata": {
    "scrolled": true
   },
   "outputs": [],
   "source": [
    "if __name__ == \"__main__\":\n",
    "    # scattering intensity\n",
    "    s_si_allowed_k = ginibre_box_statistics.sample_approximation(estimator=\"scattering_intensity\", k=k_allowed)\n",
    "    # scattering intensity debiased\n",
    "    s_dtp_t0 = ginibre_box_statistics.sample_approximation(estimator=\"scattering_intensity\", k=k, debiased=True, direct=True)\n",
    "    # debiased tapered periodogram (sinusoidal taper)\n",
    "    s_dtp_t1 = ginibre_box_statistics.sample_approximation(estimator=\"tapered_periodogram\", k=k,taper=taper, debiased=True, direct=True)\n",
    "    # multitapered periodogram (sinusoidal taper)\n",
    "    s_mdtp = ginibre_box_statistics.sample_approximation(estimator=\"multitapered_periodogram\", k=k, debiased=True, direct=True)\n",
    "    \n",
    "print(\"--- %s seconds ---\" % (time.time() - start_time))\n"
   ]
  },
  {
   "cell_type": "code",
   "execution_count": null,
   "metadata": {},
   "outputs": [],
   "source": [
    "from structure_factor.statistics import list_vertical_sample_mean\n",
    "norm_k_unique, s_si_allowed_k_mean = list_vertical_sample_mean(norm_k_allowed1,s_si_allowed_k)"
   ]
  },
  {
   "cell_type": "code",
   "execution_count": null,
   "metadata": {},
   "outputs": [],
   "source": [
    "plt.loglog(norm_k_allowed1,s_si_allowed_k[1], 'b*' )\n",
    "plt.loglog(norm_k_unique, s_si_allowed_k_mean[1], 'r.')\n",
    "plt.loglog(norm_k_unique, utils.structure_factor_ginibre(norm_k_unique), 'g')"
   ]
  },
  {
   "cell_type": "code",
   "execution_count": null,
   "metadata": {},
   "outputs": [],
   "source": [
    "norm_k_allowed1 = utils.norm_k(k_allowed)\n",
    "norm_k = utils.norm_k(k)\n",
    "#print(\"first 20 allowed k:\", utils.norm_k(k_allowed[:20]))\n",
    "#print(\"last 20 allowed k:\", utils.norm_k(k_allowed[-20:]))\n",
    "sorted_norm_k_allowed, sorted_s_si, _= utils._sort_vectors(norm_k_allowed1, s_si_allowed_k[0])\n",
    "print(\"first 30 norm allowed k sorted:\", sorted_norm_k_allowed[:30] )\n",
    "print(\"first 30 sorted s_si:\", sorted_s_si[:30])"
   ]
  },
  {
   "cell_type": "markdown",
   "metadata": {},
   "source": [
    "Dont touch above"
   ]
  },
  {
   "cell_type": "code",
   "execution_count": null,
   "metadata": {
    "scrolled": true
   },
   "outputs": [],
   "source": [
    "from structure_factor.statistics import sample_statistics\n",
    "k_norm_si, m_si, ivar_si, ibias_si, imse_si, imse_var  = sample_statistics(k=k_allowed,\n",
    "                                                                                approximation=s_si_allowed_k,\n",
    "                                                                                exact=utils.structure_factor_ginibre )"
   ]
  },
  {
   "cell_type": "code",
   "execution_count": null,
   "metadata": {},
   "outputs": [],
   "source": [
    "k[:, 1:].shape"
   ]
  },
  {
   "cell_type": "code",
   "execution_count": null,
   "metadata": {
    "scrolled": true
   },
   "outputs": [],
   "source": [
    "from structure_factor.statistics import sample_statistics\n",
    "\n",
    "k_norm_si, m_si, ivar_si, ibias_si, imse_si, imse_var_si = sample_statistics(k=k_allowed,\n",
    "                                                                        approximation=s_si_allowed_k,\n",
    "                                                                                exact=utils.structure_factor_ginibre )\n",
    "k_norm_dtp_t0, m_dtp_t0, ivar_dtp_t0, ibias_dtp_t0, imse_dtp_t0, imse_var_dtp_t0 = sample_statistics(\n",
    "                                                                                k=k,\n",
    "                                                                                approximation=s_dtp_t0,\n",
    "                                                                                exact=utils.structure_factor_ginibre )\n",
    "k_norm_dtp_t1, m_dtp_t1, ivar_dtp_t1, ibias_dtp_t1, imse_dtp_t1, imse_var_dtp_t1 = sample_statistics(k=k,\n",
    "                                                                                approximation=s_dtp_t1,\n",
    "                                                                                exact=utils.structure_factor_ginibre )\n",
    "k_norm_mdtp, m_mdtp, ivar_mdtp, ibias_mdtp, imse_mdtp, imse_var_mdtp = sample_statistics(k=k,\n",
    "                                                                                approximation=s_mdtp,\n",
    "                                                                                exact=utils.structure_factor_ginibre )\n",
    "print(\"For s_si: ivar\", ivar_si, \"ibias\", ibias_si, \"imse\", imse_si, \"3std(imse)\",  np.sqrt(imse_var_si)*3)\n",
    "print(\"For s_dtp_t0: ivar\", ivar_dtp_t0, \"ibias\", ibias_dtp_t0, \"imse\", imse_dtp_t0, \"3std(imse)\",  np.sqrt(imse_var_dtp_t0)*3)\n",
    "print(\"For s_dtp_t1: ivar\", ivar_dtp_t1, \"ibias\", ibias_dtp_t1, \"imse\", imse_dtp_t1, \"3std(imse)\",  np.sqrt(imse_var_dtp_t1)*3)\n",
    "print(\"For s_mdtp: ivar\", ivar_mdtp, \"ibias\", ibias_mdtp, \"imse\", imse_mdtp, \"3std(imse)\",  np.sqrt(imse_var_mdtp)*3)"
   ]
  },
  {
   "cell_type": "code",
   "execution_count": null,
   "metadata": {},
   "outputs": [],
   "source": []
  },
  {
   "cell_type": "code",
   "execution_count": null,
   "metadata": {},
   "outputs": [],
   "source": [
    "norm_k_allowed1 = utils.norm_k(k_allowed)\n",
    "norm_k = utils.norm_k(k)\n",
    "fig, axis = plt.subplots(figsize=(7,6))\n",
    "\n",
    "axis.loglog(k_norm_si, m_si, 'b^', label=r\"$\\overline{\\widehat{S}_{\\mathrm{SI}}(2\\pi \\mathbf{n}/L)}$\")\n",
    "#axis.errorbar(k_norm_si, m_si, yerr=var_si, lw=1, ecolor='b', capsize=3, capthick=1)\n",
    "axis.loglog(k_norm_dtp_t0, m_dtp_t0, 'k*', label=r\"$\\overline{\\widehat{S}_{\\mathrm{DDTP}}(t_0, \\mathbf{k})}$\")\n",
    "#axis.errorbar(k_norm_dtp_t0, m_dtp_t0, yerr=var_dtp_t0, lw=1, ecolor='k', capsize=3, capthick=1)\n",
    "axis.loglog(k_norm_dtp_t1, m_dtp_t1, 'm+',label=r\"$\\overline{\\widehat{S}_{\\mathrm{DDTP}}(t_1, \\mathbf{k})}$\")\n",
    "#axis.errorbar(k_norm_dtp_t1, m_dtp_t1, yerr=var_dtp_t1, lw=1, ecolor='m', capsize=3, capthick=1)\n",
    "axis.loglog(k_norm_mdtp, m_mdtp, 'c.',  label=r\"$\\overline{\\widehat{S}_{\\mathrm{DDMTP}}((t_j)_{j=1}^4, \\mathbf{k})}$\")\n",
    "utils.plot_exact(norm_k_allowed1, utils.structure_factor_ginibre(norm_k_allowed1), axis=axis, label=r\"$S(\\mathbf{k})$\")\n",
    "axis.legend()\n",
    "axis.set_xlabel(r\"Wavenumber ($k$)\")\n",
    "axis.set_ylabel(r\"Structure factor ($S(k)$)\")\n",
    "fig.savefig(\"comparaison_DSE_mean_ginibre.pdf\", bbox_inches=\"tight\")"
   ]
  },
  {
   "cell_type": "code",
   "execution_count": null,
   "metadata": {
    "scrolled": true
   },
   "outputs": [],
   "source": [
    "norm_k_allowed1 = utils.norm_k(k_allowed)\n",
    "norm_k = utils.norm_k(k)\n",
    "fig, axis = plt.subplots(figsize=(7,6))\n",
    "\n",
    "axis.loglog(norm_k_allowed1,m_si, 'b^', label=r\"$\\overline{\\widehat{S}_{\\mathrm{SI}}(2\\pi \\mathbf{n}/L)}$\")\n",
    "axis.loglog(norm_k,m_dtp_t0, 'k*', label=r\"$\\overline{\\widehat{S}_{\\mathrm{DDTP}}(t_0, \\mathbf{k})}$\")\n",
    "axis.loglog(norm_k,m_dtp_t1, 'm+',label=r\"$\\overline{\\widehat{S}_{\\mathrm{DDTP}}(t_1, \\mathbf{k})}$\")\n",
    "axis.loglog(norm_k,m_mdtp, 'c.',  label=r\"$\\overline{\\widehat{S}_{\\mathrm{MDDTP}}((t_j)_{j=1}^4, \\mathbf{k})}$\")\n",
    "utils.plot_exact(norm_k_allowed1, utils.structure_factor_ginibre(norm_k_allowed1), axis=axis, label=r\"$S(\\mathbf{k})$\")\n",
    "axis.legend()\n",
    "axis.set_xlabel(r\"Wavenumber ($||\\mathbf{k}||$)\")\n",
    "axis.set_ylabel(r\"Structure factor ($S(\\mathbf{k})$)\")\n",
    "fig.savefig(\"comparaison_DSE_mean_ginibre.png\", bbox_inches=\"tight\")"
   ]
  },
  {
   "cell_type": "code",
   "execution_count": null,
   "metadata": {},
   "outputs": [],
   "source": [
    "s_mdtp==None"
   ]
  },
  {
   "cell_type": "code",
   "execution_count": null,
   "metadata": {},
   "outputs": [],
   "source": [
    "norm_k_allowed1 = utils.norm_k(k_allowed)\n",
    "norm_k = utils.norm_k(k)\n",
    "fig, axis = plt.subplots(figsize=(7,6))\n",
    "\n",
    "utils.plot_summary_2(norm_k_allowed1,m_si, c='b',marker='*', bins=30, axis=axis, label=r\"$\\overline{\\widehat{S}_{\\mathrm{SI}}(2\\pi \\mathbf{n}/L)}$\")\n",
    "utils.plot_summary_2(norm_k,m_dtp_t0, c='k',marker='.', bins=30, axis=axis, label=r\"$\\overline{\\widehat{S}_{\\mathrm{DDTP}}(t_0, \\mathbf{k})}$\")\n",
    "utils.plot_summary_2(norm_k,m_dtp_t1, c='m',marker='+', bins=30, axis=axis, label=r\"$\\overline{\\widehat{S}_{\\mathrm{DDTP}}(t_1, \\mathbf{k})}$\")\n",
    "utils.plot_summary_2(norm_k,m_mdtp, c='grey',marker='o', bins=30, axis=axis, label=r\"$\\overline{\\widehat{S}_{\\mathrm{MDDTP}}((t_j)_{j=1}^4, \\mathbf{k})}$\")\n",
    "axis.loglog(norm_k_allowed1, utils.structure_factor_ginibre(norm_k_allowed1), 'g', label=r\"$S(\\mathbf{k})$\")\n",
    "axis.legend()\n",
    "axis.set_xlabel(r\"Wavenumber ($||\\mathbf{k}||$)\")\n",
    "axis.set_ylabel(r\"Structure factor ($S(\\mathbf{k})$)\")\n",
    "fig.savefig(\"comparaison_DSE_mean_ginibre.png\", bbox_inches=\"tight\")"
   ]
  },
  {
   "cell_type": "markdown",
   "metadata": {},
   "source": [
    "### 1.4.2- For isotropic estimators"
   ]
  },
  {
   "cell_type": "code",
   "execution_count": null,
   "metadata": {
    "scrolled": true
   },
   "outputs": [],
   "source": [
    "from structure_factor.statistics import apply_estimator\n",
    "from multiprocessing import Pool\n",
    "from functools import partial\n",
    "from structure_factor.statistics import pcf_interpolate_list\n",
    "import time\n",
    "\n",
    "start_time = time.time()\n",
    "core_num=8\n",
    "\n",
    "r_max=30\n",
    "n_allowed_k_norm=64\n",
    "k_norm_allowed = get_k_norm(ginibre_ball_pp_list[0], n_allowed_k_norm=n_allowed_k_norm)\n",
    "\n",
    "if __name__ == \"__main__\":\n",
    "    # Bartlett's isotropic estimator\n",
    "    s_bi = ginibre_ball_statistics.sample_approximation(estimator=\"bartlett_isotropic_estimator\", n_allowed_k_norm=n_allowed_k_norm)\n",
    "    # list pcf\n",
    "    #pcf_list = ginibre_ball_statistics.sample_pcf_approximation(method=\"fv\", Kest=dict(rmax=60, correction=\"Ripley\"), fv=dict(method=\"b\", spar=0.1))\n",
    "    pcf_list = ginibre_ball_statistics.sample_pcf_approximation(method=\"fv\", Kest=dict(rmax=r_max), fv=dict(method=\"b\", spar=0.2))\n",
    "    \n",
    "print(\"--- %s seconds ---\" % (time.time() - start_time))\n",
    "\n"
   ]
  },
  {
   "cell_type": "code",
   "execution_count": null,
   "metadata": {},
   "outputs": [],
   "source": [
    "s = len(pcf_list)\n",
    "# interpolate pcf\n",
    "r_max=30\n",
    "r_list = [pcf_list[i][\"r\"] for i in range(s)]\n",
    "pcf_fv_list = [pcf_list[i][\"pcf\"] for i in range(s)]\n",
    "pcf_fct_list = pcf_interpolate_list(r_list, pcf_fv_list, drop=True)\n",
    "# BaddourChouinard\n",
    "s_hbc_list = ginibre_ball_statistics.sample_integral_approximation(pcf_fct_list,method=\"BaddourChouinard\", \n",
    "                                                                   k_norm=k_norm_allowed, r_max=r_max,  nb_points=1000) \n",
    "# Ogata\n",
    "s_ho_list = ginibre_ball_statistics.sample_integral_approximation(pcf_fct_list,method=\"Ogata\", \n",
    "                                                                   k_norm=k_norm_allowed, step_size=0.01,  nb_points=1000) "
   ]
  },
  {
   "cell_type": "code",
   "execution_count": null,
   "metadata": {},
   "outputs": [],
   "source": [
    "# save results \n",
    "import pickle\n",
    "my_dict2 = {\"ginibre_s_bi_list\": [k_norm_allowed, s_bi], \"ginibre_s_ho_list\": [k_norm_allowed, s_ho_list],\n",
    "            \"ginibre_s_hbc_list\": [k_norm_allowed, s_hbc_list]}\n",
    "with open('ginibre_ise_list.pkl', 'wb') as f:\n",
    "       pickle.dump(my_dict2, f)"
   ]
  },
  {
   "cell_type": "code",
   "execution_count": null,
   "metadata": {},
   "outputs": [],
   "source": [
    "k_bi, m_bi, ivar_bi, ibias_bi, imse_bi, imse_var_bi = sample_statistics(k_norm=k_norm_allowed,\n",
    "                                                                               approximation=s_bi,\n",
    "                                                                               exact=utils.structure_factor_ginibre )\n",
    "k_bi, m_hbc, ivar_hbc, ibias_hbc, imse_hbc, imse_var_hbc =sample_statistics(k_norm=k_norm_allowed,\n",
    "                                                                                approximation=s_hbc_list,\n",
    "                                                                                exact=utils.structure_factor_ginibre )\n",
    "k_bi, m_ho, ivar_ho, ibias_ho, imse_ho, imse_var_ho = sample_statistics(k_norm=k_norm_allowed,\n",
    "                                                                                approximation=s_ho_list,\n",
    "                                                                                exact=utils.structure_factor_ginibre )\n",
    "print(\"For s_bi: ivar=\", ivar_bi, \"ibias=\", ibias_bi, \"imse=\", imse_bi, \"3std(imse)\",  np.sqrt(imse_var_bi)*3)\n",
    "\n",
    "print(\"For s_hbc: ivar=\", ivar_hbc, \"ibias=\", ibias_hbc, \"imse=\", imse_hbc, \"3std(imse)\",  np.sqrt(imse_var_hbc)*3)\n",
    "\n",
    "print(\"For s_ho: ivar=\", ivar_ho, \"ibias=\", ibias_ho, \"imse=\", imse_ho, \"3std(imse)\",  np.sqrt(imse_var_ho)*3)"
   ]
  },
  {
   "cell_type": "code",
   "execution_count": null,
   "metadata": {},
   "outputs": [],
   "source": [
    "k_norm_allowed"
   ]
  },
  {
   "cell_type": "code",
   "execution_count": null,
   "metadata": {},
   "outputs": [],
   "source": [
    "fig, axis = plt.subplots(figsize=(7,6))\n",
    "axis.loglog(k_norm_allowed, m_bi, 'm*', label=r\"$\\overline{\\widehat{S}_{\\mathrm{BI}}(k)}$\")\n",
    "#axis.loglog(k_norm_allowed, m_bi, 'm')\n",
    "axis.loglog(k_ho, m_ho, 'b.', label=r\"$\\overline{\\widehat{S}_{\\mathrm{HO}}(k)}$\")\n",
    "#axis.loglog(k_norm_allowed, m_ho, 'b')\n",
    "axis.loglog(k_hbc, m_hbc, 'k+', label=r\"$\\overline{\\widehat{S}_{\\mathrm{HBC}}(k)}$\")\n",
    "#axis.loglog(k_norm_allowed, m_hbc, 'k')\n",
    "axis.loglog(k_norm_allowed, utils.structure_factor_ginibre(k_norm_allowed), 'g', label= r\"$S(k)$\")\n",
    "axis.legend()\n",
    "axis.set_xlabel(r\"Wavenumber ($k$)\")\n",
    "axis.set_ylabel(r\"Structure factor ($S(k)$)\")\n",
    "plt.show()\n",
    "fig.savefig(\"comparaison_ISE_mean_ginibre.pdf\", bbox_inches=\"tight\")"
   ]
  },
  {
   "cell_type": "code",
   "execution_count": null,
   "metadata": {},
   "outputs": [],
   "source": [
    "from structure_factor.pair_correlation_function import PairCorrelationFunction as pcf\n",
    "pcf.plot(pcf_list[0], exact_pcf=utils.pair_correlation_function_ginibre, figsize=(7,6),\n",
    "         color=['grey', 'b', 'darkcyan'], style=[\".\", \"*\", \"^\"],\n",
    "         file_name=\"pcf_ppp_ginibre.png\")"
   ]
  },
  {
   "cell_type": "markdown",
   "metadata": {},
   "source": [
    "# trying to see the effect of fixing interpolation limite on variance badddour ogata"
   ]
  },
  {
   "cell_type": "code",
   "execution_count": null,
   "metadata": {},
   "outputs": [],
   "source": [
    "pcf"
   ]
  },
  {
   "cell_type": "code",
   "execution_count": null,
   "metadata": {},
   "outputs": [],
   "source": [
    "s = len(pcf_list)\n",
    "r_list_ = [pcf_list[i][\"r\"] for i in range(s)] \n",
    "r_max = np.max(r_list_[0])\n",
    "r_list2 = [np.append(r_list_[i], r_max + 800) for i in range(s)]\n",
    "pcf_r_list_ = [pcf_list[i][\"pcf\"] for i in range(s)]\n",
    "pcf_list2 = [np.append(pcf_r_list_[i], 1) for i in range(s)]"
   ]
  },
  {
   "cell_type": "code",
   "execution_count": null,
   "metadata": {},
   "outputs": [],
   "source": [
    "# interpolate pcf\n",
    "pcf_fct_list = pcf_interpolate_list(r_list2, pcf_list2, drop=True)\n",
    "plt.plot(r_list2[0], pcf_fct_list[0](r_list2[0]) , 'b')"
   ]
  },
  {
   "cell_type": "code",
   "execution_count": null,
   "metadata": {},
   "outputs": [],
   "source": [
    "# BaddourChouinard\n",
    "s_hbc_list = ginibre_ball_statistics.sample_integral_approximation(pcf_fct_list,method=\"BaddourChouinard\", \n",
    "                                                                   k_norm=k_norm_allowed, r_max=0.5,  nb_points=1000) \n",
    "# Ogata\n",
    "s_ho_list = ginibre_ball_statistics.sample_integral_approximation(pcf_fct_list,method=\"Ogata\", \n",
    "                                                                   k_norm=k_norm_allowed, step_size=0.02,  nb_points=1000) "
   ]
  },
  {
   "cell_type": "code",
   "execution_count": null,
   "metadata": {},
   "outputs": [],
   "source": [
    "#m_bi, var_bi, ivar_bi, bias_bi, ibias_bi, mse_bi, imse_bi = ginibre_ball_statistics.sample_statistics(k_norm=k_norm_allowed,\n",
    "#                                                                                approximation=s_bi,\n",
    "#                                                                                exact=utils.structure_factor_ginibre )\n",
    "m_hbc, var_hbc, ivar_hbc, bias_hbc, ibias_hbc, mse_hbc, imse_hbc = ginibre_ball_statistics.sample_statistics(k_norm=k_norm_allowed,\n",
    "                                                                                approximation=s_hbc_list,\n",
    "                                                                                exact=utils.structure_factor_ginibre )\n",
    "m_ho, var_ho, ivar_ho, bias_ho, ibias_ho, mse_ho, imse_ho = ginibre_ball_statistics.sample_statistics(k_norm=k_norm_allowed,\n",
    "                                                                                approximation=s_ho_list,\n",
    "                                                                                exact=utils.structure_factor_ginibre )\n",
    "#print(\"For s_bi: ivar=\", ivar_bi, \"ibias=\", ibias_bi, \"imse=\", imse_bi)\n",
    "\n",
    "print(\"For s_hbc: ivar=\", ivar_hbc, \"ibias=\", ibias_hbc, \"imse=\", imse_hbc)\n",
    "\n",
    "print(\"For s_ho: ivar=\", ivar_ho, \"ibias=\", ibias_ho, \"imse=\", imse_ho)"
   ]
  },
  {
   "cell_type": "code",
   "execution_count": null,
   "metadata": {},
   "outputs": [],
   "source": [
    "fig, axis = plt.subplots(figsize=(7,6))\n",
    "#axis.loglog(k_norm_allowed, m_bi, 'm*', label=r\"$\\overline{\\widehat{S}_{\\mathrm{BI}}(k)}$\")\n",
    "#axis.loglog(k_norm_allowed, m_bi, 'm')\n",
    "axis.plot(k_norm_allowed, m_ho, 'b.', label=r\"$\\overline{\\widehat{S}_{\\mathrm{HO}}(k)}$\")\n",
    "#axis.loglog(k_norm_allowed, m_ho, 'b')\n",
    "axis.plot(k_norm_allowed, m_hbc, 'k+', label=r\"$\\overline{\\widehat{S}_{\\mathrm{HBC}}(k)}$\")\n",
    "#axis.loglog(k_norm_allowed, m_hbc, 'k')\n",
    "axis.loglog(k_norm_allowed, utils.structure_factor_ginibre(k_norm_allowed), 'g', label= r\"$S(k)$\")\n",
    "axis.legend()\n",
    "axis.set_xlabel(r\"Wavenumber ($k$)\")\n",
    "axis.set_ylabel(r\"Structure factor ($S(k)$)\")\n",
    "plt.show()\n",
    "fig.savefig(\"comparaison_ISE_mean_ginibre.png\", bbox_inches=\"tight\")"
   ]
  },
  {
   "cell_type": "code",
   "execution_count": null,
   "metadata": {},
   "outputs": [],
   "source": [
    "xx = np.linspace(0,2, 400)\n",
    "plt.loglog(xx, utils.structure_factor_ginibre(xx))"
   ]
  },
  {
   "cell_type": "markdown",
   "metadata": {},
   "source": [
    "# untill here"
   ]
  },
  {
   "cell_type": "code",
   "execution_count": null,
   "metadata": {},
   "outputs": [],
   "source": [
    "s = len(pcf_list)\n",
    "# interpolate pcf\n",
    "r_list = [pcf_list[i][\"r\"] for i in range(s)]\n",
    "pcf_fv_list = [pcf_list[i][\"pcf\"] for i in range(s)]\n",
    "pcf_fct_list = pcf_interpolate_list(r_list, pcf_fv_list, drop=True)\n",
    "# BaddourChouinard\n",
    "s_hbc_list = ginibre_ball_statistics.sample_integral_approximation(pcf_fct_list,method=\"BaddourChouinard\", \n",
    "                                                                   k_norm=k_norm_allowed, r_max=r_max,  nb_points=1000) \n",
    "# Ogata\n",
    "s_ho_list = ginibre_ball_statistics.sample_integral_approximation(pcf_fct_list,method=\"Ogata\", \n",
    "                                                                   k_norm=k_norm_allowed, step_size=0.01,  nb_points=500) "
   ]
  },
  {
   "cell_type": "code",
   "execution_count": null,
   "metadata": {},
   "outputs": [],
   "source": [
    "thomas_box_pp_list[2].window.bounds"
   ]
  },
  {
   "cell_type": "code",
   "execution_count": null,
   "metadata": {},
   "outputs": [],
   "source": [
    "#m_bi, var_bi, ivar_bi, bias_bi, ibias_bi, mse_bi, imse_bi = ginibre_ball_statistics.sample_statistics(k_norm=k_norm_allowed,\n",
    "#                                                                                approximation=s_bi,\n",
    "#                                                                                exact=utils.structure_factor_ginibre )\n",
    "m_hbc, var_hbc, ivar_hbc, bias_hbc, ibias_hbc, mse_hbc, imse_hbc = ginibre_ball_statistics.sample_statistics(k_norm=k_norm_allowed,\n",
    "                                                                                approximation=s_hbc_list,\n",
    "                                                                                exact=utils.structure_factor_ginibre )\n",
    "m_ho, var_ho, ivar_ho, bias_ho, ibias_ho, mse_ho, imse_ho = ginibre_ball_statistics.sample_statistics(k_norm=k_norm_allowed,\n",
    "                                                                                approximation=s_ho_list,\n",
    "                                                                                exact=utils.structure_factor_ginibre )\n",
    "#print(\"For s_bi: ivar=\", ivar_bi, \"ibias=\", ibias_bi, \"imse=\", imse_bi)\n",
    "\n",
    "print(\"For s_hbc: ivar=\", ivar_hbc, \"ibias=\", ibias_hbc, \"imse=\", imse_hbc)\n",
    "\n",
    "print(\"For s_ho: ivar=\", ivar_ho, \"ibias=\", ibias_ho, \"imse=\", imse_ho)"
   ]
  },
  {
   "cell_type": "code",
   "execution_count": null,
   "metadata": {},
   "outputs": [],
   "source": [
    "fig, axis = plt.subplots(figsize=(7,6))\n",
    "axis.loglog(k_norm_allowed, m_bi, 'm*', label=r\"$\\overline{\\widehat{S}_{\\mathrm{BI}}(k)}$\")\n",
    "axis.loglog(k_norm_allowed, m_bi, 'm')\n",
    "axis.loglog(k_norm_allowed, m_ho, 'b.', label=r\"$\\overline{\\widehat{S}_{\\mathrm{HO}}(k)}$\")\n",
    "#axis.loglog(k_norm_allowed, m_ho, 'b')\n",
    "axis.loglog(k_norm_allowed, m_hbc, 'k+', label=r\"$\\overline{\\widehat{S}_{\\mathrm{HBC}}(k)}$\")\n",
    "#axis.loglog(k_norm_allowed, m_hbc, 'k')\n",
    "axis.loglog(k_norm_allowed, utils.structure_factor_ginibre(k_norm_allowed), 'g', label= r\"$S(k)$\")\n",
    "axis.legend()\n",
    "axis.set_xlabel(r\"Wavenumber ($k$)\")\n",
    "axis.set_ylabel(r\"Structure factor ($S(k)$)\")\n",
    "plt.show()\n",
    "fig.savefig(\"comparaison_ISE_mean_ginibre.png\", bbox_inches=\"tight\")"
   ]
  },
  {
   "cell_type": "markdown",
   "metadata": {},
   "source": [
    "## 1.4.3- Hyperuniformity study"
   ]
  },
  {
   "cell_type": "markdown",
   "metadata": {},
   "source": [
    "The study will be build on the result of Bartlett's isotropic estimator"
   ]
  },
  {
   "cell_type": "code",
   "execution_count": null,
   "metadata": {},
   "outputs": [],
   "source": [
    "from structure_factor.statistics import apply_estimator\n",
    "from multiprocessing import Pool\n",
    "from functools import partial\n",
    "from structure_factor.statistics import pcf_interpolate_list\n",
    "import time\n",
    "\n",
    "start_time = time.time()\n",
    "core_num=8\n",
    "\n",
    "n_allowed_k_norm=64\n",
    "k_norm_allowed = get_k_norm(ginibre_ball_pp_list[0], n_allowed_k_norm=n_allowed_k_norm)\n",
    "\n",
    "if __name__ == \"__main__\":\n",
    "    # Bartlett's isotropic estimator\n",
    "    s_bi = ginibre_ball_statistics.sample_approximation(estimator=\"bartlett_isotropic_estimator\", n_allowed_k_norm=n_allowed_k_norm)\n",
    "    \n",
    "print(\"--- %s seconds ---\" % (time.time() - start_time))\n",
    "\n"
   ]
  },
  {
   "cell_type": "code",
   "execution_count": null,
   "metadata": {},
   "outputs": [],
   "source": [
    "# save sample s_bi:\n",
    "import pickle\n",
    "my_dict = {\"k_norm\": k_norm_allowed, \"list_s_bi_ginibre\": s_bi}\n",
    "with open('sample_s_bi_ginibre.pkl', 'wb') as f:\n",
    "       pickle.dump(my_dict, f)"
   ]
  },
  {
   "cell_type": "markdown",
   "metadata": {},
   "source": [
    "### 1.4.3.1- Effective hyperuniformity"
   ]
  },
  {
   "cell_type": "code",
   "execution_count": null,
   "metadata": {},
   "outputs": [],
   "source": [
    "from structure_factor.statistics import sample_hyperuniformity, sample_variance\n",
    "\n",
    "H_index_list = sample_hyperuniformity(k_norm_allowed, s_bi, estimator=\"effective\", k_norm_stop=1)"
   ]
  },
  {
   "cell_type": "code",
   "execution_count": null,
   "metadata": {},
   "outputs": [],
   "source": [
    "H_var, H_m = sample_variance(H_index_list)\n",
    "print(\"mean H index\", H_m, \"3std H index\", 3*np.sqrt(H_var))"
   ]
  },
  {
   "cell_type": "markdown",
   "metadata": {},
   "source": [
    "### 1.4.3.2- Hyperuniformity class"
   ]
  },
  {
   "cell_type": "code",
   "execution_count": null,
   "metadata": {},
   "outputs": [],
   "source": [
    "alpha_list = sample_hyperuniformity(k_norm_allowed, s_bi, estimator=\"class\", k_norm_stop=0.45)\n",
    "alpha_var, alpha_m = sample_variance(alpha_list)\n",
    "print(\"mean power decay\", alpha_m, \"3std power decay\", 3*np.sqrt(alpha_var))\n"
   ]
  },
  {
   "cell_type": "markdown",
   "metadata": {},
   "source": [
    "# 2- Poisson point process"
   ]
  },
  {
   "cell_type": "markdown",
   "metadata": {},
   "source": [
    "In this section we repeat the previous experience on a point configuration from a standard homogeneous Poisson Point Process in a cubic window"
   ]
  },
  {
   "cell_type": "code",
   "execution_count": null,
   "metadata": {},
   "outputs": [],
   "source": [
    "# load points\n",
    "import pickle\n",
    "path = \"/Users/dhawat/github/structure_factor_paper/test_data/list_samples_poisson_pp.pkl\"\n",
    "with open(path, \"rb\") as input_file:\n",
    "    list_sample_poisson_pp = pickle.load(input_file)"
   ]
  },
  {
   "cell_type": "code",
   "execution_count": null,
   "metadata": {},
   "outputs": [],
   "source": [
    "from structure_factor.spatial_windows import BallWindow, BoxWindow\n",
    "list_poisson_pp_ball = list_sample_poisson_pp[\"poisson_pp_ball\"]\n",
    "poisson_pp_ball = list_poisson_pp_ball[2]\n",
    "poisson_pp_ball.plot(window_res=BallWindow(radius=50, center=(0,0)), file_name=\"poisson_pp_ball.pdf\" )\n",
    "\n",
    "list_poisson_pp_box = list_sample_poisson_pp[\"poisson_pp_box\"]\n",
    "poisson_pp_box = list_poisson_pp_box[2]\n",
    "poisson_pp_box.plot(file_name=\"poisson_pp_box.pdf\")"
   ]
  },
  {
   "cell_type": "markdown",
   "metadata": {},
   "source": [
    "## 2.1- Direct sprectral estimator"
   ]
  },
  {
   "cell_type": "code",
   "execution_count": null,
   "metadata": {},
   "outputs": [],
   "source": [
    "sf_poisson_box = StructureFactor(poisson_pp_box) # initializing the StructureFactor class\n"
   ]
  },
  {
   "cell_type": "markdown",
   "metadata": {},
   "source": [
    "### 2.1.2- Scattering intensity"
   ]
  },
  {
   "cell_type": "code",
   "execution_count": null,
   "metadata": {},
   "outputs": [],
   "source": [
    "# on allowed values \n",
    "k_max = 6\n",
    "allowed_k, si = sf_poisson_box.scattering_intensity(k_max=k_max)\n",
    "print(\"Scattering intensity\")\n",
    "k_norm = np.linalg.norm(allowed_k, axis=1)\n",
    "fig, axis = plt.subplots(figsize=(7,6))\n",
    "fig = sf_poisson_box.plot_spectral_estimator(allowed_k, si, axes=axis, plot_type=\"radial\",\n",
    "                                             #exact_sf=utils.structure_factor_poisson,\n",
    "                                               label=r\"$\\widehat{S}$\",\n",
    "                                            bins=60, error_bar=True, file_name=\"si_allowed_k_pois.pdf\")"
   ]
  },
  {
   "cell_type": "code",
   "execution_count": null,
   "metadata": {},
   "outputs": [],
   "source": [
    "x = np.linspace(0, k_max, 150)\n",
    "x = x[x != 0]\n",
    "X, Y = np.meshgrid(x, x)\n",
    "k = np.column_stack((X.ravel(), Y.ravel()))\n",
    "# on k \n",
    "k, si1 = sf_poisson_box.scattering_intensity(k=k, debiased=False)\n",
    "# on k debiased directly\n",
    "k, si2 = sf_poisson_box.scattering_intensity(k=k, debiased=True)\n",
    "# on k debiased undirectly\n",
    "k, si3 = sf_poisson_box.scattering_intensity(k=k, debiased=True, direct=False)"
   ]
  },
  {
   "cell_type": "code",
   "execution_count": null,
   "metadata": {},
   "outputs": [],
   "source": [
    "fig, axis = plt.subplots(figsize=(7,6))\n",
    "fig = sf_poisson_box.plot_spectral_estimator(k, si3, axes=axis, positive=False, plot_type=\"radial\",\n",
    "                                             #exact_sf=utils.structure_factor_poisson,\n",
    "                                               label=r\"$\\widehat{S}$\",\n",
    "                                            bins=65, error_bar=True, file_name=\"si_uddirect_pois.pdf\")"
   ]
  },
  {
   "cell_type": "code",
   "execution_count": null,
   "metadata": {},
   "outputs": [],
   "source": [
    "# save results \n",
    "import pickle\n",
    "my_dict2 = {\"poisson_s_si_allowed_k\": [allowed_k, si], \"poisson_s_si_k\": [k, si1], \"poisson_s_si_directly_debiased\": [k, si2],\n",
    "            \"poisson_s_si_undirectly_debiased\": [k, si3]}\n",
    "with open('poisson_s_si.pkl', 'wb') as f:\n",
    "       pickle.dump(my_dict2, f)"
   ]
  },
  {
   "cell_type": "markdown",
   "metadata": {},
   "source": [
    "### 2.1.2- Tapered periodogram with SineTaper"
   ]
  },
  {
   "cell_type": "code",
   "execution_count": null,
   "metadata": {},
   "outputs": [],
   "source": [
    "from structure_factor.tapers import SineTaper\n",
    "## tapered periodogram\n",
    "x = np.linspace(0, 6, 150)\n",
    "x = x[x != 0]\n",
    "X, Y = np.meshgrid(x, x)\n",
    "k = np.column_stack((X.ravel(), Y.ravel()))\n",
    "p = [1, 1]\n",
    "taper = SineTaper(p)\n",
    "k, s_tp = sf_poisson_box.tapered_periodogram(k, taper, debiased=False)\n",
    "k, s_dtp = sf_poisson_box.tapered_periodogram(k, taper)\n",
    "k, s_udtp = sf_poisson_box.tapered_periodogram(k, taper, debiased=True, direct=False)"
   ]
  },
  {
   "cell_type": "code",
   "execution_count": null,
   "metadata": {},
   "outputs": [],
   "source": [
    "fig, axis = plt.subplots(figsize=(7,6))\n",
    "fig = sf_poisson_box.plot_spectral_estimator(k, s_tp, axes=axis, positive=False, plot_type=\"radial\",\n",
    "                                            bins=60, error_bar=True, label=r\"$\\widehat{S}$\",\n",
    "                                           file_name=\"s_tp_sine_taper_poisson.pdf\"\n",
    "                                          )"
   ]
  },
  {
   "cell_type": "code",
   "execution_count": null,
   "metadata": {},
   "outputs": [],
   "source": [
    "# save results \n",
    "import pickle\n",
    "my_dict2 = {\"poisson_s_tp_sine_taper\": [k, s_tp], \"poisson_s_ddtp_sine_taper\": [k, s_dtp], \"poisson_s_udtp_sine_taper\": [k, s_udtp]}\n",
    "with open('poisson_s_tp_sine_taper.pkl', 'wb') as f:\n",
    "       pickle.dump(my_dict2, f)"
   ]
  },
  {
   "cell_type": "markdown",
   "metadata": {},
   "source": [
    "### 2.1.3- Multitapering"
   ]
  },
  {
   "cell_type": "code",
   "execution_count": null,
   "metadata": {},
   "outputs": [],
   "source": [
    "from structure_factor.tapers import SineTaper\n",
    "## multitapered tapered periodogram\n",
    "x = np.linspace(0, k_max, 150)\n",
    "x = x[x != 0]\n",
    "X, Y = np.meshgrid(x, x)\n",
    "k = np.column_stack((X.ravel(), Y.ravel()))\n",
    "k, s_mtp = sf_poisson_box.multitapered_periodogram(k, debiased=False)\n",
    "k, s_ddmtp = sf_poisson_box.multitapered_periodogram(k, P=2)\n",
    "k, s_udmtp = sf_poisson_box.multitapered_periodogram(k, debiased=True, direct=False, P=2)"
   ]
  },
  {
   "cell_type": "code",
   "execution_count": null,
   "metadata": {},
   "outputs": [],
   "source": [
    "fig, axis = plt.subplots(figsize=(7,6))\n",
    "fig = sf_poisson_box.plot_spectral_estimator(k, s_udmtp, axes=axis, positive=False, plot_type=\"radial\",\n",
    "                                            bins=60, error_bar=True, label=r\"$\\widehat{S}$\",\n",
    "                                           file_name=\"s_udmtp_sine_taper_poisson.pdf\"\n",
    "                                          )"
   ]
  },
  {
   "cell_type": "code",
   "execution_count": null,
   "metadata": {},
   "outputs": [],
   "source": [
    "# save results \n",
    "import pickle\n",
    "my_dict2 = {\"poisson_s_mtp_sine_taper\": [k, s_mtp], \"poisson_s_ddmtp_sine_taper\": [k,s_mdtp], \"poisson_s_udmtp_sine_taper\": [k, s_mudtp]}\n",
    "with open('poisson_s_mtp_sine_taper.pkl', 'wb') as f:\n",
    "       pickle.dump(my_dict2, f)"
   ]
  },
  {
   "cell_type": "markdown",
   "metadata": {},
   "source": [
    "## 2.2- Isotropic estimators"
   ]
  },
  {
   "cell_type": "code",
   "execution_count": null,
   "metadata": {},
   "outputs": [],
   "source": [
    "sf_poisson_ball = StructureFactor(poisson_pp_ball)"
   ]
  },
  {
   "cell_type": "markdown",
   "metadata": {},
   "source": [
    "### 2.2.1- Bartlett isotropic estimators"
   ]
  },
  {
   "cell_type": "code",
   "execution_count": null,
   "metadata": {},
   "outputs": [],
   "source": [
    "n_allowed_k_norm=100\n",
    "k_norm_allowed, s_bi = sf_poisson_ball.bartlett_isotropic_estimator(n_allowed_k_norm=n_allowed_k_norm)\n",
    "fig, axis = plt.subplots(figsize=(7,6))\n",
    "sf_poisson_ball.plot_isotropic_estimator(k_norm_allowed, s_bi, axis=axis,\n",
    "                                         label=r\"$\\widehat{S}$\", file_name=\"s_bi_poisson.pdf\")"
   ]
  },
  {
   "cell_type": "code",
   "execution_count": null,
   "metadata": {},
   "outputs": [],
   "source": [
    "sf_poisson_ball.plot_isotropic_estimator(k_norm, s_bi, axis=axis,\n",
    "                                         label=r\"$\\widehat{S}_{\\mathrm{BI}}(k)$\", file_name=\"s_bi_poisson.png\")"
   ]
  },
  {
   "cell_type": "code",
   "execution_count": null,
   "metadata": {},
   "outputs": [],
   "source": [
    "k_non_allowed = np.linspace(min(k_norm)+0.002, max(k_norm) + 0.002, 100)\n",
    "k_norm_non_allowed, s_bi_non_allowed = sf_poisson_ball.bartlett_isotropic_estimator(k_non_allowed)\n",
    "fig, axis = plt.subplots(figsize=(7,6))\n",
    "sf_poisson_ball.plot_isotropic_estimator(k_norm_non_allowed, s_bi_non_allowed, axis=axis,\n",
    "                                         label=r\"$\\widehat{S}$\", file_name=\"s_bi_poisson_non_allowed.pdf\")"
   ]
  },
  {
   "cell_type": "code",
   "execution_count": null,
   "metadata": {},
   "outputs": [],
   "source": [
    "sf_poisson_ball.plot_isotropic_estimator(k_norm_non_allowed, s_bi_non_allowed, axis=axis,\n",
    "                                         label=r\"$\\widehat{S}_{\\mathrm{BI}}(k)$\", file_name=\"s_bi_poisson_non_allowed.png\")\n",
    "plt.show()"
   ]
  },
  {
   "cell_type": "markdown",
   "metadata": {},
   "source": [
    "### 2.2.2- Pair correlation function"
   ]
  },
  {
   "cell_type": "code",
   "execution_count": null,
   "metadata": {},
   "outputs": [],
   "source": [
    "from structure_factor.pair_correlation_function import PairCorrelationFunction as pcf"
   ]
  },
  {
   "cell_type": "markdown",
   "metadata": {},
   "source": [
    "pcf.ppp"
   ]
  },
  {
   "cell_type": "code",
   "execution_count": null,
   "metadata": {},
   "outputs": [],
   "source": [
    "r= np.linspace(0, 20, 200)\n",
    "poisson_pcf_ppp = pcf.estimate(poisson_pp_ball, method=\"ppp\", r=r, correction=\"all\")\n",
    "pcf.plot(poisson_pcf_ppp, figsize=(7,6),\n",
    "         color=['grey', 'b', 'darkcyan'], style=[\".\", \"*\", \"^\"],\n",
    "         file_name=\"pcf_ppp_poisson.pdf\")"
   ]
  },
  {
   "cell_type": "markdown",
   "metadata": {},
   "source": [
    "pcf.fv"
   ]
  },
  {
   "cell_type": "code",
   "execution_count": null,
   "metadata": {},
   "outputs": [],
   "source": [
    "poisson_pcf_fv = pcf.estimate(poisson_pp_ball, method=\"fv\", Kest=dict(rmax=20), fv=dict(method=\"c\", spar=0.2))\n",
    "pcf.plot(poisson_pcf_fv, figsize=(7,6),\n",
    "         color=['grey'], style=[\".\"],\n",
    "         file_name=\"pcf_fv_poisson.pdf\")"
   ]
  },
  {
   "cell_type": "markdown",
   "metadata": {},
   "source": [
    "Interpolation"
   ]
  },
  {
   "cell_type": "code",
   "execution_count": null,
   "metadata": {},
   "outputs": [],
   "source": [
    "r = poisson_pcf_fv[\"r\"]\n",
    "r_max = np.max(r)\n",
    "pcf_r = poisson_pcf_fv[\"pcf\"]\n",
    "poisson_pcf_fct = pcf.interpolate(r=r, pcf_r=pcf_r, drop=True)\n",
    "\n",
    "x = np.linspace(0, 100, 200)\n",
    "plt.plot(x, ginibre_pcf_fct(x), 'b.')\n",
    "plt.show()"
   ]
  },
  {
   "cell_type": "markdown",
   "metadata": {},
   "source": [
    "Ogata"
   ]
  },
  {
   "cell_type": "code",
   "execution_count": null,
   "metadata": {},
   "outputs": [],
   "source": [
    "\n",
    "k_norm2 = np.linspace(0.3, 30, 1000) # vector of wave length\n",
    "k_norm2, sf_Ogata = sf_poisson_ball.hankel_quadrature(poisson_pcf_fct, method=\"Ogata\", k_norm=k_norm, step_size=0.01,\n",
    "                                                    nb_points=1000)\n",
    "\n",
    "fig, axis = plt.subplots(figsize=(7,6))\n",
    "fig = sf_poisson_ball.plot_isotropic_estimator(k_norm2, sf_Ogata, axis=axis,\n",
    "                                               error_bar=True, bins=20,\n",
    "                                                file_name=\"poisson_s_ho.pdf\"\n",
    "                                               )"
   ]
  },
  {
   "cell_type": "markdown",
   "metadata": {},
   "source": [
    "Baddour-Chouinard"
   ]
  },
  {
   "cell_type": "code",
   "execution_count": null,
   "metadata": {
    "scrolled": true
   },
   "outputs": [],
   "source": [
    "k_norm3 = np.linspace(0.3, 30, 1000)\n",
    "k_norm3, s_hbc = sf_poisson_ball.hankel_quadrature(poisson_pcf_fct,\n",
    "                                                  k_norm=k_norm3,\n",
    "                                                   r_max=r_max, \n",
    "                                                   nb_points=1000\n",
    "                                                   )\n",
    "fig, axis= plt.subplots(figsize=(7,6))\n",
    "sf_poisson_ball.plot_isotropic_estimator(k_norm3, s_hbc, error_bar=True, bins=20, axis=axis, label=r\"$\\widehat{S}$\", \n",
    "                                         file_name=\"poisson_s_hbc.pdf\"\n",
    "                                           )"
   ]
  },
  {
   "cell_type": "code",
   "execution_count": null,
   "metadata": {},
   "outputs": [],
   "source": [
    "# save results \n",
    "import pickle\n",
    "my_dict2 = {\"poisso,_s_bi\": [k_norm_allowed, s_bi], \"poisson_s_ho\": [k_norm2, s_ho], \"poisson_s_hbc\":[k_norm3, s_hbc] }\n",
    "with open('poisson_s_ise.pkl', 'wb') as f:\n",
    "       pickle.dump(my_dict2, f)"
   ]
  },
  {
   "cell_type": "code",
   "execution_count": null,
   "metadata": {
    "scrolled": true
   },
   "outputs": [],
   "source": [
    "# try to amelioreate ogata\n",
    "from structure_factor.point_process import HomogeneousPoissonPointProcess\n",
    "from structure_factor.point_pattern import PointPattern\n",
    "# Poisson points list\n",
    "poisson_intensity=1/np.pi\n",
    "poisson = HomogeneousPoissonPointProcess(intensity=poisson_intensity)\n",
    "\n",
    "# BallWindow\n",
    "window_ball = BallWindow(center=[0, 0], radius=300)\n",
    "poisson_ball_big = poisson.generate_sample(window=window_ball)\n",
    "\n",
    "\n",
    "# PointPattern\n",
    "poisson_pp_big = PointPattern(poisson_ball_big, window_ball, poisson_intensity)\n",
    "poisson_pp_big.plot()"
   ]
  },
  {
   "cell_type": "code",
   "execution_count": null,
   "metadata": {},
   "outputs": [],
   "source": [
    "from structure_factor.structure_factor import StructureFactor\n",
    "sf_poisson_big = StructureFactor(poisson_pp_big)"
   ]
  },
  {
   "cell_type": "code",
   "execution_count": null,
   "metadata": {},
   "outputs": [],
   "source": [
    "from structure_factor.pair_correlation_function import PairCorrelationFunction as pcf\n",
    "\n",
    "poisson_pcf_fv = pcf.estimate(poisson_pp_big, method=\"fv\", Kest=dict(rmax=200), fv=dict(method=\"b\", spar=0.3))\n",
    "pcf.plot(poisson_pcf_fv, figsize=(7,6),\n",
    "         color=['grey'], style=[\".\"],\n",
    "         file_name=\"pcf_fv_poisson.png\")\n",
    "\n",
    "r=poisson_pcf_fv[\"r\"]\n",
    "pcf_r = poisson_pcf_fv[\"pcf\"]\n",
    "poisson_pcf_fct = pcf.interpolate(r=r, pcf_r=pcf_r, clean=True, drop=True)\n",
    "r_max = np.max(r)"
   ]
  },
  {
   "cell_type": "code",
   "execution_count": null,
   "metadata": {},
   "outputs": [],
   "source": [
    "from structure_factor.statistics import apply_estimator\n",
    "from multiprocessing import Pool\n",
    "from functools import partial\n",
    "from structure_factor.statistics import pcf_interpolate_list\n",
    "\n",
    "\n",
    "core_num=8\n",
    "\n",
    "n_allowed_k_norm=64\n",
    "k_norm_allowed = get_k_norm(poisson_pp_big, n_allowed_k_norm=n_allowed_k_norm)"
   ]
  },
  {
   "cell_type": "code",
   "execution_count": null,
   "metadata": {},
   "outputs": [],
   "source": [
    "k_norm_allowed"
   ]
  },
  {
   "cell_type": "code",
   "execution_count": null,
   "metadata": {},
   "outputs": [],
   "source": [
    "\n",
    "k_norm = np.linspace(0.01,10, 1000) # vector of wave length\n",
    "k_norm, sf_Ogata = sf_poisson_big.hankel_quadrature(poisson_pcf_fct, method=\"Ogata\", k_norm=k_norm, step_size=0.1,\n",
    "                                                    nb_points=1000)\n",
    "\n",
    "fig, axis = plt.subplots(figsize=(7,6))\n",
    "fig = sf_poisson_big.plot_isotropic_estimator(k_norm, sf_Ogata, axis=axis,\n",
    "                                               error_bar=True, bins=60,\n",
    "                                                file_name=\"poisson_s_ho.png\"\n",
    "                                               )"
   ]
  },
  {
   "cell_type": "code",
   "execution_count": null,
   "metadata": {},
   "outputs": [],
   "source": []
  },
  {
   "cell_type": "code",
   "execution_count": null,
   "metadata": {},
   "outputs": [],
   "source": []
  },
  {
   "cell_type": "markdown",
   "metadata": {},
   "source": [
    "## 2.3- Hyperuniformity"
   ]
  },
  {
   "cell_type": "code",
   "execution_count": null,
   "metadata": {},
   "outputs": [],
   "source": [
    "from structure_factor.hyperuniformity import Hyperuniformity\n",
    "hyperuniformity_test = Hyperuniformity(k_norm, s_bi)\n",
    "bin_center, bin_mean, bin_std = hyperuniformity_test.bin_data(bins=40)"
   ]
  },
  {
   "cell_type": "markdown",
   "metadata": {},
   "source": [
    "### 2.3.1- Effective hyperuniformity"
   ]
  },
  {
   "cell_type": "code",
   "execution_count": null,
   "metadata": {},
   "outputs": [],
   "source": [
    "H_ginibre, std = hyperuniformity_test.effective_hyperuniformity(k_norm_stop=2)\n",
    "print(\"H_ginibre=\", H_ginibre)"
   ]
  },
  {
   "cell_type": "code",
   "execution_count": null,
   "metadata": {},
   "outputs": [],
   "source": [
    "#k_norm = hyperuniformity_test.k_norm\n",
    "#sf = hyperuniformity_test.sf\n",
    "sf = s_bi\n",
    "fitted_sf_line = hyperuniformity_test.fitted_line # fitted line to sf\n",
    "index_peak = hyperuniformity_test.i_first_peak # index of first peak of sf\n",
    "x = np.linspace(0, 5, 300)\n",
    "y = np.linspace(0,np.max(k_norm), 500)\n",
    "fig=plt.figure(figsize=(10,6))\n",
    "plt.plot(k_norm, sf, 'b.', label=\"approx_sf\")\n",
    "plt.plot(k_norm, sf, 'b', label=\"approx_sf\")\n",
    "plt.plot(x, fitted_sf_line(x), 'r--', label= \"fitted line\")\n",
    "plt.plot(y, utils.structure_factor_ginibre(y), 'g', label=\"exact sf\")\n",
    "#plt.plot(mean_k_norm[index_peak], mean_sf[index_peak], 'k*', label=\"first peak\")\n",
    "plt.legend()\n",
    "plt.xlabel('wavelength ($||\\mathbf{k}||$)')\n",
    "plt.ylabel('Structure factor ($\\mathsf{S}(\\mathbf{k})$)')\n",
    "plt.show()\n",
    "#fig.savefig(\"fitted_si_ginibre.pdf\", bbox_inches=\"tight\")"
   ]
  },
  {
   "cell_type": "markdown",
   "metadata": {},
   "source": [
    "### 2.3.2- Hyperuniformity class"
   ]
  },
  {
   "cell_type": "code",
   "execution_count": null,
   "metadata": {},
   "outputs": [],
   "source": [
    "sf_power_decay, c = hyperuniformity_test.hyperuniformity_class(k_norm_stop=0.5)\n",
    "print(sf_power_decay)\n"
   ]
  },
  {
   "cell_type": "code",
   "execution_count": null,
   "metadata": {},
   "outputs": [],
   "source": [
    "\n",
    "#k_norm = hyperuniformity_test.k_norm\n",
    "#sf = hyperuniformity_test.sf\n",
    "sf = s_bi\n",
    "fitted_poly = hyperuniformity_test.fitted_poly\n",
    "x = np.linspace(0, 2, 300)\n",
    "y = np.linspace(0,np.max(k_norm), 500)\n",
    "fig=plt.figure(figsize=(10,6))\n",
    "plt.plot(k_norm, sf, 'b.', label=\"approx_sf\")\n",
    "plt.plot(k_norm, sf, 'b.', label=\"approx_sf\")\n",
    "\n",
    "plt.plot(k_norm, sf, 'b', label=\"approx_sf\")\n",
    "plt.plot(y, utils.structure_factor_ginibre(y), 'g', label=\"exact sf\")\n",
    "plt.plot(x, fitted_poly(x), 'r--', label= \"fitted line\")\n",
    "plt.legend()\n",
    "plt.xlabel('wavelength ($||\\mathbf{k}||$)')\n",
    "plt.ylabel('Structure factor ($\\mathsf{S}(\\mathbf{k})$)')\n",
    "plt.show()\n",
    "#fig.savefig(\"fitted_si_ginibre.pdf\", bbox_inches=\"tight\")"
   ]
  },
  {
   "cell_type": "markdown",
   "metadata": {},
   "source": [
    "## 2.4- Statistics"
   ]
  },
  {
   "cell_type": "code",
   "execution_count": null,
   "metadata": {},
   "outputs": [],
   "source": [
    "# load points\n",
    "import pickle\n",
    "path = \"/Users/dhawat/github/structure_factor_paper/test_data/list_samples_poisson_pp.pkl\"\n",
    "with open(path, \"rb\") as input_file:\n",
    "    list_sample_poisson_pp = pickle.load(input_file)\n",
    "    \n",
    "from structure_factor.spatial_windows import BallWindow, BoxWindow\n",
    "poisson_ball_pp_list = list_sample_poisson_pp[\"poisson_pp_ball\"]\n",
    "poisson_ball_pp_list[0].plot(window_res=BallWindow(radius=50, center=(0,0)) )\n",
    "\n",
    "poisson_box_pp_list = list_sample_poisson_pp[\"poisson_pp_box\"]\n",
    "poisson_box_pp_list[0].plot()"
   ]
  },
  {
   "cell_type": "code",
   "execution_count": null,
   "metadata": {},
   "outputs": [],
   "source": [
    "# statistics\n",
    "from structure_factor.statistics import SummaryStatistics, get_k, get_k_norm\n",
    "\n",
    "poisson_ball_statistics = SummaryStatistics(poisson_ball_pp_list)\n",
    "poisson_box_statistics = SummaryStatistics(poisson_box_pp_list)"
   ]
  },
  {
   "cell_type": "markdown",
   "metadata": {},
   "source": [
    "### 2.4.2- For DSE"
   ]
  },
  {
   "cell_type": "code",
   "execution_count": null,
   "metadata": {},
   "outputs": [],
   "source": [
    "from structure_factor.statistics import apply_estimator\n",
    "from multiprocessing import Pool\n",
    "from functools import partial\n",
    "from structure_factor.tapers import SineTaper\n",
    "import time\n",
    "\n",
    "start_time = time.time()\n",
    "core_num=8\n",
    "\n",
    "k_allowed = get_k(poisson_box_pp_list[0], k_max=2)\n",
    "x = np.linspace(np.min(np.abs(k_allowed)), np.max(np.abs(k_allowed)), 30)\n",
    "x = x[x != 0]\n",
    "X, Y = np.meshgrid(x, x)\n",
    "k = np.column_stack((X.ravel(), Y.ravel()))\n",
    "p = [1, 1]\n",
    "taper = SineTaper(p)\n",
    "\n",
    "if __name__ == \"__main__\":\n",
    "    # scattering intensity\n",
    "    s_si_allowed_k = poisson_box_statistics.sample_approximation(estimator=\"scattering_intensity\", k_max=2)\n",
    "    # scattering intensity debiased\n",
    "    s_dtp_t0 = poisson_box_statistics.sample_approximation(estimator=\"scattering_intensity\", k=k, debiased=True, direct=True)\n",
    "    # debiased tapered periodogram (sinusoidal taper)\n",
    "    s_dtp_t1 = poisson_box_statistics.sample_approximation(estimator=\"tapered_periodogram\", k=k,taper=taper, debiased=True, direct=True)\n",
    "    # multitapered periodogram (sinusoidal taper)\n",
    "    s_mdtp = poisson_box_statistics.sample_approximation(estimator=\"multitapered_periodogram\", k=k, debiased=True, direct=True)\n",
    "    \n",
    "print(\"--- %s seconds ---\" % (time.time() - start_time))\n"
   ]
  },
  {
   "cell_type": "code",
   "execution_count": null,
   "metadata": {},
   "outputs": [],
   "source": [
    "norm_k_allowed1 = utils.norm_k(k_allowed)\n",
    "norm_k = utils.norm_k(k)\n",
    "print(np.max(norm_k_allowed1), np.max(norm_k), np.min(norm_k_allowed1), np.min(norm_k))"
   ]
  },
  {
   "cell_type": "code",
   "execution_count": null,
   "metadata": {},
   "outputs": [],
   "source": [
    "from structure_factor.statistics import sample_statistics\n",
    "k_norm_si, m_si, ivar_si, ibias_si, imse_si, imse_var_si = sample_statistics(k=k_allowed,\n",
    "                                                                                approximation=s_si_allowed_k,\n",
    "                                                                                exact=utils.structure_factor_poisson )\n",
    "k_norm_dtp_t0, m_dtp_t0, ivar_dtp_t0, ibias_dtp_t0, imse_dtp_t0, imse_var_dtp_t0 = sample_statistics(\n",
    "                                                                                k=k,\n",
    "                                                                                approximation=s_dtp_t0,\n",
    "                                                                                exact=utils.structure_factor_poisson )\n",
    "k_norm_dtp_t1, m_dtp_t1, ivar_dtp_t1, ibias_dtp_t1, imse_dtp_t1, imse_var_dtp_t1 = sample_statistics(k=k,\n",
    "                                                                                approximation=s_dtp_t1,\n",
    "                                                                                exact=utils.structure_factor_poisson )\n",
    "k_norm_dtp, m_mdtp, ivar_mdtp, ibias_mdtp, imse_mdtp, imse_var_mdtp = sample_statistics(k=k,\n",
    "                                                                                approximation=s_mdtp,\n",
    "                                                                                exact=utils.structure_factor_poisson )\n",
    "print(\"For s_si: ivar\", ivar_si, \"ibias\", ibias_si, \"imse\", imse_si, \"3std(imse)\",  np.sqrt(imse_var_si)*3)\n",
    "print(\"For s_dtp_t0: ivar\", ivar_dtp_t0, \"ibias\", ibias_dtp_t0, \"imse\", imse_dtp_t0, \"3std(imse)\",  np.sqrt(imse_var_dtp_t0)*3)\n",
    "print(\"For s_dtp_t1: ivar\", ivar_dtp_t1, \"ibias\", ibias_dtp_t1, \"imse\", imse_dtp_t1, \"3std(imse)\",  np.sqrt(imse_var_dtp_t1)*3)\n",
    "print(\"For s_mdtp: ivar\", ivar_mdtp, \"ibias\", ibias_mdtp, \"imse\", imse_mdtp, \"3std(imse)\",  np.sqrt(imse_var_mdtp)*3)"
   ]
  },
  {
   "cell_type": "code",
   "execution_count": null,
   "metadata": {},
   "outputs": [],
   "source": [
    "norm_k_allowed1 = utils.norm_k(k_allowed)\n",
    "norm_k = utils.norm_k(k)\n",
    "fig, axis = plt.subplots(figsize=(7,6))\n",
    "\n",
    "axis.loglog(k_norm_si, m_si, 'b^', label=r\"$\\overline{\\widehat{S}_{\\mathrm{SI}}(2\\pi \\mathbf{n}/L)}$\")\n",
    "#axis.errorbar(k_norm_si, m_si, yerr=var_si, lw=1, ecolor='b', capsize=3, capthick=1)\n",
    "axis.loglog(k_norm_dtp_t0, m_dtp_t0, 'k*', label=r\"$\\overline{\\widehat{S}_{\\mathrm{DDTP}}(t_0, \\mathbf{k})}$\")\n",
    "#axis.errorbar(k_norm_dtp_t0, m_dtp_t0, yerr=var_dtp_t0, lw=1, ecolor='k', capsize=3, capthick=1)\n",
    "axis.loglog(k_norm_dtp_t1, m_dtp_t1, 'm+',label=r\"$\\overline{\\widehat{S}_{\\mathrm{DDTP}}(t_1, \\mathbf{k})}$\")\n",
    "#axis.errorbar(k_norm_dtp_t1, m_dtp_t1, yerr=var_dtp_t1, lw=1, ecolor='m', capsize=3, capthick=1)\n",
    "axis.loglog(k_norm_mdtp, m_mdtp, 'c.',  label=r\"$\\overline{\\widehat{S}_{\\mathrm{DDMTP}}((t_j)_{j=1}^4, \\mathbf{k})}$\")\n",
    "utils.plot_exact(norm_k_allowed1, utils.structure_factor_poisson(norm_k_allowed1), axis=axis, label=r\"$S(\\mathbf{k})$\")\n",
    "axis.legend()\n",
    "axis.set_xlabel(r\"Wavenumber ($k$)\")\n",
    "axis.set_ylabel(r\"Structure factor ($S(k)$)\")\n",
    "fig.savefig(\"comparaison_DSE_mean_poisson.pdf\", bbox_inches=\"tight\")"
   ]
  },
  {
   "cell_type": "code",
   "execution_count": null,
   "metadata": {},
   "outputs": [],
   "source": [
    "# make plots look nice\n",
    "plt.ticklabel_format(style='sci', axis='x', scilimits=(0,0))\n",
    "mpl.rcParams['xtick.labelsize'] = 18\n",
    "mpl.rcParams['ytick.labelsize'] = 18\n",
    "plt.rc('axes', labelsize=22)\n",
    "plt.rc('legend', fontsize=16)\n",
    "mpl.rcParams['ps.useafm'] = True\n",
    "mpl.rcParams['pdf.use14corefonts'] = True\n",
    "mpl.rcParams['text.usetex'] = True"
   ]
  },
  {
   "cell_type": "code",
   "execution_count": null,
   "metadata": {},
   "outputs": [],
   "source": [
    "norm_k_allowed1 = utils.norm_k(k_allowed)\n",
    "fig, axis = plt.subplots(figsize=(7,6))\n",
    "utils.plot_summary_2(norm_k_allowed1,m_si, c='b',marker='*', bins=30, axis=axis, label=r\"$\\overline{\\widehat{S}_{\\mathrm{SI}}(2\\pi \\mathbf{n}/L)}$\")\n",
    "utils.plot_summary_2(norm_k_allowed1,m_dtp_t0, c='k',marker='.', bins=30, axis=axis, label=r\"$\\overline{\\widehat{S}_{\\mathrm{DDTP}}(t_0, \\mathbf{k})}$\")\n",
    "utils.plot_summary_2(norm_k_allowed1,m_dtp_t1, c='m',marker='+', bins=30, axis=axis, label=r\"$\\overline{\\widehat{S}_{\\mathrm{DDTP}}(t_1, \\mathbf{k})}$\")\n",
    "utils.plot_summary_2(norm_k_allowed1,m_mdtp, c='grey',marker='o', bins=30, axis=axis, label=r\"$\\overline{\\widehat{S}_{\\mathrm{MDDTP}}((t_j)_{j=1}^4, \\mathbf{k})}$\")\n",
    "axis.loglog(norm_k_allowed1, utils.structure_factor_poisson(norm_k_allowed1), 'g', label=r\"$S(\\mathbf{k})$\")\n",
    "axis.legend(loc=4)\n",
    "axis.set_xlabel(r\"Wavenumber ($k$)\")\n",
    "axis.set_ylabel(r\"Structure factor ($S(k)$)\")\n",
    "fig.savefig(\"comparaison_DSE_mean_poisson.png\", bbox_inches=\"tight\")"
   ]
  },
  {
   "cell_type": "markdown",
   "metadata": {},
   "source": [
    "### 2.4.2- For ISE"
   ]
  },
  {
   "cell_type": "code",
   "execution_count": null,
   "metadata": {},
   "outputs": [],
   "source": [
    "r_max"
   ]
  },
  {
   "cell_type": "code",
   "execution_count": null,
   "metadata": {},
   "outputs": [],
   "source": [
    "from structure_factor.statistics import apply_estimator\n",
    "from multiprocessing import Pool\n",
    "from functools import partial\n",
    "from structure_factor.statistics import pcf_interpolate_list\n",
    "\n",
    "start_time = time.time()\n",
    "core_num=8\n",
    "\n",
    "n_allowed_k_norm=64\n",
    "k_norm_allowed = get_k_norm(poisson_ball_pp_list[0], n_allowed_k_norm=n_allowed_k_norm)\n",
    "\n",
    "if __name__ == \"__main__\":\n",
    "    # Bartlett's isotropic estimator\n",
    "    s_bi = poisson_ball_statistics.sample_approximation(estimator=\"bartlett_isotropic_estimator\", n_allowed_k_norm=n_allowed_k_norm)\n",
    "    # list pcf\n",
    "    pcf_list = poisson_ball_statistics.sample_pcf_approximation(method=\"fv\", Kest=dict(rmax=r_max), fv=dict(method=\"b\", spar=0.1))\n",
    "    \n",
    "print(\"--- %s seconds ---\" % (time.time() - start_time))"
   ]
  },
  {
   "cell_type": "code",
   "execution_count": null,
   "metadata": {},
   "outputs": [],
   "source": []
  },
  {
   "cell_type": "code",
   "execution_count": null,
   "metadata": {},
   "outputs": [],
   "source": [
    "s = len(pcf_list)\n",
    "# interpolate pcf\n",
    "r_list = [pcf_list[i][\"r\"] for i in range(s)]\n",
    "pcf_fv_list = [pcf_list[i][\"pcf\"] for i in range(s)]\n",
    "pcf_fct_list = pcf_interpolate_list(r_list, pcf_fv_list, drop=True)\n",
    "# BaddourChouinard\n",
    "s_hbc_list = poisson_ball_statistics.sample_integral_approximation(pcf_fct_list,method=\"BaddourChouinard\", \n",
    "                                                                   k_norm=k_norm_allowed, r_max=30,  nb_points=1000) \n",
    "# Ogata\n",
    "s_ho_list = poisson_ball_statistics.sample_integral_approximation(pcf_fct_list,method=\"Ogata\", \n",
    "                                                                   k_norm=k_norm_allowed, step_size=0.01,  nb_points=500) \n"
   ]
  },
  {
   "cell_type": "code",
   "execution_count": null,
   "metadata": {},
   "outputs": [],
   "source": [
    "# save results \n",
    "import pickle\n",
    "my_dict2 = {\"poisson_s_bi_list\": [k_norm_allowed, s_bi], \"poisson_s_ho_list\": [k_norm_allowed, s_ho_list],\n",
    "            \"poisson_s_hbc_list\": [k_norm_allowed, s_hbc_list]}\n",
    "with open('poisson_ise_list.pkl', 'wb') as f:\n",
    "       pickle.dump(my_dict2, f)"
   ]
  },
  {
   "cell_type": "code",
   "execution_count": null,
   "metadata": {},
   "outputs": [],
   "source": [
    "\n",
    "\n",
    "\n",
    "k_bi, m_bi, ivar_bi, ibias_bi, imse_bi, imse_var_bi = sample_statistics(k_norm=k_norm_allowed,\n",
    "                                                                                approximation=s_bi,\n",
    "                                                                                exact=utils.structure_factor_poisson)\n",
    "k_hbc, m_hbc, ivar_hbc, ibias_hbc, imse_hbc, imse_var_hbc =sample_statistics(k_norm=k_norm_allowed,\n",
    "                                                                                approximation=s_hbc_list,\n",
    "                                                                                exact=utils.structure_factor_poisson )\n",
    "k_ho, m_ho, ivar_ho, ibias_ho, imse_ho, imse_var_ho = sample_statistics(k_norm=k_norm_allowed,\n",
    "                                                                                approximation=s_ho_list,\n",
    "                                                                                exact=utils.structure_factor_poisson )\n",
    "print(\"For s_bi: ivar=\", ivar_bi, \"ibias=\", ibias_bi, \"imse=\", imse_bi, \"3std(imse)\",  np.sqrt(imse_var_bi)*3)\n",
    "\n",
    "print(\"For s_hbc: ivar=\", ivar_hbc, \"ibias=\", ibias_hbc, \"imse=\", imse_hbc, \"3std(imse)\",  np.sqrt(imse_var_hbc)*3)\n",
    "\n",
    "print(\"For s_ho: ivar=\", ivar_ho, \"ibias=\", ibias_ho, \"imse=\", imse_ho, \"3std(imse)\",  np.sqrt(imse_var_ho)*3)"
   ]
  },
  {
   "cell_type": "code",
   "execution_count": null,
   "metadata": {},
   "outputs": [],
   "source": [
    "ivar_ho + ibias_ho"
   ]
  },
  {
   "cell_type": "code",
   "execution_count": null,
   "metadata": {},
   "outputs": [],
   "source": [
    "fig, axis = plt.subplots(figsize=(7,6))\n",
    "axis.loglog(k_norm_allowed, m_bi, 'm*', label=r\"$\\overline{\\widehat{S}_{\\mathrm{BI}}(k)}$\")\n",
    "#axis.loglog(k_norm_allowed, m_bi, 'm')\n",
    "axis.loglog(k_ho, m_ho, 'b.', label=r\"$\\overline{\\widehat{S}_{\\mathrm{HO}}(k)}$\")\n",
    "#axis.loglog(k_norm_allowed, m_ho, 'b')\n",
    "axis.loglog(k_hbc, m_hbc, 'k+', label=r\"$\\overline{\\widehat{S}_{\\mathrm{HBC}}(k)}$\")\n",
    "#axis.loglog(k_norm_allowed, m_hbc, 'k')\n",
    "axis.loglog(k_norm_allowed, utils.structure_factor_poisson(k_norm_allowed), 'g', label= r\"$S(k)$\")\n",
    "axis.legend()\n",
    "axis.set_xlabel(r\"Wavenumber ($k$)\")\n",
    "axis.set_ylabel(r\"Structure factor ($S(k)$)\")\n",
    "plt.show()\n",
    "fig.savefig(\"comparaison_ISE_mean_poisson.pdf\", bbox_inches=\"tight\")"
   ]
  },
  {
   "cell_type": "markdown",
   "metadata": {},
   "source": [
    "## 2.4.3- Hyperuniformity study"
   ]
  },
  {
   "cell_type": "code",
   "execution_count": null,
   "metadata": {
    "scrolled": true
   },
   "outputs": [],
   "source": [
    "from structure_factor.statistics import apply_estimator\n",
    "from multiprocessing import Pool\n",
    "from functools import partial\n",
    "import time\n",
    "\n",
    "start_time = time.time()\n",
    "core_num=8\n",
    "\n",
    "n_allowed_k_norm=64\n",
    "k_norm_allowed = get_k_norm(poisson_ball_pp_list[0], n_allowed_k_norm=n_allowed_k_norm)\n",
    "\n",
    "if __name__ == \"__main__\":\n",
    "    # Bartlett's isotropic estimator\n",
    "    s_bi = poisson_ball_statistics.sample_approximation(estimator=\"bartlett_isotropic_estimator\", n_allowed_k_norm=n_allowed_k_norm)\n",
    "    \n",
    "print(\"--- %s seconds ---\" % (time.time() - start_time))\n"
   ]
  },
  {
   "cell_type": "code",
   "execution_count": null,
   "metadata": {},
   "outputs": [],
   "source": [
    "# save sample s_bi:\n",
    "import pickle\n",
    "my_dict = {\"k_norm\": k_norm_allowed, \"list_s_bi_poisson\": s_bi}\n",
    "with open('sample_s_bi_poisson.pkl', 'wb') as f:\n",
    "       pickle.dump(my_dict, f)"
   ]
  },
  {
   "cell_type": "markdown",
   "metadata": {},
   "source": [
    "### 2.4.3.1- Effective Hyperuniformity "
   ]
  },
  {
   "cell_type": "code",
   "execution_count": null,
   "metadata": {},
   "outputs": [],
   "source": [
    "from structure_factor.statistics import sample_hyperuniformity, sample_variance\n",
    "\n",
    "H_index_list = sample_hyperuniformity(k_norm_allowed, s_bi, estimator=\"effective\", k_norm_stop=1)\n",
    "H_var, H_m = sample_variance(H_index_list)\n",
    "print(\"mean H index\", H_m, \"3std H index\", 3*np.sqrt(H_var))"
   ]
  },
  {
   "cell_type": "markdown",
   "metadata": {},
   "source": [
    "# 3- KLY process"
   ]
  },
  {
   "cell_type": "code",
   "execution_count": null,
   "metadata": {},
   "outputs": [],
   "source": [
    "import pickle\n",
    "# load points\n",
    "path = \"/Users/dhawat/github/structure_factor_paper/test_data/list_samples_kly_pp.pkl\"\n",
    "with open(path, \"rb\") as input_file:\n",
    "    list_sample_kly_pp = pickle.load(input_file)"
   ]
  },
  {
   "cell_type": "code",
   "execution_count": null,
   "metadata": {},
   "outputs": [],
   "source": [
    "from structure_factor.spatial_windows import BallWindow, BoxWindow\n",
    "list_kly_pp_ball = list_sample_kly_pp[\"kly_pp_ball\"]\n",
    "kly_pp_ball = list_kly_pp_ball[2]\n",
    "kly_pp_ball.plot(window_res=BallWindow(radius=20, center=(0,0)), file_name=\"kly_pp_ball.pdf\" )\n",
    "\n",
    "list_kly_pp_box = list_sample_kly_pp[\"kly_pp_box\"]\n",
    "kly_pp_box = list_kly_pp_box[2]\n",
    "kly_pp_box.plot(file_name=\"kly_pp_box.pdf\", window_res=BoxWindow(bounds=[[-20, 20], [-20, 20]]))"
   ]
  },
  {
   "cell_type": "markdown",
   "metadata": {},
   "source": [
    "## 3.1- Direct spectral estimator"
   ]
  },
  {
   "cell_type": "code",
   "execution_count": null,
   "metadata": {},
   "outputs": [],
   "source": [
    "sf_kly_box = StructureFactor(kly_pp_box)"
   ]
  },
  {
   "cell_type": "markdown",
   "metadata": {},
   "source": [
    "### 3.1.1- Scattering intensity"
   ]
  },
  {
   "cell_type": "code",
   "execution_count": null,
   "metadata": {},
   "outputs": [],
   "source": [
    "# on allowed values \n",
    "k_max = 15\n",
    "allowed_k, si = sf_kly_box.scattering_intensity(k_max=k_max)\n",
    "print(\"Scattering intensity\")\n",
    "\n"
   ]
  },
  {
   "cell_type": "code",
   "execution_count": null,
   "metadata": {},
   "outputs": [],
   "source": [
    "fig, axis = plt.subplots(figsize=(7,6))\n",
    "fig = sf_kly_box.plot_spectral_estimator(allowed_k, si, axes=axis, plot_type=\"radial\",\n",
    "                                           label=r\"$\\widehat{S}$\",\n",
    "                                            bins=80, error_bar=True, \n",
    "                                           file_name=\"si_allowed_k_kly.pdf\"\n",
    "                                          )"
   ]
  },
  {
   "cell_type": "code",
   "execution_count": null,
   "metadata": {},
   "outputs": [],
   "source": [
    "x = np.linspace(0, 15, 200)\n",
    "x = x[x != 0]\n",
    "X, Y = np.meshgrid(x, x)\n",
    "k = np.column_stack((X.ravel(), Y.ravel()))\n",
    "# on k \n",
    "k, si1 = sf_kly_box.scattering_intensity(k=k, debiased=False)\n",
    "# on k debiased directly\n",
    "k, si2 = sf_kly_box.scattering_intensity(k=k, debiased=True)\n",
    "# on k debiased undirectly\n",
    "k, si3 = sf_kly_box.scattering_intensity(k=k, debiased=True, direct=False)"
   ]
  },
  {
   "cell_type": "code",
   "execution_count": null,
   "metadata": {},
   "outputs": [],
   "source": [
    "fig, axis = plt.subplots(figsize=(7,6))\n",
    "fig = sf_kly_box.plot_spectral_estimator(k, si3, axes=axis, positive=False, plot_type=\"radial\",\n",
    "                                           label=r\"$\\widehat{S}$\",\n",
    "                                            bins=60, error_bar=True, \n",
    "                                         file_name=\"si_uddebiased_kly.pdf\")"
   ]
  },
  {
   "cell_type": "code",
   "execution_count": null,
   "metadata": {},
   "outputs": [],
   "source": [
    "# save results \n",
    "import pickle\n",
    "my_dict2 = {\"kly_s_si_allowed_k\": [allowed_k, si], \"kly_s_si_k\": [k, si1], \"kly_s_si_directly_debiased\": [k, si2],\n",
    "            \"kly_s_si_undirectly_debiased\": [k, si3]}\n",
    "with open('kly_s_si.pkl', 'wb') as f:\n",
    "       pickle.dump(my_dict2, f)"
   ]
  },
  {
   "cell_type": "markdown",
   "metadata": {},
   "source": [
    "### 3.1.2- Tapered periodogram with SineTaper"
   ]
  },
  {
   "cell_type": "code",
   "execution_count": null,
   "metadata": {},
   "outputs": [],
   "source": [
    "from structure_factor.tapers import SineTaper\n",
    "## tapered periodogram\n",
    "x = np.linspace(0, k_max, 200)\n",
    "x = x[x != 0]\n",
    "X, Y = np.meshgrid(x, x)\n",
    "k = np.column_stack((X.ravel(), Y.ravel()))\n",
    "p = [1, 1]\n",
    "taper = SineTaper(p)\n",
    "k, s_tp = sf_kly_box.tapered_periodogram(k, taper, debiased=False)\n",
    "k, s_dtp = sf_kly_box.tapered_periodogram(k, taper)\n",
    "k, s_udtp = sf_kly_box.tapered_periodogram(k, taper, debiased=True, direct=False)"
   ]
  },
  {
   "cell_type": "code",
   "execution_count": null,
   "metadata": {},
   "outputs": [],
   "source": [
    "fig, axis = plt.subplots(figsize=(7,6))\n",
    "fig = sf_kly_box.plot_spectral_estimator(k, s_tp, axes=axis, positive=False, plot_type=\"radial\",\n",
    "                                            bins=100, error_bar=True, label=r\"$\\widehat{S}$\",\n",
    "                                           file_name=\"s_tp_sine_taper_kly.pdf\"\n",
    "                                          )"
   ]
  },
  {
   "cell_type": "code",
   "execution_count": null,
   "metadata": {},
   "outputs": [],
   "source": [
    "# save results \n",
    "import pickle\n",
    "my_dict2 = {\"kly_s_tp_sine_taper\": [k, s_tp], \"kly_s_ddtp_sine_taper\": [k, s_dtp], \"kly_s_udtp_sine_taper\": [k, s_udtp]}\n",
    "with open('kly_s_tp_sine_taper.pkl', 'wb') as f:\n",
    "       pickle.dump(my_dict2, f)"
   ]
  },
  {
   "cell_type": "markdown",
   "metadata": {},
   "source": [
    "### 3.1.3- Multitapering"
   ]
  },
  {
   "cell_type": "code",
   "execution_count": null,
   "metadata": {},
   "outputs": [],
   "source": [
    "from structure_factor.tapers import SineTaper\n",
    "## multitapered tapered periodogram\n",
    "x = np.linspace(0, k_max, 200)\n",
    "x = x[x != 0]\n",
    "X, Y = np.meshgrid(x, x)\n",
    "k = np.column_stack((X.ravel(), Y.ravel()))\n",
    "k, s_mtp = sf_kly_box.multitapered_periodogram(k, debiased=False)\n",
    "k, s_ddmtp = sf_kly_box.multitapered_periodogram(k)\n",
    "k, s_udmtp = sf_kly_box.multitapered_periodogram(k, debiased=True, direct=False)"
   ]
  },
  {
   "cell_type": "code",
   "execution_count": null,
   "metadata": {},
   "outputs": [],
   "source": [
    "fig, axis = plt.subplots(figsize=(7,6))\n",
    "fig = sf_kly_box.plot_spectral_estimator(k, s_mtp, axes=axis, positive=False, plot_type=\"radial\",\n",
    "                                            bins=80, error_bar=True, label=r\"$\\widehat{S}$\",\n",
    "                                            file_name=\"s_mtp_sine_taper_kly.pdf\"\n",
    "                                          )"
   ]
  },
  {
   "cell_type": "code",
   "execution_count": null,
   "metadata": {},
   "outputs": [],
   "source": [
    "# save results \n",
    "import pickle\n",
    "my_dict2 = {\"kly_s_mtp_sine_taper\": [k, s_mtp], \"kly_s_ddmtp_sine_taper\": [k,s_ddmtp], \"kly_s_udmtp_sine_taper\": [k, s_udmtp]}\n",
    "with open('kly_s_mtp_sine_taper.pkl', 'wb') as f:\n",
    "       pickle.dump(my_dict2, f)"
   ]
  },
  {
   "cell_type": "markdown",
   "metadata": {},
   "source": [
    "## 3.2- Isotropic estimators"
   ]
  },
  {
   "cell_type": "code",
   "execution_count": null,
   "metadata": {},
   "outputs": [],
   "source": [
    "sf_kly_ball = StructureFactor(kly_pp_ball)"
   ]
  },
  {
   "cell_type": "markdown",
   "metadata": {},
   "source": [
    "### 3.2.1- Bartlett isotropic estimators"
   ]
  },
  {
   "cell_type": "code",
   "execution_count": null,
   "metadata": {},
   "outputs": [],
   "source": [
    "window_res = BallWindow(center=[0, 0], radius=70)\n",
    "sf_kly_ball = StructureFactor(kly_pp_ball.restrict_to_window(window_res))"
   ]
  },
  {
   "cell_type": "code",
   "execution_count": null,
   "metadata": {},
   "outputs": [],
   "source": [
    "import time\n",
    "start_time = time.time()\n",
    "k_norm_allowed, s_bi = sf_kly_ball.bartlett_isotropic_estimator(n_allowed_k_norm=150)\n",
    "print(\"--- %s seconds ---\" % (time.time() - start_time))\n"
   ]
  },
  {
   "cell_type": "code",
   "execution_count": null,
   "metadata": {},
   "outputs": [],
   "source": [
    "k_norm_allowed"
   ]
  },
  {
   "cell_type": "code",
   "execution_count": null,
   "metadata": {},
   "outputs": [],
   "source": [
    "fig, axis = plt.subplots(figsize=(7,6))\n",
    "sf_kly_ball.plot_isotropic_estimator(k_norm_allowed, s_bi, axis=axis,  label=r\"$\\widehat{S}$\",\n",
    "                                     file_name=\"s_bi_kly.pdf\")"
   ]
  },
  {
   "cell_type": "code",
   "execution_count": null,
   "metadata": {
    "scrolled": true
   },
   "outputs": [],
   "source": [
    "k_non_allowed = np.linspace(min(k_norm_allowed)+ 0.003, max(k_norm_allowed), 150)\n",
    "k_norm_non_allowed, s_bi_non_allowed = sf_kly_ball.bartlett_isotropic_estimator(k_non_allowed)\n",
    "fig, axis = plt.subplots(figsize=(7,6))\n",
    "sf_kly_ball.plot_isotropic_estimator(k_norm_non_allowed, s_bi_non_allowed, axis=axis,\n",
    "                                    label=r\"$\\widehat{S}$\", \n",
    "                                     file_name=\"s_bi_kly_non_allowed.pdf\")"
   ]
  },
  {
   "cell_type": "markdown",
   "metadata": {},
   "source": [
    "### 3.2.2- Pair correlation function"
   ]
  },
  {
   "cell_type": "code",
   "execution_count": null,
   "metadata": {},
   "outputs": [],
   "source": [
    "from structure_factor.pair_correlation_function import PairCorrelationFunction as pcf\n"
   ]
  },
  {
   "cell_type": "markdown",
   "metadata": {},
   "source": [
    "pcf.ppp"
   ]
  },
  {
   "cell_type": "code",
   "execution_count": null,
   "metadata": {},
   "outputs": [],
   "source": [
    "r= np.linspace(0, 20, 200)\n",
    "kly_pcf_ppp = pcf.estimate(kly_pp_ball, method=\"ppp\", r=r, correction=\"all\")\n",
    "pcf.plot(kly_pcf_ppp, figsize=(7,6),\n",
    "         color=['grey', 'b', 'darkcyan'], style=[\".\", \"*\", \"^\"],\n",
    "         file_name=\"pcf_ppp_kly.pdf\")"
   ]
  },
  {
   "cell_type": "markdown",
   "metadata": {},
   "source": [
    "pcf.fv"
   ]
  },
  {
   "cell_type": "code",
   "execution_count": null,
   "metadata": {
    "scrolled": true
   },
   "outputs": [],
   "source": [
    "kly_pcf_fv = pcf.estimate(kly_pp_ball, method=\"fv\", Kest=dict(rmax=20), fv=dict(method=\"b\", spar=0.2))\n",
    "pcf.plot(kly_pcf_fv, figsize=(7,6),\n",
    "         color=['grey'], style=[\".\"],\n",
    "         file_name=\"pcf_fv_kly.pdf\")"
   ]
  },
  {
   "cell_type": "markdown",
   "metadata": {},
   "source": [
    "Interpolation"
   ]
  },
  {
   "cell_type": "code",
   "execution_count": null,
   "metadata": {},
   "outputs": [],
   "source": [
    "r = kly_pcf_fv[\"r\"]\n",
    "r_max = np.max(r)\n",
    "pcf_r = kly_pcf_fv[\"pcf\"]\n",
    "kly_pcf_fct = pcf.interpolate(r=r, pcf_r=pcf_r, drop=True)\n",
    "\n",
    "x = np.linspace(0, 100, 200)\n",
    "plt.plot(x, kly_pcf_fct(x), 'b.')\n"
   ]
  },
  {
   "cell_type": "markdown",
   "metadata": {},
   "source": [
    "### 3.2.3- Hankel transform"
   ]
  },
  {
   "cell_type": "markdown",
   "metadata": {},
   "source": [
    "Ogata"
   ]
  },
  {
   "cell_type": "code",
   "execution_count": null,
   "metadata": {},
   "outputs": [],
   "source": [
    "k_norm2 = np.linspace(0.3, 30, 1000) # vector of wave length\n",
    "k_norm2, s_ho = sf_kly_ball.hankel_quadrature(kly_pcf_fct, method=\"Ogata\", k_norm=k_norm2, step_size=0.01,\n",
    "                                                    nb_points=500, r_max=r_max)\n"
   ]
  },
  {
   "cell_type": "code",
   "execution_count": null,
   "metadata": {},
   "outputs": [],
   "source": [
    "fig, axis= plt.subplots(figsize=(7,6))\n",
    "fig = sf_kly_ball.plot_isotropic_estimator(k_norm2, s_ho, axis=axis, \n",
    "                                           label=r\"$\\widehat{S}$\",  \n",
    "                                           #error_bar=True, bins=40, \n",
    "                                            file_name=\"kly_s_ho.pdf\"\n",
    "                                           )"
   ]
  },
  {
   "cell_type": "markdown",
   "metadata": {},
   "source": [
    "Baddour-Chouinard"
   ]
  },
  {
   "cell_type": "code",
   "execution_count": null,
   "metadata": {},
   "outputs": [],
   "source": [
    "k_norm3 = np.linspace(0.3, 30, 1000)\n",
    "k_norm3, s_hbc = sf_kly_ball.hankel_quadrature(kly_pcf_fct, k_norm=k_norm3, r_max=r_max, nb_points=3000)"
   ]
  },
  {
   "cell_type": "code",
   "execution_count": null,
   "metadata": {},
   "outputs": [],
   "source": [
    "fig, axis= plt.subplots(figsize=(7,6))\n",
    "sf_kly_ball.plot_isotropic_estimator(k_norm3, s_hbc, axis=axis, error_bar=True, bins=100, \n",
    "                                     label=r\"$\\widehat{S}$\" , file_name=\"kly_s_hbc.pdf\")"
   ]
  },
  {
   "cell_type": "code",
   "execution_count": null,
   "metadata": {},
   "outputs": [],
   "source": [
    "# save results \n",
    "import pickle\n",
    "my_dict2 = {\"kly_s_bi\": [k_norm_allowed, s_bi], \"kly_s_ho\": [k_norm2, s_ho], \"kly_s_hbc\":[k_norm3, s_hbc] }\n",
    "with open('kly_s_ise.pkl', 'wb') as f:\n",
    "       pickle.dump(my_dict2, f)"
   ]
  },
  {
   "cell_type": "markdown",
   "metadata": {},
   "source": [
    "## 3.3- Hyperuniformity"
   ]
  },
  {
   "cell_type": "code",
   "execution_count": null,
   "metadata": {},
   "outputs": [],
   "source": [
    "from structure_factor.hyperuniformity import Hyperuniformity\n",
    "hyperuniformity_test = Hyperuniformity(k_norm, s_bi)\n",
    "#bin_center, bin_mean, bin_std = hyperuniformity_test.bin_data(bins=80)"
   ]
  },
  {
   "cell_type": "markdown",
   "metadata": {},
   "source": [
    "### 3.3.1- Effective hyperuniformity"
   ]
  },
  {
   "cell_type": "code",
   "execution_count": null,
   "metadata": {},
   "outputs": [],
   "source": [
    "H_poisson, std = hyperuniformity_test.effective_hyperuniformity(k_norm_stop=1)\n",
    "print(\"H_poisson=\", H_poisson)"
   ]
  },
  {
   "cell_type": "code",
   "execution_count": null,
   "metadata": {},
   "outputs": [],
   "source": [
    "#k_norm = hyperuniformity_test.k_norm\n",
    "#sf = hyperuniformity_test.sf\n",
    "sf = s_bi\n",
    "fitted_sf_line = hyperuniformity_test.fitted_line # fitted line to sf\n",
    "index_peak = hyperuniformity_test.i_first_peak # index of first peak of sf\n",
    "x = np.linspace(0, 5, 300)\n",
    "fig=plt.figure(figsize=(10,6))\n",
    "plt.plot(k_norm, sf, 'b.', label=\"approx_sf\")\n",
    "plt.plot(k_norm, sf, 'b', label=\"approx_sf\")\n",
    "plt.plot(x, fitted_sf_line(x), 'r--', label= \"fitted line\")\n",
    "#plt.plot(mean_k_norm[index_peak], mean_sf[index_peak], 'k*', label=\"first peak\")\n",
    "plt.legend()\n",
    "plt.xlabel('wavelength ($||\\mathbf{k}||$)')\n",
    "plt.ylabel('Structure factor ($\\mathsf{S}(\\mathbf{k})$)')\n",
    "plt.show()\n",
    "#fig.savefig(\"fitted_si_ginibre.pdf\", bbox_inches=\"tight\")"
   ]
  },
  {
   "cell_type": "markdown",
   "metadata": {},
   "source": [
    "### 3.3.2- Hyperuniformity class\n"
   ]
  },
  {
   "cell_type": "code",
   "execution_count": null,
   "metadata": {},
   "outputs": [],
   "source": [
    "sf_power_decay, c = hyperuniformity_test.hyperuniformity_class(k_norm_stop=0.9)\n",
    "print(sf_power_decay)"
   ]
  },
  {
   "cell_type": "code",
   "execution_count": null,
   "metadata": {},
   "outputs": [],
   "source": [
    "#k_norm = hyperuniformity_test.k_norm\n",
    "#sf = hyperuniformity_test.sf\n",
    "sf = s_bi\n",
    "fitted_poly = hyperuniformity_test.fitted_poly\n",
    "x = np.linspace(0, 2, 300)\n",
    "fig=plt.figure(figsize=(10,6))\n",
    "plt.plot(k_norm[:40], sf[:40], 'b.', label=\"approx_sf\")\n",
    "#plt.plot(k_norm, sf, 'b', label=\"approx_sf\")\n",
    "plt.plot(x, fitted_poly(x), 'r--', label= \"fitted line\")\n",
    "plt.legend()\n",
    "plt.xlabel('wavelength ($||\\mathbf{k}||$)')\n",
    "plt.ylabel('Structure factor ($\\mathsf{S}(\\mathbf{k})$)')\n",
    "plt.show()\n",
    "#fig.savefig(\"fitted_si_ginibre.pdf\", bbox_inches=\"tight\")"
   ]
  },
  {
   "cell_type": "markdown",
   "metadata": {},
   "source": [
    "## 3.4- Statistics"
   ]
  },
  {
   "cell_type": "code",
   "execution_count": null,
   "metadata": {},
   "outputs": [],
   "source": [
    "# Generate 50 samples from KLY process \n",
    "import rpy2.robjects as robjects\n",
    "from spatstat_interface.utils import install_r_package\n",
    "import numpy as np \n",
    "\n",
    "r = robjects.r\n",
    "r.source('MatchingPP.R')\n",
    "\n",
    "\n",
    "# Install_r_package(\"RANN\")\n",
    "list_KLY_points = []\n",
    "# 50 KLY sample\n",
    "for i in range(50):\n",
    "    print(i)\n",
    "    my_dict = {\"dimension\": 2, \"linear.system.size\":210.0, \"intensity\":11.0, \"verbose\": False}\n",
    "    data_r = r.MatchingPoissonToLattice(**my_dict)\n",
    "    KLY_process = np.array(data_r)\n",
    "    KLY_process = np.column_stack((KLY_process[:, 0], KLY_process[:, 1])) - 105\n",
    "    list_KLY_points.append(KLY_process)"
   ]
  },
  {
   "cell_type": "code",
   "execution_count": null,
   "metadata": {},
   "outputs": [],
   "source": [
    "from structure_factor.point_pattern import pointpattern_list\n",
    "from structure_factor.spatial_windows import BallWindow, BoxWindow\n",
    "\n",
    "s=50 # number of samples\n",
    "kly_intensity=1\n",
    "window_big = BoxWindow([[-105, 105], [-105, 105]])\n",
    "\n",
    "# KLY pp ball\n",
    "R = 100\n",
    "window_ball = BallWindow(center=[0,0], radius=R)\n",
    "kly_ball_pp_list = pointpattern_list(list_points=list_KLY_points, window=window_big, intensity=kly_intensity,\n",
    "                                        window_res=window_ball)\n",
    "kly_ball_pp_list[0].plot()\n",
    "\n",
    "# KLY pp box\n",
    "l_box = 70\n",
    "window_box = BoxWindow(bounds=[[-l_box/2, l_box/2], [-l_box/2, l_box/2]])\n",
    "kly_box_pp_list = pointpattern_list(list_points=list_KLY_points, window=window_big, intensity=kly_intensity,\n",
    "                                        window_res=window_box)\n",
    "kly_box_pp_list[0].plot()\n"
   ]
  },
  {
   "cell_type": "code",
   "execution_count": null,
   "metadata": {},
   "outputs": [],
   "source": [
    "# save the samples\n",
    "import pickle\n",
    "my_dict2 = {\"kly_pp_ball\": kly_ball_pp_list, \"kly_pp_box\": kly_box_pp_list}\n",
    "with open('samples_kly_pp.pkl', 'wb') as f:\n",
    "       pickle.dump(my_dict2, f)"
   ]
  },
  {
   "cell_type": "markdown",
   "metadata": {},
   "source": [
    "Initialize the class statistics"
   ]
  },
  {
   "cell_type": "code",
   "execution_count": null,
   "metadata": {},
   "outputs": [],
   "source": [
    "# Initialize statistics\n",
    "from structure_factor.statistics import SummaryStatistics, get_k, get_k_norm\n",
    "\n",
    "kly_ball_statistics = SummaryStatistics(kly_ball_pp_list)\n",
    "kly_box_statistics = SummaryStatistics(kly_box_pp_list)"
   ]
  },
  {
   "cell_type": "markdown",
   "metadata": {},
   "source": [
    "### 3.4.1- Hyeruniformity study"
   ]
  },
  {
   "cell_type": "code",
   "execution_count": null,
   "metadata": {},
   "outputs": [],
   "source": [
    "import time\n",
    "\n",
    "start_time = time.time()\n",
    "core_num=7\n",
    "\n",
    "n_allowed_k_norm=32\n",
    "k_norm_allowed = get_k_norm(kly_ball_pp_list[0], n_allowed_k_norm=n_allowed_k_norm)\n",
    "\n",
    "if __name__ == \"__main__\":\n",
    "    # Bartlett's isotropic estimator\n",
    "    s_bi = kly_ball_statistics.sample_approximation(estimator=\"bartlett_isotropic_estimator\", n_allowed_k_norm=n_allowed_k_norm)\n",
    "print(\"--- %s seconds ---\" % (time.time() - start_time))\n"
   ]
  },
  {
   "cell_type": "code",
   "execution_count": null,
   "metadata": {},
   "outputs": [],
   "source": []
  },
  {
   "cell_type": "code",
   "execution_count": null,
   "metadata": {},
   "outputs": [],
   "source": [
    "# save sample s_bi:\n",
    "import pickle\n",
    "my_dict = {\"k_norm\": k_norm_allowed, \"list_s_bi_kly\": s_bi}\n",
    "with open('sample_s_bi_kly.pkl', 'wb') as f:\n",
    "       pickle.dump(my_dict, f)"
   ]
  },
  {
   "cell_type": "code",
   "execution_count": null,
   "metadata": {},
   "outputs": [],
   "source": [
    "import matplotlib.pyplot as plt\n",
    "plt.plot(k_norm_allowed, s_bi[0], 'b.')"
   ]
  },
  {
   "cell_type": "code",
   "execution_count": null,
   "metadata": {},
   "outputs": [],
   "source": [
    "### 3.4.1- Effective hyperuniformity"
   ]
  },
  {
   "cell_type": "code",
   "execution_count": null,
   "metadata": {},
   "outputs": [],
   "source": [
    "from structure_factor.statistics import sample_hyperuniformity, sample_variance\n",
    "\n",
    "H_index_list = sample_hyperuniformity(k_norm_allowed, s_bi, estimator=\"effective\", k_norm_stop=1)\n",
    "H_var, H_m = sample_variance(H_index_list)\n",
    "print(\"mean H index\", H_m, \"3std H index\", 3*np.sqrt(H_var))"
   ]
  },
  {
   "cell_type": "code",
   "execution_count": null,
   "metadata": {},
   "outputs": [],
   "source": [
    "### 3.4.2- Hyperuniformity class\n",
    "\n",
    "alpha_list = sample_hyperuniformity(k_norm_allowed, s_bi, estimator=\"class\", k_norm_stop=0.45)\n",
    "alpha_var, alpha_m = sample_variance(alpha_list)\n",
    "print(\"mean power decay\", alpha_m, \"3std power decay\", 3*np.sqrt(alpha_var))\n"
   ]
  },
  {
   "cell_type": "code",
   "execution_count": null,
   "metadata": {},
   "outputs": [],
   "source": []
  },
  {
   "cell_type": "markdown",
   "metadata": {},
   "source": [
    "# 4- Thomas process"
   ]
  },
  {
   "cell_type": "code",
   "execution_count": null,
   "metadata": {},
   "outputs": [],
   "source": [
    "from structure_factor.point_process import ThomasProintProcess"
   ]
  },
  {
   "cell_type": "code",
   "execution_count": null,
   "metadata": {},
   "outputs": [],
   "source": [
    "# load points\n",
    "path = \"/Users/dhawat/github/structure_factor_paper/test_data/list_samples_thomas_pp.pkl\"\n",
    "with open(path, \"rb\") as input_file:\n",
    "    list_sample_thomas_pp = pickle.load(input_file)"
   ]
  },
  {
   "cell_type": "code",
   "execution_count": null,
   "metadata": {},
   "outputs": [],
   "source": [
    "list_sample_thomas_pp.keys()"
   ]
  },
  {
   "cell_type": "code",
   "execution_count": null,
   "metadata": {},
   "outputs": [],
   "source": [
    "from structure_factor.spatial_windows import BallWindow, BoxWindow\n",
    "list_thomas_pp_ball = list_sample_thomas_pp[\"list_samples_thomas_pp_ball\"]\n",
    "thomas_pp_ball = list_thomas_pp_ball[1]\n",
    "thomas_pp_ball.plot( file_name=\"thomas_pp_ball.pdf\", window_res=BallWindow(radius=50, center=[0,0]) )\n",
    "\n",
    "list_thomas_pp_box = list_sample_thomas_pp[\"list_samples_thomas_pp_box\"]\n",
    "thomas_pp_box = list_thomas_pp_box[1]\n",
    "thomas_pp_box.plot(file_name=\"thomas_pp_box.pdf\")"
   ]
  },
  {
   "cell_type": "markdown",
   "metadata": {},
   "source": [
    "## 4.1- Direct spectral estimator"
   ]
  },
  {
   "cell_type": "code",
   "execution_count": null,
   "metadata": {},
   "outputs": [],
   "source": [
    "from structure_factor.structure_factor import StructureFactor\n",
    "sf_thomas_box = StructureFactor(thomas_pp_box)"
   ]
  },
  {
   "cell_type": "markdown",
   "metadata": {},
   "source": [
    "### 4.1.1- Scattering intensity"
   ]
  },
  {
   "cell_type": "code",
   "execution_count": null,
   "metadata": {
    "scrolled": true
   },
   "outputs": [],
   "source": [
    "# on allowed values \n",
    "k_max = 6\n",
    "allowed_k, si = sf_thomas_box.scattering_intensity(k_max=k_max)"
   ]
  },
  {
   "cell_type": "code",
   "execution_count": null,
   "metadata": {},
   "outputs": [],
   "source": [
    "fig, axis = plt.subplots(figsize=(7,6))\n",
    "fig = sf_thomas_box.plot_spectral_estimator(allowed_k, si, axes=axis, plot_type=\"radial\",exact_sf=thomas.structure_factor,\n",
    "                                            bins=40, error_bar=True, \n",
    "                                            label=r\"$\\widehat{S}$\",\n",
    "                                            file_name=\"si_allowed_k_thomas.pdf\"\n",
    "                                             )"
   ]
  },
  {
   "cell_type": "code",
   "execution_count": null,
   "metadata": {},
   "outputs": [],
   "source": [
    "x = np.linspace(0, k_max, 150)\n",
    "x = x[x != 0]\n",
    "X, Y = np.meshgrid(x, x)\n",
    "k = np.column_stack((X.ravel(), Y.ravel()))\n",
    "# on k \n",
    "k, si1 = sf_thomas_box.scattering_intensity(k=k, debiased=False)\n",
    "# on k debiased directly\n",
    "k, si2 = sf_thomas_box.scattering_intensity(k=k, debiased=True)\n",
    "# on k debiased undirectly\n",
    "k, si3 = sf_thomas_box.scattering_intensity(k=k, debiased=True, direct=False)"
   ]
  },
  {
   "cell_type": "code",
   "execution_count": null,
   "metadata": {},
   "outputs": [],
   "source": [
    "fig, axis = plt.subplots(figsize=(7,6))\n",
    "fig = sf_thomas_box.plot_spectral_estimator(k, si1, axes=axis, plot_type=\"radial\",exact_sf=thomas.structure_factor,\n",
    "                                            bins=60, error_bar=True, \n",
    "                                            label=r\"$\\widehat{S}$\",\n",
    "                                            file_name=\"si_k_thomas.pdf\"\n",
    "                                             )"
   ]
  },
  {
   "cell_type": "code",
   "execution_count": null,
   "metadata": {},
   "outputs": [],
   "source": [
    "# save results \n",
    "import pickle\n",
    "my_dict2 = {\"thomas_s_si_allowed_k\": [allowed_k, si], \"thomas_s_si_k\": [k, si1], \"thomas_s_si_directly_debiased\": [k, si2],\n",
    "            \"thomas_s_si_undirectly_debiased\": [k, si3]}\n",
    "with open('thomas_s_si.pkl', 'wb') as f:\n",
    "       pickle.dump(my_dict2, f)"
   ]
  },
  {
   "cell_type": "markdown",
   "metadata": {},
   "source": [
    "### 4.1.2- Tapered periodogram SineTaper"
   ]
  },
  {
   "cell_type": "code",
   "execution_count": null,
   "metadata": {},
   "outputs": [],
   "source": [
    "from structure_factor.tapers import SineTaper\n",
    "## tapered periodogram\n",
    "x = np.linspace(0, k_max, 150)\n",
    "x = x[x != 0]\n",
    "X, Y = np.meshgrid(x, x)\n",
    "k = np.column_stack((X.ravel(), Y.ravel()))\n",
    "p = [1, 1]\n",
    "taper = SineTaper(p)\n",
    "_, s_tp = sf_thomas_box.tapered_periodogram(k, taper, debiased=False)\n",
    "_, s_dtp = sf_thomas_box.tapered_periodogram(k, taper)\n",
    "_, s_udtp = sf_thomas_box.tapered_periodogram(k, taper, debiased=True, direct=False)"
   ]
  },
  {
   "cell_type": "code",
   "execution_count": null,
   "metadata": {},
   "outputs": [],
   "source": [
    "fig, axis = plt.subplots(figsize=(7,6))\n",
    "fig = sf_thomas_box.plot_spectral_estimator(k, s_udtp, axes=axis, positive=False, plot_type=\"radial\", exact_sf=thomas.structure_factor,\n",
    "                                            bins=60, error_bar=True, label=r\"$\\widehat{S}$\",\n",
    "                                           file_name=\"s_udtp_sine_taper_thomas.pdf\"\n",
    "                                          )"
   ]
  },
  {
   "cell_type": "code",
   "execution_count": null,
   "metadata": {},
   "outputs": [],
   "source": [
    "# save results \n",
    "import pickle\n",
    "my_dict2 = {\"thomas_s_tp_sine_taper\": [k, s_tp], \"thomas_s_ddtp_sine_taper\": [k, s_dtp], \"thomas_s_udtp_sine_taper\": [k, s_udtp]}\n",
    "with open('thomas_s_tp_sine_taper.pkl', 'wb') as f:\n",
    "       pickle.dump(my_dict2, f)"
   ]
  },
  {
   "cell_type": "markdown",
   "metadata": {},
   "source": [
    "### 4.1.3- Multitapering"
   ]
  },
  {
   "cell_type": "code",
   "execution_count": null,
   "metadata": {},
   "outputs": [],
   "source": [
    "from structure_factor.tapers import SineTaper\n",
    "## multitapered tapered periodogram\n",
    "x = np.linspace(0, 6, 150)\n",
    "x = x[x != 0]\n",
    "X, Y = np.meshgrid(x, x)\n",
    "k = np.column_stack((X.ravel(), Y.ravel()))\n",
    "_, s_mtp = sf_thomas_box.multitapered_periodogram(k, debiased=False)\n",
    "_,s_ddmtp = sf_thomas_box.multitapered_periodogram(k, debiased=True, direct=True) #or simply sf_thomas_res.multitapered_periodogram(k)\n",
    "_,s_udmtp = sf_thomas_box.multitapered_periodogram(k, debiased=True, direct=False)"
   ]
  },
  {
   "cell_type": "code",
   "execution_count": null,
   "metadata": {},
   "outputs": [],
   "source": [
    "fig, axis = plt.subplots(figsize=(7,6))\n",
    "fig = sf_thomas_box.plot_spectral_estimator(k, s_mtp, axes=axis, positive=False, plot_type=\"radial\",exact_sf=thomas.structure_factor,\n",
    "                                            bins=80, error_bar=True, label=r\"$\\widehat{S}$\",\n",
    "                                            file_name=\"s_mtp_sine_taper_thomas.pdf\"\n",
    "                                          )"
   ]
  },
  {
   "cell_type": "code",
   "execution_count": null,
   "metadata": {},
   "outputs": [],
   "source": [
    "# save results \n",
    "import pickle\n",
    "my_dict2 = {\"thomas_s_mtp_sine_taper\": [k, s_mtp], \"thomas_s_ddmtp_sine_taper\": [k,s_ddmtp], \"thomas_s_udmtp_sine_taper\": [k, s_udmtp]}\n",
    "with open('thomas_s_mtp_sine_taper.pkl', 'wb') as f:\n",
    "       pickle.dump(my_dict2, f)"
   ]
  },
  {
   "cell_type": "markdown",
   "metadata": {},
   "source": [
    "## 4.2- Isotropic estimators"
   ]
  },
  {
   "cell_type": "code",
   "execution_count": null,
   "metadata": {},
   "outputs": [],
   "source": [
    "sf_thomas_ball = StructureFactor(thomas_pp_ball)"
   ]
  },
  {
   "cell_type": "markdown",
   "metadata": {},
   "source": [
    "### 4.2.1- Bartlett isotropic estimator"
   ]
  },
  {
   "cell_type": "markdown",
   "metadata": {},
   "source": [
    "Allowed wavenumbers"
   ]
  },
  {
   "cell_type": "code",
   "execution_count": null,
   "metadata": {},
   "outputs": [],
   "source": [
    "import time\n",
    "time_start = time.time\n",
    "k_norm, s_bi = sf_thomas_ball.bartlett_isotropic_estimator(n_allowed_k_norm=100)\n",
    "print(\"--- %s seconds ---\" % (time.time() - start_time))"
   ]
  },
  {
   "cell_type": "code",
   "execution_count": null,
   "metadata": {},
   "outputs": [],
   "source": [
    "fig, axis = plt.subplots(figsize=(7,6))\n",
    "sf_th_exact = lambda k: utils.structure_factor_thomas(k, lambdaDaughter, sigma )\n",
    "sf_thomas_ball.plot_isotropic_estimator(k_norm, s_bi, axis=axis, exact_sf=thomas.structure_factor,\n",
    "                                         label=r\"$\\widehat{S}$\", file_name=\"s_bi_thomas.pdf\")"
   ]
  },
  {
   "cell_type": "markdown",
   "metadata": {},
   "source": [
    "Non allowed wavenumbers"
   ]
  },
  {
   "cell_type": "code",
   "execution_count": null,
   "metadata": {},
   "outputs": [],
   "source": [
    "k = np.linspace(min(k_norm) + 0.002, max(k_norm), 150)\n",
    "k_norm_non_allowed, s_bi_nonallowed = sf_thomas_ball.bartlett_isotropic_estimator(k_norm=k)"
   ]
  },
  {
   "cell_type": "code",
   "execution_count": null,
   "metadata": {
    "scrolled": true
   },
   "outputs": [],
   "source": [
    "fig, axis = plt.subplots(figsize=(7,6))\n",
    "sf_th_exact = lambda k: utils.structure_factor_thomas(k, lambdaDaughter, sigma )\n",
    "sf_thomas_ball.plot_isotropic_estimator(k_norm_non_allowed, s_bi_nonallowed, axis=axis, exact_sf=thomas.structure_factor,\n",
    "                                         label=r\"$\\widehat{S}$\", file_name=\"s_bi_thomas_non_allowed_k.pdf\")"
   ]
  },
  {
   "cell_type": "markdown",
   "metadata": {},
   "source": [
    "### 4.2.2- Pair correlation function"
   ]
  },
  {
   "cell_type": "code",
   "execution_count": null,
   "metadata": {},
   "outputs": [],
   "source": [
    "from structure_factor.pair_correlation_function import PairCorrelationFunction as pcf"
   ]
  },
  {
   "cell_type": "code",
   "execution_count": null,
   "metadata": {},
   "outputs": [],
   "source": [
    "ext_pcf_thomas = lambda r: utils.pair_correlation_function_thomas(r, d=2, rho_parent=lambdaParent, sigma=sigma)"
   ]
  },
  {
   "cell_type": "markdown",
   "metadata": {},
   "source": [
    "pcf.ppp"
   ]
  },
  {
   "cell_type": "code",
   "execution_count": null,
   "metadata": {},
   "outputs": [],
   "source": [
    "r= np.linspace(0, 20, 200)\n",
    "thomas_pcf_ppp = pcf.estimate(thomas_pp_ball, method=\"ppp\", r=r, correction=\"all\")\n"
   ]
  },
  {
   "cell_type": "code",
   "execution_count": null,
   "metadata": {},
   "outputs": [],
   "source": [
    "pcf.plot(thomas_pcf_ppp, figsize=(7,6),\n",
    "         exact_pcf=thomas.pair_correlation_function,\n",
    "         color=['grey', 'b', 'darkcyan'], style=[\".\", \"*\", \"^\"],\n",
    "         file_name=\"pcf_ppp_thomas.pdf\")"
   ]
  },
  {
   "cell_type": "markdown",
   "metadata": {},
   "source": [
    "pcf.fv"
   ]
  },
  {
   "cell_type": "code",
   "execution_count": null,
   "metadata": {},
   "outputs": [],
   "source": [
    "thomas_pcf_fv = pcf.estimate(thomas_pp_ball, method=\"fv\", Kest=dict(rmax=20), fv=dict(method=\"b\", spar=0.2))\n"
   ]
  },
  {
   "cell_type": "markdown",
   "metadata": {},
   "source": [
    "thomas_pcf_fv"
   ]
  },
  {
   "cell_type": "code",
   "execution_count": null,
   "metadata": {
    "scrolled": true
   },
   "outputs": [],
   "source": [
    "pcf.plot(thomas_pcf_fv, figsize=(7,6),\n",
    "         exact_pcf=thomas.pair_correlation_function,\n",
    "         color=['grey'], style=[\".\"],\n",
    "         file_name=\"pcf_fv_thomas.pdf\"\n",
    "        )"
   ]
  },
  {
   "cell_type": "markdown",
   "metadata": {},
   "source": [
    "Interpolation"
   ]
  },
  {
   "cell_type": "code",
   "execution_count": null,
   "metadata": {},
   "outputs": [],
   "source": [
    "thomas_pcf_fv"
   ]
  },
  {
   "cell_type": "code",
   "execution_count": null,
   "metadata": {},
   "outputs": [],
   "source": [
    "r = thomas_pcf_fv[\"r\"]\n",
    "r_max = np.max(r)\n",
    "pcf_r = thomas_pcf_fv[\"pcf\"]\n",
    "thomas_pcf_fct = pcf.interpolate(r=r, pcf_r=pcf_r, drop=True)\n",
    "\n",
    "x = np.linspace(0, 100, 200)\n",
    "plt.plot(x, thomas_pcf_fct(x), 'b.')\n"
   ]
  },
  {
   "cell_type": "code",
   "execution_count": null,
   "metadata": {},
   "outputs": [],
   "source": [
    "r = np.linspace(0, 20, 200 )\n",
    "plt.plot(r, thomas_pcf_fct(r), 'b')\n",
    "plt.plot(r, thomas.pair_correlation_function(r), 'g')"
   ]
  },
  {
   "cell_type": "markdown",
   "metadata": {},
   "source": [
    "#### 4.2.3- Hankel transform "
   ]
  },
  {
   "cell_type": "markdown",
   "metadata": {},
   "source": [
    "Ogata"
   ]
  },
  {
   "cell_type": "code",
   "execution_count": null,
   "metadata": {},
   "outputs": [],
   "source": [
    "k_norm2 = np.linspace(0.3, 30, 3000) # vector of wave length\n",
    "k_norm2, s_ho = sf_thomas_ball.hankel_quadrature(thomas_pcf_fct, method=\"Ogata\", k_norm=k_norm2, step_size=0.01,\n",
    "                                                    nb_points=1000)\n"
   ]
  },
  {
   "cell_type": "code",
   "execution_count": null,
   "metadata": {},
   "outputs": [],
   "source": [
    "fig, axis =  plt.subplots(figsize=(7,6))\n",
    "sf_thomas_ball.plot_isotropic_estimator(k_norm2, s_ho, axis=axis, exact_sf=thomas.structure_factor,\n",
    "                                        #bins=100, error_bar=True, \n",
    "                                        label=r\"$\\widehat{S}$\",\n",
    "                                        file_name=\"thomas_s_ho.pdf\"\n",
    "                                           )"
   ]
  },
  {
   "cell_type": "markdown",
   "metadata": {},
   "source": [
    "Baddour chouinard"
   ]
  },
  {
   "cell_type": "code",
   "execution_count": null,
   "metadata": {},
   "outputs": [],
   "source": [
    "k_norm3 = np.linspace(0.3, 10, 400)\n",
    "k_norm3, s_hbc = sf_thomas_ball.hankel_quadrature(thomas_pcf_fct, k_norm=k_norm3,  r_max=r_max, nb_points=3000)"
   ]
  },
  {
   "cell_type": "code",
   "execution_count": null,
   "metadata": {},
   "outputs": [],
   "source": [
    "fig, axis= plt.subplots(figsize=(7,6))\n",
    "sf_thomas_ball.plot_isotropic_estimator(k_norm3, s_hbc,axis=axis, exact_sf=thomas.structure_factor, \n",
    "                                        #bins=80, error_bar=True,\n",
    "                                        label= r\"$\\widehat{S}$\",file_name=\"thomas_s_hbc.pdf\" )"
   ]
  },
  {
   "cell_type": "markdown",
   "metadata": {},
   "source": [
    "## 4.3- Hyperuniformity"
   ]
  },
  {
   "cell_type": "code",
   "execution_count": null,
   "metadata": {},
   "outputs": [],
   "source": [
    "from structure_factor.hyperuniformity import Hyperuniformity\n",
    "hyperuniformity_test = Hyperuniformity(k_norm, s_bi)\n",
    "bin_center, bin_mean, bin_std = hyperuniformity_test.bin_data(bins=50)"
   ]
  },
  {
   "cell_type": "code",
   "execution_count": null,
   "metadata": {},
   "outputs": [],
   "source": [
    "bin_std"
   ]
  },
  {
   "cell_type": "markdown",
   "metadata": {},
   "source": [
    "### 4.3.1- Effective hyperuniformity"
   ]
  },
  {
   "cell_type": "code",
   "execution_count": null,
   "metadata": {},
   "outputs": [],
   "source": [
    "H_thomas, std = hyperuniformity_test.effective_hyperuniformity(k_norm_stop=0.5)\n",
    "print(\"H_thomas=\", H_thomas)"
   ]
  },
  {
   "cell_type": "code",
   "execution_count": null,
   "metadata": {},
   "outputs": [],
   "source": [
    "sf_th_exact(0)"
   ]
  },
  {
   "cell_type": "code",
   "execution_count": null,
   "metadata": {},
   "outputs": [],
   "source": [
    "#k_norm = hyperuniformity_test.k_norm\n",
    "#sf = hyperuniformity_test.sf\n",
    "sf = s_bi\n",
    "fitted_sf_line = hyperuniformity_test.fitted_line # fitted line to sf\n",
    "index_peak = hyperuniformity_test.i_first_peak # index of first peak of sf\n",
    "x = np.linspace(0, 2, 300)\n",
    "y = np.linspace(0,np.max(k_norm), 500)\n",
    "fig=plt.figure(figsize=(10,6))\n",
    "plt.plot(k_norm, sf, 'b.', label=\"approx_sf\")\n",
    "plt.plot(k_norm, sf, 'b', label=\"approx_sf\")\n",
    "plt.plot(x, fitted_sf_line(x), 'r--', label= \"fitted line\")\n",
    "plt.plot(y, sf_th_exact(y), 'g', label=\"exact sf\")\n",
    "#plt.plot(mean_k_norm[index_peak], mean_sf[index_peak], 'k*', label=\"first peak\")\n",
    "plt.legend()\n",
    "plt.xlabel('wavelength ($||\\mathbf{k}||$)')\n",
    "plt.ylabel('Structure factor ($\\mathsf{S}(\\mathbf{k})$)')\n",
    "plt.show()\n",
    "#fig.savefig(\"fitted_si_ginibre.pdf\", bbox_inches=\"tight\")"
   ]
  },
  {
   "cell_type": "markdown",
   "metadata": {},
   "source": [
    "### 4.3.2- Hyperuniformity class \n",
    "\n",
    "# NO NEED TO RUN THE TEST AS THE EFFECTIVE TEST SHOW NON HYPERUNIFORMITY"
   ]
  },
  {
   "cell_type": "code",
   "execution_count": null,
   "metadata": {},
   "outputs": [],
   "source": [
    "sf_power_decay, c = hyperuniformity_test.hyperuniformity_class(k_norm_stop=0.5)\n",
    "print(sf_power_decay)"
   ]
  },
  {
   "cell_type": "code",
   "execution_count": null,
   "metadata": {},
   "outputs": [],
   "source": [
    "#k_norm = hyperuniformity_test.k_norm\n",
    "#sf = hyperuniformity_test.sf\n",
    "sf = s_bi\n",
    "fitted_poly = hyperuniformity_test.fitted_poly\n",
    "x = np.linspace(0, 2, 300)\n",
    "y = np.linspace(0,np.max(k_norm), 500)\n",
    "fig=plt.figure(figsize=(10,6))\n",
    "plt.plot(k_norm, sf, 'b.', label=\"approx_sf\")\n",
    "plt.plot(k_norm, sf, 'b.', label=\"approx_sf\")\n",
    "\n",
    "plt.plot(k_norm, sf, 'b', label=\"approx_sf\")\n",
    "plt.plot(y, sf_th_exact(y), 'g', label=\"exact sf\")\n",
    "plt.plot(x, fitted_poly(x), 'r--', label= \"fitted line\")\n",
    "plt.legend()\n",
    "plt.xlabel('wavelength ($||\\mathbf{k}||$)')\n",
    "plt.ylabel('Structure factor ($\\mathsf{S}(\\mathbf{k})$)')\n",
    "plt.show()\n",
    "#fig.savefig(\"fitted_si_ginibre.pdf\", bbox_inches=\"tight\")"
   ]
  },
  {
   "cell_type": "markdown",
   "metadata": {},
   "source": [
    "## 4.4- Statistics"
   ]
  },
  {
   "cell_type": "code",
   "execution_count": null,
   "metadata": {},
   "outputs": [],
   "source": [
    "# load points\n",
    "import pickle\n",
    "path = \"/Users/dhawat/github/structure_factor_paper/test_data/list_samples_thomas_pp.pkl\"\n",
    "with open(path, \"rb\") as input_file:\n",
    "    list_sample_thomas_pp = pickle.load(input_file)\n",
    "    \n",
    "from structure_factor.spatial_windows import BallWindow, BoxWindow\n",
    "list_thomas_pp_ball = list_sample_thomas_pp[\"list_samples_thomas_pp_ball\"]\n",
    "thomas_pp_ball = list_thomas_pp_ball[1]\n",
    "thomas_pp_ball.plot( file_name=\"thomas_pp_ball.pdf\", window_res=BallWindow(radius=50, center=[0,0]) )\n",
    "\n",
    "list_thomas_pp_box = list_sample_thomas_pp[\"list_samples_thomas_pp_box\"]\n",
    "thomas_pp_box = list_thomas_pp_box[1]\n",
    "thomas_pp_box.plot(file_name=\"thomas_pp_box.pdf\")"
   ]
  },
  {
   "cell_type": "code",
   "execution_count": null,
   "metadata": {},
   "outputs": [],
   "source": [
    "# save samples\n",
    "# save sample s_bi:\n",
    "#import pickle\n",
    "#my_dict = {\"list_samples_thomas_pp_ball\": thomas_box_pp_list, \"list_samples_thomas_pp_box\":thomas_box_pp_list}\n",
    "#with open('list_samples_thomas_pp.pkl', 'wb') as f:\n",
    "#       pickle.dump(my_dict, f)"
   ]
  },
  {
   "cell_type": "code",
   "execution_count": null,
   "metadata": {},
   "outputs": [],
   "source": [
    "# initialize statistics\n",
    "from structure_factor.statistics import SummaryStatistics, get_k, get_k_norm\n",
    "from structure_factor.point_process import ThomasProintProcess\n",
    "\n",
    "thomas_ball_statistics = SummaryStatistics(list_thomas_pp_ball)\n",
    "thomas_box_statistics = SummaryStatistics(list_thomas_pp_box)\n",
    "\n",
    "thomas = ThomasProintProcess( d=2, intensity_parent=1/(20*np.pi), mu=20, sigma=2)"
   ]
  },
  {
   "cell_type": "markdown",
   "metadata": {},
   "source": [
    "### 4.4.1- For DSE"
   ]
  },
  {
   "cell_type": "code",
   "execution_count": null,
   "metadata": {
    "scrolled": true
   },
   "outputs": [],
   "source": [
    "from structure_factor.statistics import apply_estimator\n",
    "from multiprocessing import Pool\n",
    "from functools import partial\n",
    "from structure_factor.tapers import SineTaper\n",
    "import time\n",
    "\n",
    "start_time = time.time()\n",
    "core_num=8\n",
    "\n",
    "k_allowed = get_k(ginibre_box_pp_list[0], k_max=2)\n",
    "#x_neg = np.linspace(-np.max(np.abs(k_allowed)), -np.min(np.abs(k_allowed)), int(46/2))\n",
    "x = np.linspace(np.min(np.abs(k_allowed)), np.max(np.abs(k_allowed)), 30)\n",
    "#x = np.row_stack((x_neg, x_pos)).ravel()\n",
    "#x = x[x != 0]\n",
    "X, Y = np.meshgrid(x, x)\n",
    "k = np.column_stack((X.ravel(), Y.ravel()))\n",
    "p = [1, 1]\n",
    "taper = SineTaper(p)\n",
    "\n",
    "if __name__ == \"__main__\":\n",
    "    # scattering intensity\n",
    "    s_si_allowed_k = thomas_box_statistics.sample_approximation(estimator=\"scattering_intensity\", k=k_allowed)\n",
    "    # scattering intensity debiased\n",
    "    s_dtp_t0 = thomas_box_statistics.sample_approximation(estimator=\"scattering_intensity\", k=k, debiased=True, direct=True)\n",
    "    # debiased tapered periodogram (sinusoidal taper)\n",
    "    s_dtp_t1 = thomas_box_statistics.sample_approximation(estimator=\"tapered_periodogram\", k=k,taper=taper, debiased=True, direct=True)\n",
    "    # multitapered periodogram (sinusoidal taper)\n",
    "    s_mdtp = thomas_box_statistics.sample_approximation(estimator=\"multitapered_periodogram\", k=k, debiased=True, direct=True)\n",
    "    \n",
    "print(\"--- %s seconds ---\" % (time.time() - start_time))"
   ]
  },
  {
   "cell_type": "code",
   "execution_count": null,
   "metadata": {},
   "outputs": [],
   "source": [
    "np.max(utils.norm_k(k))"
   ]
  },
  {
   "cell_type": "code",
   "execution_count": null,
   "metadata": {},
   "outputs": [],
   "source": [
    "thomas = ThomasProintProcess( d=2, intensity_parent=1/(20*np.pi), mu=20, sigma=2)\n",
    "k_norm_si, m_si, ivar_si, ibias_si,imse_si, imse_var_si = sample_statistics(k=k_allowed,\n",
    "                                                                                approximation=s_si_allowed_k,\n",
    "                                                                                exact=thomas.structure_factor )\n",
    "k_norm_dtp_t0, m_dtp_t0, ivar_dtp_t0, ibias_dtp_t0, imse_dtp_t0, imse_var_dtp_t0 = sample_statistics(\n",
    "                                                                                k=k,\n",
    "                                                                                approximation=s_dtp_t0,\n",
    "                                                                                exact=thomas.structure_factor )\n",
    "k_norm_dtp_t1, m_dtp_t1, ivar_dtp_t1, ibias_dtp_t1, imse_dtp_t1, imse_var_dtp_t1 = sample_statistics(k=k,\n",
    "                                                                                approximation=s_dtp_t1,\n",
    "                                                                                exact=thomas.structure_factor)\n",
    "k_norm_mdtp, m_mdtp, ivar_mdtp, ibias_mdtp, imse_mdtp, imse_var_mdtp = sample_statistics(k=k,\n",
    "                                                                                approximation=s_mdtp,\n",
    "                                                                                exact=thomas.structure_factor)\n",
    "print(\"For s_si: ivar\", ivar_si, \"ibias\", ibias_si, \"imse\", imse_si, \"3std(imse)\",  np.sqrt(imse_var_si)*3)\n",
    "print(\"For s_dtp_t0: ivar\", ivar_dtp_t0, \"ibias\", ibias_dtp_t0, \"imse\", imse_dtp_t0, \"3std(imse)\",  np.sqrt(imse_var_dtp_t0)*3)\n",
    "print(\"For s_dtp_t1: ivar\", ivar_dtp_t1, \"ibias\", ibias_dtp_t1, \"imse\", imse_dtp_t1, \"3std(imse)\",  np.sqrt(imse_var_dtp_t1)*3)\n",
    "print(\"For s_mdtp: ivar\", ivar_mdtp, \"ibias\", ibias_mdtp, \"imse\", imse_mdtp, \"3std(imse)\",  np.sqrt(imse_var_mdtp)*3)"
   ]
  },
  {
   "cell_type": "code",
   "execution_count": null,
   "metadata": {},
   "outputs": [],
   "source": [
    "norm_k_allowed1 = utils.norm_k(k_allowed)\n",
    "norm_k = utils.norm_k(k)\n",
    "fig, axis = plt.subplots(figsize=(7,6))\n",
    "\n",
    "axis.loglog(k_norm_si, m_si, 'b^', label=r\"$\\overline{\\widehat{S}_{\\mathrm{SI}}(2\\pi \\mathbf{n}/L)}$\")\n",
    "#axis.errorbar(k_norm_si, m_si, yerr=var_si, lw=1, ecolor='b', capsize=3, capthick=1)\n",
    "axis.loglog(k_norm_dtp_t0, m_dtp_t0, 'k*', label=r\"$\\overline{\\widehat{S}_{\\mathrm{DDTP}}(t_0, \\mathbf{k})}$\")\n",
    "#axis.errorbar(k_norm_dtp_t0, m_dtp_t0, yerr=var_dtp_t0, lw=1, ecolor='k', capsize=3, capthick=1)\n",
    "axis.loglog(k_norm_dtp_t1, m_dtp_t1, 'm+',label=r\"$\\overline{\\widehat{S}_{\\mathrm{DDTP}}(t_1, \\mathbf{k})}$\")\n",
    "#axis.errorbar(k_norm_dtp_t1, m_dtp_t1, yerr=var_dtp_t1, lw=1, ecolor='m', capsize=3, capthick=1)\n",
    "axis.loglog(k_norm_mdtp, m_mdtp, 'c.',  label=r\"$\\overline{\\widehat{S}_{\\mathrm{DDMTP}}((t_j)_{j=1}^4, \\mathbf{k})}$\")\n",
    "utils.plot_exact(norm_k_allowed1, thomas.structure_factor(norm_k_allowed1), axis=axis, label=r\"$S(\\mathbf{k})$\")\n",
    "axis.legend()\n",
    "axis.set_xlabel(r\"Wavenumber ($k$)\")\n",
    "axis.set_ylabel(r\"Structure factor ($S(k)$)\")\n",
    "fig.savefig(\"comparaison_DSE_mean_thomas.pdf\", bbox_inches=\"tight\")"
   ]
  },
  {
   "cell_type": "markdown",
   "metadata": {},
   "source": [
    "### 4.4.2- For ISE"
   ]
  },
  {
   "cell_type": "code",
   "execution_count": null,
   "metadata": {},
   "outputs": [],
   "source": [
    "from structure_factor.statistics import apply_estimator\n",
    "from multiprocessing import Pool\n",
    "from functools import partial\n",
    "from structure_factor.statistics import pcf_interpolate_list\n",
    "import time\n",
    "\n",
    "start_time = time.time()\n",
    "core_num=8\n",
    "\n",
    "n_allowed_k_norm=64\n",
    "k_norm_allowed = get_k_norm(list_thomas_pp_ball[0], n_allowed_k_norm=n_allowed_k_norm)\n",
    "\n",
    "if __name__ == \"__main__\":\n",
    "    # Bartlett's isotropic estimator\n",
    "    s_bi = thomas_ball_statistics.sample_approximation(estimator=\"bartlett_isotropic_estimator\", n_allowed_k_norm=n_allowed_k_norm)\n",
    "    # list pcf\n",
    "    pcf_list = thomas_ball_statistics.sample_pcf_approximation(method=\"fv\", Kest=dict(rmax=r_max), fv=dict(method=\"b\", spar=0.1))\n",
    "    \n",
    "print(\"--- %s seconds ---\" % (time.time() - start_time))\n"
   ]
  },
  {
   "cell_type": "code",
   "execution_count": null,
   "metadata": {},
   "outputs": [],
   "source": [
    "s = len(pcf_list)\n",
    "# interpolate pcf\n",
    "r_list = [pcf_list[i][\"r\"] for i in range(s)]\n",
    "pcf_fv_list = [pcf_list[i][\"pcf\"] for i in range(s)]\n",
    "pcf_fct_list = pcf_interpolate_list(r_list, pcf_fv_list, drop=True)\n",
    "# BaddourChouinard\n",
    "s_hbc_list = thomas_ball_statistics.sample_integral_approximation(pcf_fct_list,method=\"BaddourChouinard\", \n",
    "                                                                   k_norm=k_norm_allowed, r_max=r_max,  nb_points=1000) \n",
    "# Ogata\n",
    "s_ho_list = thomas_ball_statistics.sample_integral_approximation(pcf_fct_list,method=\"Ogata\", \n",
    "                                                                   k_norm=k_norm_allowed, step_size=0.01,  nb_points=1000) \n"
   ]
  },
  {
   "cell_type": "code",
   "execution_count": null,
   "metadata": {},
   "outputs": [],
   "source": [
    "k_bi, m_bi, ivar_bi, ibias_bi, imse_bi, imse_var_bi = sample_statistics(k_norm=k_norm_allowed,\n",
    "                                                                                approximation=s_bi,\n",
    "                                                                                exact=thomas.structure_factor )\n",
    "k_hbc, m_hbc, ivar_hbc, ibias_hbc, imse_hbc, imse_var_hbc = sample_statistics(k_norm=k_norm_allowed,\n",
    "                                                                                approximation=s_hbc_list,\n",
    "                                                                                exact=thomas.structure_factor)\n",
    "k_ho, m_ho, ivar_ho, ibias_ho, imse_ho, imse_var_ho = sample_statistics(k_norm=k_norm_allowed,\n",
    "                                                                                approximation=s_ho_list,\n",
    "                                                                                exact=thomas.structure_factor)\n",
    "print(\"For s_bi: ivar=\", ivar_bi, \"ibias=\", ibias_bi, \"imse=\", imse_bi, \"3std(imse)\",  np.sqrt(imse_var_bi)*3)\n",
    "\n",
    "print(\"For s_hbc: ivar=\", ivar_hbc, \"ibias=\", ibias_hbc, \"imse=\", imse_hbc, \"3std(imse)\",  np.sqrt(imse_var_hbc)*3)\n",
    "\n",
    "print(\"For s_ho: ivar=\", ivar_ho, \"ibias=\", ibias_ho, \"imse=\", imse_ho, \"3std(imse)\",  np.sqrt(imse_var_ho)*3)\n"
   ]
  },
  {
   "cell_type": "code",
   "execution_count": null,
   "metadata": {},
   "outputs": [],
   "source": [
    "fig, axis = plt.subplots(figsize=(7,6))\n",
    "axis.loglog(k_norm_allowed, m_bi, 'm*', label=r\"$\\overline{\\widehat{S}_{\\mathrm{BI}}(k)}$\")\n",
    "#axis.loglog(k_norm_allowed, m_bi, 'm')\n",
    "axis.loglog(k_ho, m_ho, 'b.', label=r\"$\\overline{\\widehat{S}_{\\mathrm{HO}}(k)}$\")\n",
    "#axis.loglog(k_norm_allowed, m_ho, 'b')\n",
    "axis.loglog(k_hbc, m_hbc, 'k+', label=r\"$\\overline{\\widehat{S}_{\\mathrm{HBC}}(k)}$\")\n",
    "#axis.loglog(k_norm_allowed, m_hbc, 'k')\n",
    "axis.loglog(k_norm_allowed, thomas.structure_factor(k_norm_allowed), 'g', label= r\"$S(k)$\")\n",
    "axis.legend()\n",
    "axis.set_xlabel(r\"Wavenumber ($k$)\")\n",
    "axis.set_ylabel(r\"Structure factor ($S(k)$)\")\n",
    "plt.show()\n",
    "fig.savefig(\"comparaison_ISE_mean_thomas.pdf\", bbox_inches=\"tight\")"
   ]
  },
  {
   "cell_type": "code",
   "execution_count": null,
   "metadata": {},
   "outputs": [],
   "source": [
    "fig, axis = plt.subplots(figsize=(7,6))\n",
    "axis.loglog(k_norm_allowed, m_bi, 'm*', label=r\"$\\overline{\\widehat{S}_{\\mathrm{BI}}(k)}$\")\n",
    "axis.loglog(k_norm_allowed, m_bi, 'm')\n",
    "axis.loglog(k_norm_allowed, m_ho, 'b.', label=r\"$\\overline{\\widehat{S}_{\\mathrm{HO}}(k)}$\")\n",
    "#axis.loglog(k_norm_allowed, m_ho, 'b')\n",
    "axis.loglog(k_norm_allowed, m_hbc, 'k+', label=r\"$\\overline{\\widehat{S}_{\\mathrm{HBC}}(k)}$\")\n",
    "#axis.loglog(k_norm_allowed, m_hbc, 'k')\n",
    "axis.loglog(k_norm_allowed, thomas.structure_factor(k_norm_allowed), 'g', label= r\"$S(k)$\")\n",
    "axis.legend()\n",
    "axis.set_xlabel(r\"Wavenumber ($k$)\")\n",
    "axis.set_ylabel(r\"Structure factor ($S(k)$)\")\n",
    "plt.show()\n",
    "fig.savefig(\"comparaison_ISE_mean_thomas.png\", bbox_inches=\"tight\")"
   ]
  },
  {
   "cell_type": "markdown",
   "metadata": {},
   "source": [
    "## 4.4.3- Hyperuniformity\n"
   ]
  },
  {
   "cell_type": "code",
   "execution_count": null,
   "metadata": {},
   "outputs": [],
   "source": [
    "# using bartlett's isotropic estimator\n",
    "\n",
    "from structure_factor.statistics import apply_estimator\n",
    "from multiprocessing import Pool\n",
    "from functools import partial\n",
    "from structure_factor.statistics import pcf_interpolate_list\n",
    "import time\n",
    "\n",
    "start_time = time.time()\n",
    "core_num=8\n",
    "\n",
    "n_allowed_k_norm=64\n",
    "k_norm_allowed = get_k_norm(thomas_ball_pp_list[0], n_allowed_k_norm=n_allowed_k_norm)\n",
    "\n",
    "if __name__ == \"__main__\":\n",
    "    # Bartlett's isotropic estimator\n",
    "    s_bi = thomas_ball_statistics.sample_approximation(estimator=\"bartlett_isotropic_estimator\", n_allowed_k_norm=n_allowed_k_norm)\n",
    "    \n",
    "print(\"--- %s seconds ---\" % (time.time() - start_time))"
   ]
  },
  {
   "cell_type": "code",
   "execution_count": null,
   "metadata": {},
   "outputs": [],
   "source": [
    "# save sample s_bi:\n",
    "import pickle\n",
    "my_dict = {\"k_norm\": k_norm_allowed, \"list_s_bi_thomas\": s_bi}\n",
    "with open('sample_s_bi_thomas.pkl', 'wb') as f:\n",
    "       pickle.dump(my_dict, f)"
   ]
  },
  {
   "cell_type": "code",
   "execution_count": null,
   "metadata": {},
   "outputs": [],
   "source": [
    "plt.plot(k_norm_allowed, s_bi[5], 'b.')"
   ]
  },
  {
   "cell_type": "markdown",
   "metadata": {},
   "source": [
    "### 4.4.3.1- effective hyperuniformity"
   ]
  },
  {
   "cell_type": "code",
   "execution_count": null,
   "metadata": {},
   "outputs": [],
   "source": [
    "from structure_factor.statistics import sample_hyperuniformity, sample_variance\n",
    "\n",
    "H_index_list = sample_hyperuniformity(k_norm_allowed, s_bi, estimator=\"effective\", k_norm_stop=0.5)\n",
    "H_var, H_m = sample_variance(H_index_list)\n",
    "print(\"mean H index\", H_m, \"3std H index\", 3*np.sqrt(H_var))"
   ]
  }
 ],
 "metadata": {
  "interpreter": {
   "hash": "a55764ac299e0a1a65d7e972aa0c64866d632025f8b68908f610b98dba8a58df"
  },
  "kernelspec": {
   "display_name": "Python 3 (ipykernel)",
   "language": "python",
   "name": "python3"
  },
  "language_info": {
   "codemirror_mode": {
    "name": "ipython",
    "version": 3
   },
   "file_extension": ".py",
   "mimetype": "text/x-python",
   "name": "python",
   "nbconvert_exporter": "python",
   "pygments_lexer": "ipython3",
   "version": "3.9.2"
  }
 },
 "nbformat": 4,
 "nbformat_minor": 4
}
