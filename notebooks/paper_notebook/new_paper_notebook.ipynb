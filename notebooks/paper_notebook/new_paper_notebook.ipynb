{
 "cells": [
  {
   "cell_type": "code",
   "execution_count": null,
   "metadata": {},
   "outputs": [],
   "source": [
    "from IPython.core.display import display, HTML\n",
    "display(HTML(\"<style>.container { width:100% !important; }</style>\"))\n",
    "\n",
    "%load_ext autoreload\n",
    "%autoreload 2\n",
    "\n",
    "%config InlineBackend.figure_format='retina'\n",
    "import os\n",
    "import sys\n",
    "sys.path.insert(0, os.path.abspath('../src/'))"
   ]
  },
  {
   "cell_type": "markdown",
   "metadata": {},
   "source": [
    "This notebook is a companion to the paper TBC, and reproduces the plots from the paper. We use the Ginibre point process as a running example. It is convenient, since its two-point correlation function and structure factor are analytically known."
   ]
  },
  {
   "cell_type": "code",
   "execution_count": null,
   "metadata": {},
   "outputs": [],
   "source": [
    "import numpy as np\n",
    "from structure_factor.data import load_data\n",
    "from structure_factor.structure_factor import StructureFactor\n",
    "import structure_factor.utils as utils"
   ]
  },
  {
   "cell_type": "code",
   "execution_count": null,
   "metadata": {},
   "outputs": [],
   "source": [
    "import matplotlib as mpl\n",
    "import matplotlib.pyplot as plt\n",
    "\n",
    "# make plots look nice\n",
    "plt.ticklabel_format(style='sci', axis='x', scilimits=(0,0))\n",
    "mpl.rcParams['xtick.labelsize'] = 18\n",
    "mpl.rcParams['ytick.labelsize'] = 18\n",
    "plt.rc('axes', labelsize=22)\n",
    "plt.rc('legend', fontsize=14)\n",
    "mpl.rcParams['ps.useafm'] = True\n",
    "mpl.rcParams['pdf.use14corefonts'] = True\n",
    "mpl.rcParams['text.usetex'] = True"
   ]
  },
  {
   "cell_type": "markdown",
   "metadata": {},
   "source": [
    "# 1- Ginibre Ensemble "
   ]
  },
  {
   "cell_type": "code",
   "execution_count": null,
   "metadata": {},
   "outputs": [],
   "source": [
    "ginibre_ball_pp = load_data.load_ginibre()"
   ]
  },
  {
   "cell_type": "code",
   "execution_count": null,
   "metadata": {},
   "outputs": [],
   "source": [
    "from structure_factor.spatial_windows import BallWindow\n",
    "window_show = BallWindow(center=(0,0), radius=50)\n",
    "ginibre_ball_pp.plot( file_name=\"ginibre_pp_ball.png\")\n",
    "                # we provide a method to plot the underlying sample"
   ]
  },
  {
   "cell_type": "markdown",
   "metadata": {},
   "source": [
    "## 1.1- Direct spectral estimators (DSE)"
   ]
  },
  {
   "cell_type": "code",
   "execution_count": null,
   "metadata": {},
   "outputs": [],
   "source": [
    "from structure_factor.spatial_windows import BoxWindow\n",
    "L = ginibre_ball_pp.window.radius/np.sqrt(2) # sidelength of the cubic window\n",
    "print(\"Restricting the window to a cube of length\", L)\n",
    "bounds = np.array([[-L/2, L/2], [-L/2, L/2]]) \n",
    "window = BoxWindow(bounds) # create a cubic window\n",
    "ginibre_pp_box = ginibre_ball_pp.restrict_to_window(window) # create a Ginibre point pattern with box window\n",
    "sf_ginibre_box = StructureFactor(ginibre_pp_box) # initialize a new instance of StructureFactor\n",
    "#ginibre_pp_box.plot(file_name=\"ginibre_sample.png\")"
   ]
  },
  {
   "cell_type": "markdown",
   "metadata": {},
   "source": [
    "### 1.1.1- Scattering intensity"
   ]
  },
  {
   "cell_type": "code",
   "execution_count": null,
   "metadata": {},
   "outputs": [],
   "source": [
    "\n",
    "# on allowed values \n",
    "allowed_k, si = sf_ginibre_box.scattering_intensity(k_max=6)\n",
    "print(\"Scattering intensity\")\n",
    "fig, axis = plt.subplots(figsize=(7,6))\n",
    "fig = sf_ginibre_box.plot_tapered_periodogram(allowed_k, si, axes=axis, plot_type=\"radial\",exact_sf=utils.structure_factor_ginibre,\n",
    "                                            bins=80, error_bar=True, label=r\"$\\widehat{S}_{\\mathrm{SI}}(\\frac{2\\pi\\mathbf{n}}{L})$\",\n",
    "                                           file_name=\"si_allowed_k.png\"\n",
    "                                          )"
   ]
  },
  {
   "cell_type": "markdown",
   "metadata": {},
   "source": [
    "Scattering intensity on non allowed values and debiased scattering intensity"
   ]
  },
  {
   "cell_type": "code",
   "execution_count": null,
   "metadata": {},
   "outputs": [],
   "source": [
    "x = np.linspace(-8, 8, 300)\n",
    "x = x[x != 0]\n",
    "X, Y = np.meshgrid(x, x)\n",
    "k = np.column_stack((X.ravel(), Y.ravel()))\n",
    "# on k \n",
    "k, si1 = sf_ginibre_box.scattering_intensity(k=k, debiased=False)\n",
    "# on k debiased directly\n",
    "k, si2 = sf_ginibre_box.scattering_intensity(k=k, debiased=True)\n",
    "# on k debiased undirectly\n",
    "k, si3 = sf_ginibre_box.scattering_intensity(k=k, debiased=True, direct=False)"
   ]
  },
  {
   "cell_type": "code",
   "execution_count": null,
   "metadata": {},
   "outputs": [],
   "source": [
    "fig, axis = plt.subplots(figsize=(7,6))\n",
    "fig = sf_ginibre_box.plot_tapered_periodogram(k, si2, axes=axis, positive=False, plot_type=\"radial\",exact_sf=utils.structure_factor_ginibre,\n",
    "                                            bins=60, error_bar=True, label=r\"$\\widehat{S}_{\\mathrm{DDTP}}(\\mathbf{k})$\",\n",
    "                                           file_name=\"si_k_ddebiased_ginibre.png\"\n",
    "                                          )"
   ]
  },
  {
   "cell_type": "markdown",
   "metadata": {},
   "source": [
    " all the above estimators in one picture"
   ]
  },
  {
   "cell_type": "code",
   "execution_count": null,
   "metadata": {},
   "outputs": [],
   "source": [
    "norm_k_allowed = utils.norm_k(allowed_k)\n",
    "norm_k = utils.norm_k(k)\n",
    "fig, axis = plt.subplots(figsize=(8, 6))\n",
    "utils.plot_summary(norm_k_allowed, si, axis=axis, label=r\"$\\widehat{S}_{\\mathrm{SI}}(2 \\pi \\mathbf{n}/ L)$\", fmt='b', bins=60)\n",
    "utils.plot_summary(norm_k, si1, axis=axis, label=r\"$\\widehat{S}_{\\mathrm{SI}}(\\mathbf{k})$\", fmt='grey', bins=60 )\n",
    "utils.plot_summary(norm_k, si2, axis=axis, label=r\"$\\widehat{S}_{\\mathrm{DTP}}(\\mathbf{k})$\", fmt='k', bins=150 )\n",
    "utils.plot_summary(norm_k, si3, axis=axis, label=r\"$\\widehat{S}_{\\mathrm{UDTP}}(\\mathbf{k})$\",fmt='c', bins=180 )\n",
    "axis.plot(norm_k, utils.structure_factor_ginibre(norm_k), 'g' )"
   ]
  },
  {
   "cell_type": "markdown",
   "metadata": {},
   "source": [
    "### 1.1.2- Tapered periodogram with sine taper"
   ]
  },
  {
   "cell_type": "code",
   "execution_count": null,
   "metadata": {},
   "outputs": [],
   "source": [
    "from structure_factor.tapers import SineTaper\n",
    "## tapered periodogram\n",
    "x = np.linspace(-6, 6, 300)\n",
    "x = x[x != 0]\n",
    "X, Y = np.meshgrid(x, x)\n",
    "k = np.column_stack((X.ravel(), Y.ravel()))\n",
    "p = [1, 1]\n",
    "taper = SineTaper(p)\n",
    "#k, s_tp = sf_ginibre_box.tapered_periodogram(k, taper, debiased=False)\n",
    "k, s_dtp = sf_ginibre_box.tapered_periodogram(k, taper)\n",
    "#k, s_udtp = sf_ginibre_box.tapered_periodogram(k, taper, debiased=True, direct=False)"
   ]
  },
  {
   "cell_type": "code",
   "execution_count": null,
   "metadata": {},
   "outputs": [],
   "source": [
    "fig, axis = plt.subplots(figsize=(7,6))\n",
    "fig = sf_ginibre_box.plot_tapered_periodogram(k, s_dtp, axes=axis, positive=False, plot_type=\"radial\",exact_sf=utils.structure_factor_ginibre,\n",
    "                                            bins=100, error_bar=True, label=r\"$\\widehat{S}_{\\mathrm{DDTP}}(\\mathbf{k})$\",\n",
    "                                           file_name=\"s_dtp_sine_taper_ginibre.png\"\n",
    "                                          )"
   ]
  },
  {
   "cell_type": "code",
   "execution_count": null,
   "metadata": {},
   "outputs": [],
   "source": [
    "norm_k = utils.norm_k(k)\n",
    "fig, axis = plt.subplots(figsize=(8, 6))\n",
    "utils.plot_summary(norm_k, s_tp, axis=axis, label=r\"$\\widehat{S}_{\\mathrm{TP}}(\\mathbf{k})$\", fmt='b', bins=60 )\n",
    "utils.plot_summary(norm_k, s_dtp, axis=axis, label=r\"$\\widehat{S}_{\\mathrm{DTP}}(\\mathbf{k})$\", fmt='k', bins=150 )\n",
    "utils.plot_summary(norm_k, s_udtp, axis=axis, label=r\"$\\widehat{S}_{\\mathrm{UDTP}}(\\mathbf{k})$\",fmt='c', bins=180 )\n",
    "axis.plot(norm_k, utils.structure_factor_ginibre(norm_k), 'g' )"
   ]
  },
  {
   "cell_type": "markdown",
   "metadata": {},
   "source": [
    " Result with scattering intensity"
   ]
  },
  {
   "cell_type": "code",
   "execution_count": null,
   "metadata": {
    "scrolled": true
   },
   "outputs": [],
   "source": [
    "norm_k = utils.norm_k(k)\n",
    "fig, axis = plt.subplots(figsize=(8, 6))\n",
    "utils.plot_summary(norm_k, s_dtp, axis=axis, label=r\"$\\widehat{S}_{\\mathrm{DTP}}(\\mathbf{k})$\", fmt='c', bins=150 )\n",
    "utils.plot_summary(norm_k_allowed, si, axis=axis, label=r\"$\\widehat{S}_{\\mathrm{SI}}(2 \\pi \\mathbf{n}/ L)$\", fmt='b', bins=60)\n",
    "utils.plot_summary(norm_k, si2, axis=axis, label=r\"$\\widehat{S}_{\\mathrm{SIDTP}}(\\mathbf{k})$\", fmt='k', bins=150 )\n",
    "axis.plot(norm_k, utils.structure_factor_ginibre(norm_k), 'g' )"
   ]
  },
  {
   "cell_type": "markdown",
   "metadata": {},
   "source": [
    "sine taper looks better than scattering inetsnity"
   ]
  },
  {
   "cell_type": "markdown",
   "metadata": {},
   "source": [
    "### 1.1.3- Multitapering"
   ]
  },
  {
   "cell_type": "code",
   "execution_count": null,
   "metadata": {},
   "outputs": [],
   "source": [
    "from structure_factor.tapers import SineTaper\n",
    "## multitapered tapered periodogram\n",
    "x = np.linspace(-6, 6, 300)\n",
    "x = x[x != 0]\n",
    "X, Y = np.meshgrid(x, x)\n",
    "k = np.column_stack((X.ravel(), Y.ravel()))\n",
    "#k, s_mtp = sf_ginibre_box.multitapered_periodogram(k, debiased=False)\n",
    "k, s_mdtp = sf_ginibre_box.multitapered_periodogram(k)\n",
    "#k, s_mudtp = sf_ginibre_box.multitapered_periodogram(k, debiased=True, direct=False)"
   ]
  },
  {
   "cell_type": "code",
   "execution_count": null,
   "metadata": {
    "scrolled": true
   },
   "outputs": [],
   "source": [
    "fig, axis = plt.subplots(figsize=(7,6))\n",
    "fig = sf_ginibre_box.plot_tapered_periodogram(k, s_mdtp, axes=axis, positive=False, plot_type=\"radial\",exact_sf=utils.structure_factor_ginibre,\n",
    "                                            bins=80, error_bar=True, label=r\"$\\widehat{S}_{\\mathrm{MDDTP}}(\\mathbf{k})$\",\n",
    "                                           file_name=\"s_mdtp_sine_taper_ginibre.png\"\n",
    "                                          )"
   ]
  },
  {
   "cell_type": "code",
   "execution_count": null,
   "metadata": {},
   "outputs": [],
   "source": [
    "norm_k = utils.norm_k(k)\n",
    "fig, axis = plt.subplots(figsize=(8, 6))\n",
    "utils.plot_summary(norm_k, s_mtp, axis=axis, label=r\"$\\widehat{S}_{\\mathrm{MTP}}(\\mathbf{k})$\", fmt='b', ecolor=\"b\", bins=60 )\n",
    "utils.plot_summary(norm_k, s_mdtp, axis=axis, label=r\"$\\widehat{S}_{\\mathrm{MDTP}}(\\mathbf{k})$\", fmt='k', ecolor=\"k\", bins=150 )\n",
    "utils.plot_summary(norm_k, s_mudtp, axis=axis, label=r\"$\\widehat{S}_{\\mathrm{MUDTP}}(\\mathbf{k})$\",fmt='c', ecolor=\"c\", bins=180 )\n",
    "axis.plot(norm_k, utils.structure_factor_ginibre(norm_k), 'g' )"
   ]
  },
  {
   "cell_type": "markdown",
   "metadata": {},
   "source": [
    "compaising with the best of the above"
   ]
  },
  {
   "cell_type": "code",
   "execution_count": null,
   "metadata": {},
   "outputs": [],
   "source": [
    "norm_k = utils.norm_k(k)\n",
    "norm_k_allowed = utils.norm_k(allowed_k)\n",
    "\n",
    "fig, axis = plt.subplots(figsize=(10, 8))\n",
    "utils.plot_summary(norm_k_allowed, si, axis=axis, label=r\"$\\widehat{S}_{\\mathrm{SI}}(2 \\pi \\mathbf{n}/ L)$\", fmt='b', ecolor='b', bins=50)\n",
    "#utils.plot_summary(norm_k, si2, axis=axis, label=r\"$\\widehat{S}_{\\mathrm{SIDTP}}(\\mathbf{k})$\", fmt='k', ecolor='k', bins=150 )\n",
    "utils.plot_summary(norm_k, s_dtp, axis=axis, label=r\"$\\widehat{S}_{\\mathrm{DTP}}(\\mathbf{k})$\", fmt='k', ecolor='k', bins=50 )\n",
    "utils.plot_summary(norm_k, s_mdtp, axis=axis, label=r\"$\\widehat{S}_{\\mathrm{MDTP}}(\\mathbf{k})$\", fmt='m', ecolor=\"m\", bins=50 )\n",
    "axis.plot(norm_k, utils.structure_factor_ginibre(norm_k), 'g' )"
   ]
  },
  {
   "cell_type": "markdown",
   "metadata": {},
   "source": [
    "## 1.2- Isotropic estimator (ISD)"
   ]
  },
  {
   "cell_type": "code",
   "execution_count": null,
   "metadata": {},
   "outputs": [],
   "source": [
    "from structure_factor.structure_factor import StructureFactor\n",
    "sf_ginibre = StructureFactor(ginibre_pp) \n",
    "ginibre_pp.plot()"
   ]
  },
  {
   "cell_type": "markdown",
   "metadata": {},
   "source": [
    "### 1.2.1- Bartlett isotropic estimator"
   ]
  },
  {
   "cell_type": "code",
   "execution_count": null,
   "metadata": {
    "scrolled": true
   },
   "outputs": [],
   "source": [
    "start_time = time.time()\n",
    "k_norm, s_bi = sf_ginibre.bartlett_isotropic_estimator(n_allowed_k_norm=60)\n",
    "print(\"--- %s seconds ---\" % (time.time() - start_time))"
   ]
  },
  {
   "cell_type": "code",
   "execution_count": null,
   "metadata": {},
   "outputs": [],
   "source": [
    "fig, axis = plt.subplots(figsize=(7,6))\n",
    "sf_ginibre.plot_isotropic_estimator(k_norm, s_bi, #exact_sf=utils.structure_factor_ginibre, axis=axis,\n",
    "                                    label=r\"$\\widehat{S}_{\\mathrm{BI}}(k)$\", \n",
    "                                    #file_name=\"s_bi_ginibre.png\"\n",
    "                                   )"
   ]
  },
  {
   "cell_type": "code",
   "execution_count": null,
   "metadata": {
    "scrolled": true
   },
   "outputs": [],
   "source": [
    "k_non_allowed = np.linspace(min(k_norm) + 0.002, max(k_norm), 100)\n",
    "k_norm_non_allowed, s_bi_non_allowed = sf_ginibre.bartlett_isotropic_estimator(k_non_allowed)\n",
    "fig, axis = plt.subplots(figsize=(7,6))\n",
    "sf_ginibre.plot_isotropic_estimator(k_norm_non_allowed, s_bi_non_allowed, axis=axis, exact_sf=utils.structure_factor_ginibre,\n",
    "                                         label=r\"$\\widehat{S}_{\\mathrm{BI}}(k)$\", file_name=\"s_bi_ginibre_non_allowed.png\")"
   ]
  },
  {
   "cell_type": "markdown",
   "metadata": {},
   "source": [
    "### 1.2.2- Hankel transform estimation"
   ]
  },
  {
   "cell_type": "markdown",
   "metadata": {},
   "source": [
    "#### 1.2.2.1- Pair correlation function"
   ]
  },
  {
   "cell_type": "code",
   "execution_count": null,
   "metadata": {},
   "outputs": [],
   "source": [
    "from structure_factor.pair_correlation_function import PairCorrelationFunction as pcf"
   ]
  },
  {
   "cell_type": "markdown",
   "metadata": {},
   "source": [
    "pcf.ppp"
   ]
  },
  {
   "cell_type": "code",
   "execution_count": null,
   "metadata": {},
   "outputs": [],
   "source": [
    "r= np.linspace(0, 10, 200)\n",
    "ginibre_pcf_ppp = pcf.estimate(ginibre_pp, method=\"ppp\", r=r, correction=\"all\")"
   ]
  },
  {
   "cell_type": "code",
   "execution_count": null,
   "metadata": {},
   "outputs": [],
   "source": [
    "pcf.plot(ginibre_pcf_ppp, exact_pcf=utils.pair_correlation_function_ginibre, figsize=(7,6),\n",
    "         color=['grey', 'b', 'darkcyan'], style=[\".\", \"*\", \"^\"],\n",
    "         file_name=\"pcf_ppp_ginibre.png\")"
   ]
  },
  {
   "cell_type": "markdown",
   "metadata": {},
   "source": [
    "pcf.fv"
   ]
  },
  {
   "cell_type": "code",
   "execution_count": null,
   "metadata": {},
   "outputs": [],
   "source": [
    "ginibre_pcf_fv = pcf.estimate(ginibre_pp, method=\"fv\", Kest=dict(rmax=100), fv=dict(method=\"b\", spar=0.05))\n",
    "ginibre_pcf_fv"
   ]
  },
  {
   "cell_type": "code",
   "execution_count": null,
   "metadata": {},
   "outputs": [],
   "source": [
    "pcf.plot(ginibre_pcf_fv, exact_pcf=utils.pair_correlation_function_ginibre, figsize=(7,6), color=['grey'], style=[\".\"],\n",
    "         #file_name=\"pcf_fv_ginibre.png\"\n",
    "        )"
   ]
  },
  {
   "cell_type": "markdown",
   "metadata": {},
   "source": [
    "Interpolation"
   ]
  },
  {
   "cell_type": "code",
   "execution_count": null,
   "metadata": {},
   "outputs": [],
   "source": [
    "ginibre_pcf_fct = pcf.interpolate(r=ginibre_pcf_fv[\"r\"], pcf_r=ginibre_pcf_fv[\"pcf\"], drop=True)\n",
    "r_max = np.max(ginibre_pcf_fv[\"r\"])\n",
    "r_ = np.linspace(0, 10, 200)\n",
    "plt.plot(r_, ginibre_pcf_fct(r_), 'b')\n",
    "plt.plot(r_, utils.pair_correlation_function_ginibre(r_), 'g')"
   ]
  },
  {
   "cell_type": "code",
   "execution_count": null,
   "metadata": {},
   "outputs": [],
   "source": []
  },
  {
   "cell_type": "markdown",
   "metadata": {},
   "source": [
    "Ogata"
   ]
  },
  {
   "cell_type": "code",
   "execution_count": null,
   "metadata": {},
   "outputs": [],
   "source": [
    "k_norm = np.linspace(0.5, 10, 1000) # vector of wave length\n",
    "k_norm, sf_Ogata = sf_ginibre.hankel_quadrature(ginibre_pcf_fct, method=\"Ogata\", k_norm=k_norm, step_size=0.01,\n",
    "                                                    nb_points=500)\n",
    "fig, axis = plt.subplots(figsize=(7,6))\n",
    "fig = sf_ginibre.plot_isotropic_estimator(k_norm, sf_Ogata, axis=axis,error_bar=True, bins=30, exact_sf=utils.structure_factor_ginibre, label=r\"$\\widehat{S}_{\\mathrm{HO}}(k)$\",\n",
    "                                          file_name=\"ginibre_s_ho.png\"\n",
    "                                           )"
   ]
  },
  {
   "cell_type": "code",
   "execution_count": null,
   "metadata": {},
   "outputs": [],
   "source": [
    "# from exact pcf\n",
    "k_norm = np.linspace(0.001, 10, 1000) # vector of wave length\n",
    "k_norm, sf_Ogata = sf_ginibre.hankel_quadrature(utils.pair_correlation_function_ginibre, method=\"Ogata\", k_norm=k_norm, step_size=0.00001,\n",
    "                                                    nb_points=500)\n",
    "fig, axis = plt.subplots(figsize=(7,6))\n",
    "fig = sf_ginibre.plot_isotropic_estimator(k_norm, sf_Ogata, axis=axis,error_bar=False, bins=30, exact_sf=utils.structure_factor_ginibre, label=r\"$\\widehat{S}_{\\mathrm{HO}}(k)$\",\n",
    "                                          file_name=\"ginibre_s_ho_exact.png\"\n",
    "                                           )\n"
   ]
  },
  {
   "cell_type": "markdown",
   "metadata": {},
   "source": [
    "Baddour-Chouinard"
   ]
  },
  {
   "cell_type": "code",
   "execution_count": null,
   "metadata": {},
   "outputs": [],
   "source": []
  },
  {
   "cell_type": "code",
   "execution_count": null,
   "metadata": {},
   "outputs": [],
   "source": [
    "k = np.linspace(0.5, 5, 400)\n",
    "k_norm, s_hbc = sf_ginibre.hankel_quadrature(ginibre_pcf_fct,k_norm=k,  r_max=r_max,  nb_points=3000 )"
   ]
  },
  {
   "cell_type": "code",
   "execution_count": null,
   "metadata": {},
   "outputs": [],
   "source": [
    "fig, axis= plt.subplots(figsize=(7,6))\n",
    "sf_ginibre.plot_isotropic_estimator(k_norm, s_hbc, axis=axis, exact_sf=utils.structure_factor_ginibre, \n",
    "                                    #error_bar=True, bins=40,\n",
    "                                    label=r\"$\\widehat{S}_{\\mathrm{HBC}}(k)$\",\n",
    "                                    #file_name=\"ginibre_s_hbc.png\"\n",
    "                                   )"
   ]
  },
  {
   "cell_type": "code",
   "execution_count": null,
   "metadata": {},
   "outputs": [],
   "source": [
    "k = np.linspace(0, 10, 400)\n",
    "k_norm, s_hbc = sf_ginibre.hankel_quadrature(utils.pair_correlation_function_ginibre,k_norm=k,  r_max=r_max,  nb_points=1000 )"
   ]
  },
  {
   "cell_type": "code",
   "execution_count": null,
   "metadata": {},
   "outputs": [],
   "source": [
    "fig, axis= plt.subplots(figsize=(7,6))\n",
    "sf_ginibre.plot_isotropic_estimator(k_norm, s_hbc, axis=axis, exact_sf=utils.structure_factor_ginibre, error_bar=False, bins=40,\n",
    "                                    label=r\"$\\widehat{S}_{\\mathrm{HBC}}(k)$\",file_name=\"ginibre_s_hbc_exact.png\")"
   ]
  },
  {
   "cell_type": "markdown",
   "metadata": {},
   "source": [
    "## 1.3- Hyperuniformity"
   ]
  },
  {
   "cell_type": "code",
   "execution_count": null,
   "metadata": {},
   "outputs": [],
   "source": [
    "from structure_factor.hyperuniformity import Hyperuniformity\n",
    "hyperuniformity_test = Hyperuniformity(k_norm, s_bi)\n",
    "#bin_center, bin_mean, bin_std = hyperuniformity_test.bin_data(bins=80)"
   ]
  },
  {
   "cell_type": "markdown",
   "metadata": {},
   "source": [
    "### 1.3.1- Effective hyperuniformity"
   ]
  },
  {
   "cell_type": "code",
   "execution_count": null,
   "metadata": {},
   "outputs": [],
   "source": [
    "H_ginibre, std = hyperuniformity_test.effective_hyperuniformity(k_norm_stop=1)\n",
    "print(\"H_ginibre=\", H_ginibre)"
   ]
  },
  {
   "cell_type": "code",
   "execution_count": null,
   "metadata": {},
   "outputs": [],
   "source": [
    "import matplotlib.pyplot as plt\n",
    "#k_norm = hyperuniformity_test.k_norm\n",
    "#sf = hyperuniformity_test.sf\n",
    "sf = s_bi\n",
    "fitted_sf_line = hyperuniformity_test.fitted_line # fitted line to sf\n",
    "index_peak = hyperuniformity_test.i_first_peak # index of first peak of sf\n",
    "x = np.linspace(0, 5, 300)\n",
    "y = np.linspace(0,np.max(k_norm), 500)\n",
    "fig=plt.figure(figsize=(10,6))\n",
    "plt.plot(k_norm, sf, 'b.', label=\"approx_sf\")\n",
    "plt.plot(k_norm, sf, 'b', label=\"approx_sf\")\n",
    "plt.plot(x, fitted_sf_line(x), 'r--', label= \"fitted line\")\n",
    "plt.plot(y, utils.structure_factor_ginibre(y), 'g', label=\"exact sf\")\n",
    "#plt.plot(mean_k_norm[index_peak], mean_sf[index_peak], 'k*', label=\"first peak\")\n",
    "plt.legend()\n",
    "plt.xlabel('wavelength ($||\\mathbf{k}||$)')\n",
    "plt.ylabel('Structure factor ($\\mathsf{S}(\\mathbf{k})$)')\n",
    "plt.show()\n",
    "#fig.savefig(\"fitted_si_ginibre.pdf\", bbox_inches=\"tight\")"
   ]
  },
  {
   "cell_type": "markdown",
   "metadata": {},
   "source": [
    "### 1.3.2- Hyperuniformity class"
   ]
  },
  {
   "cell_type": "code",
   "execution_count": null,
   "metadata": {},
   "outputs": [],
   "source": [
    "sf_power_decay, c = hyperuniformity_test.hyperuniformity_class(k_norm_stop=0.4)\n",
    "print(sf_power_decay)"
   ]
  },
  {
   "cell_type": "code",
   "execution_count": null,
   "metadata": {},
   "outputs": [],
   "source": [
    "import matplotlib.pyplot as plt\n",
    "#k_norm = hyperuniformity_test.k_norm\n",
    "#sf = hyperuniformity_test.sf\n",
    "sf = s_bi\n",
    "fitted_poly = hyperuniformity_test.fitted_poly\n",
    "x = np.linspace(0, 2, 300)\n",
    "y = np.linspace(0,np.max(k_norm), 500)\n",
    "fig=plt.figure(figsize=(10,6))\n",
    "plt.plot(k_norm, sf, 'b.', label=\"approx_sf\")\n",
    "plt.plot(k_norm, sf, 'b.', label=\"approx_sf\")\n",
    "\n",
    "plt.plot(k_norm, sf, 'b', label=\"approx_sf\")\n",
    "plt.plot(y, utils.structure_factor_ginibre(y), 'g', label=\"exact sf\")\n",
    "plt.plot(x, fitted_poly(x), 'r--', label= \"fitted line\")\n",
    "plt.legend()\n",
    "plt.xlabel('wavelength ($||\\mathbf{k}||$)')\n",
    "plt.ylabel('Structure factor ($\\mathsf{S}(\\mathbf{k})$)')\n",
    "plt.show()\n",
    "#fig.savefig(\"fitted_si_ginibre.pdf\", bbox_inches=\"tight\")"
   ]
  },
  {
   "cell_type": "markdown",
   "metadata": {},
   "source": [
    "## 1.4- Statistics"
   ]
  },
  {
   "cell_type": "code",
   "execution_count": null,
   "metadata": {},
   "outputs": [],
   "source": [
    "import pickle\n",
    "from structure_factor.point_pattern import pointpattern_list\n",
    "from structure_factor.spatial_windows import BallWindow, BoxWindow"
   ]
  },
  {
   "cell_type": "markdown",
   "metadata": {},
   "source": [
    "Load samples of points"
   ]
  },
  {
   "cell_type": "code",
   "execution_count": null,
   "metadata": {},
   "outputs": [],
   "source": [
    " \n",
    "# load points\n",
    "path = \"/Users/dhawat/github/structure-factor/src/structure_factor/data/ginibre_sample_list.dat\"\n",
    "with open(path, \"rb\") as input_file:\n",
    "    ginibre_data = pickle.load(input_file)"
   ]
  },
  {
   "cell_type": "markdown",
   "metadata": {},
   "source": [
    "List PointPattern"
   ]
  },
  {
   "cell_type": "code",
   "execution_count": null,
   "metadata": {},
   "outputs": [],
   "source": [
    "# ginibre pointpattern\n",
    "# ball window \n",
    "window_ball = BallWindow(center=[0, 0], radius=100)\n",
    "intensity = 1 / np.pi\n",
    "ginibre_ball_pp_list = pointpattern_list(\n",
    "    ginibre_data[0], window=window_ball, intensity=intensity\n",
    ")\n",
    "\n",
    "ginibre_ball_pp_list[0].plot()\n",
    "\n",
    "# box window\n",
    "L = window_ball.radius/np.sqrt(2)\n",
    "window_box = BoxWindow(bounds=[[-L/2, L/2], [-L/2, L/2]])\n",
    "size_list = len(ginibre_data[0])\n",
    "ginibre_box_pp_list = pointpattern_list(\n",
    "    ginibre_data[0], window=window_ball, intensity=intensity, window_res=window_box\n",
    ")\n",
    "\n",
    "ginibre_box_pp_list[2].plot()\n"
   ]
  },
  {
   "cell_type": "markdown",
   "metadata": {},
   "source": [
    "Initialize statistics"
   ]
  },
  {
   "cell_type": "code",
   "execution_count": null,
   "metadata": {},
   "outputs": [],
   "source": [
    "# statistics\n",
    "from structure_factor.statistics import SummaryStatistics, get_k, get_k_norm\n",
    "\n",
    "ginibre_ball_statistics = SummaryStatistics(ginibre_ball_pp_list)\n",
    "ginibre_box_statistics = SummaryStatistics(ginibre_box_pp_list)"
   ]
  },
  {
   "cell_type": "markdown",
   "metadata": {},
   "source": [
    "### 1.4.1- For Direct spectral estimators "
   ]
  },
  {
   "cell_type": "code",
   "execution_count": null,
   "metadata": {
    "scrolled": true
   },
   "outputs": [],
   "source": [
    "from structure_factor.statistics import apply_estimator\n",
    "from multiprocessing import Pool\n",
    "from functools import partial\n",
    "from structure_factor.tapers import SineTaper\n",
    "import time\n",
    "\n",
    "start_time = time.time()\n",
    "core_num=8\n",
    "\n",
    "k_allowed = get_k(ginibre_box_pp_list[0], k_max=2)\n",
    "x = np.linspace(-2, 2, 44)\n",
    "x = x[x != 0]\n",
    "X, Y = np.meshgrid(x, x)\n",
    "k = np.column_stack((X.ravel(), Y.ravel()))\n",
    "p = [1, 1]\n",
    "taper = SineTaper(p)\n",
    "\n",
    "if __name__ == \"__main__\":\n",
    "    # scattering intensity\n",
    "    s_si_allowed_k = ginibre_box_statistics.sample_approximation(estimator=\"scattering_intensity\", k_max=2)\n",
    "    # scattering intensity debiased\n",
    "    s_dtp_t0 = ginibre_box_statistics.sample_approximation(estimator=\"scattering_intensity\", k=k, debiased=True, direct=True)\n",
    "    # debiased tapered periodogram (sinusoidal taper)\n",
    "    s_dtp_t1 = ginibre_box_statistics.sample_approximation(estimator=\"tapered_periodogram\", k=k,taper=taper, debiased=True, direct=True)\n",
    "    # multitapered periodogram (sinusoidal taper)\n",
    "    s_mdtp = ginibre_box_statistics.sample_approximation(estimator=\"multitapered_periodogram\", k=k, debiased=True, direct=True)\n",
    "    \n",
    "print(\"--- %s seconds ---\" % (time.time() - start_time))\n"
   ]
  },
  {
   "cell_type": "code",
   "execution_count": null,
   "metadata": {
    "scrolled": true
   },
   "outputs": [],
   "source": [
    "m_si, var_si, ivar_si, bias_si, ibias_si, mse_si, imse_si = ginibre_box_statistics.sample_statistics(k=k,\n",
    "                                                                                approximation=s_si_allowed_k,\n",
    "                                                                                exact=utils.structure_factor_ginibre )\n",
    "m_dtp_t0, var_dtp_t0, ivar_dtp_t0, bias_dtp_t0, ibias_dtp_t0, mse_dtp_t0, imse_dtp_t0 = ginibre_box_statistics.sample_statistics(\n",
    "                                                                                k=k,\n",
    "                                                                                approximation=s_dtp_t0,\n",
    "                                                                                exact=utils.structure_factor_ginibre )\n",
    "m_dtp_t1, var_dtp_t1, ivar_dtp_t1, bias_dtp_t1, ibias_dtp_t1, mse_dtp_t1, imse_dtp_t1 = ginibre_box_statistics.sample_statistics(k=k,\n",
    "                                                                                approximation=s_dtp_t1,\n",
    "                                                                                exact=utils.structure_factor_ginibre )\n",
    "m_mdtp, var_mdtp, ivar_mdtp, bias_mdtp, ibias_mdtp, mse_mdtp, imse_mdtp = ginibre_box_statistics.sample_statistics(k=k,\n",
    "                                                                                approximation=s_mdtp,\n",
    "                                                                                exact=utils.structure_factor_ginibre )\n",
    "print(\"For s_si: ivar\", ivar_si, \"ibias\", ibias_si, \"imse\", imse_si)\n",
    "print(\"For s_dtp_t0: ivar\", ivar_dtp_t0, \"ibias\", ibias_dtp_t0, \"imse\", imse_dtp_t0)\n",
    "print(\"For s_dtp_t1: ivar\", ivar_dtp_t1, \"ibias\", ibias_dtp_t1, \"imse\", imse_dtp_t1)\n",
    "print(\"For s_mdtp: ivar\", ivar_mdtp, \"ibias\", ibias_mdtp, \"imse\", imse_mdtp)"
   ]
  },
  {
   "cell_type": "code",
   "execution_count": null,
   "metadata": {},
   "outputs": [],
   "source": [
    "norm_k_allowed1 = utils.norm_k(k_allowed)\n",
    "fig, axis = plt.subplots(figsize=(7,6))\n",
    "\n",
    "utils.plot_summary_2(norm_k_allowed1,m_si, c='b',marker='*', bins=30, axis=axis, label=r\"$\\overline{\\widehat{S}_{\\mathrm{SI}}(2\\pi \\mathbf{n}/L)}$\")\n",
    "utils.plot_summary_2(norm_k_allowed1,m_dtp_t0, c='k',marker='.', bins=30, axis=axis, label=r\"$\\overline{\\widehat{S}_{\\mathrm{DDTP}}(t_0, \\mathbf{k})}$\")\n",
    "utils.plot_summary_2(norm_k_allowed1,m_dtp_t1, c='m',marker='+', bins=30, axis=axis, label=r\"$\\overline{\\widehat{S}_{\\mathrm{DDTP}}(t_1, \\mathbf{k})}$\")\n",
    "utils.plot_summary_2(norm_k_allowed1,m_mdtp, c='grey',marker='o', bins=30, axis=axis, label=r\"$\\overline{\\widehat{S}_{\\mathrm{MDDTP}}((t_j)_{j=1}^4, \\mathbf{k})}$\")\n",
    "axis.loglog(norm_k_allowed1, utils.structure_factor_ginibre(norm_k_allowed1), 'g', label=r\"$S(\\mathbf{k})$\")\n",
    "axis.legend()\n",
    "axis.set_xlabel(r\"Wavenumber ($||\\mathbf{k}||$)\")\n",
    "axis.set_ylabel(r\"Structure factor ($S(\\mathbf{k})$)\")\n",
    "fig.savefig(\"comparaison_DSE_mean_ginibre.png\", bbox_inches=\"tight\")"
   ]
  },
  {
   "cell_type": "markdown",
   "metadata": {},
   "source": [
    "### 1.4.2- For isotropic estimators"
   ]
  },
  {
   "cell_type": "code",
   "execution_count": null,
   "metadata": {},
   "outputs": [],
   "source": [
    "from structure_factor.statistics import apply_estimator\n",
    "from multiprocessing import Pool\n",
    "from functools import partial\n",
    "from structure_factor.statistics import pcf_interpolate_list\n",
    "import time\n",
    "\n",
    "start_time = time.time()\n",
    "core_num=8\n",
    "\n",
    "n_allowed_k_norm=64\n",
    "k_norm_allowed = get_k_norm(ginibre_ball_pp_list[0], n_allowed_k_norm=n_allowed_k_norm)\n",
    "\n",
    "if __name__ == \"__main__\":\n",
    "    # Bartlett's isotropic estimator\n",
    "    #s_bi = ginibre_ball_statistics.sample_approximation(estimator=\"bartlett_isotropic_estimator\", n_allowed_k_norm=n_allowed_k_norm)\n",
    "    # list pcf\n",
    "    pcf_list = ginibre_ball_statistics.sample_pcf_approximation(method=\"fv\", Kest=dict(rmax=60, correction=\"Ripley\"), fv=dict(method=\"b\", spar=0.1))\n",
    "    \n",
    "print(\"--- %s seconds ---\" % (time.time() - start_time))\n",
    "\n"
   ]
  },
  {
   "cell_type": "code",
   "execution_count": null,
   "metadata": {},
   "outputs": [],
   "source": [
    "pcf.plot(pcf_list[0], exact_pcf=utils.pair_correlation_function_ginibre, figsize=(7,6),\n",
    "         color=['grey', 'b', 'darkcyan'], style=[\".\", \"*\", \"^\"],\n",
    "         file_name=\"pcf_ppp_ginibre.png\")"
   ]
  },
  {
   "cell_type": "code",
   "execution_count": null,
   "metadata": {},
   "outputs": [],
   "source": [
    "s = len(pcf_list)\n",
    "# interpolate pcf\n",
    "r_list = [pcf_list[i][\"r\"] for i in range(s)]\n",
    "pcf_fv_list = [pcf_list[i][\"pcf\"] for i in range(s)]\n",
    "pcf_fct_list = pcf_interpolate_list(r_list, pcf_fv_list, drop=True)\n",
    "# BaddourChouinard\n",
    "s_hbc_list = ginibre_ball_statistics.sample_integral_approximation(pcf_fct_list,method=\"BaddourChouinard\", \n",
    "                                                                   k_norm=k_norm_allowed, r_max=30,  nb_points=1000) \n",
    "# Ogata\n",
    "s_ho_list = ginibre_ball_statistics.sample_integral_approximation(pcf_fct_list,method=\"Ogata\", \n",
    "                                                                   k_norm=k_norm_allowed, step_size=0.01,  nb_points=500) "
   ]
  },
  {
   "cell_type": "code",
   "execution_count": null,
   "metadata": {},
   "outputs": [],
   "source": [
    "thomas_box_pp_list[2].window.bounds"
   ]
  },
  {
   "cell_type": "code",
   "execution_count": null,
   "metadata": {},
   "outputs": [],
   "source": [
    "#m_bi, var_bi, ivar_bi, bias_bi, ibias_bi, mse_bi, imse_bi = ginibre_ball_statistics.sample_statistics(k_norm=k_norm_allowed,\n",
    "#                                                                                approximation=s_bi,\n",
    "#                                                                                exact=utils.structure_factor_ginibre )\n",
    "m_hbc, var_hbc, ivar_hbc, bias_hbc, ibias_hbc, mse_hbc, imse_hbc = ginibre_ball_statistics.sample_statistics(k_norm=k_norm_allowed,\n",
    "                                                                                approximation=s_hbc_list,\n",
    "                                                                                exact=utils.structure_factor_ginibre )\n",
    "m_ho, var_ho, ivar_ho, bias_ho, ibias_ho, mse_ho, imse_ho = ginibre_ball_statistics.sample_statistics(k_norm=k_norm_allowed,\n",
    "                                                                                approximation=s_ho_list,\n",
    "                                                                                exact=utils.structure_factor_ginibre )\n",
    "#print(\"For s_bi: ivar=\", ivar_bi, \"ibias=\", ibias_bi, \"imse=\", imse_bi)\n",
    "\n",
    "print(\"For s_hbc: ivar=\", ivar_hbc, \"ibias=\", ibias_hbc, \"imse=\", imse_hbc)\n",
    "\n",
    "print(\"For s_ho: ivar=\", ivar_ho, \"ibias=\", ibias_ho, \"imse=\", imse_ho)"
   ]
  },
  {
   "cell_type": "code",
   "execution_count": null,
   "metadata": {},
   "outputs": [],
   "source": [
    "fig, axis = plt.subplots(figsize=(7,6))\n",
    "axis.loglog(k_norm_allowed, m_bi, 'm*', label=r\"$\\overline{\\widehat{S}_{\\mathrm{BI}}(k)}$\")\n",
    "axis.loglog(k_norm_allowed, m_bi, 'm')\n",
    "axis.loglog(k_norm_allowed, m_ho, 'b.', label=r\"$\\overline{\\widehat{S}_{\\mathrm{HO}}(k)}$\")\n",
    "#axis.loglog(k_norm_allowed, m_ho, 'b')\n",
    "axis.loglog(k_norm_allowed, m_hbc, 'k+', label=r\"$\\overline{\\widehat{S}_{\\mathrm{HBC}}(k)}$\")\n",
    "#axis.loglog(k_norm_allowed, m_hbc, 'k')\n",
    "axis.loglog(k_norm_allowed, utils.structure_factor_ginibre(k_norm_allowed), 'g', label= r\"$S(k)$\")\n",
    "axis.legend()\n",
    "axis.set_xlabel(r\"Wavenumber ($k$)\")\n",
    "axis.set_ylabel(r\"Structure factor ($S(k)$)\")\n",
    "plt.show()\n",
    "fig.savefig(\"comparaison_ISE_mean_ginibre.png\", bbox_inches=\"tight\")"
   ]
  },
  {
   "cell_type": "code",
   "execution_count": null,
   "metadata": {},
   "outputs": [],
   "source": []
  },
  {
   "cell_type": "markdown",
   "metadata": {},
   "source": [
    "# 2- Poisson point process"
   ]
  },
  {
   "cell_type": "markdown",
   "metadata": {},
   "source": [
    "In this section we repeat the previous experience on a point configuration from a standard homogeneous Poisson Point Process in a cubic window"
   ]
  },
  {
   "cell_type": "code",
   "execution_count": null,
   "metadata": {},
   "outputs": [],
   "source": [
    "from structure_factor.point_process import HomogeneousPoissonPointProcess\n",
    "poisson = HomogeneousPoissonPointProcess(intensity=1/np.pi)\n",
    "poisson_points_ball = poisson.generate_sample(window=window_ball, seed=2)\n",
    "poisson_pp_ball = PointPattern(points=poisson_points_ball, window=window_ball, intensity=1/np.pi)\n",
    "poisson_points_box = poisson.generate_sample(window=window_box, seed=1)\n",
    "poisson_pp_box = PointPattern(points=poisson_points_box, window=window_box, intensity=1/np.pi)\n",
    "poisson_pp_box.plot(file_name=\"poisson_pp_box.png\")\n",
    "poisson_pp_ball.plot(file_name=\"poisson_pp_ball.png\")"
   ]
  },
  {
   "cell_type": "markdown",
   "metadata": {},
   "source": [
    "## 2.1- Direct sprectral estimator"
   ]
  },
  {
   "cell_type": "code",
   "execution_count": null,
   "metadata": {},
   "outputs": [],
   "source": [
    "sf_poisson_box = StructureFactor(poisson_pp_box) # initializing the StructureFactor class\n"
   ]
  },
  {
   "cell_type": "markdown",
   "metadata": {},
   "source": [
    "### 2.1.2- Scattering intensity"
   ]
  },
  {
   "cell_type": "code",
   "execution_count": null,
   "metadata": {},
   "outputs": [],
   "source": [
    "\n",
    "# on allowed values \n",
    "allowed_k, si = sf_poisson_box.scattering_intensity(k_max=6)\n",
    "print(\"Scattering intensity\")\n",
    "k_norm = np.linalg.norm(allowed_k, axis=1)\n",
    "fig, axis = plt.subplots(figsize=(7,6))\n",
    "fig = sf_poisson_box.plot_tapered_periodogram(allowed_k, si, axes=axis, plot_type=\"radial\",exact_sf=utils.structure_factor_poisson,\n",
    "                                               label=r\"$\\widehat{S}_{\\mathrm{SI}}(\\frac{2\\pi\\mathbf{n}}{L})$\",\n",
    "                                            bins=40, error_bar=True, file_name=\"si_allowed_k_pois.png\")"
   ]
  },
  {
   "cell_type": "code",
   "execution_count": null,
   "metadata": {},
   "outputs": [],
   "source": [
    "x = np.linspace(-6, 6, 300)\n",
    "x = x[x != 0]\n",
    "X, Y = np.meshgrid(x, x)\n",
    "k = np.column_stack((X.ravel(), Y.ravel()))\n",
    "# on k \n",
    "k, si1 = sf_poisson_box.scattering_intensity(k=k, debiased=False)\n",
    "# on k debiased directly\n",
    "k, si2 = sf_poisson_box.scattering_intensity(k=k, debiased=True)\n",
    "# on k debiased undirectly\n",
    "k, si3 = sf_poisson_box.scattering_intensity(k=k, debiased=True, direct=False)"
   ]
  },
  {
   "cell_type": "code",
   "execution_count": null,
   "metadata": {},
   "outputs": [],
   "source": [
    "fig, axis = plt.subplots(figsize=(7,6))\n",
    "fig = sf_poisson_box.plot_tapered_periodogram(k, si1, axes=axis, positive=False, plot_type=\"radial\",exact_sf=utils.structure_factor_poisson,\n",
    "                                               label=r\"$\\widehat{S}_{\\mathrm{TP}}(\\mathbf{k})$\",\n",
    "                                            bins=65, error_bar=True, file_name=\"si_k_pois.png\")"
   ]
  },
  {
   "cell_type": "markdown",
   "metadata": {},
   "source": [
    "### 2.1.2- Tapered periodogram with SineTaper"
   ]
  },
  {
   "cell_type": "code",
   "execution_count": null,
   "metadata": {},
   "outputs": [],
   "source": [
    "from structure_factor.tapers import SineTaper\n",
    "## tapered periodogram\n",
    "x = np.linspace(-6, 6, 300)\n",
    "x = x[x != 0]\n",
    "X, Y = np.meshgrid(x, x)\n",
    "k = np.column_stack((X.ravel(), Y.ravel()))\n",
    "p = [1, 1]\n",
    "taper = SineTaper(p)\n",
    "k, s_tp = sf_poisson_box.tapered_periodogram(k, taper, debiased=False)\n",
    "k, s_dtp = sf_poisson_box.tapered_periodogram(k, taper)\n",
    "k, s_udtp = sf_poisson_box.tapered_periodogram(k, taper, debiased=True, direct=False)"
   ]
  },
  {
   "cell_type": "code",
   "execution_count": null,
   "metadata": {},
   "outputs": [],
   "source": [
    "fig, axis = plt.subplots(figsize=(7,6))\n",
    "fig = sf_poisson_box.plot_tapered_periodogram(k, s_udtp, axes=axis, positive=False, plot_type=\"radial\",\n",
    "                                            bins=60, error_bar=True, label=r\"$\\widehat{S}_{\\mathrm{UDTP}}(\\mathbf{k})$\",\n",
    "                                           file_name=\"s_udtp_sine_taper_poisson.png\"\n",
    "                                          )"
   ]
  },
  {
   "cell_type": "markdown",
   "metadata": {},
   "source": [
    "### 2.1.3- Multitapering"
   ]
  },
  {
   "cell_type": "code",
   "execution_count": null,
   "metadata": {},
   "outputs": [],
   "source": [
    "from structure_factor.tapers import SineTaper\n",
    "## multitapered tapered periodogram\n",
    "x = np.linspace(-6, 6, 300)\n",
    "x = x[x != 0]\n",
    "X, Y = np.meshgrid(x, x)\n",
    "k = np.column_stack((X.ravel(), Y.ravel()))\n",
    "k, s_mtp = sf_poisson_box.multitapered_periodogram(k, debiased=False)\n",
    "k, s_mdtp = sf_poisson_box.multitapered_periodogram(k, P=2)\n",
    "k, s_mudtp = sf_poisson_box.multitapered_periodogram(k, debiased=True, direct=False, P=2)"
   ]
  },
  {
   "cell_type": "code",
   "execution_count": null,
   "metadata": {},
   "outputs": [],
   "source": [
    "fig, axis = plt.subplots(figsize=(7,6))\n",
    "fig = sf_poisson_box.plot_tapered_periodogram(k, s_mtp, axes=axis, positive=False, plot_type=\"radial\",\n",
    "                                            bins=60, error_bar=True, label=r\"$\\widehat{S}_{\\mathrm{MTP}}(\\mathbf{k})$\",\n",
    "                                           file_name=\"s_tp_sine_taper_poisson.png\"\n",
    "                                          )"
   ]
  },
  {
   "cell_type": "markdown",
   "metadata": {},
   "source": [
    "## 2.2- Isotropic estimators"
   ]
  },
  {
   "cell_type": "code",
   "execution_count": null,
   "metadata": {},
   "outputs": [],
   "source": [
    "from structure_factor.spatial_windows import BallWindow\n",
    "from structure_factor.point_pattern import PointPattern\n",
    "from structure_factor.homogeneous_poisson_process import HomogeneousPoissonPointProcess\n"
   ]
  },
  {
   "cell_type": "code",
   "execution_count": null,
   "metadata": {},
   "outputs": [],
   "source": [
    "sf_poisson_ball = StructureFactor(poisson_pp_ball)"
   ]
  },
  {
   "cell_type": "markdown",
   "metadata": {},
   "source": [
    "### 2.2.1- Bartlett isotropic estimators"
   ]
  },
  {
   "cell_type": "code",
   "execution_count": null,
   "metadata": {},
   "outputs": [],
   "source": [
    "k_norm, s_bi = sf_poisson_ball.bartlett_isotropic_estimator()\n",
    "fig, axis = plt.subplots(figsize=(7,6))\n",
    "sf_poisson_ball.plot_isotropic_estimator(k_norm, s_bi, axis=axis,\n",
    "                                         label=r\"$\\widehat{S}_{\\mathrm{BI}}(k)$\", file_name=\"s_bi_poisson.png\")"
   ]
  },
  {
   "cell_type": "code",
   "execution_count": null,
   "metadata": {},
   "outputs": [],
   "source": [
    "sf_poisson_ball.plot_isotropic_estimator(k_norm, s_bi, axis=axis,\n",
    "                                         label=r\"$\\widehat{S}_{\\mathrm{BI}}(k)$\", file_name=\"s_bi_poisson.png\")"
   ]
  },
  {
   "cell_type": "code",
   "execution_count": null,
   "metadata": {},
   "outputs": [],
   "source": [
    "k_non_allowed = np.linspace(min(k_norm)+0.002, max(k_norm) + 0.002, 100)\n",
    "k_norm_non_allowed, s_bi_non_allowed = sf_poisson_ball.bartlett_isotropic_estimator(k_non_allowed)\n",
    "fig, axis = plt.subplots(figsize=(7,6))\n",
    "sf_poisson_ball.plot_isotropic_estimator(k_norm_non_allowed, s_bi_non_allowed, axis=axis,\n",
    "                                         label=r\"$\\widehat{S}_{\\mathrm{BI}}(k)$\", file_name=\"s_bi_poisson_non_allowed.png\")"
   ]
  },
  {
   "cell_type": "code",
   "execution_count": null,
   "metadata": {},
   "outputs": [],
   "source": [
    "sf_poisson_ball.plot_isotropic_estimator(k_norm_non_allowed, s_bi_non_allowed, axis=axis,\n",
    "                                         label=r\"$\\widehat{S}_{\\mathrm{BI}}(k)$\", file_name=\"s_bi_poisson_non_allowed.png\")\n",
    "plt.show()"
   ]
  },
  {
   "cell_type": "markdown",
   "metadata": {},
   "source": [
    "### 2.2.2- Pair correlation function"
   ]
  },
  {
   "cell_type": "code",
   "execution_count": null,
   "metadata": {},
   "outputs": [],
   "source": [
    "from structure_factor.pair_correlation_function import PairCorrelationFunction as pcf"
   ]
  },
  {
   "cell_type": "markdown",
   "metadata": {},
   "source": [
    "pcf.ppp"
   ]
  },
  {
   "cell_type": "code",
   "execution_count": null,
   "metadata": {},
   "outputs": [],
   "source": [
    "r= np.linspace(0, 10, 200)\n",
    "poisson_pcf_ppp = pcf.estimate(poisson_pp_ball, method=\"ppp\", r=r, correction=\"all\")\n",
    "pcf.plot(poisson_pcf_ppp, figsize=(7,6),\n",
    "         color=['grey', 'b', 'darkcyan'], style=[\".\", \"*\", \"^\"],\n",
    "         file_name=\"pcf_ppp_poisson.png\")"
   ]
  },
  {
   "cell_type": "markdown",
   "metadata": {},
   "source": [
    "pcf.fv"
   ]
  },
  {
   "cell_type": "code",
   "execution_count": null,
   "metadata": {},
   "outputs": [],
   "source": [
    "poisson_pcf_fv = pcf.estimate(poisson_pp_ball, method=\"fv\", Kest=dict(rmax=100), fv=dict(method=\"b\", spar=0.1))\n",
    "pcf.plot(poisson_pcf_fv, figsize=(7,6),\n",
    "         color=['grey'], style=[\".\"],\n",
    "         file_name=\"pcf_fv_poisson.png\")"
   ]
  },
  {
   "cell_type": "markdown",
   "metadata": {},
   "source": [
    "Interpolation"
   ]
  },
  {
   "cell_type": "code",
   "execution_count": null,
   "metadata": {},
   "outputs": [],
   "source": [
    "domain, poisson_pcf_fct = pcf.interpolate(r=poisson_pcf_fv[\"r\"][1:], pcf_r=poisson_pcf_fv[\"pcf\"][1:])\n",
    "\n",
    "r_max = domain[\"r_max\"] # upper bound of the raduis on which the pcf has been approximated"
   ]
  },
  {
   "cell_type": "markdown",
   "metadata": {},
   "source": [
    "Ogata"
   ]
  },
  {
   "cell_type": "code",
   "execution_count": null,
   "metadata": {},
   "outputs": [],
   "source": [
    "\n",
    "k_norm = np.linspace(0.4,10, 1000) # vector of wave length\n",
    "k_norm, sf_Ogata = sf_poisson_ball.hankel_quadrature(poisson_pcf_fct, method=\"Ogata\", k_norm=k_norm, step_size=0.1,\n",
    "                                                    nb_points=1000)\n",
    "\n",
    "fig, axis = plt.subplots(figsize=(7,6))\n",
    "fig = sf_poisson_ball.plot_isotropic_estimator(k_norm, sf_Ogata, axis=axis,\n",
    "                                               error_bar=True, bins=60,\n",
    "                                                file_name=\"poisson_s_ho.png\"\n",
    "                                               )"
   ]
  },
  {
   "cell_type": "markdown",
   "metadata": {},
   "source": [
    "Baddour-Chouinard"
   ]
  },
  {
   "cell_type": "code",
   "execution_count": null,
   "metadata": {},
   "outputs": [],
   "source": [
    "k = np.linspace(0.2, 10, 200)\n",
    "k_norm, s_hbc = sf_poisson_ball.hankel_quadrature(poisson_pcf_fct,\n",
    "                                                  k_norm=k,\n",
    "                                                   r_max=r_max, \n",
    "                                                   nb_points=1000\n",
    "                                                   )\n",
    "fig, axis= plt.subplots(figsize=(7,6))\n",
    "sf_poisson_ball.plot_isotropic_estimator(k_norm, s_hbc, error_bar=True, bins=20, axis=axis, label=r\"$\\widehat{S}_{\\mathrm{HBC}}$\", file_name=\"poisson_s_hbc.png\"\n",
    "                                           )"
   ]
  },
  {
   "cell_type": "code",
   "execution_count": null,
   "metadata": {
    "scrolled": true
   },
   "outputs": [],
   "source": [
    "# try to amelioreate ogata\n",
    "from structure_factor.point_process import HomogeneousPoissonPointProcess\n",
    "from structure_factor.point_pattern import PointPattern\n",
    "# Poisson points list\n",
    "poisson_intensity=1/np.pi\n",
    "poisson = HomogeneousPoissonPointProcess(intensity=poisson_intensity)\n",
    "\n",
    "# BallWindow\n",
    "window_ball = BallWindow(center=[0, 0], radius=300)\n",
    "poisson_ball_big = poisson.generate_sample(window=window_ball)\n",
    "\n",
    "\n",
    "# PointPattern\n",
    "poisson_pp_big = PointPattern(poisson_ball_big, window_ball, poisson_intensity)\n",
    "poisson_pp_big.plot()"
   ]
  },
  {
   "cell_type": "code",
   "execution_count": null,
   "metadata": {},
   "outputs": [],
   "source": [
    "from structure_factor.structure_factor import StructureFactor\n",
    "sf_poisson_big = StructureFactor(poisson_pp_big)"
   ]
  },
  {
   "cell_type": "code",
   "execution_count": null,
   "metadata": {},
   "outputs": [],
   "source": [
    "from structure_factor.pair_correlation_function import PairCorrelationFunction as pcf\n",
    "\n",
    "poisson_pcf_fv = pcf.estimate(poisson_pp_big, method=\"fv\", Kest=dict(rmax=200), fv=dict(method=\"b\", spar=0.3))\n",
    "pcf.plot(poisson_pcf_fv, figsize=(7,6),\n",
    "         color=['grey'], style=[\".\"],\n",
    "         file_name=\"pcf_fv_poisson.png\")\n",
    "\n",
    "r=poisson_pcf_fv[\"r\"]\n",
    "pcf_r = poisson_pcf_fv[\"pcf\"]\n",
    "poisson_pcf_fct = pcf.interpolate(r=r, pcf_r=pcf_r, clean=True, drop=True)\n",
    "r_max = np.max(r)"
   ]
  },
  {
   "cell_type": "code",
   "execution_count": null,
   "metadata": {},
   "outputs": [],
   "source": [
    "from structure_factor.statistics import apply_estimator\n",
    "from multiprocessing import Pool\n",
    "from functools import partial\n",
    "from structure_factor.statistics import pcf_interpolate_list\n",
    "\n",
    "\n",
    "core_num=8\n",
    "\n",
    "n_allowed_k_norm=64\n",
    "k_norm_allowed = get_k_norm(poisson_pp_big, n_allowed_k_norm=n_allowed_k_norm)"
   ]
  },
  {
   "cell_type": "code",
   "execution_count": null,
   "metadata": {},
   "outputs": [],
   "source": [
    "k_norm_allowed"
   ]
  },
  {
   "cell_type": "code",
   "execution_count": null,
   "metadata": {},
   "outputs": [],
   "source": [
    "\n",
    "k_norm = np.linspace(0.01,10, 1000) # vector of wave length\n",
    "k_norm, sf_Ogata = sf_poisson_big.hankel_quadrature(poisson_pcf_fct, method=\"Ogata\", k_norm=k_norm, step_size=0.1,\n",
    "                                                    nb_points=1000)\n",
    "\n",
    "fig, axis = plt.subplots(figsize=(7,6))\n",
    "fig = sf_poisson_big.plot_isotropic_estimator(k_norm, sf_Ogata, axis=axis,\n",
    "                                               error_bar=True, bins=60,\n",
    "                                                file_name=\"poisson_s_ho.png\"\n",
    "                                               )"
   ]
  },
  {
   "cell_type": "code",
   "execution_count": null,
   "metadata": {},
   "outputs": [],
   "source": []
  },
  {
   "cell_type": "code",
   "execution_count": null,
   "metadata": {},
   "outputs": [],
   "source": []
  },
  {
   "cell_type": "markdown",
   "metadata": {},
   "source": [
    "## 2.3- Hyperuniformity"
   ]
  },
  {
   "cell_type": "code",
   "execution_count": null,
   "metadata": {},
   "outputs": [],
   "source": [
    "from structure_factor.hyperuniformity import Hyperuniformity\n",
    "hyperuniformity_test = Hyperuniformity(k_norm, s_bi)\n",
    "bin_center, bin_mean, bin_std = hyperuniformity_test.bin_data(bins=40)"
   ]
  },
  {
   "cell_type": "markdown",
   "metadata": {},
   "source": [
    "### 2.3.1- Effective hyperuniformity"
   ]
  },
  {
   "cell_type": "code",
   "execution_count": null,
   "metadata": {},
   "outputs": [],
   "source": [
    "H_ginibre, std = hyperuniformity_test.effective_hyperuniformity(k_norm_stop=2)\n",
    "print(\"H_ginibre=\", H_ginibre)"
   ]
  },
  {
   "cell_type": "code",
   "execution_count": null,
   "metadata": {},
   "outputs": [],
   "source": [
    "#k_norm = hyperuniformity_test.k_norm\n",
    "#sf = hyperuniformity_test.sf\n",
    "sf = s_bi\n",
    "fitted_sf_line = hyperuniformity_test.fitted_line # fitted line to sf\n",
    "index_peak = hyperuniformity_test.i_first_peak # index of first peak of sf\n",
    "x = np.linspace(0, 5, 300)\n",
    "y = np.linspace(0,np.max(k_norm), 500)\n",
    "fig=plt.figure(figsize=(10,6))\n",
    "plt.plot(k_norm, sf, 'b.', label=\"approx_sf\")\n",
    "plt.plot(k_norm, sf, 'b', label=\"approx_sf\")\n",
    "plt.plot(x, fitted_sf_line(x), 'r--', label= \"fitted line\")\n",
    "plt.plot(y, utils.structure_factor_ginibre(y), 'g', label=\"exact sf\")\n",
    "#plt.plot(mean_k_norm[index_peak], mean_sf[index_peak], 'k*', label=\"first peak\")\n",
    "plt.legend()\n",
    "plt.xlabel('wavelength ($||\\mathbf{k}||$)')\n",
    "plt.ylabel('Structure factor ($\\mathsf{S}(\\mathbf{k})$)')\n",
    "plt.show()\n",
    "#fig.savefig(\"fitted_si_ginibre.pdf\", bbox_inches=\"tight\")"
   ]
  },
  {
   "cell_type": "markdown",
   "metadata": {},
   "source": [
    "### 2.3.2- Hyperuniformity class"
   ]
  },
  {
   "cell_type": "code",
   "execution_count": null,
   "metadata": {},
   "outputs": [],
   "source": [
    "sf_power_decay, c = hyperuniformity_test.hyperuniformity_class(k_norm_stop=0.5)\n",
    "print(sf_power_decay)\n"
   ]
  },
  {
   "cell_type": "code",
   "execution_count": null,
   "metadata": {},
   "outputs": [],
   "source": [
    "\n",
    "#k_norm = hyperuniformity_test.k_norm\n",
    "#sf = hyperuniformity_test.sf\n",
    "sf = s_bi\n",
    "fitted_poly = hyperuniformity_test.fitted_poly\n",
    "x = np.linspace(0, 2, 300)\n",
    "y = np.linspace(0,np.max(k_norm), 500)\n",
    "fig=plt.figure(figsize=(10,6))\n",
    "plt.plot(k_norm, sf, 'b.', label=\"approx_sf\")\n",
    "plt.plot(k_norm, sf, 'b.', label=\"approx_sf\")\n",
    "\n",
    "plt.plot(k_norm, sf, 'b', label=\"approx_sf\")\n",
    "plt.plot(y, utils.structure_factor_ginibre(y), 'g', label=\"exact sf\")\n",
    "plt.plot(x, fitted_poly(x), 'r--', label= \"fitted line\")\n",
    "plt.legend()\n",
    "plt.xlabel('wavelength ($||\\mathbf{k}||$)')\n",
    "plt.ylabel('Structure factor ($\\mathsf{S}(\\mathbf{k})$)')\n",
    "plt.show()\n",
    "#fig.savefig(\"fitted_si_ginibre.pdf\", bbox_inches=\"tight\")"
   ]
  },
  {
   "cell_type": "markdown",
   "metadata": {},
   "source": [
    "## 2.4- Statistics"
   ]
  },
  {
   "cell_type": "code",
   "execution_count": null,
   "metadata": {},
   "outputs": [],
   "source": []
  },
  {
   "cell_type": "code",
   "execution_count": null,
   "metadata": {},
   "outputs": [],
   "source": [
    "from structure_factor.point_process import HomogeneousPoissonPointProcess\n",
    "from structure_factor.point_pattern import pointpattern_list\n",
    "from structure_factor.spatial_windows import BallWindow, BoxWindow\n"
   ]
  },
  {
   "cell_type": "code",
   "execution_count": null,
   "metadata": {},
   "outputs": [],
   "source": [
    "# Poisson points list\n",
    "poisson_intensity=1/np.pi\n",
    "poisson = HomogeneousPoissonPointProcess(intensity=poisson_intensity)\n",
    "\n",
    "s=50\n",
    "\n",
    "## boxwindow\n",
    "#L = window_ball.radius/np.sqrt(2)\n",
    "L=70\n",
    "window_box = BoxWindow(bounds=[[-L/2, L/2], [-L/2, L/2]])\n",
    "poisson_box_points_list = poisson.generate_list_of_samples(s=s, window=window_box)\n",
    "# BallWindow\n",
    "window_ball = BallWindow(center=[0, 0], radius=300)\n",
    "poisson_ball_points_list = poisson.generate_list_of_samples(s=s, window=window_ball)\n",
    "\n",
    "# PointPattern\n",
    "## BallWindow \n",
    "poisson_ball_pp_list = pointpattern_list(\n",
    "    poisson_ball_points_list, window=window_ball, intensity=poisson_intensity\n",
    ")\n",
    "\n",
    "poisson_ball_pp_list[0].plot()\n",
    "\n",
    "# BoxWindow\n",
    "poisson_box_pp_list = pointpattern_list(\n",
    "    poisson_box_points_list, window=window_box, intensity=poisson_intensity\n",
    ")\n",
    "\n",
    "poisson_box_pp_list[2].plot()\n"
   ]
  },
  {
   "cell_type": "code",
   "execution_count": null,
   "metadata": {},
   "outputs": [],
   "source": [
    "# statistics\n",
    "from structure_factor.statistics import SummaryStatistics, get_k, get_k_norm\n",
    "\n",
    "poisson_ball_statistics = SummaryStatistics(poisson_ball_pp_list)\n",
    "poisson_box_statistics = SummaryStatistics(poisson_box_pp_list)"
   ]
  },
  {
   "cell_type": "markdown",
   "metadata": {},
   "source": [
    "### 2.4.2- For DSE"
   ]
  },
  {
   "cell_type": "code",
   "execution_count": null,
   "metadata": {},
   "outputs": [],
   "source": [
    "from structure_factor.statistics import apply_estimator\n",
    "from multiprocessing import Pool\n",
    "from functools import partial\n",
    "from structure_factor.tapers import SineTaper\n",
    "import time\n",
    "\n",
    "start_time = time.time()\n",
    "core_num=8\n",
    "\n",
    "k_allowed = get_k(poisson_box_pp_list[0], k_max=2)\n",
    "x = np.linspace(-2, 2, 44)\n",
    "x = x[x != 0]\n",
    "X, Y = np.meshgrid(x, x)\n",
    "k = np.column_stack((X.ravel(), Y.ravel()))\n",
    "p = [1, 1]\n",
    "taper = SineTaper(p)\n",
    "\n",
    "if __name__ == \"__main__\":\n",
    "    # scattering intensity\n",
    "    s_si_allowed_k = poisson_box_statistics.sample_approximation(estimator=\"scattering_intensity\", k_max=2)\n",
    "    # scattering intensity debiased\n",
    "    s_dtp_t0 = poisson_box_statistics.sample_approximation(estimator=\"scattering_intensity\", k=k, debiased=True, direct=True)\n",
    "    # debiased tapered periodogram (sinusoidal taper)\n",
    "    s_dtp_t1 = poisson_box_statistics.sample_approximation(estimator=\"tapered_periodogram\", k=k,taper=taper, debiased=True, direct=True)\n",
    "    # multitapered periodogram (sinusoidal taper)\n",
    "    s_mdtp = poisson_box_statistics.sample_approximation(estimator=\"multitapered_periodogram\", k=k, debiased=True, direct=True)\n",
    "    \n",
    "print(\"--- %s seconds ---\" % (time.time() - start_time))\n"
   ]
  },
  {
   "cell_type": "code",
   "execution_count": null,
   "metadata": {},
   "outputs": [],
   "source": [
    "m_si, var_si, ivar_si, bias_si, ibias_si, mse_si, imse_si = poisson_box_statistics.sample_statistics(k=k,\n",
    "                                                                                approximation=s_si_allowed_k,\n",
    "                                                                                exact=utils.structure_factor_poisson )\n",
    "m_dtp_t0, var_dtp_t0, ivar_dtp_t0, bias_dtp_t0, ibias_dtp_t0, mse_dtp_t0, imse_dtp_t0 = poisson_box_statistics.sample_statistics(\n",
    "                                                                                k=k,\n",
    "                                                                                approximation=s_dtp_t0,\n",
    "                                                                                exact=utils.structure_factor_poisson )\n",
    "m_dtp_t1, var_dtp_t1, ivar_dtp_t1, bias_dtp_t1, ibias_dtp_t1, mse_dtp_t1, imse_dtp_t1 = poisson_box_statistics.sample_statistics(k=k,\n",
    "                                                                                approximation=s_dtp_t1,\n",
    "                                                                                exact=utils.structure_factor_poisson )\n",
    "m_mdtp, var_mdtp, ivar_mdtp, bias_mdtp, ibias_mdtp, mse_mdtp, imse_mdtp = poisson_box_statistics.sample_statistics(k=k,\n",
    "                                                                                approximation=s_mdtp,\n",
    "                                                                                exact=utils.structure_factor_poisson )\n",
    "print(\"For s_si: ivar\", ivar_si, \"ibias\", ibias_si, \"imse\", imse_si)\n",
    "print(\"For s_dtp_t0: ivar\", ivar_dtp_t0, \"ibias\", ibias_dtp_t0, \"imse\", imse_dtp_t0)\n",
    "print(\"For s_dtp_t1: ivar\", ivar_dtp_t1, \"ibias\", ibias_dtp_t1, \"imse\", imse_dtp_t1)\n",
    "print(\"For s_mdtp: ivar\", ivar_mdtp, \"ibias\", ibias_mdtp, \"imse\", imse_mdtp)"
   ]
  },
  {
   "cell_type": "code",
   "execution_count": null,
   "metadata": {},
   "outputs": [],
   "source": [
    "# make plots look nice\n",
    "plt.ticklabel_format(style='sci', axis='x', scilimits=(0,0))\n",
    "mpl.rcParams['xtick.labelsize'] = 18\n",
    "mpl.rcParams['ytick.labelsize'] = 18\n",
    "plt.rc('axes', labelsize=22)\n",
    "plt.rc('legend', fontsize=16)\n",
    "mpl.rcParams['ps.useafm'] = True\n",
    "mpl.rcParams['pdf.use14corefonts'] = True\n",
    "mpl.rcParams['text.usetex'] = True"
   ]
  },
  {
   "cell_type": "code",
   "execution_count": null,
   "metadata": {},
   "outputs": [],
   "source": [
    "norm_k_allowed1 = utils.norm_k(k_allowed)\n",
    "fig, axis = plt.subplots(figsize=(7,6))\n",
    "utils.plot_summary_2(norm_k_allowed1,m_si, c='b',marker='*', bins=30, axis=axis, label=r\"$\\overline{\\widehat{S}_{\\mathrm{SI}}(2\\pi \\mathbf{n}/L)}$\")\n",
    "utils.plot_summary_2(norm_k_allowed1,m_dtp_t0, c='k',marker='.', bins=30, axis=axis, label=r\"$\\overline{\\widehat{S}_{\\mathrm{DDTP}}(t_0, \\mathbf{k})}$\")\n",
    "utils.plot_summary_2(norm_k_allowed1,m_dtp_t1, c='m',marker='+', bins=30, axis=axis, label=r\"$\\overline{\\widehat{S}_{\\mathrm{DDTP}}(t_1, \\mathbf{k})}$\")\n",
    "utils.plot_summary_2(norm_k_allowed1,m_mdtp, c='grey',marker='o', bins=30, axis=axis, label=r\"$\\overline{\\widehat{S}_{\\mathrm{MDDTP}}((t_j)_{j=1}^4, \\mathbf{k})}$\")\n",
    "axis.loglog(norm_k_allowed1, utils.structure_factor_poisson(norm_k_allowed1), 'g', label=r\"$S(\\mathbf{k})$\")\n",
    "axis.legend(loc=4)\n",
    "axis.set_xlabel(r\"Wavenumber ($k$)\")\n",
    "axis.set_ylabel(r\"Structure factor ($S(k)$)\")\n",
    "fig.savefig(\"comparaison_DSE_mean_poisson.png\", bbox_inches=\"tight\")"
   ]
  },
  {
   "cell_type": "markdown",
   "metadata": {},
   "source": [
    "### 2.4.2- For ISE"
   ]
  },
  {
   "cell_type": "code",
   "execution_count": null,
   "metadata": {},
   "outputs": [],
   "source": [
    "from structure_factor.statistics import apply_estimator\n",
    "from multiprocessing import Pool\n",
    "from functools import partial\n",
    "from structure_factor.statistics import pcf_interpolate_list\n",
    "\n",
    "start_time = time.time()\n",
    "core_num=8\n",
    "\n",
    "n_allowed_k_norm=64\n",
    "k_norm_allowed = get_k_norm(poisson_ball_pp_list[0], n_allowed_k_norm=n_allowed_k_norm)\n",
    "\n",
    "if __name__ == \"__main__\":\n",
    "    # Bartlett's isotropic estimator\n",
    "    s_bi = poisson_ball_statistics.sample_approximation(estimator=\"bartlett_isotropic_estimator\", n_allowed_k_norm=n_allowed_k_norm)\n",
    "    # list pcf\n",
    "    pcf_list = poisson_ball_statistics.sample_pcf_approximation(method=\"fv\", Kest=dict(rmax=35), fv=dict(method=\"b\", spar=0.1))\n",
    "    \n",
    "print(\"--- %s seconds ---\" % (time.time() - start_time))"
   ]
  },
  {
   "cell_type": "code",
   "execution_count": null,
   "metadata": {},
   "outputs": [],
   "source": [
    "s = len(pcf_list)\n",
    "# interpolate pcf\n",
    "r_list = [pcf_list[i][\"r\"] for i in range(s)]\n",
    "pcf_fv_list = [pcf_list[i][\"pcf\"] for i in range(s)]\n",
    "pcf_fct_list = pcf_interpolate_list(r_list, pcf_fv_list, drop=True)\n",
    "# BaddourChouinard\n",
    "s_hbc_list = poisson_ball_statistics.sample_integral_approximation(pcf_fct_list,method=\"BaddourChouinard\", \n",
    "                                                                   k_norm=k_norm_allowed, r_max=30,  nb_points=1000) \n",
    "# Ogata\n",
    "s_ho_list = poisson_ball_statistics.sample_integral_approximation(pcf_fct_list,method=\"Ogata\", \n",
    "                                                                   k_norm=k_norm_allowed, step_size=0.01,  nb_points=500) \n",
    "\n",
    "\n",
    "\n",
    "\n",
    "m_bi, var_bi, ivar_bi, bias_bi, ibias_bi, mse_bi, imse_bi = poisson_ball_statistics.sample_statistics(k_norm=k_norm_allowed,\n",
    "                                                                                approximation=s_bi,\n",
    "                                                                                exact=utils.structure_factor_poisson)\n",
    "m_hbc, var_hbc, ivar_hbc, bias_hbc, ibias_hbc, mse_hbc, imse_hbc =poisson_ball_statistics.sample_statistics(k_norm=k_norm_allowed,\n",
    "                                                                                approximation=s_hbc_list,\n",
    "                                                                                exact=utils.structure_factor_poisson )\n",
    "m_ho, var_ho, ivar_ho, bias_ho, ibias_ho, mse_ho, imse_ho = poisson_ball_statistics.sample_statistics(k_norm=k_norm_allowed,\n",
    "                                                                                approximation=s_ho_list,\n",
    "                                                                                exact=utils.structure_factor_poisson )\n",
    "print(\"For s_bi: ivar=\", ivar_bi, \"ibias=\", ibias_bi, \"imse=\", imse_bi)\n",
    "\n",
    "print(\"For s_hbc: ivar=\", ivar_hbc, \"ibias=\", ibias_hbc, \"imse=\", imse_hbc)\n",
    "\n",
    "print(\"For s_ho: ivar=\", ivar_ho, \"ibias=\", ibias_ho, \"imse=\", imse_ho)"
   ]
  },
  {
   "cell_type": "code",
   "execution_count": null,
   "metadata": {},
   "outputs": [],
   "source": [
    "ivar_ho + ibias_ho"
   ]
  },
  {
   "cell_type": "code",
   "execution_count": null,
   "metadata": {},
   "outputs": [],
   "source": [
    "fig, axis = plt.subplots(figsize=(7,6))\n",
    "axis.loglog(k_norm_allowed, m_bi, 'm*', label=r\"$\\overline{\\widehat{S}_{\\mathrm{BI}}(k)}$\")\n",
    "axis.loglog(k_norm_allowed, m_bi, 'm')\n",
    "axis.loglog(k_norm_allowed, m_ho, 'b.', label=r\"$\\overline{\\widehat{S}_{\\mathrm{HO}}(k)}$\")\n",
    "#axis.loglog(k_norm_allowed, m_ho, 'b')\n",
    "axis.loglog(k_norm_allowed, m_hbc, 'k+', label=r\"$\\overline{\\widehat{S}_{\\mathrm{HBC}}(k)}$\")\n",
    "#axis.loglog(k_norm_allowed, m_hbc, 'k')\n",
    "axis.loglog(k_norm_allowed, utils.structure_factor_poisson(k_norm_allowed), 'g', label= r\"$S(k)$\")\n",
    "axis.legend()\n",
    "axis.set_xlabel(r\"Wavenumber ($k$)\")\n",
    "axis.set_ylabel(r\"Structure factor ($S(k)$)\")\n",
    "plt.show()\n",
    "fig.savefig(\"comparaison_ISE_mean_poisson.png\", bbox_inches=\"tight\")"
   ]
  },
  {
   "cell_type": "markdown",
   "metadata": {},
   "source": [
    "# 3- KLY process"
   ]
  },
  {
   "cell_type": "code",
   "execution_count": null,
   "metadata": {},
   "outputs": [],
   "source": [
    "kly_pp = load_data.load_kly()\n",
    "L1 = kly_pp.window.bounds[1][1]\n",
    "kly_pp.points = kly_pp.points - L1/2\n",
    "kly_pp.window = BoxWindow([[-L1/2, L1/2], [-L1/2, L1/2]])\n",
    "kly_pp.plot()"
   ]
  },
  {
   "cell_type": "markdown",
   "metadata": {},
   "source": [
    "## 3.1- Direct spectral estimator"
   ]
  },
  {
   "cell_type": "code",
   "execution_count": null,
   "metadata": {},
   "outputs": [],
   "source": [
    "kly_pp_res = kly_pp.restrict_to_window(window)\n",
    "kly_pp_res.plot()\n",
    "sf_kly_res = StructureFactor(kly_pp_res)"
   ]
  },
  {
   "cell_type": "markdown",
   "metadata": {},
   "source": [
    "### 3.1.1- Scattering intensity"
   ]
  },
  {
   "cell_type": "code",
   "execution_count": null,
   "metadata": {},
   "outputs": [],
   "source": [
    "\n",
    "# on allowed values \n",
    "allowed_k, si = sf_kly_res.scattering_intensity(k_max=15)\n",
    "print(\"Scattering intensity\")\n",
    "\n"
   ]
  },
  {
   "cell_type": "code",
   "execution_count": null,
   "metadata": {},
   "outputs": [],
   "source": [
    "fig, axis = plt.subplots(figsize=(7,6))\n",
    "fig = sf_kly_res.plot_tapered_periodogram(allowed_k, si, axes=axis, plot_type=\"radial\",\n",
    "                                           label=r\"$\\widehat{S}_{\\mathrm{SI}}(\\frac{2\\pi\\mathbf{n}}{L})$\",\n",
    "                                            bins=80, error_bar=True, \n",
    "                                           #file_name=\"si_allowed_k_kly.png\"\n",
    "                                          )"
   ]
  },
  {
   "cell_type": "code",
   "execution_count": null,
   "metadata": {},
   "outputs": [],
   "source": [
    "x = np.linspace(-15, 15, 340)\n",
    "x = x[x != 0]\n",
    "X, Y = np.meshgrid(x, x)\n",
    "k = np.column_stack((X.ravel(), Y.ravel()))\n",
    "# on k \n",
    "#k, si1 = sf_kly_res.scattering_intensity(k=k, debiased=False)\n",
    "# on k debiased directly\n",
    "k, si2 = sf_kly_res.scattering_intensity(k=k, debiased=True)\n",
    "# on k debiased undirectly\n",
    "#k, si3 = sf_kly_res.scattering_intensity(k=k, debiased=True, direct=False)"
   ]
  },
  {
   "cell_type": "code",
   "execution_count": null,
   "metadata": {},
   "outputs": [],
   "source": [
    "fig, axis = plt.subplots(figsize=(7,6))\n",
    "fig = sf_kly_res.plot_tapered_periodogram(k, si2, axes=axis, positive=False, plot_type=\"radial\",\n",
    "                                           label=r\"$\\widehat{S}_{\\mathrm{DDTP}}(\\mathbf{k})$\",\n",
    "                                            bins=60, error_bar=True, file_name=\"s_ddebiased_kly.png\")"
   ]
  },
  {
   "cell_type": "markdown",
   "metadata": {},
   "source": [
    "### 3.1.2- Tapered periodogram with SineTaper"
   ]
  },
  {
   "cell_type": "code",
   "execution_count": null,
   "metadata": {},
   "outputs": [],
   "source": [
    "from structure_factor.tapers import SineTaper\n",
    "## tapered periodogram\n",
    "x = np.linspace(-15, 15, 340)\n",
    "x = x[x != 0]\n",
    "X, Y = np.meshgrid(x, x)\n",
    "k = np.column_stack((X.ravel(), Y.ravel()))\n",
    "p = [1, 1]\n",
    "taper = SineTaper(p)\n",
    "#k, s_tp = sf_kly_res.tapered_periodogram(k, taper, debiased=False)\n",
    "k, s_dtp = sf_kly_res.tapered_periodogram(k, taper)\n",
    "#s_udtp = sf_kly_res.tapered_periodogram(k, taper, debiased=True, direct=False)"
   ]
  },
  {
   "cell_type": "code",
   "execution_count": null,
   "metadata": {},
   "outputs": [],
   "source": [
    "fig, axis = plt.subplots(figsize=(7,6))\n",
    "fig = sf_kly_res.plot_tapered_periodogram(k, s_dtp, axes=axis, positive=False, plot_type=\"radial\",\n",
    "                                            bins=100, error_bar=True, label=r\"$\\widehat{S}_{\\mathrm{DDTP}}(\\mathbf{k})$\",\n",
    "                                           file_name=\"s_dtp_sine_taper_kly.png\"\n",
    "                                          )"
   ]
  },
  {
   "cell_type": "markdown",
   "metadata": {},
   "source": [
    "### 3.1.3- Multitapering"
   ]
  },
  {
   "cell_type": "code",
   "execution_count": null,
   "metadata": {},
   "outputs": [],
   "source": [
    "from structure_factor.tapers import SineTaper\n",
    "## multitapered tapered periodogram\n",
    "x = np.linspace(-15, 15, 300)\n",
    "x = x[x != 0]\n",
    "X, Y = np.meshgrid(x, x)\n",
    "k = np.column_stack((X.ravel(), Y.ravel()))\n",
    "#k, s_mtp = sf_kly_res.multitapered_periodogram(k, debiased=False)\n",
    "k, s_mdtp = sf_kly_res.multitapered_periodogram(k)\n",
    "#k, s_mudtp = sf_kly_res.multitapered_periodogram(k, debiased=True, direct=False)"
   ]
  },
  {
   "cell_type": "code",
   "execution_count": null,
   "metadata": {},
   "outputs": [],
   "source": [
    "fig, axis = plt.subplots(figsize=(7,6))\n",
    "fig = sf_kly_res.plot_tapered_periodogram(k, s_mdtp, axes=axis, positive=False, plot_type=\"radial\",\n",
    "                                            bins=80, error_bar=True, label=r\"$\\widehat{S}_{\\mathrm{MDDTP}}(\\mathbf{k})$\",\n",
    "                                            file_name=\"s_mdtp_sine_taper_kly.png\"\n",
    "                                          )"
   ]
  },
  {
   "cell_type": "markdown",
   "metadata": {},
   "source": [
    "## 3.2- Isotropic estimators"
   ]
  },
  {
   "cell_type": "code",
   "execution_count": null,
   "metadata": {},
   "outputs": [],
   "source": [
    "kly_pp_ball = kly_pp.restrict_to_window(BallWindow(center=(0,0), radius=70))\n",
    "kly_pp_ball.plot()\n",
    "window_show = BallWindow(center=(0,0), radius=50)\n",
    "#kly_pp_ball.plot(window_res=window_show, file_name=\"kly_ball.png\")"
   ]
  },
  {
   "cell_type": "code",
   "execution_count": null,
   "metadata": {},
   "outputs": [],
   "source": [
    "sf_kly_ball = StructureFactor(kly_pp_ball)"
   ]
  },
  {
   "cell_type": "markdown",
   "metadata": {},
   "source": [
    "### 3.2.1- Bartlett isotropic estimators"
   ]
  },
  {
   "cell_type": "code",
   "execution_count": null,
   "metadata": {},
   "outputs": [],
   "source": [
    "k_norm, s_bi = sf_kly_ball.bartlett_isotropic_estimator(n_allowed_k_norm=200)\n",
    "fig, axis = plt.subplots(figsize=(7,6))\n",
    "sf_kly_ball.plot_isotropic_estimator(k_norm, s_bi, axis=axis,\n",
    "                                         label=r\"$\\widehat{S}_{\\mathrm{BI}}(k)$\", file_name=\"s_bi_kly.png\")"
   ]
  },
  {
   "cell_type": "code",
   "execution_count": null,
   "metadata": {
    "scrolled": true
   },
   "outputs": [],
   "source": [
    "k_non_allowed = np.linspace(min(k_norm)+ 0.003, max(k_norm), 200)\n",
    "k_norm_non_allowed, s_bi_non_allowed = sf_kly_ball.bartlett_isotropic_estimator(k_non_allowed)\n",
    "fig, axis = plt.subplots(figsize=(7,6))\n",
    "sf_kly_ball.plot_isotropic_estimator(k_norm_non_allowed, s_bi_non_allowed, axis=axis,\n",
    "                                         label=r\"$\\widehat{S}_{\\mathrm{BI}}(k)$\", file_name=\"s_bi_kly_non_allowed.png\")"
   ]
  },
  {
   "cell_type": "markdown",
   "metadata": {},
   "source": [
    "### 3.2.2- Pair correlation function"
   ]
  },
  {
   "cell_type": "code",
   "execution_count": null,
   "metadata": {},
   "outputs": [],
   "source": [
    "from structure_factor.pair_correlation_function import PairCorrelationFunction as pcf\n"
   ]
  },
  {
   "cell_type": "markdown",
   "metadata": {},
   "source": [
    "pcf.ppp"
   ]
  },
  {
   "cell_type": "code",
   "execution_count": null,
   "metadata": {},
   "outputs": [],
   "source": [
    "\n",
    "r= np.linspace(0, 10, 200)\n",
    "kly_pcf_ppp = pcf.estimate(kly_pp_ball, method=\"ppp\", r=r, correction=\"all\")\n",
    "pcf.plot(kly_pcf_ppp, figsize=(7,6),\n",
    "         color=['grey', 'b', 'darkcyan'], style=[\".\", \"*\", \"^\"],\n",
    "         file_name=\"pcf_ppp_kly.png\")"
   ]
  },
  {
   "cell_type": "markdown",
   "metadata": {},
   "source": [
    "pcf.fv"
   ]
  },
  {
   "cell_type": "code",
   "execution_count": null,
   "metadata": {
    "scrolled": true
   },
   "outputs": [],
   "source": [
    "kly_pcf_fv = pcf.estimate(kly_pp_ball, method=\"fv\", Kest=dict(rmax=100), fv=dict(method=\"b\", spar=0.1))\n",
    "pcf.plot(kly_pcf_fv, figsize=(7,6),\n",
    "         color=['grey'], style=[\".\"],\n",
    "         file_name=\"pcf_fv_kly.png\")"
   ]
  },
  {
   "cell_type": "markdown",
   "metadata": {},
   "source": [
    "Interpolation"
   ]
  },
  {
   "cell_type": "code",
   "execution_count": null,
   "metadata": {},
   "outputs": [],
   "source": [
    "domain, kly_pcf_fct = pcf.interpolate(r=kly_pcf_fv[\"r\"][1:], pcf_r=kly_pcf_fv[\"pcf\"][1:])\n",
    "r_max = domain[\"r_max\"] # upper bound of the raduis on which the pcf has been approximated\n"
   ]
  },
  {
   "cell_type": "markdown",
   "metadata": {},
   "source": [
    "### 3.2.3- Hankel transform"
   ]
  },
  {
   "cell_type": "markdown",
   "metadata": {},
   "source": [
    "Ogata"
   ]
  },
  {
   "cell_type": "code",
   "execution_count": null,
   "metadata": {},
   "outputs": [],
   "source": [
    "k_norm = np.linspace(2, 10, 1000) # vector of wave length\n",
    "k_norm, sf_Ogata = sf_kly_ball.hankel_quadrature(kly_pcf_fct, method=\"Ogata\", k_norm=k_norm, step_size=0.1,\n",
    "                                                    nb_points=1000, r_max=r_max)\n"
   ]
  },
  {
   "cell_type": "code",
   "execution_count": null,
   "metadata": {},
   "outputs": [],
   "source": [
    "fig, axis= plt.subplots(figsize=(7,6))\n",
    "fig = sf_kly_ball.plot_isotropic_estimator(k_norm, sf_Ogata, axis=axis,  label=r\"$\\widehat{S}_{\\mathrm{HO}}(k)$\",\n",
    "                                            file_name=\"kly_s_ho.png\"\n",
    "                                           )"
   ]
  },
  {
   "cell_type": "markdown",
   "metadata": {},
   "source": [
    "Baddour-Chouinard"
   ]
  },
  {
   "cell_type": "code",
   "execution_count": null,
   "metadata": {},
   "outputs": [],
   "source": [
    "k = np.linspace(0.5, 10, 200)\n",
    "k_norm, s_hbc = sf_kly_ball.hankel_quadrature(kly_pcf_fct, k_norm=k, r_max=r_max, nb_points=1000)"
   ]
  },
  {
   "cell_type": "code",
   "execution_count": null,
   "metadata": {},
   "outputs": [],
   "source": [
    "fig, axis= plt.subplots(figsize=(7,6))\n",
    "sf_kly_ball.plot_isotropic_estimator(k_norm, s_hbc, axis=axis, error_bar=True, bins=20, label=r\"$\\widehat{S}_{\\mathrm{HBC}}(k)$\" , file_name=\"kly_s_hbc.png\")"
   ]
  },
  {
   "cell_type": "markdown",
   "metadata": {},
   "source": [
    "## 3.3- Hyperuniformity"
   ]
  },
  {
   "cell_type": "code",
   "execution_count": null,
   "metadata": {},
   "outputs": [],
   "source": [
    "from structure_factor.hyperuniformity import Hyperuniformity\n",
    "hyperuniformity_test = Hyperuniformity(k_norm, s_bi)\n",
    "#bin_center, bin_mean, bin_std = hyperuniformity_test.bin_data(bins=80)"
   ]
  },
  {
   "cell_type": "markdown",
   "metadata": {},
   "source": [
    "### 3.3.1- Effective hyperuniformity"
   ]
  },
  {
   "cell_type": "code",
   "execution_count": null,
   "metadata": {},
   "outputs": [],
   "source": [
    "H_poisson, std = hyperuniformity_test.effective_hyperuniformity(k_norm_stop=1)\n",
    "print(\"H_poisson=\", H_poisson)"
   ]
  },
  {
   "cell_type": "code",
   "execution_count": null,
   "metadata": {},
   "outputs": [],
   "source": [
    "#k_norm = hyperuniformity_test.k_norm\n",
    "#sf = hyperuniformity_test.sf\n",
    "sf = s_bi\n",
    "fitted_sf_line = hyperuniformity_test.fitted_line # fitted line to sf\n",
    "index_peak = hyperuniformity_test.i_first_peak # index of first peak of sf\n",
    "x = np.linspace(0, 5, 300)\n",
    "fig=plt.figure(figsize=(10,6))\n",
    "plt.plot(k_norm, sf, 'b.', label=\"approx_sf\")\n",
    "plt.plot(k_norm, sf, 'b', label=\"approx_sf\")\n",
    "plt.plot(x, fitted_sf_line(x), 'r--', label= \"fitted line\")\n",
    "#plt.plot(mean_k_norm[index_peak], mean_sf[index_peak], 'k*', label=\"first peak\")\n",
    "plt.legend()\n",
    "plt.xlabel('wavelength ($||\\mathbf{k}||$)')\n",
    "plt.ylabel('Structure factor ($\\mathsf{S}(\\mathbf{k})$)')\n",
    "plt.show()\n",
    "#fig.savefig(\"fitted_si_ginibre.pdf\", bbox_inches=\"tight\")"
   ]
  },
  {
   "cell_type": "markdown",
   "metadata": {},
   "source": [
    "### 3.3.2- Hyperuniformity class\n"
   ]
  },
  {
   "cell_type": "code",
   "execution_count": null,
   "metadata": {},
   "outputs": [],
   "source": [
    "sf_power_decay, c = hyperuniformity_test.hyperuniformity_class(k_norm_stop=0.9)\n",
    "print(sf_power_decay)"
   ]
  },
  {
   "cell_type": "code",
   "execution_count": null,
   "metadata": {},
   "outputs": [],
   "source": [
    "#k_norm = hyperuniformity_test.k_norm\n",
    "#sf = hyperuniformity_test.sf\n",
    "sf = s_bi\n",
    "fitted_poly = hyperuniformity_test.fitted_poly\n",
    "x = np.linspace(0, 2, 300)\n",
    "fig=plt.figure(figsize=(10,6))\n",
    "plt.plot(k_norm[:40], sf[:40], 'b.', label=\"approx_sf\")\n",
    "#plt.plot(k_norm, sf, 'b', label=\"approx_sf\")\n",
    "plt.plot(x, fitted_poly(x), 'r--', label= \"fitted line\")\n",
    "plt.legend()\n",
    "plt.xlabel('wavelength ($||\\mathbf{k}||$)')\n",
    "plt.ylabel('Structure factor ($\\mathsf{S}(\\mathbf{k})$)')\n",
    "plt.show()\n",
    "#fig.savefig(\"fitted_si_ginibre.pdf\", bbox_inches=\"tight\")"
   ]
  },
  {
   "cell_type": "markdown",
   "metadata": {},
   "source": [
    "# 4- Thomas process"
   ]
  },
  {
   "cell_type": "code",
   "execution_count": null,
   "metadata": {},
   "outputs": [],
   "source": [
    "from structure_factor.point_process import ThomasProintProcess"
   ]
  },
  {
   "cell_type": "code",
   "execution_count": null,
   "metadata": {},
   "outputs": [],
   "source": [
    "from structure_factor.point_pattern import PointPattern\n",
    "from structure_factor.spatial_windows import BoxWindow, BallWindow\n",
    "\n",
    "intensity_parent = 1/(20*np.pi)\n",
    "mu = 20\n",
    "sigma=2\n",
    "thomas = ThomasProintProcess(intensity_parent=intensity_parent, d=2, mu=mu, sigma=sigma)\n",
    "# big thomas to restrict\n",
    "window_big = BallWindow(center=[0,0], radius=200)\n",
    "thomas_big_points = thomas.generate_sample(window=window_big, seed=1)\n",
    "thomas_big_pp = PointPattern(points=thomas_big_points, window=window_big, intensity=thomas.intensity)\n",
    "# thomas pp ball\n",
    "thomas_pp_ball = thomas_big_pp.restrict_to_window(window=window_ball)\n",
    "thomas_pp_ball.plot(file_name=\"thomas_pp_ball.png\")\n",
    "# thomas pp box\n",
    "thomas_pp_box = thomas_big_pp.restrict_to_window(window=window_box)\n",
    "thomas_pp_box.plot(file_name=\"thomas_pp_box.png\")\n"
   ]
  },
  {
   "cell_type": "markdown",
   "metadata": {},
   "source": [
    "## 4.1- Direct spectral estimator"
   ]
  },
  {
   "cell_type": "code",
   "execution_count": null,
   "metadata": {},
   "outputs": [],
   "source": [
    "from structure_factor.structure_factor import StructureFactor\n",
    "sf_thomas_box = StructureFactor(thomas_pp_box)"
   ]
  },
  {
   "cell_type": "markdown",
   "metadata": {},
   "source": [
    "### 4.1.1- Scattering intensity"
   ]
  },
  {
   "cell_type": "code",
   "execution_count": null,
   "metadata": {
    "scrolled": true
   },
   "outputs": [],
   "source": [
    "\n",
    "# on allowed values \n",
    "allowed_k, si = sf_thomas_box.scattering_intensity(k_max=6)"
   ]
  },
  {
   "cell_type": "code",
   "execution_count": null,
   "metadata": {},
   "outputs": [],
   "source": [
    "fig, axis = plt.subplots(figsize=(7,6))\n",
    "fig = sf_thomas_box.plot_tapered_periodogram(allowed_k, si, axes=axis, plot_type=\"radial\",exact_sf=thomas.structure_factor,\n",
    "                                            bins=80, error_bar=True, \n",
    "                                            label=r\"$\\widehat{S}_{\\mathrm{SI}}(\\frac{2\\pi\\mathbf{n}}{L})$\",\n",
    "                                            file_name=\"si_allowed_k_thomas.png\"\n",
    "                                             )"
   ]
  },
  {
   "cell_type": "code",
   "execution_count": null,
   "metadata": {},
   "outputs": [],
   "source": [
    "x = np.linspace(-6, 6, 300)\n",
    "x = x[x != 0]\n",
    "X, Y = np.meshgrid(x, x)\n",
    "k = np.column_stack((X.ravel(), Y.ravel()))\n",
    "# on k \n",
    "k, si1 = sf_thomas_box.scattering_intensity(k=k, debiased=False)\n",
    "# on k debiased directly\n",
    "k, si2 = sf_thomas_box.scattering_intensity(k=k, debiased=True)\n",
    "# on k debiased undirectly\n",
    "k, si3 = sf_thomas_box.scattering_intensity(k=k, debiased=True, direct=False)"
   ]
  },
  {
   "cell_type": "code",
   "execution_count": null,
   "metadata": {},
   "outputs": [],
   "source": [
    "fig, axis = plt.subplots(figsize=(7,6))\n",
    "fig = sf_thomas_box.plot_tapered_periodogram(k, si1, axes=axis, plot_type=\"radial\",exact_sf=thomas.structure_factor,\n",
    "                                            bins=60, error_bar=True, \n",
    "                                            label=r\"$\\widehat{S}_{\\mathrm{SI}}( \\mathbf{k})$\",\n",
    "                                            file_name=\"si_k_thomas.png\"\n",
    "                                             )"
   ]
  },
  {
   "cell_type": "markdown",
   "metadata": {},
   "source": [
    "### 4.1.2- Tapered periodogram SineTaper"
   ]
  },
  {
   "cell_type": "code",
   "execution_count": null,
   "metadata": {},
   "outputs": [],
   "source": [
    "from structure_factor.tapers import SineTaper\n",
    "## tapered periodogram\n",
    "x = np.linspace(-6, 6, 300)\n",
    "x = x[x != 0]\n",
    "X, Y = np.meshgrid(x, x)\n",
    "k = np.column_stack((X.ravel(), Y.ravel()))\n",
    "p = [1, 1]\n",
    "taper = SineTaper(p)\n",
    "_, s_tp = sf_thomas_box.tapered_periodogram(k, taper, debiased=False)\n",
    "_, s_dtp = sf_thomas_box.tapered_periodogram(k, taper)\n",
    "_, s_udtp = sf_thomas_box.tapered_periodogram(k, taper, debiased=True, direct=False)"
   ]
  },
  {
   "cell_type": "code",
   "execution_count": null,
   "metadata": {},
   "outputs": [],
   "source": [
    "fig, axis = plt.subplots(figsize=(7,6))\n",
    "fig = sf_thomas_box.plot_tapered_periodogram(k, s_udtp, axes=axis, positive=False, plot_type=\"radial\", exact_sf=thomas.structure_factor,\n",
    "                                            bins=80, error_bar=True, label=r\"$\\widehat{S}_{\\mathrm{UDTP}}(\\mathbf{k})$\",\n",
    "                                           file_name=\"s_udtp_sine_taper_thomas.png\"\n",
    "                                          )"
   ]
  },
  {
   "cell_type": "markdown",
   "metadata": {},
   "source": [
    "### 4.1.3- Multitapering"
   ]
  },
  {
   "cell_type": "code",
   "execution_count": null,
   "metadata": {},
   "outputs": [],
   "source": [
    "from structure_factor.tapers import SineTaper\n",
    "## multitapered tapered periodogram\n",
    "x = np.linspace(-6, 6, 300)\n",
    "x = x[x != 0]\n",
    "X, Y = np.meshgrid(x, x)\n",
    "k = np.column_stack((X.ravel(), Y.ravel()))\n",
    "_, s_mtp = sf_thomas_box.multitapered_periodogram(k, debiased=False)\n",
    "_,s_mdtp = sf_thomas_box.multitapered_periodogram(k, debiased=True, direct=True) #or simply sf_thomas_res.multitapered_periodogram(k)\n",
    "_,s_mudtp = sf_thomas_box.multitapered_periodogram(k, debiased=True, direct=False)"
   ]
  },
  {
   "cell_type": "code",
   "execution_count": null,
   "metadata": {},
   "outputs": [],
   "source": [
    "fig, axis = plt.subplots(figsize=(7,6))\n",
    "fig = sf_thomas_box.plot_tapered_periodogram(k, s_mudtp, axes=axis, positive=False, plot_type=\"radial\",exact_sf=thomas.structure_factor,\n",
    "                                            bins=80, error_bar=True, label=r\"$\\widehat{S}_{\\mathrm{MUDTP}}( \\mathbf{k})$\",\n",
    "                                            file_name=\"s_mudtp_sine_taper_thomas.png\"\n",
    "                                          )"
   ]
  },
  {
   "cell_type": "markdown",
   "metadata": {},
   "source": [
    "## 4.2- Isotropic estimators"
   ]
  },
  {
   "cell_type": "code",
   "execution_count": null,
   "metadata": {},
   "outputs": [],
   "source": [
    "sf_thomas_ball = StructureFactor(thomas_pp_ball)"
   ]
  },
  {
   "cell_type": "markdown",
   "metadata": {},
   "source": [
    "### 4.2.1- Bartlett isotropic estimator"
   ]
  },
  {
   "cell_type": "markdown",
   "metadata": {},
   "source": [
    "Allowed wavenumbers"
   ]
  },
  {
   "cell_type": "code",
   "execution_count": null,
   "metadata": {},
   "outputs": [],
   "source": [
    "import time\n",
    "time_start = time.time\n",
    "k_norm, s_bi = sf_thomas_ball.bartlett_isotropic_estimator(n_allowed_k_norm=150)\n",
    "print(\"--- %s seconds ---\" % (time.time() - start_time))"
   ]
  },
  {
   "cell_type": "code",
   "execution_count": null,
   "metadata": {},
   "outputs": [],
   "source": [
    "fig, axis = plt.subplots(figsize=(7,6))\n",
    "sf_th_exact = lambda k: utils.structure_factor_thomas(k, lambdaDaughter, sigma )\n",
    "sf_thomas_ball.plot_isotropic_estimator(k_norm, s_bi, axis=axis, exact_sf=sf_th_exact,\n",
    "                                         label=r\"$\\widehat{S}_{\\mathrm{BI}}(k)$\", file_name=\"s_bi_thomas.png\")"
   ]
  },
  {
   "cell_type": "markdown",
   "metadata": {},
   "source": [
    "Non allowed wavenumbers"
   ]
  },
  {
   "cell_type": "code",
   "execution_count": null,
   "metadata": {},
   "outputs": [],
   "source": [
    "k = np.linspace(min(k_norm) + 0.002, max(k_norm), 150)\n",
    "k_norm_non_allowed, s_bi_nonallowed = sf_thomas_ball.bartlett_isotropic_estimator(k_norm=k)"
   ]
  },
  {
   "cell_type": "code",
   "execution_count": null,
   "metadata": {
    "scrolled": true
   },
   "outputs": [],
   "source": [
    "fig, axis = plt.subplots(figsize=(7,6))\n",
    "sf_th_exact = lambda k: utils.structure_factor_thomas(k, lambdaDaughter, sigma )\n",
    "sf_thomas_ball.plot_isotropic_estimator(k_norm_non_allowed, s_bi_nonallowed, axis=axis, exact_sf=sf_th_exact,\n",
    "                                         label=r\"$\\widehat{S}_{\\mathrm{BI}}(k)$\", file_name=\"s_bi_thomas_non_allowed_k.png\")"
   ]
  },
  {
   "cell_type": "markdown",
   "metadata": {},
   "source": [
    "### 4.2.2- Pair correlation function"
   ]
  },
  {
   "cell_type": "code",
   "execution_count": null,
   "metadata": {},
   "outputs": [],
   "source": [
    "from structure_factor.pair_correlation_function import PairCorrelationFunction as pcf"
   ]
  },
  {
   "cell_type": "code",
   "execution_count": null,
   "metadata": {},
   "outputs": [],
   "source": [
    "ext_pcf_thomas = lambda r: utils.pair_correlation_function_thomas(r, d=2, rho_parent=lambdaParent, sigma=sigma)"
   ]
  },
  {
   "cell_type": "markdown",
   "metadata": {},
   "source": [
    "pcf.ppp"
   ]
  },
  {
   "cell_type": "code",
   "execution_count": null,
   "metadata": {},
   "outputs": [],
   "source": [
    "r= np.linspace(0, 10, 200)\n",
    "thomas_pcf_ppp = pcf.estimate(thomas_pp_ball, method=\"ppp\", r=r, correction=\"all\")\n",
    "pcf.plot(thomas_pcf_ppp, figsize=(7,6),\n",
    "         exact_pcf=thomas.pair_correlation_function,\n",
    "         color=['grey', 'b', 'darkcyan'], style=[\".\", \"*\", \"^\"],\n",
    "         file_name=\"pcf_ppp_thomas.png\")"
   ]
  },
  {
   "cell_type": "markdown",
   "metadata": {},
   "source": [
    "pcf.fv"
   ]
  },
  {
   "cell_type": "code",
   "execution_count": null,
   "metadata": {},
   "outputs": [],
   "source": [
    "thomas_pcf_fv = pcf.estimate(thomas_pp_ball, method=\"fv\", Kest=dict(rmax=10), fv=dict(method=\"b\", spar=0.1))\n"
   ]
  },
  {
   "cell_type": "markdown",
   "metadata": {},
   "source": [
    "thomas_pcf_fv"
   ]
  },
  {
   "cell_type": "code",
   "execution_count": null,
   "metadata": {
    "scrolled": true
   },
   "outputs": [],
   "source": [
    "pcf.plot(thomas_pcf_fv, figsize=(7,6),\n",
    "         exact_pcf=thomas.pair_correlation_function,\n",
    "         color=['grey'], style=[\".\"],\n",
    "         file_name=\"pcf_fv_thomas.png\"\n",
    "        )"
   ]
  },
  {
   "cell_type": "markdown",
   "metadata": {},
   "source": [
    "Interpolation"
   ]
  },
  {
   "cell_type": "code",
   "execution_count": null,
   "metadata": {},
   "outputs": [],
   "source": [
    "\n",
    "thomas_pcf_fv = pcf.estimate(thomas_pp_ball, method=\"fv\", Kest=dict(rmax=50), fv=dict(method=\"b\", spar=0.1))\n",
    "pcf.plot(thomas_pcf_fv, figsize=(7,6),\n",
    "         exact_pcf=thomas.pair_correlation_function,\n",
    "         color=['grey', 'b', 'darkcyan'], style=[\".\", \"*\", \"^\"])"
   ]
  },
  {
   "cell_type": "code",
   "execution_count": null,
   "metadata": {},
   "outputs": [],
   "source": [
    "thomas_pcf_fv"
   ]
  },
  {
   "cell_type": "code",
   "execution_count": null,
   "metadata": {},
   "outputs": [],
   "source": [
    "thomas_pcf_fct = pcf.interpolate(r=thomas_pcf_fv[\"r\"], pcf_r=thomas_pcf_fv[\"pcf\"], drop=True)\n",
    "r_max = np.max(thomas_pcf_fv[\"r\"])"
   ]
  },
  {
   "cell_type": "code",
   "execution_count": null,
   "metadata": {},
   "outputs": [],
   "source": [
    "r = np.linspace(0, 20, 200 )\n",
    "plt.plot(r, thomas_pcf_fct(r), 'b')\n",
    "plt.plot(r, thomas.pair_correlation_function(r), 'g')"
   ]
  },
  {
   "cell_type": "markdown",
   "metadata": {},
   "source": [
    "#### 4.2.3- Hankel transform "
   ]
  },
  {
   "cell_type": "markdown",
   "metadata": {},
   "source": [
    "Ogata"
   ]
  },
  {
   "cell_type": "code",
   "execution_count": null,
   "metadata": {},
   "outputs": [],
   "source": [
    "k_norm = np.linspace(0.5, 10, 3000) # vector of wave length\n",
    "k_norm, sf_Ogata = sf_thomas_ball.hankel_quadrature(thomas_pcf_fct, method=\"Ogata\", k_norm=k_norm, step_size=0.01,\n",
    "                                                    nb_points=500)\n"
   ]
  },
  {
   "cell_type": "code",
   "execution_count": null,
   "metadata": {},
   "outputs": [],
   "source": [
    "fig, axis =  plt.subplots(figsize=(7,6))\n",
    "sf_thomas_ball.plot_isotropic_estimator(k_norm, sf_Ogata, axis=axis, exact_sf=thomas.structure_factor, bins=50, error_bar=True, label=r\"$\\widehat{S}_{\\mathrm{HO}}(k)$\",\n",
    "                                            file_name=\"thomas_s_ho.png\"\n",
    "                                           )"
   ]
  },
  {
   "cell_type": "markdown",
   "metadata": {},
   "source": [
    "Baddour chouinard"
   ]
  },
  {
   "cell_type": "code",
   "execution_count": null,
   "metadata": {},
   "outputs": [],
   "source": [
    "k = np.linspace(0.5, 10, 400)\n",
    "k_norm, s_hbc = sf_thomas_ball.hankel_quadrature(thomas_pcf_fct, k_norm=k,  r_max=r_max, nb_points=1000)"
   ]
  },
  {
   "cell_type": "code",
   "execution_count": null,
   "metadata": {},
   "outputs": [],
   "source": [
    "fig, axis= plt.subplots(figsize=(7,6))\n",
    "sf_thomas_ball.plot_isotropic_estimator(k_norm, s_hbc,axis=axis, exact_sf=thomas.structure_factor, bins=40, error_bar=True, label= r\"$\\widehat{S}_{\\mathrm{HBC}}(k)$\",file_name=\"thomas_s_hbc.png\" )"
   ]
  },
  {
   "cell_type": "markdown",
   "metadata": {},
   "source": [
    "## 4.3- Hyperuniformity"
   ]
  },
  {
   "cell_type": "code",
   "execution_count": null,
   "metadata": {},
   "outputs": [],
   "source": [
    "from structure_factor.hyperuniformity import Hyperuniformity\n",
    "hyperuniformity_test = Hyperuniformity(k_norm, s_bi)\n",
    "bin_center, bin_mean, bin_std = hyperuniformity_test.bin_data(bins=50)"
   ]
  },
  {
   "cell_type": "code",
   "execution_count": null,
   "metadata": {},
   "outputs": [],
   "source": [
    "bin_std"
   ]
  },
  {
   "cell_type": "markdown",
   "metadata": {},
   "source": [
    "### 4.3.1- Effective hyperuniformity"
   ]
  },
  {
   "cell_type": "code",
   "execution_count": null,
   "metadata": {},
   "outputs": [],
   "source": [
    "H_thomas, std = hyperuniformity_test.effective_hyperuniformity(k_norm_stop=0.5)\n",
    "print(\"H_thomas=\", H_thomas)"
   ]
  },
  {
   "cell_type": "code",
   "execution_count": null,
   "metadata": {},
   "outputs": [],
   "source": [
    "sf_th_exact(0)"
   ]
  },
  {
   "cell_type": "code",
   "execution_count": null,
   "metadata": {},
   "outputs": [],
   "source": [
    "#k_norm = hyperuniformity_test.k_norm\n",
    "#sf = hyperuniformity_test.sf\n",
    "sf = s_bi\n",
    "fitted_sf_line = hyperuniformity_test.fitted_line # fitted line to sf\n",
    "index_peak = hyperuniformity_test.i_first_peak # index of first peak of sf\n",
    "x = np.linspace(0, 2, 300)\n",
    "y = np.linspace(0,np.max(k_norm), 500)\n",
    "fig=plt.figure(figsize=(10,6))\n",
    "plt.plot(k_norm, sf, 'b.', label=\"approx_sf\")\n",
    "plt.plot(k_norm, sf, 'b', label=\"approx_sf\")\n",
    "plt.plot(x, fitted_sf_line(x), 'r--', label= \"fitted line\")\n",
    "plt.plot(y, sf_th_exact(y), 'g', label=\"exact sf\")\n",
    "#plt.plot(mean_k_norm[index_peak], mean_sf[index_peak], 'k*', label=\"first peak\")\n",
    "plt.legend()\n",
    "plt.xlabel('wavelength ($||\\mathbf{k}||$)')\n",
    "plt.ylabel('Structure factor ($\\mathsf{S}(\\mathbf{k})$)')\n",
    "plt.show()\n",
    "#fig.savefig(\"fitted_si_ginibre.pdf\", bbox_inches=\"tight\")"
   ]
  },
  {
   "cell_type": "markdown",
   "metadata": {},
   "source": [
    "### 4.3.2- Hyperuniformity class \n",
    "\n",
    "# NO NEED TO RUN THE TEST AS THE EFFECTIVE TEST SHOW NON HYPERUNIFORMITY"
   ]
  },
  {
   "cell_type": "code",
   "execution_count": null,
   "metadata": {},
   "outputs": [],
   "source": [
    "sf_power_decay, c = hyperuniformity_test.hyperuniformity_class(k_norm_stop=0.5)\n",
    "print(sf_power_decay)"
   ]
  },
  {
   "cell_type": "code",
   "execution_count": null,
   "metadata": {},
   "outputs": [],
   "source": [
    "#k_norm = hyperuniformity_test.k_norm\n",
    "#sf = hyperuniformity_test.sf\n",
    "sf = s_bi\n",
    "fitted_poly = hyperuniformity_test.fitted_poly\n",
    "x = np.linspace(0, 2, 300)\n",
    "y = np.linspace(0,np.max(k_norm), 500)\n",
    "fig=plt.figure(figsize=(10,6))\n",
    "plt.plot(k_norm, sf, 'b.', label=\"approx_sf\")\n",
    "plt.plot(k_norm, sf, 'b.', label=\"approx_sf\")\n",
    "\n",
    "plt.plot(k_norm, sf, 'b', label=\"approx_sf\")\n",
    "plt.plot(y, sf_th_exact(y), 'g', label=\"exact sf\")\n",
    "plt.plot(x, fitted_poly(x), 'r--', label= \"fitted line\")\n",
    "plt.legend()\n",
    "plt.xlabel('wavelength ($||\\mathbf{k}||$)')\n",
    "plt.ylabel('Structure factor ($\\mathsf{S}(\\mathbf{k})$)')\n",
    "plt.show()\n",
    "#fig.savefig(\"fitted_si_ginibre.pdf\", bbox_inches=\"tight\")"
   ]
  },
  {
   "cell_type": "markdown",
   "metadata": {},
   "source": [
    "## 4.4- Statistics"
   ]
  },
  {
   "cell_type": "code",
   "execution_count": null,
   "metadata": {},
   "outputs": [],
   "source": [
    "from structure_factor.point_process import ThomasProintProcess\n",
    "from structure_factor.point_pattern import pointpattern_list\n",
    "from structure_factor.spatial_windows import BallWindow, BoxWindow\n",
    "\n",
    "s=50 # number of samples\n",
    "# Thomas points list\n",
    "thomas_intensity=1/np.pi\n",
    "intensity_parent = 1/(20*np.pi)\n",
    "mu = 20\n",
    "sigma=2\n",
    "thomas = ThomasProintProcess(intensity_parent=intensity_parent, d=2, mu=mu, sigma=sigma)\n",
    "# big thomas to restrict\n",
    "window_big = BallWindow(center=[0,0], radius=400)\n",
    "thomas_big_points_list = thomas.generate_list_of_samples(s=s, window=window_big)\n",
    "#thomas_big_pp_list = PointPattern(points=thomas_big_points, window=window_big, intensity=thomas.intensity)\n",
    "\n",
    "# thomas pp ball\n",
    "r_ball = 100\n",
    "window_ball = BallWindow(center=[0,0], radius=r_ball)\n",
    "thomas_ball_pp_list = pointpattern_list(list_points=thomas_big_points_list, window=window_big, intensity=thomas_intensity,\n",
    "                                        window_res=window_ball)\n",
    "thomas_ball_pp_list[0].plot()\n",
    "\n",
    "# thomas pp box\n",
    "l_box = 70\n",
    "window_box = BoxWindow(bounds=[[-l_box/2, l_box/2], [-l_box/2, l_box/2]])\n",
    "thomas_box_pp_list = pointpattern_list(list_points=thomas_big_points_list, window=window_big, intensity=thomas_intensity,\n",
    "                                        window_res=window_box)\n",
    "thomas_box_pp_list[0].plot()\n"
   ]
  },
  {
   "cell_type": "code",
   "execution_count": null,
   "metadata": {},
   "outputs": [],
   "source": [
    "# initialize statistics\n",
    "from structure_factor.statistics import SummaryStatistics, get_k, get_k_norm\n",
    "\n",
    "thomas_ball_statistics = SummaryStatistics(thomas_ball_pp_list)\n",
    "thomas_box_statistics = SummaryStatistics(thomas_box_pp_list)"
   ]
  },
  {
   "cell_type": "markdown",
   "metadata": {},
   "source": [
    "### 4.4.1- For DSE"
   ]
  },
  {
   "cell_type": "code",
   "execution_count": null,
   "metadata": {
    "scrolled": true
   },
   "outputs": [],
   "source": [
    "from structure_factor.statistics import apply_estimator\n",
    "from multiprocessing import Pool\n",
    "from functools import partial\n",
    "from structure_factor.tapers import SineTaper\n",
    "import time\n",
    "\n",
    "start_time = time.time()\n",
    "core_num=8\n",
    "\n",
    "k_allowed = get_k(thomas_box_pp_list[0], k_max=2)\n",
    "x = np.linspace(-2, 2, 44)\n",
    "x = x[x != 0]\n",
    "X, Y = np.meshgrid(x, x)\n",
    "k = np.column_stack((X.ravel(), Y.ravel()))\n",
    "p = [1, 1]\n",
    "taper = SineTaper(p)\n",
    "\n",
    "if __name__ == \"__main__\":\n",
    "    # scattering intensity\n",
    "    s_si_allowed_k = thomas_box_statistics.sample_approximation(estimator=\"scattering_intensity\", k_max=2)\n",
    "    # scattering intensity debiased\n",
    "    s_dtp_t0 = thomas_box_statistics.sample_approximation(estimator=\"scattering_intensity\", k=k, debiased=True, direct=True)\n",
    "    # debiased tapered periodogram (sinusoidal taper)\n",
    "    s_dtp_t1 = thomas_box_statistics.sample_approximation(estimator=\"tapered_periodogram\", k=k,taper=taper, debiased=True, direct=True)\n",
    "    # multitapered periodogram (sinusoidal taper)\n",
    "    s_mdtp = thomas_box_statistics.sample_approximation(estimator=\"multitapered_periodogram\", k=k, debiased=True, direct=True)\n",
    "    \n",
    "print(\"--- %s seconds ---\" % (time.time() - start_time))"
   ]
  },
  {
   "cell_type": "code",
   "execution_count": null,
   "metadata": {},
   "outputs": [],
   "source": [
    "np.max(utils.norm_k(k))"
   ]
  },
  {
   "cell_type": "code",
   "execution_count": null,
   "metadata": {},
   "outputs": [],
   "source": [
    "m_si, var_si, ivar_si, bias_si, ibias_si, mse_si, imse_si = thomas_box_statistics.sample_statistics(k=k,\n",
    "                                                                                approximation=s_si_allowed_k,\n",
    "                                                                                exact=thomas.structure_factor )\n",
    "m_dtp_t0, var_dtp_t0, ivar_dtp_t0, bias_dtp_t0, ibias_dtp_t0, mse_dtp_t0, imse_dtp_t0 = thomas_box_statistics.sample_statistics(\n",
    "                                                                                k=k,\n",
    "                                                                                approximation=s_dtp_t0,\n",
    "                                                                                exact=thomas.structure_factor )\n",
    "m_dtp_t1, var_dtp_t1, ivar_dtp_t1, bias_dtp_t1, ibias_dtp_t1, mse_dtp_t1, imse_dtp_t1 = thomas_box_statistics.sample_statistics(k=k,\n",
    "                                                                                approximation=s_dtp_t1,\n",
    "                                                                                exact=thomas.structure_factor)\n",
    "m_mdtp, var_mdtp, ivar_mdtp, bias_mdtp, ibias_mdtp, mse_mdtp, imse_mdtp = thomas_box_statistics.sample_statistics(k=k,\n",
    "                                                                                approximation=s_mdtp,\n",
    "                                                                                exact=thomas.structure_factor)\n",
    "print(\"For s_si: ivar\", ivar_si, \"ibias\", ibias_si, \"imse\", imse_si)\n",
    "print(\"For s_dtp_t0: ivar\", ivar_dtp_t0, \"ibias\", ibias_dtp_t0, \"imse\", imse_dtp_t0)\n",
    "print(\"For s_dtp_t1: ivar\", ivar_dtp_t1, \"ibias\", ibias_dtp_t1, \"imse\", imse_dtp_t1)\n",
    "print(\"For s_mdtp: ivar\", ivar_mdtp, \"ibias\", ibias_mdtp, \"imse\", imse_mdtp)"
   ]
  },
  {
   "cell_type": "code",
   "execution_count": null,
   "metadata": {},
   "outputs": [],
   "source": [
    "norm_k_allowed1 = utils.norm_k(k_allowed)\n",
    "fig, axis = plt.subplots(figsize=(7,6))\n",
    "utils.plot_summary_2(norm_k_allowed1,m_si, c='b',marker='*', bins=30, axis=axis, label=r\"$\\overline{\\widehat{S}_{\\mathrm{SI}}(2\\pi \\mathbf{n}/L)}$\")\n",
    "utils.plot_summary_2(norm_k_allowed1,m_dtp_t0, c='k',marker='.', bins=30, axis=axis, label=r\"$\\overline{\\widehat{S}_{\\mathrm{DDTP}}(t_0, \\mathbf{k})}$\")\n",
    "utils.plot_summary_2(norm_k_allowed1,m_dtp_t1, c='m',marker='+', bins=30, axis=axis, label=r\"$\\overline{\\widehat{S}_{\\mathrm{DDTP}}(t_1, \\mathbf{k})}$\")\n",
    "utils.plot_summary_2(norm_k_allowed1,m_mdtp, c='grey',marker='o', bins=30, axis=axis, label=r\"$\\overline{\\widehat{S}_{\\mathrm{MDDTP}}((t_j)_{j=1}^4, \\mathbf{k})}$\")\n",
    "axis.loglog(norm_k_allowed1, thomas.structure_factor(norm_k_allowed1), 'g', label=r\"$S(\\mathbf{k})$\")\n",
    "axis.legend(loc=3)\n",
    "axis.set_xlabel(r\"Wavenumber ($k$)\")\n",
    "axis.set_ylabel(r\"Structure factor ($S(k)$)\")\n",
    "#fig.savefig(\"comparaison_DSE_mean_thomas.png\", bbox_inches=\"tight\")"
   ]
  },
  {
   "cell_type": "markdown",
   "metadata": {},
   "source": [
    "### 4.4.2- For ISE"
   ]
  },
  {
   "cell_type": "code",
   "execution_count": null,
   "metadata": {},
   "outputs": [],
   "source": [
    "from structure_factor.statistics import apply_estimator\n",
    "from multiprocessing import Pool\n",
    "from functools import partial\n",
    "from structure_factor.statistics import pcf_interpolate_list\n",
    "import time\n",
    "\n",
    "start_time = time.time()\n",
    "core_num=8\n",
    "\n",
    "n_allowed_k_norm=64\n",
    "k_norm_allowed = get_k_norm(thomas_ball_pp_list[0], n_allowed_k_norm=n_allowed_k_norm)\n",
    "\n",
    "if __name__ == \"__main__\":\n",
    "    # Bartlett's isotropic estimator\n",
    "    s_bi = thomas_ball_statistics.sample_approximation(estimator=\"bartlett_isotropic_estimator\", n_allowed_k_norm=n_allowed_k_norm)\n",
    "    # list pcf\n",
    "    #pcf_list = thomas_ball_statistics.sample_pcf_approximation(method=\"fv\", Kest=dict(rmax=35), fv=dict(method=\"b\", spar=0.1))\n",
    "    \n",
    "print(\"--- %s seconds ---\" % (time.time() - start_time))\n"
   ]
  },
  {
   "cell_type": "code",
   "execution_count": null,
   "metadata": {},
   "outputs": [],
   "source": [
    "s = len(pcf_list)\n",
    "# interpolate pcf\n",
    "r_list = [pcf_list[i][\"r\"] for i in range(s)]\n",
    "pcf_fv_list = [pcf_list[i][\"pcf\"] for i in range(s)]\n",
    "pcf_fct_list = pcf_interpolate_list(r_list, pcf_fv_list, drop=True)\n",
    "# BaddourChouinard\n",
    "s_hbc_list = thomas_ball_statistics.sample_integral_approximation(pcf_fct_list,method=\"BaddourChouinard\", \n",
    "                                                                   k_norm=k_norm_allowed, r_max=30,  nb_points=1000) \n",
    "# Ogata\n",
    "s_ho_list = thomas_ball_statistics.sample_integral_approximation(pcf_fct_list,method=\"Ogata\", \n",
    "                                                                   k_norm=k_norm_allowed, step_size=0.01,  nb_points=500) \n"
   ]
  },
  {
   "cell_type": "code",
   "execution_count": null,
   "metadata": {},
   "outputs": [],
   "source": [
    "m_bi, var_bi, ivar_bi, bias_bi, ibias_bi, mse_bi, imse_bi = thomas_ball_statistics.sample_statistics(k_norm=k_norm_allowed,\n",
    "                                                                                approximation=s_bi,\n",
    "                                                                                exact=thomas.structure_factor )\n",
    "m_hbc, var_hbc, ivar_hbc, bias_hbc, ibias_hbc, mse_hbc, imse_hbc = thomas_ball_statistics.sample_statistics(k_norm=k_norm_allowed,\n",
    "                                                                                approximation=s_hbc_list,\n",
    "                                                                                exact=thomas.structure_factor)\n",
    "m_ho, var_ho, ivar_ho, bias_ho, ibias_ho, mse_ho, imse_ho = thomas_ball_statistics.sample_statistics(k_norm=k_norm_allowed,\n",
    "                                                                                approximation=s_ho_list,\n",
    "                                                                                exact=thomas.structure_factor)\n",
    "print(\"For s_bi: ivar=\", ivar_bi, \"ibias=\", ibias_bi, \"imse=\", imse_bi)\n",
    "\n",
    "print(\"For s_hbc: ivar=\", ivar_hbc, \"ibias=\", ibias_hbc, \"imse=\", imse_hbc)\n",
    "\n",
    "print(\"For s_ho: ivar=\", ivar_ho, \"ibias=\", ibias_ho, \"imse=\", imse_ho)\n"
   ]
  },
  {
   "cell_type": "code",
   "execution_count": null,
   "metadata": {},
   "outputs": [],
   "source": [
    "fig, axis = plt.subplots(figsize=(7,6))\n",
    "axis.loglog(k_norm_allowed, m_bi, 'm*', label=r\"$\\overline{\\widehat{S}_{\\mathrm{BI}}(k)}$\")\n",
    "axis.loglog(k_norm_allowed, m_bi, 'm')\n",
    "axis.loglog(k_norm_allowed, m_ho, 'b.', label=r\"$\\overline{\\widehat{S}_{\\mathrm{HO}}(k)}$\")\n",
    "#axis.loglog(k_norm_allowed, m_ho, 'b')\n",
    "axis.loglog(k_norm_allowed, m_hbc, 'k+', label=r\"$\\overline{\\widehat{S}_{\\mathrm{HBC}}(k)}$\")\n",
    "#axis.loglog(k_norm_allowed, m_hbc, 'k')\n",
    "axis.loglog(k_norm_allowed, thomas.structure_factor(k_norm_allowed), 'g', label= r\"$S(k)$\")\n",
    "axis.legend()\n",
    "axis.set_xlabel(r\"Wavenumber ($k$)\")\n",
    "axis.set_ylabel(r\"Structure factor ($S(k)$)\")\n",
    "plt.show()\n",
    "fig.savefig(\"comparaison_ISE_mean_thomas.png\", bbox_inches=\"tight\")"
   ]
  },
  {
   "cell_type": "code",
   "execution_count": null,
   "metadata": {},
   "outputs": [],
   "source": [
    "fig, axis = plt.subplots(figsize=(7,6))\n",
    "axis.loglog(k_norm_allowed, m_bi, 'm*', label=r\"$\\overline{\\widehat{S}_{\\mathrm{BI}}(k)}$\")\n",
    "axis.loglog(k_norm_allowed, m_bi, 'm')\n",
    "axis.loglog(k_norm_allowed, m_ho, 'b.', label=r\"$\\overline{\\widehat{S}_{\\mathrm{HO}}(k)}$\")\n",
    "#axis.loglog(k_norm_allowed, m_ho, 'b')\n",
    "axis.loglog(k_norm_allowed, m_hbc, 'k+', label=r\"$\\overline{\\widehat{S}_{\\mathrm{HBC}}(k)}$\")\n",
    "#axis.loglog(k_norm_allowed, m_hbc, 'k')\n",
    "axis.loglog(k_norm_allowed, thomas.structure_factor(k_norm_allowed), 'g', label= r\"$S(k)$\")\n",
    "axis.legend()\n",
    "axis.set_xlabel(r\"Wavenumber ($k$)\")\n",
    "axis.set_ylabel(r\"Structure factor ($S(k)$)\")\n",
    "plt.show()\n",
    "fig.savefig(\"comparaison_ISE_mean_thomas.png\", bbox_inches=\"tight\")"
   ]
  },
  {
   "cell_type": "markdown",
   "metadata": {},
   "source": [
    "## Sine taper"
   ]
  },
  {
   "cell_type": "code",
   "execution_count": null,
   "metadata": {},
   "outputs": [],
   "source": [
    "from structure_factor.tapers import SineTaper"
   ]
  },
  {
   "cell_type": "code",
   "execution_count": null,
   "metadata": {},
   "outputs": [],
   "source": [
    "widths = np.diff(window_.bounds.T, axis=0)\n",
    "widths.shape"
   ]
  },
  {
   "cell_type": "code",
   "execution_count": null,
   "metadata": {},
   "outputs": [],
   "source": [
    "x = np.linspace(-10, 10, 100)\n",
    "x = np.array([x]).T\n",
    "p = 6\n",
    "sin_t = SineTaper(p)\n",
    "window_ = BoxWindow([-5, 5])\n",
    "tp_x = sin_t.taper(x, window_)"
   ]
  },
  {
   "cell_type": "code",
   "execution_count": null,
   "metadata": {},
   "outputs": [],
   "source": [
    "plt.plot(x, tp_x, 'b.')"
   ]
  },
  {
   "cell_type": "code",
   "execution_count": null,
   "metadata": {},
   "outputs": [],
   "source": [
    "x.shape"
   ]
  },
  {
   "cell_type": "code",
   "execution_count": null,
   "metadata": {},
   "outputs": [],
   "source": []
  },
  {
   "cell_type": "code",
   "execution_count": null,
   "metadata": {},
   "outputs": [],
   "source": []
  },
  {
   "cell_type": "code",
   "execution_count": null,
   "metadata": {},
   "outputs": [],
   "source": []
  },
  {
   "cell_type": "markdown",
   "metadata": {},
   "source": [
    "# Section 2"
   ]
  },
  {
   "cell_type": "code",
   "execution_count": null,
   "metadata": {},
   "outputs": [],
   "source": [
    "import numpy as np\n",
    "import matplotlib.pyplot as plt\n",
    "import structure_factor.utils as utils"
   ]
  },
  {
   "cell_type": "code",
   "execution_count": null,
   "metadata": {},
   "outputs": [],
   "source": [
    "r = np.linspace(0, 10, 100)\n",
    "rho_parent = 1/(10*np.pi);  # density of parent Poisson point process\n",
    "rho_child = 10*np.pi;  # mean number of points in each cluster\n",
    "sigma = 2\n",
    "fig, ax = plt.subplots(figsize=(7, 6))\n",
    "ax.plot(r, utils.pair_correlation_function_ginibre(r), 'b*', label=\"Ginibre\")\n",
    "ax.plot(r, utils.pair_correlation_function_thomas(x=r, d=2, rho_parent=rho_parent, sigma=sigma), 'k.', label=\"Thomas\")\n",
    "ax.plot(r, utils.structure_factor_poisson(r), 'g-', label=\"Poisson\")\n",
    "ax.legend()\n",
    "fig.savefig(\"pcf.pdf\", bbox_inches=\"tight\")\n",
    "plt.show"
   ]
  },
  {
   "cell_type": "code",
   "execution_count": null,
   "metadata": {},
   "outputs": [],
   "source": [
    "r = np.linspace(0, 2, 100)\n",
    "rho_parent = 1/(10*np.pi);  # density of parent Poisson point process\n",
    "rho_child = 10*np.pi;  # mean number of points in each cluster\n",
    "sigma = 2\n",
    "fig, ax = plt.subplots(figsize=(7, 6))\n",
    "ax.plot(r, utils.structure_factor_ginibre(r), 'b*', label=\"Ginibre\")\n",
    "ax.plot(r, utils.structure_factor_thomas(k=r, rho_child=rho_child, sigma=sigma), 'k.', label=\"Thomas\")\n",
    "ax.plot(r, utils.structure_factor_poisson(r), 'g-', label=\"Poisson\")\n",
    "ax.legend()\n",
    "fig.savefig(\"sf.pdf\", bbox_inches=\"tight\")\n",
    "plt.show"
   ]
  },
  {
   "cell_type": "code",
   "execution_count": null,
   "metadata": {},
   "outputs": [],
   "source": []
  }
 ],
 "metadata": {
  "interpreter": {
   "hash": "a55764ac299e0a1a65d7e972aa0c64866d632025f8b68908f610b98dba8a58df"
  },
  "kernelspec": {
   "display_name": "Python 3 (ipykernel)",
   "language": "python",
   "name": "python3"
  },
  "language_info": {
   "codemirror_mode": {
    "name": "ipython",
    "version": 3
   },
   "file_extension": ".py",
   "mimetype": "text/x-python",
   "name": "python",
   "nbconvert_exporter": "python",
   "pygments_lexer": "ipython3",
   "version": "3.9.2"
  }
 },
 "nbformat": 4,
 "nbformat_minor": 4
}
