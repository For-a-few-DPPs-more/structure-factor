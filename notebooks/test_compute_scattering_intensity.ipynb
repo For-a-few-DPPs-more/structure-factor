{
 "cells": [
  {
   "cell_type": "markdown",
   "metadata": {},
   "source": [
    "# **This notebook contains example on the usage of the class ``StructureFactor``**:\n",
    "The data should be load as an object of type ``PointPattern``. This can be done using the calss ``PointPattern``. "
   ]
  },
  {
   "cell_type": "code",
   "execution_count": null,
   "metadata": {},
   "outputs": [],
   "source": [
    "from IPython.core.display import display, HTML\n",
    "display(HTML(\"<style>.container { width:100% !important; }</style>\"))\n",
    "#%load_ext autotime  # must be added to dependencies\n",
    "%load_ext autoreload\n",
    "%autoreload 2\n",
    "import os\n",
    "import sys\n",
    "sys.path.insert(0, os.path.abspath('../src/'))"
   ]
  },
  {
   "cell_type": "code",
   "execution_count": null,
   "metadata": {},
   "outputs": [],
   "source": [
    "import numpy as np\n",
    "import matplotlib.pyplot as plt"
   ]
  },
  {
   "cell_type": "markdown",
   "metadata": {},
   "source": [
    "# ``HomogeneousPoissonPointProcess``:\n",
    "The class ``HomogeneousPoissonPointProcess`` allows to sample a Poisson point process using ``generate_sample`` in a box window using ``BoxWindow`` of ``spatial_windows`` or a in a ball window using ``BallWindow``of ``spatial_windows``."
   ]
  },
  {
   "cell_type": "code",
   "execution_count": null,
   "metadata": {},
   "outputs": [],
   "source": [
    "from structure_factor.homogeneous_poisson_process import HomogeneousPoissonPointProcess\n",
    "from structure_factor.spatial_windows import BoxWindow\n",
    "\n",
    "L_poisson = 50 #length side of the cube containing the Poisson point process\n",
    "bounds = np.array([[-L_poisson/2, -L_poisson/2], [L_poisson/2, L_poisson/2]]) #bounds of the box window containing the point process\n",
    "window = BoxWindow(bounds) #box window containing the point process\n",
    "\n",
    "intensity_poisson = 3 #intensity of the Poisson point process\n",
    "process = HomogeneousPoissonPointProcess(intensity=intensity_poisson) \n",
    "points_1 = process.generate_sample(window=window) #Poisson point process in the cubic window\n",
    "\n",
    "plt.plot(points_1[:,0], points_1[:,1], 'b,')\n",
    "plt.show()"
   ]
  },
  {
   "cell_type": "markdown",
   "metadata": {},
   "source": [
    "## ``PointPattern``:\n",
    "The class ``StructureFactor``take an object of type ``PointPattern``.\n",
    "The following is an exmaple of tansfering the sample of the Poisson point proces ``points_1`` to an objects of type ``PointPattern``.\n",
    "The objects of type ``PointPattern`` have 3 attributes \"points\", \"window\" and \"intensity\". "
   ]
  },
  {
   "cell_type": "code",
   "execution_count": null,
   "metadata": {},
   "outputs": [],
   "source": [
    "from structure_factor.point_pattern import PointPattern\n",
    "poisson_data_1 = PointPattern(points_1, window, intensity=intensity_poisson) #making the poisson point proces an object of type Point Pattern"
   ]
  },
  {
   "cell_type": "markdown",
   "metadata": {},
   "source": [
    "Generating a Poisson point process in a disk using ``HomogeneousPoissonPointProcess``with ``BallWindow``."
   ]
  },
  {
   "cell_type": "code",
   "execution_count": null,
   "metadata": {},
   "outputs": [],
   "source": [
    "from structure_factor.spatial_windows import BallWindow\n",
    "R_poisson = 70 #radius of the disk containing the Poisson point process\n",
    "center_poisson = [0,0] #center of the disk contaniing the Poisson point process\n",
    "\n",
    "window = BallWindow(center_poisson, R_poisson) #creating ball window\n",
    "process = HomogeneousPoissonPointProcess() \n",
    "points_2 = process.generate_sample(window=window) #Poisson point process in the ball window\n",
    "\n",
    "plt.plot(points_2[:,0], points_2[:,1], 'b,')\n",
    "plt.show()"
   ]
  },
  {
   "cell_type": "markdown",
   "metadata": {},
   "source": [
    "## ``PointPattern.restrict_to_cubic_window``:\n",
    "The method ``compoute_scattering_intensity`` of the class ``StructureFactor`` works for ``PointPattern`` with **cubic** window. So we create the method ``restrict_to_cubic_window`` to restrict the PointPattern to a cubic window for the perpose of use in ``compoute_scattering_intensity``.\n",
    "The following is an example of transforming the poisson point process ``points``to an object of type ``PointPattern`` restricted to a cubic window using the method ``restrict_to_cubic_window``of the class ``PointPattern``."
   ]
  },
  {
   "cell_type": "code",
   "execution_count": null,
   "metadata": {},
   "outputs": [],
   "source": [
    "Poisson_data_2 = PointPattern(points_2) #to an object of type PointPattern\n",
    "\n",
    "L_poisson_2 = int(R_poisson/(np.sqrt(2))) #length of the cubic window \n",
    "poisson_data_2 = Poisson_data_2.restrict_to_cubic_window(x_min= -L_poisson_2/2, y_min=-L_poisson_2/2, L=L_poisson_2 ) #restrict to a cubic window\n",
    "\n",
    "plt.plot(poisson_data_2.points[:,0], poisson_data_2.points[:,1], 'b,')\n",
    "plt.show()"
   ]
  },
  {
   "cell_type": "markdown",
   "metadata": {},
   "source": [
    "# loading data from the saved file \"test_data.dat\":\n",
    "Poisson point process (\"poisson_data\") , Ginibre point pross (\"ginibre_data\") , lattice $\\mathbb{Z}^2$ (\"z_2_data\") and matching processus of Michael Andreas Klatt, Günter Last, D. Yogeshwaran that we will denoted by kly (\"kly_data\") defined in https://arxiv.org/abs/1810.00265"
   ]
  },
  {
   "cell_type": "code",
   "execution_count": null,
   "metadata": {},
   "outputs": [],
   "source": [
    "import pickle\n",
    "path_data = \"../data\"\n",
    "with open(os.path.join(path_data, \"test_data.dat\"), \"rb\") as data:\n",
    "    poisson_data, ginibre_data, kly_data, z_2_data = pickle.load(data, encoding=\"bytes\")"
   ]
  },
  {
   "cell_type": "markdown",
   "metadata": {},
   "source": [
    "The data in \"test_data.dat\": \"poisson_data\", \"ginibre_data\", \"kly_data\" and \"z_2_data\",  are objects of type ``PointPattern`` so they have 3 attributes \"points\", \"window\" and \"intensity\". \n",
    "For example ``poisson_data.points`` are the points of a Poisson point process  and ``poisson_data.window`` is the window containing the points, and ``poisson_data.intensity`` is the intensity of the point process.\n",
    "``poisson_data.points``, ``kly_data.points`` and ``z_2_data.points`` lie in \"BoxWindow\", to see the bound of the window use for exmaple ``poisson_data.window.bounds``. while ``ginibre_data.points`` lie in a \"BallWindow\", to see the center and raduis use ``ginibre_data.window.center`` resp. ``ginibre_data.window.raduis``."
   ]
  },
  {
   "cell_type": "code",
   "execution_count": null,
   "metadata": {
    "scrolled": true
   },
   "outputs": [],
   "source": [
    "print(\"poisson_data : point\", poisson_data.points.shape , \", intensity=\", poisson_data.intensity)\n",
    "print(\"window of poisson_data :bounds \",  kly_data.window.bounds )\n",
    "print(\"window of ginibre_data: center \",ginibre_data.window.center, \", raduis=\", ginibre_data.window.radius)"
   ]
  },
  {
   "cell_type": "markdown",
   "metadata": {},
   "source": [
    "#  ``StructureFactor``:"
   ]
  },
  {
   "cell_type": "code",
   "execution_count": null,
   "metadata": {},
   "outputs": [],
   "source": [
    "from structure_factor.structure_factor_new import StructureFactor"
   ]
  },
  {
   "cell_type": "code",
   "execution_count": null,
   "metadata": {},
   "outputs": [],
   "source": [
    "sf_poisson= StructureFactor(poisson_data)\n",
    "sf_ginibre = StructureFactor(ginibre_data)\n",
    "sf_kly = StructureFactor(kly_data)\n",
    "sf_z_2 = StructureFactor(z_2_data)"
   ]
  },
  {
   "cell_type": "markdown",
   "metadata": {},
   "source": [
    "## ``compute_sf_via_scattering_inetensity``:"
   ]
  },
  {
   "cell_type": "markdown",
   "metadata": {},
   "source": [
    "### for Poisson point process: \n",
    "we know that the pair correlation function and the structure factor of the Poisson point process are equal to 1 so we always plot the line  $𝑦=1$ as a theoretical reference to the Poisson point process "
   ]
  },
  {
   "cell_type": "code",
   "execution_count": null,
   "metadata": {},
   "outputs": [],
   "source": [
    "wave_length_poisson, scattering_intensity_poisson = sf_poisson.compute_sf_via_scattering_intensity(max_k=15, meshgrid_size=None)"
   ]
  },
  {
   "cell_type": "markdown",
   "metadata": {},
   "source": [
    "### ``plot_scattering_intensity``\n",
    "The method ``plot_scattering_intensity`` take the output of the method ``compute_sf_via_scattering_intensity`` to plot them.\n",
    "The optional argument ``binning_parameter``correspnding to the parameters used to average the values of the scattering intensity over bins, and ``exact_sf`` is the sctructure factor function if it's known."
   ]
  },
  {
   "cell_type": "code",
   "execution_count": null,
   "metadata": {},
   "outputs": [],
   "source": [
    "sf_poisson.plot_scattering_intensity(wave_length_poisson, scattering_intensity_poisson, bins=40)"
   ]
  },
  {
   "cell_type": "markdown",
   "metadata": {},
   "source": [
    "### For Ginibre point process:\n",
    "as the Ginibre point process lies in a ball window we will use ``restrict_to_cubic_window`` to restricting it into a cubic window."
   ]
  },
  {
   "cell_type": "code",
   "execution_count": null,
   "metadata": {},
   "outputs": [],
   "source": [
    "plt.plot(ginibre_data.points[:,0], ginibre_data.points[:,1], 'b,')\n",
    "plt.show()"
   ]
  },
  {
   "cell_type": "code",
   "execution_count": null,
   "metadata": {},
   "outputs": [],
   "source": [
    "R_ginibre = ginibre_data.window.radius\n",
    "L_ginibre = R_ginibre/np.sqrt(2)\n",
    "ginibre_data_restricted = ginibre_data.restrict_to_cubic_window(x_min=-L_ginibre/2, y_min=-L_ginibre/2, L=L_ginibre)\n",
    "\n",
    "sf_ginibre_2 = StructureFactor(ginibre_data_restricted)\n",
    "\n",
    "plt.plot(ginibre_data_restricted.points[:,0], ginibre_data_restricted.points[:,1], 'b,')\n",
    "plt.show()"
   ]
  },
  {
   "cell_type": "code",
   "execution_count": null,
   "metadata": {},
   "outputs": [],
   "source": [
    "wave_length_ginibre, scattering_intensity_ginibre = sf_ginibre_2.compute_sf_via_scattering_intensity(max_k =10, meshgrid_size=300)"
   ]
  },
  {
   "cell_type": "code",
   "execution_count": null,
   "metadata": {},
   "outputs": [],
   "source": [
    "n = np.floor(10 * L_ginibre / (2 * np.pi))\n",
    "wave_length_ginibre.shape"
   ]
  },
  {
   "cell_type": "code",
   "execution_count": null,
   "metadata": {},
   "outputs": [],
   "source": [
    "wave_length_ginibre[int(n),int(n)]"
   ]
  },
  {
   "cell_type": "code",
   "execution_count": null,
   "metadata": {},
   "outputs": [],
   "source": [
    "arr = np.arange(12) \n",
    "print(arr)\n",
    "print(np.argwhere( arr==111))"
   ]
  },
  {
   "cell_type": "code",
   "execution_count": null,
   "metadata": {},
   "outputs": [],
   "source": [
    "mask = np.ones(len(arr), dtype=bool)\n",
    "print(mask)"
   ]
  },
  {
   "cell_type": "code",
   "execution_count": null,
   "metadata": {},
   "outputs": [],
   "source": [
    "arr = np.arange(12) +3\n",
    "index_zero= np.argwhere(arr==0)\n",
    "mask = np.ones(len(arr), dtype=bool)\n",
    "mask[index_zero] = False\n",
    "result = arr[mask,...]\n",
    "print(result)"
   ]
  },
  {
   "cell_type": "code",
   "execution_count": null,
   "metadata": {},
   "outputs": [],
   "source": [
    "arr = np.arange(-5,5, 11)\n",
    "np.arg\n",
    "mask = np.ones(len(arr), dtype=bool)\n",
    "mask[[0]] = False\n",
    "result = arr[mask,...]\n",
    "print(mask)"
   ]
  },
  {
   "cell_type": "code",
   "execution_count": null,
   "metadata": {},
   "outputs": [],
   "source": [
    "exact_sf_ginibre = lambda x : 1 - np.exp(-x**2/4) # exact structure factor for the Ginibre point process\n",
    "\n",
    "sf_ginibre_2.plot_scattering_intensity(wave_length_ginibre, scattering_intensity_ginibre, plot_type=\"all\", exact_sf=exact_sf_ginibre, bins=40 )"
   ]
  },
  {
   "cell_type": "markdown",
   "metadata": {},
   "source": [
    "# for the processus of  Michael Andreas Klatt, Günter Last, D. Yogeshwaran that we will denoted by kly defined in https://arxiv.org/abs/1810.00265"
   ]
  },
  {
   "cell_type": "code",
   "execution_count": null,
   "metadata": {},
   "outputs": [],
   "source": [
    "norm_k_kly, si_kly = sf_kly.compute_scattering_intensity(L=300, maximum_k=20)"
   ]
  },
  {
   "cell_type": "code",
   "execution_count": null,
   "metadata": {
    "scrolled": true
   },
   "outputs": [],
   "source": [
    "sf_kly.plot_scattering_intensity(norm_k_kly, si_kly, plot_type=\"plot\", bins=40 )"
   ]
  },
  {
   "cell_type": "code",
   "execution_count": null,
   "metadata": {},
   "outputs": [],
   "source": [
    "norm_k_kly_, si_kly_ = sf_kly.compute_scattering_intensity(L=300, maximum_k=10, meshgrid_size=150)"
   ]
  },
  {
   "cell_type": "code",
   "execution_count": null,
   "metadata": {
    "scrolled": false
   },
   "outputs": [],
   "source": [
    "sf_kly.plot_scattering_intensity(norm_k_kly_, si_kly_, plot_type=\"all\", bins=40)"
   ]
  },
  {
   "cell_type": "markdown",
   "metadata": {},
   "source": [
    "# for a lattice $\\mathbb{Z}^2$"
   ]
  },
  {
   "cell_type": "code",
   "execution_count": null,
   "metadata": {},
   "outputs": [],
   "source": [
    "norm_k_z2, si_z2 = sf_z_2.compute_scattering_intensity(L=300, maximum_k=50)"
   ]
  },
  {
   "cell_type": "code",
   "execution_count": null,
   "metadata": {},
   "outputs": [],
   "source": [
    "sf_z_2.plot_scattering_intensity(norm_k_z2, si_z2, plot_type=\"plot\", bins=40 )"
   ]
  },
  {
   "cell_type": "code",
   "execution_count": null,
   "metadata": {},
   "outputs": [],
   "source": [
    "plt.plot(norm_k_z2, si_z2, 'b.')"
   ]
  },
  {
   "cell_type": "code",
   "execution_count": null,
   "metadata": {},
   "outputs": [],
   "source": [
    "norm_k_z2_, si_z2_ = sf_z_2.compute_scattering_intensity(L=300, maximum_k=20, meshgrid_size=150)"
   ]
  },
  {
   "cell_type": "code",
   "execution_count": null,
   "metadata": {},
   "outputs": [],
   "source": [
    "sf_z_2.plot_scattering_intensity(norm_k_z2_, si_z2_, plot_type=\"all\", bins=40)"
   ]
  },
  {
   "cell_type": "code",
   "execution_count": null,
   "metadata": {},
   "outputs": [],
   "source": []
  }
 ],
 "metadata": {
  "interpreter": {
   "hash": "a6584cb6828064828c2cb112e22136ba2e1024300fda531ee55969ef2d6590b4"
  },
  "kernelspec": {
   "display_name": "Python 3",
   "language": "python",
   "name": "python3"
  },
  "language_info": {
   "codemirror_mode": {
    "name": "ipython",
    "version": 3
   },
   "file_extension": ".py",
   "mimetype": "text/x-python",
   "name": "python",
   "nbconvert_exporter": "python",
   "pygments_lexer": "ipython3",
   "version": "3.8.5"
  }
 },
 "nbformat": 4,
 "nbformat_minor": 2
}
