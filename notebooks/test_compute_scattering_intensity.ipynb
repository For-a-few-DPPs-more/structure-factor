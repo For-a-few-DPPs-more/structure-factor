{
 "cells": [
  {
   "cell_type": "code",
   "execution_count": null,
   "metadata": {},
   "outputs": [],
   "source": [
    "from IPython.core.display import display, HTML\n",
    "display(HTML(\"<style>.container { width:100% !important; }</style>\"))\n",
    "# %load_ext autotime  # must be added to dependencies\n",
    "%load_ext autoreload\n",
    "%autoreload 2\n",
    "import os\n",
    "import sys\n",
    "sys.path.insert(0, os.path.abspath('../src/'))"
   ]
  },
  {
   "cell_type": "code",
   "execution_count": null,
   "metadata": {},
   "outputs": [],
   "source": [
    "import numpy as np\n",
    "import matplotlib.pyplot as plt\n",
    "import scipy.stats\n",
    "from structure_factor.structure_factor_new import StructureFactor\n",
    "from structure_factor.spatstat_interface import SpatstatInterface\n",
    "from structure_factor.spatial_windows import UnitBoxWindow\n"
   ]
  },
  {
   "cell_type": "markdown",
   "metadata": {},
   "source": [
    "# test the method  ``compute_scattering_intensity`` of the calss ``StructureFactor``"
   ]
  },
  {
   "cell_type": "markdown",
   "metadata": {},
   "source": [
    "## loading data for test :\n",
    "Poisson point process, Ginibre point pross, lattice $\\mathbb{Z}^2$ matching processus of Michael Andreas Klatt, Günter Last, D. Yogeshwaran that we will denoted by kly defined in https://arxiv.org/abs/1810.00265"
   ]
  },
  {
   "cell_type": "code",
   "execution_count": null,
   "metadata": {},
   "outputs": [],
   "source": [
    "#importing big data\n",
    "import pickle\n",
    "import rpy2.robjects as robjects\n",
    "path_data = \"../data\"\n",
    "with open(os.path.join(path_data, \"data_ginibre.dat\"), \"rb\") as data:\n",
    "    n_ginibre, ginibre = pickle.load(data, encoding=\"bytes\")\n",
    "\n",
    "robjects.r[\"load\"](os.path.join(path_data, \"../data/data_kly.dat\"))\n",
    "data_R_2 = robjects.r[\"out_2\"]\n",
    "data_kly_all = np.array(data_R_2)"
   ]
  },
  {
   "cell_type": "markdown",
   "metadata": {},
   "source": [
    "We load big set of data that we already sample for time perpose. As we know that the method ``compute_scattering_intensity``work only for point configurations in **cubic windows** so for a point processes folling in a random window we will only take the points falling in a cubic window .\n",
    "For example a configuration of the Ginibre point process is always contained in a ball, so we will project it to a cubic window.\n",
    "To compare the effect of **dismissing points** we will test the poisson point process ``data_poisson_disk`` sampled in a disk via the function ``poisson_in_disk``   then projected to a cubic window ``data_poisson_cube_2`` and a poisson point process ``data_poisson_cube`` sampled directely in a cubic window  via the function ``poisson_in_rectangle``."
   ]
  },
  {
   "source": [
    "## Please consider using code from `homogeneous_poisson_process.py` and `spatial_windows.py` as presented in `Poisson-process-and-windows.ipynb`"
   ],
   "cell_type": "markdown",
   "metadata": {}
  },
  {
   "cell_type": "code",
   "execution_count": null,
   "metadata": {},
   "outputs": [],
   "source": [
    "def poisson_in_rectangle(xMin, xMax, yMin, yMax, lambda_p):\n",
    "    xDelta = xMax - xMin;yDelta = yMax - yMin #rectangle dimensions\n",
    "    areaTotal = xDelta * yDelta\n",
    "    n_pois = scipy.stats.poisson(lambda_p * areaTotal).rvs()#Poisson number of points\n",
    "    data_poisson_rectangle = np.zeros((n_pois, 2))\n",
    "    xx = xDelta*scipy.stats.uniform.rvs(0, 1, ((n_pois, 1))) + xMin#x coordinates of Poisson points\n",
    "    yy = yDelta*scipy.stats.uniform.rvs(0, 1, ((n_pois, 1))) + yMin#y coordinates of Poisson points\n",
    "    data_poisson_rectangle[:,0] = xx[:,0]\n",
    "    data_poisson_rectangle[:,1] = yy[:,0]\n",
    "    return data_poisson_rectangle"
   ]
  },
  {
   "cell_type": "code",
   "execution_count": null,
   "metadata": {},
   "outputs": [],
   "source": [
    "L_poisson=200\n",
    "data_poisson_cube = poisson_in_rectangle(-100, 100, -100, 100, lambda_p=1)"
   ]
  },
  {
   "cell_type": "code",
   "execution_count": null,
   "metadata": {},
   "outputs": [],
   "source": [
    "def poisson_in_disk(r, lambda_p):\n",
    "    areaTotal = np.pi * r ** 2 #area of disk\n",
    "    n_pois = np.random.poisson(lambda_p * areaTotal) #Poisson number of points\n",
    "    data_poisson_disk = np.zeros((n_pois, 2))\n",
    "    theta = 2 * np.pi * np.random.uniform(0, 1, n_pois) #angular coordinates \n",
    "    rho = r * np.sqrt(np.random.uniform(0, 1, n_pois))#radial coordinates \n",
    "    xx = rho * np.cos(theta)\n",
    "    yy = rho * np.sin(theta)\n",
    "    data_poisson_disk[:,0] = xx\n",
    "    data_poisson_disk[:,1] = yy # rearrangement of poisson by increasing distance\n",
    "    return data_poisson_disk"
   ]
  },
  {
   "cell_type": "code",
   "execution_count": null,
   "metadata": {},
   "outputs": [],
   "source": [
    "raduis_poisson = 300\n",
    "data_poisson_disk = poisson_in_disk(r=r_poisson, lambda_p=1)"
   ]
  },
  {
   "cell_type": "code",
   "execution_count": null,
   "metadata": {},
   "outputs": [],
   "source": [
    "print(\"data_kly.shape\", data_kly_all.shape)\n",
    "print(\"data_poisson_disk.shape\", data_poisson_disk.shape)\n",
    "print(\"data_poisson_cube.shape\", data_poisson_cube.shape)\n",
    "print(\"data_ginibre.shape\", ginibre.shape )"
   ]
  },
  {
   "cell_type": "code",
   "execution_count": null,
   "metadata": {},
   "outputs": [],
   "source": [
    "#load big data in the corresponding shape :math: `n /times 2`\n",
    "data_ginibre = np.array([np.array(np.real(ginibre)).reshape(-1,), np.array(np.imag(ginibre)).reshape(-1,)]).T\n",
    "data_kly = np.array([data_kly_all[:,0], data_kly_all[:,1]]).T\n",
    "data_z_2 = np.array([data_kly_all[:,2], data_kly_all[:,3]]).T"
   ]
  },
  {
   "cell_type": "code",
   "execution_count": null,
   "metadata": {},
   "outputs": [],
   "source": [
    "#verifying the shape\n",
    "print(\"data_kly.shape\", data_kly.shape)\n",
    "print(\"data_ginibre.shape\", data_ginibre.shape )"
   ]
  },
  {
   "cell_type": "code",
   "execution_count": null,
   "metadata": {},
   "outputs": [],
   "source": [
    "# truncating data_poisson and Ginibre in a cubic window\n",
    "# poisson, and ginibre are contained in a ball while klatt and z_2 are in a rectangular window L = 300\n",
    "L_poisson_2 = np.floor(raduis_poisson/np.sqrt(2))\n",
    "index_poisson_in_cube = np.logical_and((np.abs(data_poisson_disk[:,0]) < (L_poisson_2/2)) , (np.abs(data_poisson_disk[:,1]) < (L_poisson_2/2)))\n",
    "data_poisson_cube_2 = data_poisson_disk[index_poisson_in_cube]\n",
    "\n",
    "raduis_ginibre = np.max(np.abs(ginibre))\n",
    "L_ginibre = raduis_ginibre/np.sqrt(2)\n",
    "index_ginibre_in_cube = np.logical_and((np.abs(data_ginibre[:,0]) < L_ginibre/2) , (np.abs(data_ginibre[:,1]) < L_ginibre/2))\n",
    "data_ginibre_cube = data_ginibre[index_ginibre_in_cube]\n",
    "\n",
    "print(\"data_poisson_cube.shape\", data_poisson_cube_2.shape)\n",
    "print(\"data_ginibre_cube.shape\", data_ginibre.shape )\n",
    "fig, ax = plt.subplots(2, 2, figsize=(9,6))\n",
    "ax[0,0].plot(data_ginibre[:,0], data_ginibre[:,1], 'b,')\n",
    "ax[0,0].title.set_text(\"data ginibre\")\n",
    "ax[0,1].plot(data_ginibre_cube[:,0], data_ginibre_cube[:,1], 'b,')\n",
    "ax[0,1].title.set_text(\"data ginibre truncated in a cubic window\")\n",
    "ax[1,0].plot(data_poisson_disk[:,0], data_poisson_disk[:,1], 'b,')\n",
    "ax[1,0].title.set_text(\"data poisson\")\n",
    "ax[1,1].plot(data_poisson_cube_2[:,0], data_poisson_cube_2[:,1], 'b,')\n",
    "ax[1,1].title.set_text(\"data poisson truncated in a cubic window\")"
   ]
  },
  {
   "cell_type": "code",
   "execution_count": null,
   "metadata": {},
   "outputs": [],
   "source": [
    "sf_poisson_cube = StructureFactor(data_poisson_cube, intensity=1 )\n",
    "sf_poisson_cube_2 = StructureFactor(data_poisson_cube_2, intensity=1 )\n",
    "sf_ginibre_cube = StructureFactor(data_ginibre_cube, intensity = 1/np.pi )\n",
    "sf_kly = StructureFactor(data_kly, intensity= 1)\n",
    "sf_z_2 = StructureFactor(data_z_2, intensity=1)"
   ]
  },
  {
   "cell_type": "markdown",
   "metadata": {},
   "source": [
    "# for Poisson point process\n",
    "we know that the pair correlation function and the structure factor of the Poisson point process are equal to 1 so we always plot the line  $𝑦=1$  representing the théoretical values for a Poisson point process"
   ]
  },
  {
   "cell_type": "code",
   "execution_count": null,
   "metadata": {},
   "outputs": [],
   "source": [
    "wave_length_poisson, scattering_intensity_poisson = sf_poisson_cube.compute_scattering_intensity(L=L_poisson,maximum_k =10,meshgrid_size=None)"
   ]
  },
  {
   "cell_type": "markdown",
   "metadata": {},
   "source": [
    "the method ``plot_scattering_intensity`` take as input the output of the method ``compute_scattering_intensity`` to plot them.\n",
    "also take as optional argument ``binning_parameter``correspnding to the parameters used for binning of ``si``, and ``exact_sf`` which the true sctructure factor function"
   ]
  },
  {
   "cell_type": "code",
   "execution_count": null,
   "metadata": {},
   "outputs": [],
   "source": [
    "sf_poisson_cube.plot_scattering_intensity(wave_length_poisson.ravel(), scattering_intensity_poisson.ravel(), bins=40)"
   ]
  },
  {
   "cell_type": "code",
   "execution_count": null,
   "metadata": {},
   "outputs": [],
   "source": [
    "wave_length_poisson, scattering_intensity_poisson = sf_poisson_cube.compute_scattering_intensity(L=L_poisson,maximum_k =10,meshgrid_size=150)"
   ]
  },
  {
   "cell_type": "code",
   "execution_count": null,
   "metadata": {
    "scrolled": false
   },
   "outputs": [],
   "source": [
    "sf_poisson_cube.plot_scattering_intensity(wave_length_poisson, scattering_intensity_poisson, plot_type=\"all\",  bins=40, )"
   ]
  },
  {
   "cell_type": "code",
   "execution_count": null,
   "metadata": {},
   "outputs": [],
   "source": [
    "wave_length_poisson_2, scattering_intensity_poisson_2 = sf_poisson_cube_2.compute_scattering_intensity(L=L_poisson_2,maximum_k =10,meshgrid_size=150)"
   ]
  },
  {
   "cell_type": "code",
   "execution_count": null,
   "metadata": {},
   "outputs": [],
   "source": [
    "sf_poisson_cube_2.plot_scattering_intensity(wave_length_poisson_2, scattering_intensity_poisson_2, plot_type=\"all\",  bins=40 )"
   ]
  },
  {
   "cell_type": "markdown",
   "metadata": {},
   "source": [
    "# for Ginibre point process"
   ]
  },
  {
   "cell_type": "code",
   "execution_count": null,
   "metadata": {},
   "outputs": [],
   "source": [
    "exact_sf_ginibre = lambda x : 1 - np.exp(-x**2/4) # exact structure factor for the Ginibre point process"
   ]
  },
  {
   "cell_type": "code",
   "execution_count": null,
   "metadata": {},
   "outputs": [],
   "source": [
    "x=np.linspace(0,10, 1000)\n",
    "plt.plot(x, exact_sf_ginibre(x), 'r')\n",
    "plt.title(\"sf of Ginibre\")\n",
    "plt.show()"
   ]
  },
  {
   "cell_type": "code",
   "execution_count": null,
   "metadata": {},
   "outputs": [],
   "source": [
    "norm_k_ginibre, scattering_intensity_ginibre = sf_ginibre_cube.compute_scattering_intensity(L=L_ginibre,maximum_k =20)\n"
   ]
  },
  {
   "cell_type": "code",
   "execution_count": null,
   "metadata": {},
   "outputs": [],
   "source": [
    "sf_ginibre_cube.plot_scattering_intensity(norm_k_ginibre, scattering_intensity_ginibre, plot_type=\"plot\", exact_sf= exact_sf_ginibre, bins=100 )"
   ]
  },
  {
   "cell_type": "code",
   "execution_count": null,
   "metadata": {},
   "outputs": [],
   "source": [
    "x=np.linspace(0,25, 1000)\n",
    "plt.plot(x, exact_sf_ginibre(x), 'r', label=\"exat sf ginibre \")\n",
    "plt.plot(norm_k_ginibre, scattering_intensity_ginibre, 'k.')\n",
    "plt.show()"
   ]
  },
  {
   "cell_type": "code",
   "execution_count": null,
   "metadata": {},
   "outputs": [],
   "source": [
    "norm_k_ginibre_, scattering_intensity_ginibre_ = sf_ginibre_cube.compute_scattering_intensity(L=L_ginibre,maximum_k =10,meshgrid_size=300)"
   ]
  },
  {
   "cell_type": "code",
   "execution_count": null,
   "metadata": {},
   "outputs": [],
   "source": [
    "sf_ginibre_cube.plot_scattering_intensity(norm_k_ginibre_, scattering_intensity_ginibre_, plot_type=\"all\", bins=40 )"
   ]
  },
  {
   "cell_type": "markdown",
   "metadata": {},
   "source": [
    "# for the processus of  Michael Andreas Klatt, Günter Last, D. Yogeshwaran that we will denoted by kly defined in https://arxiv.org/abs/1810.00265"
   ]
  },
  {
   "cell_type": "code",
   "execution_count": null,
   "metadata": {},
   "outputs": [],
   "source": [
    "norm_k_kly, si_kly = sf_kly.compute_scattering_intensity(L=300, maximum_k=20)"
   ]
  },
  {
   "cell_type": "code",
   "execution_count": null,
   "metadata": {
    "scrolled": true
   },
   "outputs": [],
   "source": [
    "sf_kly.plot_scattering_intensity(norm_k_kly, si_kly, plot_type=\"plot\", bins=40 )"
   ]
  },
  {
   "cell_type": "code",
   "execution_count": null,
   "metadata": {},
   "outputs": [],
   "source": [
    "norm_k_kly_, si_kly_ = sf_kly.compute_scattering_intensity(L=300, maximum_k=10, meshgrid_size=150)"
   ]
  },
  {
   "cell_type": "code",
   "execution_count": null,
   "metadata": {
    "scrolled": false
   },
   "outputs": [],
   "source": [
    "sf_kly.plot_scattering_intensity(norm_k_kly_, si_kly_, plot_type=\"all\", bins=40)"
   ]
  },
  {
   "cell_type": "markdown",
   "metadata": {},
   "source": [
    "# for a lattice $\\mathbb{Z}^2$"
   ]
  },
  {
   "cell_type": "code",
   "execution_count": null,
   "metadata": {},
   "outputs": [],
   "source": [
    "norm_k_z2, si_z2 = sf_z_2.compute_scattering_intensity(L=300, maximum_k=50)"
   ]
  },
  {
   "cell_type": "code",
   "execution_count": null,
   "metadata": {},
   "outputs": [],
   "source": [
    "sf_z_2.plot_scattering_intensity(norm_k_z2, si_z2, plot_type=\"plot\", bins=40 )"
   ]
  },
  {
   "cell_type": "code",
   "execution_count": null,
   "metadata": {},
   "outputs": [],
   "source": [
    "plt.plot(norm_k_z2, si_z2, 'b.')"
   ]
  },
  {
   "cell_type": "code",
   "execution_count": null,
   "metadata": {},
   "outputs": [],
   "source": [
    "norm_k_z2_, si_z2_ = sf_z_2.compute_scattering_intensity(L=300, maximum_k=20, meshgrid_size=150)"
   ]
  },
  {
   "cell_type": "code",
   "execution_count": null,
   "metadata": {},
   "outputs": [],
   "source": [
    "sf_z_2.plot_scattering_intensity(norm_k_z2_, si_z2_, plot_type=\"all\", bins=40)"
   ]
  },
  {
   "cell_type": "code",
   "execution_count": null,
   "metadata": {},
   "outputs": [],
   "source": []
  }
 ],
 "metadata": {
  "interpreter": {
   "hash": "a6584cb6828064828c2cb112e22136ba2e1024300fda531ee55969ef2d6590b4"
  },
  "kernelspec": {
   "name": "python3",
   "display_name": "Python 3.8.5 64-bit ('.venv': venv)"
  },
  "language_info": {
   "codemirror_mode": {
    "name": "ipython",
    "version": 3
   },
   "file_extension": ".py",
   "mimetype": "text/x-python",
   "name": "python",
   "nbconvert_exporter": "python",
   "pygments_lexer": "ipython3",
   "version": "3.8.5"
  }
 },
 "nbformat": 4,
 "nbformat_minor": 2
}