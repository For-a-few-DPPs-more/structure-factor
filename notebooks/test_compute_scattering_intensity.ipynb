{
 "cells": [
  {
   "cell_type": "code",
   "execution_count": null,
   "metadata": {
    "ExecuteTime": {
     "end_time": "2021-07-09T09:33:56.051486Z",
     "start_time": "2021-07-09T09:33:56.023026Z"
    }
   },
   "outputs": [],
   "source": [
    "from IPython.core.display import display, HTML\n",
    "display(HTML(\"<style>.container { width:100% !important; }</style>\"))\n",
    "#%load_ext autotime  # must be added to dependencies\n",
    "%load_ext autoreload\n",
    "%autoreload 2\n",
    "import os\n",
    "import sys\n",
    "sys.path.insert(0, os.path.abspath('../src/'))"
   ]
  },
  {
   "cell_type": "code",
   "execution_count": null,
   "metadata": {
    "ExecuteTime": {
     "end_time": "2021-07-09T09:34:05.391637Z",
     "start_time": "2021-07-09T09:33:59.157735Z"
    }
   },
   "outputs": [],
   "source": [
    "import numpy as np\n",
    "import matplotlib.pyplot as plt\n",
    "import scipy.stats\n",
    "from structure_factor.structure_factor_new import StructureFactor\n",
    "from structure_factor.spatstat_interface import SpatstatInterface\n",
    "#from structure_factor.spatial_windows import UnitBoxWindow\n"
   ]
  },
  {
   "cell_type": "markdown",
   "metadata": {},
   "source": [
    "# test the method  ``compute_scattering_intensity`` of the calss ``StructureFactor``"
   ]
  },
  {
   "cell_type": "markdown",
   "metadata": {},
   "source": [
    "## loading data for test :\n",
    "Poisson point process (data_poisson_disk, data_poisson_cube), Ginibre point pross (data_ginibre), lattice $\\mathbb{Z}^2$ (data_z_2) and matching processus of Michael Andreas Klatt, Günter Last, D. Yogeshwaran that we will denoted by kly defined in https://arxiv.org/abs/1810.00265 (data_kly)"
   ]
  },
  {
   "cell_type": "markdown",
   "metadata": {},
   "source": [
    "We load big set of data that we already sampled for time perpose. As we know that the method ``compute_scattering_intensity``work only for point configurations in **cubic windows** so for a point processes lying in a random window we will only take the points falling in a cubic window .\n",
    "For example a configuration of the Ginibre point process is always contained in a ball, so we will project it to a cubic window.\n",
    "To compare the effect of **dismissing points** we will test the poisson point process ``data_poisson_disk`` sampled in a disk \n",
    "then projected to a cubic window ``data_poisson_cube_2`` and a poisson point process ``data_poisson_cube`` sampled directely in a cubic window. Note that you can creat a Poisson point process directly using the method ``homogeneous_poisson_process``and ``spatial_window``, an example will be given in the end of this notebook."
   ]
  },
  {
   "cell_type": "code",
   "execution_count": null,
   "metadata": {
    "ExecuteTime": {
     "end_time": "2021-07-09T09:34:05.417480Z",
     "start_time": "2021-07-09T09:34:05.394409Z"
    }
   },
   "outputs": [],
   "source": [
    "import pickle\n",
    "path_data = \"../data\"\n",
    "with open(os.path.join(path_data, \"test_data.dat\"), \"rb\") as data:\n",
    "    data_poisson_cube, L_poisson, data_poisson_disk, radius_poisson, data_ginibre, radius_ginibre, data_kly, L_kly, data_z_2, L_z_2 = pickle.load(data, encoding=\"bytes\")"
   ]
  },
  {
   "cell_type": "code",
   "execution_count": null,
   "metadata": {
    "ExecuteTime": {
     "end_time": "2021-07-09T09:34:06.366179Z",
     "start_time": "2021-07-09T09:34:06.338901Z"
    }
   },
   "outputs": [],
   "source": [
    "print(\"data_poisson_disk.shape\", data_poisson_disk.shape, \"radius_poisson\", radius_poisson)\n",
    "print(\"data_poisson_cube.shape\", data_poisson_cube.shape, \"L_poisson\", L_poisson )\n",
    "print(\"data_ginibre.shape\", data_ginibre.shape, \"radius_ginibre\", radius_ginibre )\n",
    "print(\"data_kly.shape\", data_kly.shape, \"L_kly\", L_kly)\n",
    "print(\"data_z_2.shape\", data_z_2.shape, \"L_z_2\", L_z_2)"
   ]
  },
  {
   "cell_type": "markdown",
   "metadata": {},
   "source": [
    "## Please consider using code from `homogeneous_poisson_process.py` and `spatial_windows.py` as presented in `Poisson-process-and-windows.ipynb`"
   ]
  },
  {
   "cell_type": "code",
   "execution_count": null,
   "metadata": {
    "ExecuteTime": {
     "end_time": "2021-07-09T09:34:14.989945Z",
     "start_time": "2021-07-09T09:34:14.610060Z"
    }
   },
   "outputs": [],
   "source": [
    "# truncating data_poisson and Ginibre in a cubic window\n",
    "# poisson, and ginibre are contained in a ball while klatt and z_2 are in a rectangular window L = 300\n",
    "L_poisson_2 = np.floor(radius_poisson/np.sqrt(2))\n",
    "index_poisson_in_cube = np.logical_and((np.abs(data_poisson_disk[:,0]) < (L_poisson_2/2)) , (np.abs(data_poisson_disk[:,1]) < (L_poisson_2/2)))\n",
    "data_poisson_cube_2 = data_poisson_disk[index_poisson_in_cube]\n",
    "\n",
    "\n",
    "L_ginibre = radius_ginibre/np.sqrt(2)\n",
    "index_ginibre_in_cube = np.logical_and((np.abs(data_ginibre[:,0]) < L_ginibre/2) , (np.abs(data_ginibre[:,1]) < L_ginibre/2))\n",
    "data_ginibre_cube = data_ginibre[index_ginibre_in_cube]\n",
    "\n",
    "print(\"data_poisson_cube.shape\", data_poisson_cube_2.shape)\n",
    "print(\"data_ginibre_cube.shape\", data_ginibre.shape )\n",
    "fig, ax = plt.subplots(2, 2, figsize=(9,6))\n",
    "ax[0,0].plot(data_ginibre[:,0], data_ginibre[:,1], 'b,')\n",
    "ax[0,0].title.set_text(\"data ginibre\")\n",
    "ax[0,1].plot(data_ginibre_cube[:,0], data_ginibre_cube[:,1], 'b,')\n",
    "ax[0,1].title.set_text(\"data ginibre truncated in a cubic window\")\n",
    "ax[1,0].plot(data_poisson_disk[:,0], data_poisson_disk[:,1], 'b,')\n",
    "ax[1,0].title.set_text(\"data poisson\")\n",
    "ax[1,1].plot(data_poisson_cube_2[:,0], data_poisson_cube_2[:,1], 'b,')\n",
    "ax[1,1].title.set_text(\"data poisson truncated in a cubic window\")"
   ]
  },
  {
   "cell_type": "code",
   "execution_count": null,
   "metadata": {
    "ExecuteTime": {
     "end_time": "2021-07-09T09:34:21.310646Z",
     "start_time": "2021-07-09T09:34:21.284088Z"
    }
   },
   "outputs": [],
   "source": [
    "sf_poisson_cube = StructureFactor(data_poisson_cube, intensity=1 )\n",
    "sf_poisson_cube_2 = StructureFactor(data_poisson_cube_2, intensity=1 )\n",
    "sf_ginibre = StructureFactor(data_ginibre, intensity=1/np.pi )\n",
    "sf_ginibre_cube = StructureFactor(data_ginibre_cube, intensity = 1/np.pi )\n",
    "sf_kly = StructureFactor(data_kly, intensity= 1)\n",
    "sf_z_2 = StructureFactor(data_z_2, intensity=1)"
   ]
  },
  {
   "cell_type": "markdown",
   "metadata": {},
   "source": [
    "# for Poisson point process\n",
    "we know that the pair correlation function and the structure factor of the Poisson point process are equal to 1 so we always plot the line  $𝑦=1$  representing the théoretical values for a Poisson point process"
   ]
  },
  {
   "cell_type": "code",
   "execution_count": null,
   "metadata": {
    "ExecuteTime": {
     "end_time": "2021-07-09T09:34:34.350083Z",
     "start_time": "2021-07-09T09:34:29.753692Z"
    }
   },
   "outputs": [],
   "source": [
    "wave_length_poisson, scattering_intensity_poisson = sf_poisson_cube.compute_scattering_intensity(L=L_poisson,maximum_k =10,meshgrid_size=None)"
   ]
  },
  {
   "cell_type": "markdown",
   "metadata": {},
   "source": [
    "the method ``plot_scattering_intensity`` take as input the output of the method ``compute_scattering_intensity`` to plot them.\n",
    "also take as optional argument ``binning_parameter``correspnding to the parameters used for binning of ``si``, and ``exact_sf`` which the true sctructure factor function"
   ]
  },
  {
   "cell_type": "code",
   "execution_count": null,
   "metadata": {
    "ExecuteTime": {
     "end_time": "2021-07-09T09:34:36.176946Z",
     "start_time": "2021-07-09T09:34:35.652150Z"
    }
   },
   "outputs": [],
   "source": [
    "sf_poisson_cube.plot_scattering_intensity(wave_length_poisson, scattering_intensity_poisson, bins=40)"
   ]
  },
  {
   "cell_type": "code",
   "execution_count": null,
   "metadata": {
    "ExecuteTime": {
     "end_time": "2021-07-09T09:34:41.942965Z",
     "start_time": "2021-07-09T09:34:39.416557Z"
    }
   },
   "outputs": [],
   "source": [
    "wave_length_poisson, scattering_intensity_poisson = sf_poisson_cube.compute_scattering_intensity(L=L_poisson,maximum_k =10,meshgrid_size=20)"
   ]
  },
  {
   "cell_type": "code",
   "execution_count": null,
   "metadata": {
    "ExecuteTime": {
     "end_time": "2021-07-09T09:34:42.777993Z",
     "start_time": "2021-07-09T09:34:41.945061Z"
    },
    "scrolled": false
   },
   "outputs": [],
   "source": [
    "sf_poisson_cube.plot_scattering_intensity(wave_length_poisson, scattering_intensity_poisson, plot_type=\"all\",  bins=40, )"
   ]
  },
  {
   "cell_type": "code",
   "execution_count": null,
   "metadata": {
    "ExecuteTime": {
     "end_time": "2021-07-09T09:36:18.065322Z",
     "start_time": "2021-07-09T09:34:45.311715Z"
    }
   },
   "outputs": [],
   "source": [
    "wave_length_poisson_2, scattering_intensity_poisson_2 = sf_poisson_cube_2.compute_scattering_intensity(L=L_poisson_2,maximum_k =10,meshgrid_size=150)"
   ]
  },
  {
   "cell_type": "code",
   "execution_count": null,
   "metadata": {},
   "outputs": [],
   "source": [
    "sf_poisson_cube_2.plot_scattering_intensity(wave_length_poisson_2, scattering_intensity_poisson_2, plot_type=\"all\",  bins=40 )"
   ]
  },
  {
   "cell_type": "markdown",
   "metadata": {},
   "source": [
    "# for Ginibre point process"
   ]
  },
  {
   "cell_type": "code",
   "execution_count": null,
   "metadata": {},
   "outputs": [],
   "source": [
    "exact_pcf_ginibre = lambda x : 1 - np.exp(-x**2)\n",
    "exact_sf_ginibre = lambda x : 1 - np.exp(-x**2/4) # exact structure factor for the Ginibre point process"
   ]
  },
  {
   "cell_type": "code",
   "execution_count": null,
   "metadata": {},
   "outputs": [],
   "source": [
    "x=np.linspace(0,10, 1000)\n",
    "plt.plot(x, exact_sf_ginibre(x), 'r')\n",
    "plt.title(\"sf of Ginibre\")\n",
    "plt.show()"
   ]
  },
  {
   "cell_type": "code",
   "execution_count": null,
   "metadata": {},
   "outputs": [],
   "source": [
    "norm_k_ginibre, scattering_intensity_ginibre = sf_ginibre_cube.compute_scattering_intensity(L=L_ginibre,maximum_k =20)\n"
   ]
  },
  {
   "cell_type": "code",
   "execution_count": null,
   "metadata": {},
   "outputs": [],
   "source": [
    "sf_ginibre_cube.plot_scattering_intensity(norm_k_ginibre, scattering_intensity_ginibre, plot_type=\"plot\", exact_sf= exact_sf_ginibre, bins=100 )"
   ]
  },
  {
   "cell_type": "code",
   "execution_count": null,
   "metadata": {},
   "outputs": [],
   "source": [
    "x=np.linspace(0,25, 1000)\n",
    "plt.plot(x, exact_sf_ginibre(x), 'r', label=\"exat sf ginibre \")\n",
    "plt.plot(norm_k_ginibre, scattering_intensity_ginibre, 'k.')\n",
    "plt.show()"
   ]
  },
  {
   "cell_type": "code",
   "execution_count": null,
   "metadata": {},
   "outputs": [],
   "source": [
    "norm_k_ginibre_, scattering_intensity_ginibre_ = sf_ginibre_cube.compute_scattering_intensity(L=L_ginibre,maximum_k =10,meshgrid_size=300)"
   ]
  },
  {
   "cell_type": "code",
   "execution_count": null,
   "metadata": {},
   "outputs": [],
   "source": [
    "sf_ginibre_cube.plot_scattering_intensity(norm_k_ginibre_, scattering_intensity_ginibre_, plot_type=\"all\", bins=40 )"
   ]
  },
  {
   "cell_type": "markdown",
   "metadata": {},
   "source": [
    "# for the processus of  Michael Andreas Klatt, Günter Last, D. Yogeshwaran that we will denoted by kly defined in https://arxiv.org/abs/1810.00265"
   ]
  },
  {
   "cell_type": "code",
   "execution_count": null,
   "metadata": {},
   "outputs": [],
   "source": [
    "norm_k_kly, si_kly = sf_kly.compute_scattering_intensity(L=300, maximum_k=20)"
   ]
  },
  {
   "cell_type": "code",
   "execution_count": null,
   "metadata": {
    "scrolled": true
   },
   "outputs": [],
   "source": [
    "sf_kly.plot_scattering_intensity(norm_k_kly, si_kly, plot_type=\"plot\", bins=40 )"
   ]
  },
  {
   "cell_type": "code",
   "execution_count": null,
   "metadata": {},
   "outputs": [],
   "source": [
    "norm_k_kly_, si_kly_ = sf_kly.compute_scattering_intensity(L=300, maximum_k=10, meshgrid_size=150)"
   ]
  },
  {
   "cell_type": "code",
   "execution_count": null,
   "metadata": {
    "scrolled": false
   },
   "outputs": [],
   "source": [
    "sf_kly.plot_scattering_intensity(norm_k_kly_, si_kly_, plot_type=\"all\", bins=40)"
   ]
  },
  {
   "cell_type": "markdown",
   "metadata": {},
   "source": [
    "# for a lattice $\\mathbb{Z}^2$"
   ]
  },
  {
   "cell_type": "code",
   "execution_count": null,
   "metadata": {},
   "outputs": [],
   "source": [
    "norm_k_z2, si_z2 = sf_z_2.compute_scattering_intensity(L=300, maximum_k=50)"
   ]
  },
  {
   "cell_type": "code",
   "execution_count": null,
   "metadata": {},
   "outputs": [],
   "source": [
    "sf_z_2.plot_scattering_intensity(norm_k_z2, si_z2, plot_type=\"plot\", bins=40 )"
   ]
  },
  {
   "cell_type": "code",
   "execution_count": null,
   "metadata": {},
   "outputs": [],
   "source": [
    "plt.plot(norm_k_z2, si_z2, 'b.')"
   ]
  },
  {
   "cell_type": "code",
   "execution_count": null,
   "metadata": {},
   "outputs": [],
   "source": [
    "norm_k_z2_, si_z2_ = sf_z_2.compute_scattering_intensity(L=300, maximum_k=20, meshgrid_size=150)"
   ]
  },
  {
   "cell_type": "code",
   "execution_count": null,
   "metadata": {},
   "outputs": [],
   "source": [
    "sf_z_2.plot_scattering_intensity(norm_k_z2_, si_z2_, plot_type=\"all\", bins=40)"
   ]
  },
  {
   "cell_type": "markdown",
   "metadata": {},
   "source": [
    "# testing ``compute_structure_factor_via_hankel``"
   ]
  },
  {
   "cell_type": "markdown",
   "metadata": {},
   "source": [
    "the method ``compute_structure_factor_via_hankel`` take in its argument *pcf* which is the pair correlation function $g$. If the pair correlation function is unkown, a discreat approximation on a vector *r* could be held using the method ``compute_pcf`` then the output discret sample $g(r)$ must be interpolated before passing it to ``compute_structure_factor_via_hankel`` since its argument *pcf* is an object of type **function**. This can be done using the method ``interpolate_pair_correlation_function``."
   ]
  },
  {
   "cell_type": "code",
   "execution_count": null,
   "metadata": {},
   "outputs": [],
   "source": []
  },
  {
   "cell_type": "code",
   "execution_count": null,
   "metadata": {
    "ExecuteTime": {
     "end_time": "2021-07-09T09:41:19.250157Z",
     "start_time": "2021-07-09T09:39:57.202144Z"
    }
   },
   "outputs": [],
   "source": [
    "sf_poisson_disk = StructureFactor(data_poisson_disk, intensity=1 )\n",
    "pcf_ppp_poisson = sf_poisson_disk.compute_pcf(radius=100, method=\"ppp\", correction=\"best\")\n",
    "pcf_ppp_poisson"
   ]
  },
  {
   "cell_type": "code",
   "execution_count": null,
   "metadata": {
    "ExecuteTime": {
     "end_time": "2021-07-09T09:41:26.605754Z",
     "start_time": "2021-07-09T09:41:26.454688Z"
    },
    "scrolled": true
   },
   "outputs": [],
   "source": [
    " sf_poisson_disk.plot_pcf(pcf_ppp_poisson, figsize=(8,5))"
   ]
  },
  {
   "cell_type": "code",
   "execution_count": null,
   "metadata": {
    "ExecuteTime": {
     "end_time": "2021-07-09T09:41:43.603895Z",
     "start_time": "2021-07-09T09:41:43.578931Z"
    }
   },
   "outputs": [],
   "source": [
    "\n",
    "interval, interpolated_pcf_ppp_poisson = sf_poisson_disk.interpolate_pcf(r=pcf_ppp_poisson[\"r\"],\n",
    "                                                               pcf_r=pcf_ppp_poisson[\"iso\"],\n",
    "                                                               clean=True ) \n",
    "\n"
   ]
  },
  {
   "cell_type": "code",
   "execution_count": null,
   "metadata": {},
   "outputs": [],
   "source": [
    "interval[\"r_max\"]\n"
   ]
  },
  {
   "cell_type": "code",
   "execution_count": null,
   "metadata": {
    "ExecuteTime": {
     "end_time": "2021-07-09T09:50:11.070540Z",
     "start_time": "2021-07-09T09:50:10.931574Z"
    }
   },
   "outputs": [],
   "source": [
    "k_= np.linspace(3,10, 100)\n",
    "sf_poisson_ogata = sf_poisson_disk.compute_structure_factor_via_hankel(interpolated_pcf_ppp_poisson, k =k_,\n",
    "                                                                       method=\"Ogata\", r_max= interval[\"r_max\"])"
   ]
  },
  {
   "cell_type": "code",
   "execution_count": null,
   "metadata": {},
   "outputs": [],
   "source": [
    "print(sf_poisson_disk.k_min)\n",
    "print((3.5 * np.pi) / (interval[\"r_max\"] *0.1))"
   ]
  },
  {
   "cell_type": "code",
   "execution_count": null,
   "metadata": {},
   "outputs": [],
   "source": [
    "plt.plot( k_ , sf_poisson_ogata, 'b.')"
   ]
  },
  {
   "cell_type": "code",
   "execution_count": null,
   "metadata": {
    "ExecuteTime": {
     "end_time": "2021-07-09T09:50:11.729594Z",
     "start_time": "2021-07-09T09:50:11.699933Z"
    }
   },
   "outputs": [],
   "source": [
    "k_= np.linspace(1,10, 1000)\n",
    "sf_poisson_baddour = sf_poisson_disk.compute_structure_factor_via_hankel(interpolated_pcf_ppp_poisson, k =k_, \n",
    "                                                                       method =\"BaddourChouinard\",\n",
    "                                                                       r_max=17, nb_points=100)"
   ]
  },
  {
   "cell_type": "code",
   "execution_count": null,
   "metadata": {},
   "outputs": [],
   "source": [
    "plt.plot( k_ , sf_poisson_baddour, 'b.')"
   ]
  },
  {
   "cell_type": "code",
   "execution_count": null,
   "metadata": {
    "ExecuteTime": {
     "end_time": "2021-07-09T09:50:17.463427Z",
     "start_time": "2021-07-09T09:50:12.626233Z"
    }
   },
   "outputs": [],
   "source": [
    "r_vect = np.linspace(0,50, 500)\n",
    "pcf_fv_poisson = sf_poisson_disk.compute_pcf(radius=200, method=\"fv\")\n",
    "pcf_fv_poisson"
   ]
  },
  {
   "cell_type": "code",
   "execution_count": null,
   "metadata": {
    "ExecuteTime": {
     "end_time": "2021-07-09T09:50:35.888840Z",
     "start_time": "2021-07-09T09:50:20.943685Z"
    }
   },
   "outputs": [],
   "source": [
    "r_vect = np.linspace(0,50, 500)\n",
    "pcf_fv_poisson = sf_poisson_disk.compute_pcf(radius=200, method=\"fv\", Kest=dict(r=r_vect), fv=dict(spar=0.1,  method=\"a\"))\n",
    "pcf_fv_poisson"
   ]
  },
  {
   "cell_type": "code",
   "execution_count": null,
   "metadata": {
    "ExecuteTime": {
     "end_time": "2021-07-09T09:50:41.654538Z",
     "start_time": "2021-07-09T09:50:41.529246Z"
    }
   },
   "outputs": [],
   "source": [
    " sf_poisson_disk.plot_pcf(pcf_fv_poisson, figsize=(8,5))"
   ]
  },
  {
   "cell_type": "code",
   "execution_count": null,
   "metadata": {},
   "outputs": [],
   "source": [
    "exact_pcf_ginibre = lambda x : 1 - np.exp(-x**2)\n",
    "exact_sf_ginibre = lambda x : 1 - np.exp(-x**2/4)"
   ]
  },
  {
   "cell_type": "code",
   "execution_count": null,
   "metadata": {
    "scrolled": true
   },
   "outputs": [],
   "source": [
    "k_= np.linspace(0,10, 1000)\n",
    "k, sf_ginibre_baddour = sf_ginibre.compute_structure_factor_via_hankel(exact_pcf_ginibre, k =k_, \n",
    "                                                                       method =\"BaddourChouinard\",\n",
    "                                                                       r_max=17, nb_points=100)\n",
    "plt.plot(k_ , sf_ginibre_baddour, 'b.')\n",
    "plt.plot(k_, exact_sf_ginibre(k_), 'r')\n",
    "plt.show"
   ]
  },
  {
   "cell_type": "code",
   "execution_count": null,
   "metadata": {},
   "outputs": [],
   "source": [
    "k_= np.linspace(1,10, 1000)\n",
    "k, sf_ginibre_baddour = sf_ginibre.compute_structure_factor_via_hankel(exact_pcf_ginibre, k =k_, \n",
    "                                                                       method =\"BaddourChouinard\",\n",
    "                                                                       r_max=17, nb_points=100)\n",
    "plt.plot(k_ , sf_ginibre_baddour, 'b.')\n",
    "plt.plot(k_, exact_sf_ginibre(k_), 'r')\n",
    "plt.show"
   ]
  },
  {
   "cell_type": "code",
   "execution_count": null,
   "metadata": {},
   "outputs": [],
   "source": [
    "sf_ginibre_baddour.shape"
   ]
  },
  {
   "cell_type": "code",
   "execution_count": null,
   "metadata": {},
   "outputs": [],
   "source": [
    "k_, sf_ginibre_baddour = sf_ginibre.compute_structure_factor_via_hankel(exact_pcf_ginibre, \n",
    "                                                                       method =\"BaddourChouinard\",\n",
    "                                                                       r_max=17, nb_points=100)\n",
    "plt.plot(k_ , sf_ginibre_baddour, 'b.')\n",
    "plt.plot(k_, exact_sf_ginibre(k_), 'r')\n",
    "plt.show"
   ]
  },
  {
   "cell_type": "code",
   "execution_count": null,
   "metadata": {},
   "outputs": [],
   "source": [
    "k= np.linspace(0,10, 1000)\n",
    "k, sf_ginibre_ogata = sf_ginibre.compute_structure_factor_via_hankel(exact_pcf_ginibre, k =k, \n",
    "                                                                       method =\"Ogata\", nb_points=1000)\n",
    "plt.plot(k , sf_ginibre_ogata, 'b.')\n",
    "plt.plot(k, exact_sf_ginibre(k), 'r')\n",
    "plt.show"
   ]
  },
  {
   "cell_type": "code",
   "execution_count": null,
   "metadata": {},
   "outputs": [],
   "source": []
  }
 ],
 "metadata": {
  "interpreter": {
   "hash": "a6584cb6828064828c2cb112e22136ba2e1024300fda531ee55969ef2d6590b4"
  },
  "kernelspec": {
   "display_name": "Python 3",
   "language": "python",
   "name": "python3"
  },
  "language_info": {
   "codemirror_mode": {
    "name": "ipython",
    "version": 3
   },
   "file_extension": ".py",
   "mimetype": "text/x-python",
   "name": "python",
   "nbconvert_exporter": "python",
   "pygments_lexer": "ipython3",
   "version": "3.8.5"
  },
  "toc": {
   "base_numbering": 1,
   "nav_menu": {},
   "number_sections": true,
   "sideBar": true,
   "skip_h1_title": false,
   "title_cell": "Table of Contents",
   "title_sidebar": "Contents",
   "toc_cell": false,
   "toc_position": {},
   "toc_section_display": true,
   "toc_window_display": false
  }
 },
 "nbformat": 4,
 "nbformat_minor": 2
}
