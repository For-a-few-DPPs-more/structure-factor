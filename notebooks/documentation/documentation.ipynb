{
 "cells": [
  {
   "cell_type": "code",
   "execution_count": null,
   "id": "7c573b22",
   "metadata": {},
   "outputs": [],
   "source": [
    "from IPython.core.display import display, HTML\n",
    "display(HTML(\"<style>.container { width:100% !important; }</style>\"))\n",
    "\n",
    "%load_ext autoreload\n",
    "%autoreload 2\n",
    "\n",
    "%config InlineBackend.figure_format='retina'\n",
    "import os\n",
    "import sys\n",
    "sys.path.insert(0, os.path.abspath('../src/'))"
   ]
  },
  {
   "cell_type": "markdown",
   "id": "f0bfc0bb",
   "metadata": {},
   "source": [
    "# Structure_factor"
   ]
  },
  {
   "cell_type": "code",
   "execution_count": null,
   "id": "83d54d40",
   "metadata": {},
   "outputs": [],
   "source": [
    "# Generate a PointPattern in a BoxWindow\n",
    "from structure_factor.point_process import HomogeneousPoissonPointProcess\n",
    "from structure_factor.spatial_windows import BoxWindow\n",
    "from structure_factor.point_pattern import PointPattern\n",
    "\n",
    "poisson = HomogeneousPoissonPointProcess(\n",
    "    intensity=1\n",
    ")  # Initialize a Poisson point process\n",
    "window = BoxWindow([[-50, 50], [-50, 50]])\n",
    "poisson_points = poisson.generate_sample(window=window)  # Sample a realization\n",
    "poisson_pp = PointPattern(points=poisson_points, window=window)  # Poisson PointPattern\n",
    "\n",
    "# Initialize the class StructureFactor\n",
    "from structure_factor.structure_factor import StructureFactor\n",
    "\n",
    "sf_poisson = StructureFactor(poisson_pp)\n",
    "\n",
    "# Compute the scattering intensity on allowed wavevectors\n",
    "k, s_si = sf_poisson.scattering_intensity(k_max=4)\n",
    "\n",
    "# Visualize the result\n",
    "import matplotlib.pyplot as plt\n",
    "sf_poisson.plot_spectral_estimator(\n",
    "    k, s_si, plot_type=\"all\", error_bar=True, bins=30, exact_sf=poisson.structure_factor, \n",
    "    scale=\"log\",\n",
    "    label=r\"$\\widehat{S}_{\\mathrm{SI}}(\\mathbf{k})$\"\n",
    ")\n",
    "plt.show()"
   ]
  },
  {
   "cell_type": "code",
   "execution_count": null,
   "id": "04d21602",
   "metadata": {},
   "outputs": [],
   "source": [
    "# Generate a PointPattern in a BoxWindow\n",
    "from structure_factor.point_process import HomogeneousPoissonPointProcess\n",
    "from structure_factor.spatial_windows import BoxWindow\n",
    "from structure_factor.point_pattern import PointPattern\n",
    "\n",
    "poisson = HomogeneousPoissonPointProcess(intensity=1)  # Initialize a Poisson point process\n",
    "window = BoxWindow([[-50, 50], [-50, 50]])\n",
    "poisson_points = poisson.generate_sample(window=window)  # Sample a realization\n",
    "poisson_pp = PointPattern(points=poisson_points, window=window)  # Poisson PointPattern\n",
    "\n",
    "# Initialize the class StructureFactor\n",
    "from structure_factor.structure_factor import StructureFactor\n",
    "\n",
    "sf_poisson = StructureFactor(poisson_pp)\n",
    "\n",
    "# Generalte wavevectors \n",
    "import numpy as np\n",
    "\n",
    "x = np.linspace(-3, 3, 100)\n",
    "x = x[x != 0] # Get rid of zero\n",
    "X, Y = np.meshgrid(x, x)\n",
    "k = np.column_stack((X.ravel(), Y.ravel()))\n",
    "\n",
    "# chose a taper\n",
    "from structure_factor.tapers import SineTaper\n",
    "\n",
    "p = [1, 1]\n",
    "taper = SineTaper(p) # First taper of the sinusoidal tapers\n",
    "\n",
    "# Compute the scaled tapered periodogram directly debiased\n",
    "s_ddtp = sf_poisson.tapered_periodogram(k=k, taper=taper, debiased=True, direct=True)\n",
    "\n",
    "# Visualize the result\n",
    "import matplotlib.pyplot as plt\n",
    "\n",
    "sf_poisson.plot_spectral_estimator(\n",
    "    k, s_ddtp, plot_type=\"all\", exact_sf=poisson.structure_factor, error_bar=True, \n",
    "    bins=30, label=r\"$\\widehat{S}_{\\mathrm{DDTP}}(t_1, \\mathbf{k})$\")\n",
    "plt.show()\n"
   ]
  },
  {
   "cell_type": "code",
   "execution_count": null,
   "id": "6d4c1c5f",
   "metadata": {},
   "outputs": [],
   "source": [
    "# Generate a PointPattern in a BoxWindow\n",
    "from structure_factor.point_process import HomogeneousPoissonPointProcess\n",
    "from structure_factor.spatial_windows import BoxWindow\n",
    "from structure_factor.point_pattern import PointPattern\n",
    "\n",
    "poisson = HomogeneousPoissonPointProcess(intensity=1)  # Initialize a Poisson point process\n",
    "window = BoxWindow([[-50, 50], [-50, 50]])\n",
    "poisson_points = poisson.generate_sample(window=window)  # Sample a realization\n",
    "poisson_pp = PointPattern(points=poisson_points, window=window)  # Poisson PointPattern\n",
    "\n",
    "# Initialize the class StructureFactor\n",
    "from structure_factor.structure_factor import StructureFactor\n",
    "\n",
    "sf_poisson = StructureFactor(poisson_pp)\n",
    "\n",
    "# Generalte wavevectors \n",
    "import numpy as np\n",
    "\n",
    "x = np.linspace(-2, 2, 80)\n",
    "x = x[x != 0] # Get rid of zero\n",
    "X, Y = np.meshgrid(x, x)\n",
    "k = np.column_stack((X.ravel(), Y.ravel()))\n",
    "\n",
    "\n",
    "# Compute the scaled multitapered periodogram undirectly debiased\n",
    "s_mddtp = sf_poisson.multitapered_periodogram(k, debiased=True, direct=True, p_component_max=2) # Use the family of sine tapers (default)\n",
    "\n",
    "# Visualize the result\n",
    "import matplotlib.pyplot as plt\n",
    "\n",
    "sf_poisson.plot_spectral_estimator(\n",
    "    k, s_mddtp, plot_type=\"all\", exact_sf=poisson.structure_factor, error_bar=True, \n",
    "    bins=30, label=r\"$\\widehat{S}_{\\mathrm{MDDTP}}((t_j)_1^4, \\mathbf{k})$\")\n",
    "plt.show()\n"
   ]
  },
  {
   "cell_type": "code",
   "execution_count": null,
   "id": "eecb1637",
   "metadata": {},
   "outputs": [],
   "source": [
    "# Generate a PointPattern in a BoxWindow\n",
    "from structure_factor.point_process import HomogeneousPoissonPointProcess\n",
    "from structure_factor.spatial_windows import BallWindow\n",
    "from structure_factor.point_pattern import PointPattern\n",
    "\n",
    "poisson = HomogeneousPoissonPointProcess(intensity=1)  # Initialize a Poisson point process\n",
    "window = BallWindow(center=[0,0], radius=50) # Creat a ball window\n",
    "poisson_points = poisson.generate_sample(window=window)  # Sample a realization\n",
    "poisson_pp = PointPattern(points=poisson_points, window=window)  # Poisson PointPattern\n",
    "\n",
    "# Initialize the class StructureFactor\n",
    "from structure_factor.structure_factor import StructureFactor\n",
    "\n",
    "sf_poisson = StructureFactor(poisson_pp)\n",
    "\n",
    "\n",
    "# Compute Bartlett isotropic estimator\n",
    "k_norm, s_bi = sf_poisson.bartlett_isotropic_estimator(n_allowed_k_norm=50) # on allowed wavenumbers\n",
    "\n",
    "# Visualize the result\n",
    "import matplotlib.pyplot as plt\n",
    "\n",
    "sf_poisson.plot_isotropic_estimator(\n",
    "    k_norm, s_bi, exact_sf=poisson.structure_factor, \n",
    "    label=r\"$\\widehat{S}_{\\mathrm{IB}}(k)$\")\n",
    "plt.show()\n"
   ]
  },
  {
   "cell_type": "markdown",
   "id": "42f7601b",
   "metadata": {},
   "source": [
    "hankel_quadrature"
   ]
  },
  {
   "cell_type": "code",
   "execution_count": null,
   "id": "eca303eb",
   "metadata": {},
   "outputs": [],
   "source": [
    "# Generate a PointPattern in a BoxWindow\n",
    "from structure_factor.point_process import HomogeneousPoissonPointProcess\n",
    "from structure_factor.spatial_windows import BallWindow\n",
    "from structure_factor.point_pattern import PointPattern\n",
    "\n",
    "poisson = HomogeneousPoissonPointProcess(intensity=1)  # Initialize a Poisson point process\n",
    "window = BallWindow(center=[0,0], radius=40) # Creat a ball window\n",
    "poisson_points = poisson.generate_sample(window=window)  # Sample a realization\n",
    "poisson_pp = PointPattern(points=poisson_points, window=window, seed=1)  # Poisson PointPattern\n",
    "\n",
    "# Approximate the pair correlation function\n",
    "from structure_factor.pair_correlation_function import PairCorrelationFunction as pcf\n",
    "poisson_pcf_fv = pcf.estimate(poisson_pp, method=\"fv\", Kest=dict(rmax=20), fv=dict(method=\"c\", spar=0.2))\n",
    "\n",
    "# Interpolate/extrapolate the results\n",
    "r = poisson_pcf_fv[\"r\"]\n",
    "pcf_r = poisson_pcf_fv[\"pcf\"]\n",
    "poisson_pcf_fct = pcf.interpolate(r=r, pcf_r=pcf_r, drop=True)\n",
    "\n",
    "# Initialize the class StructureFactor\n",
    "from structure_factor.structure_factor import StructureFactor\n",
    "sf_poisson = StructureFactor(poisson_pp)\n",
    "\n",
    "# Estimating the structure factor using Baddour Chouinard quadrature\n",
    "k_norm = np.linspace(1, 10, 500) # vector of wave length\n",
    "k_norm, s_hbc = sf_poisson.hankel_quadrature(poisson_pcf_fct, method=\"BaddourChouinard\", k_norm=k_norm, r_max=20,\n",
    "                                                    nb_points=1000)\n",
    "fig, axis = plt.subplots(figsize=(7,6))\n",
    "fig = sf_poisson.plot_isotropic_estimator(k_norm, s_hbc, axis=axis, error_bar=True, bins=10, \n",
    "                                           label=r\"$\\widehat{S}_{\\mathrm{BC}}(k)$\")"
   ]
  },
  {
   "cell_type": "markdown",
   "id": "ef7bd2bf",
   "metadata": {},
   "source": [
    "# pair_correlation_function"
   ]
  },
  {
   "cell_type": "code",
   "execution_count": null,
   "id": "9544358a",
   "metadata": {},
   "outputs": [],
   "source": [
    "# Generate a PointPattern in a BoxWindow\n",
    "from structure_factor.point_process import HomogeneousPoissonPointProcess\n",
    "from structure_factor.spatial_windows import BallWindow\n",
    "from structure_factor.point_pattern import PointPattern\n",
    "\n",
    "poisson = HomogeneousPoissonPointProcess(intensity=1)  # Initialize a Poisson point process\n",
    "window = BallWindow(center=[0,0], radius=40) # Creat a ball window\n",
    "poisson_points = poisson.generate_sample(window=window)  # Sample a realization\n",
    "poisson_pp = PointPattern(points=poisson_points, window=window)  # Poisson PointPattern\n",
    "\n",
    "# Approximate the pair correlation function\n",
    "from structure_factor.pair_correlation_function import PairCorrelationFunction as pcf\n",
    "ginibre_pcf_fv = pcf.estimate(poisson_pp, method=\"fv\", Kest=dict(rmax=20), fv=dict(method=\"c\", spar=0.2))\n",
    "ginibre_pcf_fv\n",
    "\n",
    "#plot the results\n",
    "pcf.plot(ginibre_pcf_fv, exact_pcf=poisson.pair_correlation_function, \n",
    "         figsize=(7,6), color=['grey'], style=[\".\"])"
   ]
  },
  {
   "cell_type": "markdown",
   "id": "70a5c08a",
   "metadata": {},
   "source": [
    " Interpolate/ extrapolate pcf"
   ]
  },
  {
   "cell_type": "code",
   "execution_count": null,
   "id": "d070d7ae",
   "metadata": {},
   "outputs": [],
   "source": [
    "# Generate a PointPattern in a BoxWindow\n",
    "from structure_factor.point_process import HomogeneousPoissonPointProcess\n",
    "from structure_factor.spatial_windows import BallWindow\n",
    "from structure_factor.point_pattern import PointPattern\n",
    "\n",
    "poisson = HomogeneousPoissonPointProcess(intensity=1)  # Initialize a Poisson point process\n",
    "window = BallWindow(center=[0,0], radius=40) # Creat a ball window\n",
    "poisson_points = poisson.generate_sample(window=window)  # Sample a realization\n",
    "poisson_pp = PointPattern(points=poisson_points, window=window, seed=1)  # Poisson PointPattern\n",
    "\n",
    "# Approximate the pair correlation function\n",
    "from structure_factor.pair_correlation_function import PairCorrelationFunction as pcf\n",
    "poisson_pcf_fv = pcf.estimate(poisson_pp, method=\"fv\", Kest=dict(rmax=20), fv=dict(method=\"c\", spar=0.2))\n",
    "\n",
    "# Interpolate/extrapolate the results\n",
    "r = poisson_pcf_fv[\"r\"]\n",
    "pcf_r = poisson_pcf_fv[\"pcf\"]\n",
    "poisson_pcf_fct = pcf.interpolate(r=r, pcf_r=pcf_r, drop=True, )\n",
    "\n",
    "# Plots the results\n",
    "import matplotlib.pyplot as plt\n",
    "import numpy as np\n",
    "x = np.linspace(0, 50, 200)\n",
    "plt.plot(x, poisson_pcf_fct(x), 'b.')\n",
    "plt.plot(x, poisson.pair_correlation_function(x), 'g')\n",
    "plt.show()"
   ]
  },
  {
   "cell_type": "markdown",
   "id": "6d38824e",
   "metadata": {},
   "source": [
    "# Isotropic_estimator"
   ]
  },
  {
   "cell_type": "markdown",
   "id": "9d9ed33b",
   "metadata": {},
   "source": [
    "allowed_k_norm"
   ]
  },
  {
   "cell_type": "code",
   "execution_count": null,
   "id": "520d1625",
   "metadata": {},
   "outputs": [],
   "source": [
    "from structure_factor.isotropic_estimator import allowed_k_norm\n",
    "k = allowed_k_norm(d=2, r=20, n=6)\n",
    "print(k)"
   ]
  },
  {
   "cell_type": "markdown",
   "id": "af726123",
   "metadata": {},
   "source": [
    "bartlett_estimator"
   ]
  },
  {
   "cell_type": "code",
   "execution_count": null,
   "id": "bc97c828",
   "metadata": {},
   "outputs": [],
   "source": [
    "# Generate a PointPattern in a BallWindow\n",
    "from structure_factor.point_process import HomogeneousPoissonPointProcess\n",
    "from structure_factor.spatial_windows import BallWindow\n",
    "from structure_factor.point_pattern import PointPattern\n",
    "import numpy as np\n",
    "\n",
    "poisson = HomogeneousPoissonPointProcess(intensity=1/(4*np.pi) ) # Initialize a Poisson point process\n",
    "window = BallWindow(radius=20, center=[0,0,0])\n",
    "poisson_points = poisson.generate_sample(window=window)  # Sample a realization\n",
    "poisson_pp = PointPattern(points=poisson_points, window=window)  # Point pattern\n",
    "\n",
    "from structure_factor.isotropic_estimator import bartlett_estimator\n",
    "k_norm = np.linspace(1, 5, 3) # wavenumbers\n",
    "k_norm, estimation = bartlett_estimator(poisson_pp, k_norm=k_norm)\n"
   ]
  },
  {
   "cell_type": "markdown",
   "id": "06f08783",
   "metadata": {},
   "source": [
    "# hyperuniformity"
   ]
  },
  {
   "cell_type": "code",
   "execution_count": null,
   "id": "f7603610",
   "metadata": {},
   "outputs": [],
   "source": [
    "# Load Ginibre PointPattern and restrict to BoxWindow\n",
    "from structure_factor.data import load_data\n",
    "from structure_factor.spatial_windows import BoxWindow\n",
    "ginibre_pp = load_data.load_ginibre()\n",
    "ginibre_pp_box = ginibre_pp.restrict_to_window(BoxWindow([[-35, 35], [-35, 35]]))\n",
    "\n",
    "# Approximate the structure factor\n",
    "from structure_factor.structure_factor import StructureFactor\n",
    "sf_ginibre_box = StructureFactor(ginibre_pp_box)\n",
    "## Wavevectors\n",
    "x = np.linspace(0, 3, 80) \n",
    "x = x[x != 0] # Eliminate zero\n",
    "X, Y = np.meshgrid(x, x)\n",
    "k = np.column_stack((X.ravel(), Y.ravel())) # Wavevectors\n",
    "s_ddmtp = sf_ginibre_box.multitapered_periodogram(k) # Estimate the structure factor\n",
    "\n",
    "# Regularize the results\n",
    "import structure_factor.utils as utils\n",
    "from structure_factor.hyperuniformity import Hyperuniformity\n",
    "k_norm = utils.norm_k(k)\n",
    "hyperuniformity_test = Hyperuniformity(k_norm, s_ddmtp) # Initialize Hyperuniformity\n",
    "\n",
    "k_norm_new, s_ddmtp_new, _ = hyperuniformity_test.bin_data(bins=40) # Regularization \n",
    "\n",
    "# Visualization of the results\n",
    "import matplotlib.pyplot as plt\n",
    "fig, axis = plt.subplots(figsize=(7,5))\n",
    "axis.plot(k_norm, s_ddmtp, 'b,', label=\"Before regularization\", rasterized=True)\n",
    "axis.legend()\n",
    "sf_ginibre_box.plot_isotropic_estimator(k_norm_new, s_ddmtp_new, axis=axis, color='m',\n",
    "                                        exact_sf=utils.structure_factor_ginibre, \n",
    "                                        label=\"After regularization\")\n",
    "plt.show()"
   ]
  },
  {
   "cell_type": "markdown",
   "id": "634ab5ba",
   "metadata": {},
   "source": [
    "effective_hyperuniformity"
   ]
  },
  {
   "cell_type": "code",
   "execution_count": null,
   "id": "cca69e36",
   "metadata": {},
   "outputs": [],
   "source": [
    "# Load Ginibre PointPattern and restrict to BoxWindow\n",
    "from structure_factor.data import load_data\n",
    "import numpy as np\n",
    "ginibre_pp = load_data.load_ginibre()\n",
    "\n",
    "# Approximate the structure factor\n",
    "from structure_factor.structure_factor import StructureFactor\n",
    "sf_ginibre = StructureFactor(ginibre_pp)\n",
    "k_norm, s_bi = sf_ginibre.bartlett_isotropic_estimator(n_allowed_k_norm=50) # Estimate the structure factor\n",
    "\n",
    "# Effective hyperuniformity\n",
    "from structure_factor.hyperuniformity import Hyperuniformity\n",
    "hyperuniformity_test = Hyperuniformity(k_norm, s_bi)\n",
    "H_ginibre, _ = hyperuniformity_test.effective_hyperuniformity(k_norm_stop=0.2)\n",
    "\n",
    "# Visualization of the results\n",
    "import matplotlib.pyplot as plt\n",
    "import structure_factor.utils as utils\n",
    "fitted_line = hyperuniformity_test.fitted_line # Fitted line to s_bi\n",
    "x = np.linspace(0, 1, 300)\n",
    "fig, axis =plt.subplots(figsize=(7,5))\n",
    "axis.plot(k_norm, s_bi, 'b', marker=\".\", label=\"Approximated structure factor\")\n",
    "axis.plot(x, fitted_line(x), 'r--', label= \"Fitted line\")\n",
    "axis.plot(k_norm, utils.structure_factor_ginibre(k_norm), 'g', label=r\"$S(k)$\")\n",
    "axis.annotate('H={}'.format(H_ginibre), xy=(0, 0), xytext=(0.01,0.1),\n",
    "            arrowprops=dict(facecolor='black', shrink=0.0001))\n",
    "axis.legend()\n",
    "axis.set_xlabel('wavelength (k)')\n",
    "axis.set_ylabel(r\"Structure factor ($\\mathsf{S}(k)$\")\n",
    "plt.show()"
   ]
  },
  {
   "cell_type": "code",
   "execution_count": null,
   "id": "75842a25",
   "metadata": {},
   "outputs": [],
   "source": [
    "hyperuniformity_class"
   ]
  },
  {
   "cell_type": "code",
   "execution_count": null,
   "id": "2ea1bef9",
   "metadata": {},
   "outputs": [],
   "source": [
    "# Load Ginibre PointPattern and restrict to BoxWindow\n",
    "from structure_factor.data import load_data\n",
    "import numpy as np\n",
    "ginibre_pp = load_data.load_ginibre()\n",
    "\n",
    "# Approximate the structure factor\n",
    "from structure_factor.structure_factor import StructureFactor\n",
    "sf_ginibre = StructureFactor(ginibre_pp)\n",
    "k_norm, s_bi = sf_ginibre.bartlett_isotropic_estimator(n_allowed_k_norm=40) # Estimate the structure factor\n",
    "\n",
    "# Hyperuniformity class\n",
    "from structure_factor.hyperuniformity import Hyperuniformity\n",
    "hyperuniformity_test = Hyperuniformity(k_norm, s_bi)\n",
    "alpha_ginibre, _ = hyperuniformity_test.hyperuniformity_class(k_norm_stop=0.4)\n",
    "\n",
    "# Visualization of the results\n",
    "import matplotlib.pyplot as plt\n",
    "import structure_factor.utils as utils\n",
    "fitted_poly = hyperuniformity_test.fitted_poly # Fitted polynomial to s_bi\n",
    "fig, axis =plt.subplots(figsize=(7,5))\n",
    "axis.plot(k_norm, s_bi, 'b', marker=\".\", label=\"Approximated structure factor\")\n",
    "axis.plot(k_norm, utils.structure_factor_ginibre(k_norm), 'g', label=r\"$S(k)$\")\n",
    "axis.plot(k_norm, fitted_poly(k_norm), 'r--', label= \"Fitted line\")\n",
    "axis.annotate(r\" $\\alpha$ ={}\".format(alpha_ginibre), xy=(0, 0), xytext=(0.01,0.1),\n",
    "            arrowprops=dict(facecolor='black', shrink=0.0001))\n",
    "axis.legend()\n",
    "axis.set_xlabel('wavelength (k)')\n",
    "axis.set_ylabel(r\"Structure factor ($\\mathsf{S}(k)$\")\n",
    "plt.show()"
   ]
  },
  {
   "cell_type": "markdown",
   "id": "2bd8b5cf",
   "metadata": {},
   "source": [
    "# Spatial_window"
   ]
  },
  {
   "cell_type": "code",
   "execution_count": null,
   "id": "b54d8e54",
   "metadata": {},
   "outputs": [],
   "source": [
    "from structure_factor.spatial_windows import BallWindow\n",
    "import matplotlib.pyplot as plt\n",
    "\n",
    "window = BallWindow(radius=10, center=[0, 0])\n",
    "points = window.rand(n=400)\n",
    "plt.plot(points[:,0], points[:,1], 'b.')\n",
    "plt.show()"
   ]
  },
  {
   "cell_type": "code",
   "execution_count": null,
   "id": "d8effb30",
   "metadata": {},
   "outputs": [],
   "source": [
    "from structure_factor.spatial_windows import BoxWindow\n",
    "import matplotlib.pyplot as plt\n",
    "\n",
    "window = BoxWindow(bounds=[[-12, 10], [-20, 7]])\n",
    "points = window.rand(n=400)\n",
    "plt.plot(points[:,0], points[:,1], 'b.')\n",
    "plt.show()"
   ]
  },
  {
   "cell_type": "code",
   "execution_count": null,
   "id": "b3d5a107",
   "metadata": {},
   "outputs": [],
   "source": []
  }
 ],
 "metadata": {
  "kernelspec": {
   "display_name": "Python 3 (ipykernel)",
   "language": "python",
   "name": "python3"
  },
  "language_info": {
   "codemirror_mode": {
    "name": "ipython",
    "version": 3
   },
   "file_extension": ".py",
   "mimetype": "text/x-python",
   "name": "python",
   "nbconvert_exporter": "python",
   "pygments_lexer": "ipython3",
   "version": "3.9.2"
  }
 },
 "nbformat": 4,
 "nbformat_minor": 5
}
