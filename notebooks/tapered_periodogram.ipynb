{
 "cells": [
  {
   "cell_type": "markdown",
   "id": "15dfcbea",
   "metadata": {},
   "source": [
    "# This notebook test all direct spectral estimator of the structure factor:\n",
    "Scattering intensity, taper, debiased taper, multitaper, debiased multitaper"
   ]
  },
  {
   "cell_type": "code",
   "execution_count": null,
   "id": "520294bc",
   "metadata": {},
   "outputs": [],
   "source": [
    "#from IPython.core.display import display, HTML\n",
    "#display(HTML(\"<style>.container { width:100% !important; }</style>\"))\n",
    "\n",
    "import matplotlib as mpl\n",
    "import matplotlib.pyplot as plt\n",
    "%load_ext autoreload\n",
    "%autoreload 2\n",
    "\n",
    "%config InlineBackend.figure_format='retina'"
   ]
  },
  {
   "cell_type": "code",
   "execution_count": null,
   "id": "4b9c227b",
   "metadata": {},
   "outputs": [],
   "source": [
    "import numpy as np\n",
    "from structure_factor.data import load_data\n",
    "import structure_factor.utils as utils\n",
    "import structure_factor.spectral_estimator as spe\n",
    "from structure_factor.structure_factor import StructureFactor\n",
    "# restrict the Ginibre pattern to a cubic window\n",
    "from structure_factor.spatial_windows import BoxWindow, BallWindow\n",
    "from structure_factor.point_pattern import PointPattern\n",
    "import structure_factor.tapers as tapers"
   ]
  },
  {
   "cell_type": "code",
   "execution_count": null,
   "id": "7905092f",
   "metadata": {},
   "outputs": [],
   "source": [
    "params.setdefault(\"step_size\", 0.1)"
   ]
  },
  {
   "cell_type": "markdown",
   "id": "038fb085",
   "metadata": {},
   "source": [
    "# Test direct spectral estimator for Ginibre ensemble On allowed values "
   ]
  },
  {
   "cell_type": "code",
   "execution_count": null,
   "id": "0719f642",
   "metadata": {},
   "outputs": [],
   "source": [
    "#ginibre \n",
    "ginibre_pp = load_data.load_ginibre()\n",
    "#restrict to box window\n",
    "L = ginibre_pp.window.radius/np.sqrt(2) # side length of the cubic window\n",
    "\n",
    "bounds = [[-L/2, L/2], [-L/2, L/2]] \n",
    "window = BoxWindow(bounds) # create a cubic window\n",
    "ginibre_pp_box = ginibre_pp.restrict_to_window(window)\n",
    "#ginibre points\n",
    "points = ginibre_pp_box.points\n",
    "sf_ginibre = StructureFactor(ginibre_pp_box)"
   ]
  },
  {
   "cell_type": "markdown",
   "id": "904d4169",
   "metadata": {},
   "source": [
    "## Scattering inetnsity"
   ]
  },
  {
   "cell_type": "code",
   "execution_count": null,
   "id": "a90f8d6c",
   "metadata": {},
   "outputs": [],
   "source": [
    "# on allowed values \n",
    "allowed_k, si = sf_ginibre.scattering_intensity()"
   ]
  },
  {
   "cell_type": "code",
   "execution_count": null,
   "id": "fb838574",
   "metadata": {},
   "outputs": [],
   "source": [
    "x = np.linspace(-8, 8, 200)\n",
    "x = x[x != 0]\n",
    "X, Y = np.meshgrid(x, x)\n",
    "k = np.column_stack((X.ravel(), Y.ravel()))\n",
    "# on k \n",
    "k, si1 = sf_ginibre.scattering_intensity(k=k, debiased=False)\n",
    "# on k debiased directly\n",
    "k, si2 = sf_ginibre.scattering_intensity(k=k, debiased=True)\n",
    "# on k debiased undirectly\n",
    "k, si3 = sf_ginibre.scattering_intensity(k=k, debiased=True, undirect=True)"
   ]
  },
  {
   "cell_type": "code",
   "execution_count": null,
   "id": "4c611c53",
   "metadata": {},
   "outputs": [],
   "source": [
    "si.shape"
   ]
  },
  {
   "cell_type": "code",
   "execution_count": null,
   "id": "847331c5",
   "metadata": {},
   "outputs": [],
   "source": [
    "print(\"Scattering intensity\")\n",
    "k_norm = np.linalg.norm(allowed_k, axis=1)\n",
    "fig, axis = plt.subplots(figsize=(6,6))\n",
    "fig = sf_ginibre.plot_scattering_intensity(allowed_k, si, axes=axis, plot_type=\"radial\",exact_sf=utils.structure_factor_ginibre(k_norm),\n",
    "                                            bins=40, error_bar=True, file_name=\"si_allowed_k\")"
   ]
  },
  {
   "cell_type": "code",
   "execution_count": null,
   "id": "34798b30",
   "metadata": {
    "scrolled": false
   },
   "outputs": [],
   "source": [
    "\n",
    "shape_mesh = (150, 150)\n",
    "allowed_k, K = utils.allowed_wave_vectors(d=2, L=L, k_max=10, meshgrid_shape=shape_mesh)\n",
    "\n",
    "\n",
    "k_norm_1, si_1 = sf_ginibre.scattering_intensity(k_max=10, meshgrid_shape=shape_mesh) # on allowed values\n",
    "_, i0_1 = sf_ginibre.scattering_intensity_debiased(allowed_k)\n",
    "_, i0_2 = sf_ginibre.scattering_intensity_debiased(allowed_k)\n",
    "\n",
    "k_nomr_3, sf_mtpp = sf_ginibre.multitaper_periodogram(P=2, k= allowed_k)\n",
    "_, sf_mtpp_debiased = sf_ginibre.multitaper_periodogram_debiased(P=3, k=allowed_k, undirect=False)\n",
    "_, sf_mtpp_debiased_undirect = sf_ginibre.multitaper_periodogram_debiased(P=3, k=allowed_k, undirect=True)\n"
   ]
  },
  {
   "cell_type": "code",
   "execution_count": null,
   "id": "01a8f0a9",
   "metadata": {
    "scrolled": true
   },
   "outputs": [],
   "source": [
    "#plot the result\n",
    "#plot result\n",
    "print(\"Scattering intensity on allowed values\")\n",
    "fig = sf_ginibre.plot_scattering_intensity(k_norm_1, si_1, plot_type=\"all\",exact_sf=utils.structure_factor_ginibre,\n",
    "                                            bins=40, error_bar=True)\n"
   ]
  },
  {
   "cell_type": "code",
   "execution_count": null,
   "id": "bc541d2a",
   "metadata": {},
   "outputs": [],
   "source": [
    "print(\"debiased estimator on allowed values\")\n",
    "fig = sf_ginibre.plot_scattering_intensity(k_norm_1, i0_1, plot_type=\"all\",exact_sf=utils.structure_factor_ginibre,\n",
    "                                              bins=40, error_bar=True)"
   ]
  },
  {
   "cell_type": "code",
   "execution_count": null,
   "id": "6b24a1c1",
   "metadata": {},
   "outputs": [],
   "source": [
    "print(\"Second debiased estimator on allowed values\")\n",
    "fig = sf_ginibre.plot_scattering_intensity(k_norm_1, i0_2, plot_type=\"all\",exact_sf=utils.structure_factor_ginibre,\n",
    "                                              bins=40, error_bar=True)"
   ]
  },
  {
   "cell_type": "code",
   "execution_count": null,
   "id": "b7d197c4",
   "metadata": {},
   "outputs": [],
   "source": [
    "print(\"multitaper on allowed values\")\n",
    "fig = sf_ginibre.plot_scattering_intensity(k_norm_1,sf_mtpp, plot_type=\"all\",\n",
    "                                              exact_sf=utils.structure_factor_ginibre,\n",
    "                                              bins=40, error_bar=True,\n",
    "                                              #file_name=\"si_ginibre.pdf\"\n",
    "                                              )"
   ]
  },
  {
   "cell_type": "code",
   "execution_count": null,
   "id": "2ae56adb",
   "metadata": {},
   "outputs": [],
   "source": [
    "print(\"debiased multitaper on allowed values\")\n",
    "fig = sf_ginibre.plot_scattering_intensity(k_norm_1,sf_mtpp_debiased, plot_type=\"all\",\n",
    "                                              exact_sf=utils.structure_factor_ginibre,\n",
    "                                              bins=40, error_bar=True)"
   ]
  },
  {
   "cell_type": "code",
   "execution_count": null,
   "id": "15d08d84",
   "metadata": {},
   "outputs": [],
   "source": [
    "print(\"undirect debiased multitatper\")\n",
    "fig = sf_ginibre.plot_scattering_intensity(k_norm_1,sf_mtpp_debiased_undirect, plot_type=\"all\",\n",
    "                                              exact_sf=utils.structure_factor_ginibre,\n",
    "                                              bins=40, error_bar=True)"
   ]
  },
  {
   "cell_type": "markdown",
   "id": "897647ff",
   "metadata": {},
   "source": [
    "## On non allowed values"
   ]
  },
  {
   "cell_type": "code",
   "execution_count": null,
   "id": "8ac203e4",
   "metadata": {},
   "outputs": [],
   "source": [
    "# k gride\n",
    "x = np.linspace(-8, 8, 150)\n",
    "x = x[x != 0]\n",
    "X, Y = np.meshgrid(x, x)\n",
    "k = np.column_stack((X.ravel(), Y.ravel()))\n",
    "sf_ginibre = StructureFactor(ginibre_pp_box)"
   ]
  },
  {
   "cell_type": "code",
   "execution_count": null,
   "id": "8eceacdc",
   "metadata": {},
   "outputs": [],
   "source": [
    "k_norm_1, si_1 = sf_ginibre.scattering_intensity(k) # on allowed values\n",
    "_, i0_1 = sf_ginibre.scattering_intensity_debiased(k)\n",
    "_, i0_2 = sf_ginibre.scattering_intensity_debiased(k, undirect=True)\n",
    "\n",
    "k_norm_3, sf_mtpp = sf_ginibre.multitaper_periodogram(P=2, k= k)\n",
    "_, sf_mtpp_debiased = sf_ginibre.multitaper_periodogram_debiased(P=2, k=k, undirect=False)\n",
    "_, sf_mtpp_debiased_undirect = sf_ginibre.multitaper_periodogram_debiased(P=2, k=k, undirect=True)\n"
   ]
  },
  {
   "cell_type": "code",
   "execution_count": null,
   "id": "7762054b",
   "metadata": {},
   "outputs": [],
   "source": [
    "print(\"exact periodogram\")\n",
    "periodogram = utils.structure_factor_ginibre(k_norm_1)\n",
    "fig = sf_ginibre.plot_scattering_intensity(k_norm_1, periodogram, plot_type=\"all\")"
   ]
  },
  {
   "cell_type": "code",
   "execution_count": null,
   "id": "436b9613",
   "metadata": {},
   "outputs": [],
   "source": [
    "print(\"Scattering intensity on non allowed values\")\n",
    "fig = sf_ginibre.plot_scattering_intensity(k_norm_1, si_1, plot_type=\"all\", exact_sf=utils.structure_factor_ginibre,\n",
    "                                              bins=40, error_bar=True)"
   ]
  },
  {
   "cell_type": "code",
   "execution_count": null,
   "id": "9ca6f6b7",
   "metadata": {},
   "outputs": [],
   "source": [
    "print(\"Direct debiased estimator on non allowed values\")\n",
    "fig = sf_ginibre.plot_scattering_intensity(k_norm_1, i0_1, plot_type=\"all\",exact_sf=utils.structure_factor_ginibre,\n",
    "                                              bins=50, error_bar=True)"
   ]
  },
  {
   "cell_type": "code",
   "execution_count": null,
   "id": "027e9fac",
   "metadata": {},
   "outputs": [],
   "source": [
    "print(\"undirect debiased estimator on non allowed values\")\n",
    "fig = sf_ginibre.plot_scattering_intensity(k_norm_1, i0_2, plot_type=\"all\", exact_sf=utils.structure_factor_ginibre,\n",
    "                                              bins=40, error_bar=True)"
   ]
  },
  {
   "cell_type": "code",
   "execution_count": null,
   "id": "8c898f6d",
   "metadata": {},
   "outputs": [],
   "source": [
    "print(\"multitaper on non allowed values\")\n",
    "fig = sf_ginibre.plot_scattering_intensity(k_norm_1,sf_mtpp, plot_type=\"all\",exact_sf=utils.structure_factor_ginibre,\n",
    "                                              bins=40, error_bar=True)"
   ]
  },
  {
   "cell_type": "code",
   "execution_count": null,
   "id": "ca87eb6d",
   "metadata": {},
   "outputs": [],
   "source": [
    "print(\"debiased multitaper on non allowed values\")\n",
    "fig = sf_ginibre.plot_scattering_intensity(k_norm_1,sf_mtpp_debiased, plot_type=\"all\",exact_sf=utils.structure_factor_ginibre,\n",
    "                                              bins=40, error_bar=True)"
   ]
  },
  {
   "cell_type": "code",
   "execution_count": null,
   "id": "540f24d1",
   "metadata": {
    "scrolled": true
   },
   "outputs": [],
   "source": [
    "print(\"undirect debiased multitatper on non allowed values\")\n",
    "fig = sf_ginibre.plot_scattering_intensity(k_norm_1,sf_mtpp_debiased_undirect, plot_type=\"all\", exact_sf=utils.structure_factor_ginibre,\n",
    "                                              bins=40, error_bar=True)"
   ]
  },
  {
   "cell_type": "code",
   "execution_count": null,
   "id": "2afa86dd",
   "metadata": {},
   "outputs": [],
   "source": [
    "print(\"absolut value of the undirect debiased multitatper on non allowed values\")\n",
    "fig = sf_ginibre.plot_scattering_intensity(k_norm_1,np.abs(sf_mtpp_debiased_undirect), plot_type=\"all\", exact_sf=utils.structure_factor_ginibre,\n",
    "                                              bins=40, error_bar=True)"
   ]
  },
  {
   "cell_type": "markdown",
   "id": "e9cf1fe2",
   "metadata": {},
   "source": [
    "# Isotropic estimator"
   ]
  },
  {
   "cell_type": "code",
   "execution_count": null,
   "id": "c33083e6",
   "metadata": {},
   "outputs": [],
   "source": [
    "import time\n",
    "import structure_factor.isotropic_njit as iso_numba"
   ]
  },
  {
   "cell_type": "code",
   "execution_count": null,
   "id": "e35fa5f1",
   "metadata": {},
   "outputs": [],
   "source": [
    "#ginibre \n",
    "ginibre_pp = load_data.load_ginibre()\n",
    "#restrict to small ball window\n",
    "R = 100\n",
    "center = [0,0] \n",
    "window = BallWindow(radius=R, center=center) # create a cubic window\n",
    "ginibre_pp_ball = ginibre_pp.restrict_to_window(window)\n",
    "#ginibre points\n",
    "points = ginibre_pp_ball.points\n",
    "sf_ginibre = StructureFactor(ginibre_pp_ball)\n",
    "\n",
    "k = np.linspace(1, 10, 16**2)"
   ]
  },
  {
   "cell_type": "code",
   "execution_count": null,
   "id": "03edb1c3",
   "metadata": {},
   "outputs": [],
   "source": [
    "from structure_factor.utils import  bessel1_zeros\n",
    "x = bessel1_zeros(1, 200)\n",
    "k = x/ginibre_pp_ball.window.radius"
   ]
  },
  {
   "cell_type": "code",
   "execution_count": null,
   "id": "4d4092fc",
   "metadata": {},
   "outputs": [],
   "source": [
    "ginibre_pp.window.radius"
   ]
  },
  {
   "cell_type": "code",
   "execution_count": null,
   "id": "bc0cf284",
   "metadata": {},
   "outputs": [],
   "source": [
    "from structure_factor.spectral_estimator import isotropic_bartlett_estimator\n",
    "\n",
    "%time k_norm, s_ib = isotropic_bartlett_estimator(k, ginibre_pp_ball)\n"
   ]
  },
  {
   "cell_type": "code",
   "execution_count": null,
   "id": "f22cd52c",
   "metadata": {},
   "outputs": [],
   "source": [
    "print(\"Bartlett isotropic estimator on non allowed values\")\n",
    "fig = sf_ginibre.plot_scattering_intensity(k, s_ib, plot_type=\"radial\", exact_sf=utils.structure_factor_ginibre,\n",
    "                                              bins=40, error_bar=True)\n"
   ]
  },
  {
   "cell_type": "code",
   "execution_count": null,
   "id": "61fe0dd9",
   "metadata": {},
   "outputs": [],
   "source": [
    "\n",
    "%time k_norm, s_ib = iso_numba.isotropic_estimator(ginibre_pp_ball)"
   ]
  },
  {
   "cell_type": "code",
   "execution_count": null,
   "id": "aa49e309",
   "metadata": {},
   "outputs": [],
   "source": [
    "print(\"Bartlett isotropic estimator on non allowed values\")\n",
    "fig = sf_ginibre.plot_scattering_intensity(k_norm[1:], s_ib[1:], plot_type=\"radial\", exact_sf=utils.structure_factor_ginibre,\n",
    "                                              bins=40, error_bar=True)"
   ]
  },
  {
   "cell_type": "code",
   "execution_count": null,
   "id": "a35b1be8",
   "metadata": {},
   "outputs": [],
   "source": [
    "np.min(k_norm)"
   ]
  },
  {
   "cell_type": "code",
   "execution_count": null,
   "id": "3879e717",
   "metadata": {},
   "outputs": [],
   "source": [
    "k_norm[0]"
   ]
  },
  {
   "cell_type": "code",
   "execution_count": null,
   "id": "1678cb9a",
   "metadata": {},
   "outputs": [],
   "source": [
    "2*np.pi/70"
   ]
  },
  {
   "cell_type": "code",
   "execution_count": null,
   "id": "94b95fd4",
   "metadata": {},
   "outputs": [],
   "source": [
    "k_ = np.array([[1, 0], [2, 0], [4, 1], [5, 2]])\n",
    "K = np.atleast_2d(k_)\n",
    "norm_k = np.linalg.norm(k_, axis=1)\n",
    "norm_k"
   ]
  },
  {
   "cell_type": "markdown",
   "id": "cfa55da7",
   "metadata": {},
   "source": [
    "## For poisson"
   ]
  },
  {
   "cell_type": "code",
   "execution_count": null,
   "id": "b534b709",
   "metadata": {},
   "outputs": [],
   "source": [
    "pois_pp = load_data.load_poisson()\n",
    "#restrict to box window\n",
    "L = 70 # side length of the cubic window\n",
    "bounds = [[-L/2, L/2], [-L/2, L/2]] \n",
    "window = BoxWindow(bounds) # create a cubic window\n",
    "pois_pp_box = pois_pp.restrict_to_window(window)"
   ]
  },
  {
   "cell_type": "code",
   "execution_count": null,
   "id": "5f2e83d8",
   "metadata": {},
   "outputs": [],
   "source": [
    "pois_pp_box.params\n"
   ]
  },
  {
   "cell_type": "code",
   "execution_count": null,
   "id": "b79266b1",
   "metadata": {},
   "outputs": [],
   "source": [
    "# k gride\n",
    "x = np.linspace(-8, 8, 100)\n",
    "x = x[x != 0]\n",
    "X, Y = np.meshgrid(x, x)\n",
    "k = np.column_stack((X.ravel(), Y.ravel()))\n",
    "sf_pois = StructureFactor(pois_pp_box)\n",
    "\n",
    "k_norm_1, si_1 = sf_pois.scattering_intensity(k) # on allowed values\n",
    "_, i0_1 = sf_pois.scattering_intensity_debiased(k)\n",
    "_, i0_2 = sf_pois.scattering_intensity_debiased(k, undirect=True)\n",
    "\n",
    "_, sf_mtpp = sf_pois.multitaper_periodogram(P=3, k= k)\n",
    "_, sf_mtpp_debiased = sf_pois.multitaper_periodogram_debiased(P=3, k=k, undirect=False)\n",
    "_, sf_mtpp_debiased_undirect = sf_pois.multitaper_periodogram_debiased(P=3, k=k, undirect=True)\n"
   ]
  },
  {
   "cell_type": "code",
   "execution_count": null,
   "id": "988cf756",
   "metadata": {},
   "outputs": [],
   "source": [
    "print(\"exact periodogram\")\n",
    "periodogram = utils.structure_factor_poisson(k_norm_1)\n",
    "fig = sf_ginibre.plot_scattering_intensity(k_norm_1, periodogram, plot_type=\"all\")"
   ]
  },
  {
   "cell_type": "code",
   "execution_count": null,
   "id": "ef7dd972",
   "metadata": {},
   "outputs": [],
   "source": [
    "print(\"Scattering intensity on non allowed values\")\n",
    "fig = sf_pois.plot_scattering_intensity(k_norm_1, si_1, plot_type=\"all\",exact_sf=utils.structure_factor_poisson,\n",
    "                                            bins=40, error_bar=True)\n"
   ]
  },
  {
   "cell_type": "code",
   "execution_count": null,
   "id": "bb2ddb10",
   "metadata": {},
   "outputs": [],
   "source": [
    "print(\" Direct debias Scattering intensity on non allowed values\")\n",
    "fig = sf_pois.plot_scattering_intensity(k_norm_1, i0_1, plot_type=\"all\",exact_sf=utils.structure_factor_poisson,\n",
    "                                            bins=40, error_bar=True)\n"
   ]
  },
  {
   "cell_type": "code",
   "execution_count": null,
   "id": "b6edca52",
   "metadata": {},
   "outputs": [],
   "source": [
    "print(\"undirect debias Scattering intensity on non allowed values\")\n",
    "fig = sf_pois.plot_scattering_intensity(k_norm_1, i0_2, plot_type=\"all\",exact_sf=utils.structure_factor_poisson,\n",
    "                                            bins=40, error_bar=True)\n"
   ]
  },
  {
   "cell_type": "code",
   "execution_count": null,
   "id": "8be7195d",
   "metadata": {},
   "outputs": [],
   "source": [
    "print(\"multitaper on no allowed values\")\n",
    "fig = sf_pois.plot_scattering_intensity(k_norm_1, sf_mtpp, plot_type=\"all\",exact_sf=utils.structure_factor_poisson,\n",
    "                                            bins=40, error_bar=True)\n"
   ]
  },
  {
   "cell_type": "code",
   "execution_count": null,
   "id": "55dfc195",
   "metadata": {},
   "outputs": [],
   "source": [
    "print(\"Direct debiased multitaper on no allowed values\")\n",
    "fig = sf_pois.plot_scattering_intensity(k_norm_1, sf_mtpp_debiased, plot_type=\"all\",exact_sf=utils.structure_factor_poisson,\n",
    "                                            bins=40, error_bar=True)"
   ]
  },
  {
   "cell_type": "code",
   "execution_count": null,
   "id": "99454eac",
   "metadata": {},
   "outputs": [],
   "source": [
    "print(\"Undirect debiasd multitaper on allowed values\")\n",
    "fig = sf_pois.plot_scattering_intensity(k_norm_1, sf_mtpp_debiased_undirect, plot_type=\"all\",exact_sf=utils.structure_factor_poisson,\n",
    "                                            bins=40, error_bar=True)"
   ]
  },
  {
   "cell_type": "code",
   "execution_count": null,
   "id": "8ff2ff4a",
   "metadata": {},
   "outputs": [],
   "source": [
    "pois_pp = load_data.load_poisson()\n",
    "pois_pp.window.bounds"
   ]
  },
  {
   "cell_type": "markdown",
   "id": "01e3fe11",
   "metadata": {},
   "source": [
    "# Thomas point process"
   ]
  },
  {
   "cell_type": "code",
   "execution_count": null,
   "id": "c1ca466c",
   "metadata": {},
   "outputs": [],
   "source": [
    "\n",
    "\n",
    "# Simulation window parameters\n",
    "L = 80\n",
    "xMin = -L;\n",
    "xMax = L;\n",
    "yMin = -L;\n",
    "yMax = L;\n",
    "\n",
    "# Parameters for the parent and daughter point processes\n",
    "lambdaParent = 1/(20*np.pi);  # density of parent Poisson point process\n",
    "lambdaDaughter = 20*np.pi;  # mean number of points in each cluster\n",
    "sigma = 2;  # sigma for normal variables (ie random locations) of daughters\n",
    "\n",
    "# Extended simulation windows parameters\n",
    "rExt=6*sigma; # extension parameter \n",
    "# for rExt, use factor of deviation sigma eg 5 or 6\n",
    "xMinExt = xMin - rExt;\n",
    "xMaxExt = xMax + rExt;\n",
    "yMinExt = yMin - rExt;\n",
    "yMaxExt = yMax + rExt;\n",
    "# rectangle dimensions\n",
    "xDeltaExt = xMaxExt - xMinExt;\n",
    "yDeltaExt = yMaxExt - yMinExt;\n",
    "areaTotalExt = xDeltaExt * yDeltaExt;  # area of extended rectangle\n",
    "\n",
    "# Simulate Poisson point process for the parents\n",
    "numbPointsParent = np.random.poisson(areaTotalExt * lambdaParent);# Poisson number of points\n",
    "# x and y coordinates of Poisson points for the parent\n",
    "xxParent = xMinExt + xDeltaExt * np.random.uniform(0, 1, numbPointsParent);\n",
    "yyParent = yMinExt + yDeltaExt * np.random.uniform(0, 1, numbPointsParent);\n",
    "\n",
    "# Simulate Poisson point process for the daughters (ie final poiint process)\n",
    "numbPointsDaughter = np.random.poisson(lambdaDaughter, numbPointsParent);\n",
    "numbPoints = sum(numbPointsDaughter);  # total number of points\n",
    "\n",
    "# Generate the (relative) locations in Cartesian coordinates by\n",
    "# simulating independent normal variables\n",
    "xx0 = np.random.normal(0, sigma, numbPoints);  # (relative) x coordinaets\n",
    "yy0 = np.random.normal(0, sigma, numbPoints);  # (relative) y coordinates\n",
    "\n",
    "# replicate parent points (ie centres of disks/clusters)\n",
    "xx = np.repeat(xxParent, numbPointsDaughter);\n",
    "yy = np.repeat(yyParent, numbPointsDaughter);\n",
    "\n",
    "# translate points (ie parents points are the centres of cluster disks)\n",
    "xx = xx + xx0;\n",
    "yy = yy + yy0;\n",
    "\n",
    "# thin points if outside the simulation window\n",
    "booleInside = ((xx >= xMin) & (xx <= xMax) & (yy >= yMin) & (yy <= yMax));\n",
    "# retain points inside simulation window\n",
    "xx = xx[booleInside];  \n",
    "yy = yy[booleInside];\n",
    "\n",
    "# Plotting\n",
    "plt.scatter(xx, yy, edgecolor='b', facecolor='none', alpha=0.5, s=2);\n",
    "plt.xlabel(\"x\");\n",
    "plt.ylabel(\"y\");\n",
    "plt.axis('equal');"
   ]
  },
  {
   "cell_type": "code",
   "execution_count": null,
   "id": "de2eae43",
   "metadata": {},
   "outputs": [],
   "source": [
    "thomas_points = np.column_stack((xx , yy))\n",
    "bounds = [[xMin, xMax], [yMin, yMax]]\n",
    "thomas_window = BoxWindow(bounds)\n",
    "thomas_intensity = lambdaParent*lambdaDaughter\n",
    "intensity_parent = lambdaParent\n",
    "sigma = sigma\n",
    "thomas_pp = PointPattern(thomas_points, thomas_window )\n"
   ]
  },
  {
   "cell_type": "code",
   "execution_count": null,
   "id": "0e37af7c",
   "metadata": {},
   "outputs": [],
   "source": [
    "r = np.linspace(0, 30, 200)\n",
    "pcf_ths = pcf_thomas(r)\n",
    "d=2\n",
    "plt.plot(r, utils.pair_correlation_function_thomas(r, d, lambdaParent, sigma ), 'b')\n",
    "plt.plot(r, utils.structure_factor_thomas(r, d=d, rho_child=lambdaDaughter, sigma=sigma), 'k')\n",
    "#plt.plot(k_norm, si, 'g.')\n",
    "plt.plot(r, np.ones_like(pcf_ths), 'r')"
   ]
  },
  {
   "cell_type": "code",
   "execution_count": null,
   "id": "e32f6606",
   "metadata": {},
   "outputs": [],
   "source": [
    "sf_thomas_box = StructureFactor(thomas_pp)"
   ]
  },
  {
   "cell_type": "markdown",
   "id": "7e13dd8e",
   "metadata": {},
   "source": [
    "# pcf"
   ]
  },
  {
   "cell_type": "code",
   "execution_count": null,
   "id": "24304c13",
   "metadata": {
    "scrolled": true
   },
   "outputs": [],
   "source": [
    "sf_thomas = StructureFactor(thomas_pp)\n",
    "# estimate the pair correlation function using pcf.fv\n",
    "pcf_fv = sf_thomas.compute_pcf(method=\"fv\", Kest=dict(rmax=15),\n",
    "                                        fv=dict(method=\"b\", spar=0.1))\n",
    "pcf_fv"
   ]
  },
  {
   "cell_type": "code",
   "execution_count": null,
   "id": "ec04b2cb",
   "metadata": {},
   "outputs": [],
   "source": [
    "pcf_th = utils.pair_correlation_function_thomas(pcf_fv[\"r\"], d=2, rho_parent=lambdaParent,sigma=sigma)\n",
    "fig = sf_thomas_box.plot_pcf(pcf_fv,\n",
    "                          exact_pcf=pcf_th,\n",
    "                          figsize=(10,6),\n",
    "                          color=['b', 'grey', 'darkcyan'],\n",
    "                          style=[\".\", \"o\", \"^\"]\n",
    "                          )"
   ]
  },
  {
   "cell_type": "markdown",
   "id": "99079e12",
   "metadata": {},
   "source": [
    "## SI"
   ]
  },
  {
   "cell_type": "code",
   "execution_count": null,
   "id": "c432af34",
   "metadata": {},
   "outputs": [],
   "source": [
    "shape_mesh = (100, 100)\n",
    "k, _ = utils.allowed_wave_vectors(d=2, L=L_res, k_max=2, meshgrid_shape=shape_mesh)"
   ]
  },
  {
   "cell_type": "code",
   "execution_count": null,
   "id": "8f99107e",
   "metadata": {},
   "outputs": [],
   "source": [
    "# k gride\n",
    "x = np.linspace(-5, 5, 111)\n",
    "x = x[x != 0]\n",
    "X, Y = np.meshgrid(x, x)\n",
    "k = np.column_stack((X.ravel(), Y.ravel()))"
   ]
  },
  {
   "cell_type": "code",
   "execution_count": null,
   "id": "da298563",
   "metadata": {},
   "outputs": [],
   "source": [
    "\n",
    "k_norm, si = sf_thomas_box.scattering_intensity(k)"
   ]
  },
  {
   "cell_type": "code",
   "execution_count": null,
   "id": "d395d372",
   "metadata": {},
   "outputs": [],
   "source": [
    "print(\"Scattering intensity on non allowed values\")\n",
    "exact_sf = utils.structure_factor_thomas(k_norm, rho_child=lambdaDaughter, d=2, sigma=2)\n",
    "fig = sf_thomas_box.plot_scattering_intensity(k_norm, si, plot_type=\"all\", exact_sf=exact_sf,\n",
    "                                              bins=40, error_bar=True)"
   ]
  },
  {
   "cell_type": "code",
   "execution_count": null,
   "id": "e3867eea",
   "metadata": {},
   "outputs": [],
   "source": [
    "k_norm2, sf_mtpp_debiased = sf_thomas.multitaper_periodogram_debiased(P=2, k=k, undirect=False)\n"
   ]
  },
  {
   "cell_type": "code",
   "execution_count": null,
   "id": "41ea4991",
   "metadata": {},
   "outputs": [],
   "source": [
    "k_norm2.shape"
   ]
  },
  {
   "cell_type": "code",
   "execution_count": null,
   "id": "f56295fb",
   "metadata": {},
   "outputs": [],
   "source": [
    "print(\"MTPP debiased directly on non allowed values\")\n",
    "exact_sf = utils.structure_factor_thomas(k_norm2, rho_child=lambdaDaughter, d=2, sigma=2)\n",
    "fig = sf_thomas_box.plot_scattering_intensity(k_norm2, sf_mtpp_debiased, plot_type=\"all\", exact_sf=exact_sf,\n",
    "                                              bins=40, error_bar=True)"
   ]
  },
  {
   "cell_type": "code",
   "execution_count": null,
   "id": "e1f70503",
   "metadata": {},
   "outputs": [],
   "source": []
  },
  {
   "cell_type": "code",
   "execution_count": null,
   "id": "99fb40c8",
   "metadata": {},
   "outputs": [],
   "source": [
    "pcf_th = utils.pair_correlation_function_thomas(pcf_fv[\"r\"], d=2, rho_parent=lambdaParent,sigma=sigma)\n",
    "fig = sf_thomas_box.plot_pcf(pcf_fv,\n",
    "                          exact_pcf=pcf_th,\n",
    "                          figsize=(10,6),\n",
    "                          color=['b', 'grey', 'darkcyan'],\n",
    "                          style=[\".\", \"o\", \"^\"]\n",
    "                          )"
   ]
  },
  {
   "cell_type": "code",
   "execution_count": null,
   "id": "5fe83038",
   "metadata": {},
   "outputs": [],
   "source": [
    "thomas_points = np.column_stack((xx , yy))\n",
    "bounds = [[xMin, xMax], [yMin, yMax]]\n",
    "thomas_window = BoxWindow(bounds)\n",
    "thomas_intensity = lambdaParent*lambdaDaughter\n",
    "intensity_parent = lambdaParent\n",
    "sigma = sigma\n",
    "params = {\"intensity_parent\":intensity_parent, \"sigma\":sigma }\n",
    "thomas_pp = PointPattern(thomas_points, thomas_window, thomas_intensity, **params )\n",
    "thomas_pp.plot(window_res=BoxWindow([[-20, 20], [-20, 20]]))\n",
    "\n",
    "import pickle\n",
    "thomas_pp = {\"points\":thomas_points, \"bounds\":bounds, \"intensity\":thomas_intensity, \"intensity_parent\":intensity_parent, \"sigma\":sigma}\n",
    "with open('thomas_data.pkl', 'wb') as f:\n",
    "    pickle.dump(thomas_pp, f)"
   ]
  }
 ],
 "metadata": {
  "interpreter": {
   "hash": "55b4d108f296a679a2dff1927b0e4c2a151de922cfd09e10911d1814a00e3c5c"
  },
  "kernelspec": {
   "display_name": "Python 3 (ipykernel)",
   "language": "python",
   "name": "python3"
  },
  "language_info": {
   "codemirror_mode": {
    "name": "ipython",
    "version": 3
   },
   "file_extension": ".py",
   "mimetype": "text/x-python",
   "name": "python",
   "nbconvert_exporter": "python",
   "pygments_lexer": "ipython3",
   "version": "3.9.2"
  }
 },
 "nbformat": 4,
 "nbformat_minor": 5
}
