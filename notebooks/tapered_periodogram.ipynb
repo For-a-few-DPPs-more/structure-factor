{
 "cells": [
  {
   "cell_type": "markdown",
   "id": "15dfcbea",
   "metadata": {},
   "source": [
    "# This notebook test all direct spectral estimator of the structure factor:\n",
    "Scattering intensity, taper, debiased taper, multitaper, debiased multitaper"
   ]
  },
  {
   "cell_type": "code",
   "execution_count": null,
   "id": "520294bc",
   "metadata": {},
   "outputs": [],
   "source": [
    "#from IPython.core.display import display, HTML\n",
    "#display(HTML(\"<style>.container { width:100% !important; }</style>\"))\n",
    "\n",
    "import matplotlib as mpl\n",
    "import matplotlib.pyplot as plt\n",
    "%load_ext autoreload\n",
    "%autoreload 2\n",
    "\n",
    "%config InlineBackend.figure_format='retina'"
   ]
  },
  {
   "cell_type": "code",
   "execution_count": null,
   "id": "4b9c227b",
   "metadata": {},
   "outputs": [],
   "source": [
    "import numpy as np\n",
    "from structure_factor.data import load_data\n",
    "import structure_factor.utils as utils\n",
    "import structure_factor.spectral_estimator as spe\n",
    "from structure_factor.structure_factor import StructureFactor\n",
    "# restrict the Ginibre pattern to a cubic window\n",
    "from structure_factor.spatial_windows import BoxWindow\n",
    "from structure_factor.point_pattern import PointPattern\n",
    "import structure_factor.tapers as tapers"
   ]
  },
  {
   "cell_type": "code",
   "execution_count": null,
   "id": "f30752d1",
   "metadata": {},
   "outputs": [],
   "source": [
    "#ginibre \n",
    "ginibre_pp = load_data.load_ginibre()\n",
    "#restrict to box window\n",
    "L = ginibre_pp.window.radius/np.sqrt(2) # side length of the cubic window\n",
    "bounds = [[-L/2, L/2], [-L/2, L/2]] \n",
    "window = BoxWindow(bounds) # create a cubic window\n",
    "ginibre_pp_box = ginibre_pp.restrict_to_window(window)\n",
    "#ginibre points\n",
    "points = ginibre_pp_box.points"
   ]
  },
  {
   "cell_type": "markdown",
   "id": "7a34d715",
   "metadata": {},
   "source": [
    "## On allowed values "
   ]
  },
  {
   "cell_type": "code",
   "execution_count": null,
   "id": "34798b30",
   "metadata": {
    "scrolled": false
   },
   "outputs": [],
   "source": [
    "\n",
    "shape_mesh = (150, 150)\n",
    "allowed_k, K = utils.allowed_wave_vectors(d=2, L=L, k_max=10, meshgrid_shape=shape_mesh)\n",
    "K_shape = K[0].shape\n",
    "allowed_k_shape = allowed_k.shape[0]\n",
    "sf_ginibre = StructureFactor(ginibre_pp_box)\n",
    "k_norm_1, si_1 = sf_ginibre.scattering_intensity(k_max=10, meshgrid_shape=shape_mesh) # on allowed values\n",
    "_, i0_1 = sf_ginibre.scattering_intensity_debiased(allowed_k)\n",
    "_, i0_2 = sf_ginibre.scattering_intensity_debiased(allowed_k)\n",
    "\n",
    "k_nomr_3, sf_mtpp = sf_ginibre.multitaper_periodogram(P=2, k= allowed_k)\n",
    "_, sf_mtpp_debiased = sf_ginibre.multitaper_periodogram_debiased(P=3, k=allowed_k, undirect=False)\n",
    "_, sf_mtpp_debiased_undirect = sf_ginibre.multitaper_periodogram_debiased(P=3, k=allowed_k, undirect=True)\n"
   ]
  },
  {
   "cell_type": "code",
   "execution_count": null,
   "id": "01a8f0a9",
   "metadata": {
    "scrolled": true
   },
   "outputs": [],
   "source": [
    "#plot the result\n",
    "#plot result\n",
    "print(\"Scattering intensity on allowed values\")\n",
    "fig = sf_ginibre.plot_scattering_intensity(k_norm_1, si_1, plot_type=\"all\",exact_sf=utils.structure_factor_ginibre,\n",
    "                                            bins=40, error_bar=True)\n"
   ]
  },
  {
   "cell_type": "code",
   "execution_count": null,
   "id": "bc541d2a",
   "metadata": {},
   "outputs": [],
   "source": [
    "print(\"debiased estimator on allowed values\")\n",
    "fig = sf_ginibre.plot_scattering_intensity(k_norm_1, i0_1, plot_type=\"all\",exact_sf=utils.structure_factor_ginibre,\n",
    "                                              bins=40, error_bar=True)"
   ]
  },
  {
   "cell_type": "code",
   "execution_count": null,
   "id": "6b24a1c1",
   "metadata": {},
   "outputs": [],
   "source": [
    "print(\"Second debiased estimator on allowed values\")\n",
    "fig = sf_ginibre.plot_scattering_intensity(k_norm_1, i0_2, plot_type=\"all\",exact_sf=utils.structure_factor_ginibre,\n",
    "                                              bins=40, error_bar=True)"
   ]
  },
  {
   "cell_type": "code",
   "execution_count": null,
   "id": "b7d197c4",
   "metadata": {},
   "outputs": [],
   "source": [
    "print(\"multitaper on allowed values\")\n",
    "fig = sf_ginibre.plot_scattering_intensity(k_norm_1,sf_mtpp, plot_type=\"all\",\n",
    "                                              exact_sf=utils.structure_factor_ginibre,\n",
    "                                              bins=40, error_bar=True,\n",
    "                                              #file_name=\"si_ginibre.pdf\"\n",
    "                                              )"
   ]
  },
  {
   "cell_type": "code",
   "execution_count": null,
   "id": "2ae56adb",
   "metadata": {},
   "outputs": [],
   "source": [
    "print(\"debiased multitaper on allowed values\")\n",
    "fig = sf_ginibre.plot_scattering_intensity(k_norm_1,sf_mtpp_debiased, plot_type=\"all\",\n",
    "                                              exact_sf=utils.structure_factor_ginibre,\n",
    "                                              bins=40, error_bar=True)"
   ]
  },
  {
   "cell_type": "code",
   "execution_count": null,
   "id": "15d08d84",
   "metadata": {},
   "outputs": [],
   "source": [
    "print(\"undirect debiased multitatper\")\n",
    "fig = sf_ginibre.plot_scattering_intensity(k_norm_1,sf_mtpp_debiased_undirect, plot_type=\"all\",\n",
    "                                              exact_sf=utils.structure_factor_ginibre,\n",
    "                                              bins=40, error_bar=True)"
   ]
  },
  {
   "cell_type": "markdown",
   "id": "897647ff",
   "metadata": {},
   "source": [
    "## On non allowed values"
   ]
  },
  {
   "cell_type": "code",
   "execution_count": null,
   "id": "8eceacdc",
   "metadata": {},
   "outputs": [],
   "source": [
    "# k gride\n",
    "x = np.linspace(-8, 8, 150)\n",
    "x = x[x != 0]\n",
    "X, Y = np.meshgrid(x, x)\n",
    "k = np.column_stack((X.ravel(), Y.ravel()))\n",
    "sf_ginibre = StructureFactor(ginibre_pp_box)\n",
    "\n",
    "k_norm_1, si_1 = sf_ginibre.scattering_intensity(k) # on allowed values\n",
    "_, i0_1 = sf_ginibre.scattering_intensity_debiased(k)\n",
    "_, i0_2 = sf_ginibre.scattering_intensity_debiased(k, undirect=True)\n",
    "\n",
    "k_norm_3, sf_mtpp = sf_ginibre.multitaper_periodogram(P=3, k= k)\n",
    "_, sf_mtpp_debiased = sf_ginibre.multitaper_periodogram_debiased(P=3, k=k, undirect=False)\n",
    "_, sf_mtpp_debiased_undirect = sf_ginibre.multitaper_periodogram_debiased(P=3, k=k, undirect=True)\n"
   ]
  },
  {
   "cell_type": "code",
   "execution_count": null,
   "id": "7762054b",
   "metadata": {},
   "outputs": [],
   "source": [
    "print(\"exact periodogram\")\n",
    "periodogram = utils.structure_factor_ginibre(k_norm_1)\n",
    "fig = sf_ginibre.plot_scattering_intensity(k_norm_1, periodogram, plot_type=\"all\")"
   ]
  },
  {
   "cell_type": "code",
   "execution_count": null,
   "id": "436b9613",
   "metadata": {},
   "outputs": [],
   "source": [
    "print(\"Scattering intensity on non allowed values\")\n",
    "fig = sf_ginibre.plot_scattering_intensity(k_norm_1, si_1, plot_type=\"all\", exact_sf=utils.structure_factor_ginibre,\n",
    "                                              bins=40, error_bar=True)"
   ]
  },
  {
   "cell_type": "code",
   "execution_count": null,
   "id": "9ca6f6b7",
   "metadata": {},
   "outputs": [],
   "source": [
    "print(\"Direct debiased estimator on non allowed values\")\n",
    "fig = sf_ginibre.plot_scattering_intensity(k_norm_1, i0_1, plot_type=\"all\",exact_sf=utils.structure_factor_ginibre,\n",
    "                                              bins=50, error_bar=True)"
   ]
  },
  {
   "cell_type": "code",
   "execution_count": null,
   "id": "027e9fac",
   "metadata": {},
   "outputs": [],
   "source": [
    "print(\"undirect debiased estimator on non allowed values\")\n",
    "fig = sf_ginibre.plot_scattering_intensity(k_norm_1, i0_2, plot_type=\"all\", exact_sf=utils.structure_factor_ginibre,\n",
    "                                              bins=40, error_bar=True)"
   ]
  },
  {
   "cell_type": "code",
   "execution_count": null,
   "id": "8c898f6d",
   "metadata": {},
   "outputs": [],
   "source": [
    "print(\"multitaper on non allowed values\")\n",
    "fig = sf_ginibre.plot_scattering_intensity(k_norm_1,sf_mtpp, plot_type=\"all\",exact_sf=utils.structure_factor_ginibre,\n",
    "                                              bins=40, error_bar=True)"
   ]
  },
  {
   "cell_type": "code",
   "execution_count": null,
   "id": "ca87eb6d",
   "metadata": {},
   "outputs": [],
   "source": [
    "print(\"debiased multitaper on non allowed values\")\n",
    "fig = sf_ginibre.plot_scattering_intensity(k_norm_1,sf_mtpp_debiased, plot_type=\"all\",exact_sf=utils.structure_factor_ginibre,\n",
    "                                              bins=40, error_bar=True)"
   ]
  },
  {
   "cell_type": "code",
   "execution_count": null,
   "id": "540f24d1",
   "metadata": {
    "scrolled": true
   },
   "outputs": [],
   "source": [
    "print(\"undirect debiased multitatper on non allowed values\")\n",
    "fig = sf_ginibre.plot_scattering_intensity(k_norm_1,sf_mtpp_debiased_undirect, plot_type=\"all\", exact_sf=utils.structure_factor_ginibre,\n",
    "                                              bins=40, error_bar=True)"
   ]
  },
  {
   "cell_type": "code",
   "execution_count": null,
   "id": "2afa86dd",
   "metadata": {},
   "outputs": [],
   "source": [
    "print(\"absolut value of the undirect debiased multitatper on non allowed values\")\n",
    "fig = sf_ginibre.plot_scattering_intensity(k_norm_1,np.abs(sf_mtpp_debiased_undirect), plot_type=\"all\", exact_sf=utils.structure_factor_ginibre,\n",
    "                                              bins=40, error_bar=True)"
   ]
  },
  {
   "cell_type": "markdown",
   "id": "cfa55da7",
   "metadata": {},
   "source": [
    "## For poisson"
   ]
  },
  {
   "cell_type": "code",
   "execution_count": null,
   "id": "b534b709",
   "metadata": {},
   "outputs": [],
   "source": [
    "pois_pp = load_data.load_poisson()\n",
    "#restrict to box window\n",
    "L = 70 # side length of the cubic window\n",
    "bounds = [[-L/2, L/2], [-L/2, L/2]] \n",
    "window = BoxWindow(bounds) # create a cubic window\n",
    "pois_pp_box = pois_pp.restrict_to_window(window)"
   ]
  },
  {
   "cell_type": "code",
   "execution_count": null,
   "id": "b79266b1",
   "metadata": {},
   "outputs": [],
   "source": [
    "# k gride\n",
    "x = np.linspace(-8, 8, 100)\n",
    "x = x[x != 0]\n",
    "X, Y = np.meshgrid(x, x)\n",
    "k = np.column_stack((X.ravel(), Y.ravel()))\n",
    "sf_pois = StructureFactor(pois_pp_box)\n",
    "\n",
    "k_norm_1, si_1 = sf_pois.scattering_intensity(k) # on allowed values\n",
    "_, i0_1 = sf_pois.scattering_intensity_debiased(k)\n",
    "_, i0_2 = sf_pois.scattering_intensity_debiased(k, undirect=True)\n",
    "\n",
    "_, sf_mtpp = sf_pois.multitaper_periodogram(P=3, k= k)\n",
    "_, sf_mtpp_debiased = sf_pois.multitaper_periodogram_debiased(P=3, k=k, undirect=False)\n",
    "_, sf_mtpp_debiased_undirect = sf_pois.multitaper_periodogram_debiased(P=3, k=k, undirect=True)\n"
   ]
  },
  {
   "cell_type": "code",
   "execution_count": null,
   "id": "988cf756",
   "metadata": {},
   "outputs": [],
   "source": [
    "print(\"exact periodogram\")\n",
    "periodogram = utils.structure_factor_poisson(k_norm_1)\n",
    "fig = sf_ginibre.plot_scattering_intensity(k_norm_1, periodogram, plot_type=\"all\")"
   ]
  },
  {
   "cell_type": "code",
   "execution_count": null,
   "id": "ef7dd972",
   "metadata": {},
   "outputs": [],
   "source": [
    "print(\"Scattering intensity on non allowed values\")\n",
    "fig = sf_pois.plot_scattering_intensity(k_norm_1, si_1, plot_type=\"all\",exact_sf=utils.structure_factor_poisson,\n",
    "                                            bins=40, error_bar=True)\n"
   ]
  },
  {
   "cell_type": "code",
   "execution_count": null,
   "id": "bb2ddb10",
   "metadata": {},
   "outputs": [],
   "source": [
    "print(\" Direct debias Scattering intensity on non allowed values\")\n",
    "fig = sf_pois.plot_scattering_intensity(k_norm_1, i0_1, plot_type=\"all\",exact_sf=utils.structure_factor_poisson,\n",
    "                                            bins=40, error_bar=True)\n"
   ]
  },
  {
   "cell_type": "code",
   "execution_count": null,
   "id": "b6edca52",
   "metadata": {},
   "outputs": [],
   "source": [
    "print(\"undirect debias Scattering intensity on non allowed values\")\n",
    "fig = sf_pois.plot_scattering_intensity(k_norm_1, i0_2, plot_type=\"all\",exact_sf=utils.structure_factor_poisson,\n",
    "                                            bins=40, error_bar=True)\n"
   ]
  },
  {
   "cell_type": "code",
   "execution_count": null,
   "id": "8be7195d",
   "metadata": {},
   "outputs": [],
   "source": [
    "print(\"multitaper on no allowed values\")\n",
    "fig = sf_pois.plot_scattering_intensity(k_norm_1, sf_mtpp, plot_type=\"all\",exact_sf=utils.structure_factor_poisson,\n",
    "                                            bins=40, error_bar=True)\n"
   ]
  },
  {
   "cell_type": "code",
   "execution_count": null,
   "id": "55dfc195",
   "metadata": {},
   "outputs": [],
   "source": [
    "print(\"Direct debiased multitaper on no allowed values\")\n",
    "fig = sf_pois.plot_scattering_intensity(k_norm_1, sf_mtpp_debiased, plot_type=\"all\",exact_sf=utils.structure_factor_poisson,\n",
    "                                            bins=40, error_bar=True)"
   ]
  },
  {
   "cell_type": "code",
   "execution_count": null,
   "id": "99454eac",
   "metadata": {},
   "outputs": [],
   "source": [
    "print(\"Undirect debiasd multitaper on allowed values\")\n",
    "fig = sf_pois.plot_scattering_intensity(k_norm_1, sf_mtpp_debiased_undirect, plot_type=\"all\",exact_sf=utils.structure_factor_poisson,\n",
    "                                            bins=40, error_bar=True)"
   ]
  },
  {
   "cell_type": "code",
   "execution_count": null,
   "id": "202d2b45",
   "metadata": {},
   "outputs": [],
   "source": []
  },
  {
   "cell_type": "code",
   "execution_count": null,
   "id": "c1ca466c",
   "metadata": {},
   "outputs": [],
   "source": []
  }
 ],
 "metadata": {
  "interpreter": {
   "hash": "55b4d108f296a679a2dff1927b0e4c2a151de922cfd09e10911d1814a00e3c5c"
  },
  "kernelspec": {
   "display_name": "Python 3 (ipykernel)",
   "language": "python",
   "name": "python3"
  },
  "language_info": {
   "codemirror_mode": {
    "name": "ipython",
    "version": 3
   },
   "file_extension": ".py",
   "mimetype": "text/x-python",
   "name": "python",
   "nbconvert_exporter": "python",
   "pygments_lexer": "ipython3",
   "version": "3.9.2"
  }
 },
 "nbformat": 4,
 "nbformat_minor": 5
}
